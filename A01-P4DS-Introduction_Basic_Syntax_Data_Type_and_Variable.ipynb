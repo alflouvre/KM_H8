{
 "cells": [
  {
   "cell_type": "markdown",
   "id": "3d366e30",
   "metadata": {},
   "source": [
    "# **SESI 1**\n",
    "#### *- Introduction, Data Types, and variables*\n",
    "---"
   ]
  },
  {
   "cell_type": "markdown",
   "id": "7438a257",
   "metadata": {},
   "source": [
    "## **1. INTEGERS**\n",
    ">Pada Python3, secara efektif tidak ada batasan berapa banyak nilai integer."
   ]
  },
  {
   "cell_type": "markdown",
   "id": "e266be3e",
   "metadata": {},
   "source": [
    "Tentu saja, itu dibatasi oleh jumlah memori yang dimiliki sistem kalian, seperti halnya semua hal, tetapi di luar itu integer bisa sepanjang apapun selama kalian membutuhkannya:"
   ]
  },
  {
   "cell_type": "code",
   "execution_count": 39,
   "id": "fa650efb",
   "metadata": {
    "scrolled": false
   },
   "outputs": [
    {
     "name": "stdout",
     "output_type": "stream",
     "text": [
      "123123123123123123123123123123123123123123123124\n"
     ]
    }
   ],
   "source": [
    "print(123123123123123123123123123123123123123123123123 + 1)"
   ]
  },
  {
   "cell_type": "code",
   "execution_count": 40,
   "id": "cf02b576",
   "metadata": {},
   "outputs": [
    {
     "name": "stdout",
     "output_type": "stream",
     "text": [
      "10\n",
      "<class 'int'>\n"
     ]
    }
   ],
   "source": [
    "# Python interprets a sequence of decimal digits without any\n",
    "# prefix to be a decimal number :\n",
    "print(10)\n",
    "print(type(10))"
   ]
  },
  {
   "cell_type": "markdown",
   "id": "79687ce9",
   "metadata": {},
   "source": [
    "## **2. FLOATING-POINT NUMBERS**\n",
    ">Tipe float di Python menunjukkan bilangan floating-point. Nilai float ditentukan dengan titik desimal."
   ]
  },
  {
   "cell_type": "markdown",
   "id": "f2149f94",
   "metadata": {},
   "source": [
    "Secara opsional, karakter e atau E diikuti dengan bilangan bulat positif atau negatif dapat ditambahkan untuk menentukan notasi ilmiah:"
   ]
  },
  {
   "cell_type": "code",
   "execution_count": 6,
   "id": "032dc34d",
   "metadata": {},
   "outputs": [
    {
     "name": "stdout",
     "output_type": "stream",
     "text": [
      "4.2\n",
      "<class 'float'>\n",
      "4.0\n",
      "0.2\n",
      "4000000.0\n",
      "0.00042\n"
     ]
    }
   ],
   "source": [
    "print(4.2)\n",
    "print(type(4.2))\n",
    "\n",
    "print(4.)\n",
    "\n",
    "print(.2)\n",
    "\n",
    "print(.4e7)\n",
    "\n",
    "print(4.2e-4)"
   ]
  },
  {
   "cell_type": "markdown",
   "id": "a0c6a6eb",
   "metadata": {},
   "source": [
    "## **3. STRINGS**\n",
    ">String adalah urutan data karakter. Jenis string dalam Python disebut str."
   ]
  },
  {
   "cell_type": "markdown",
   "id": "38240f05",
   "metadata": {},
   "source": [
    "        String literals dapat dipisahkan menggunakan tanda kutip tunggal atau ganda.\n",
    "\n",
    "Semua karakter antara pembatas pembuka dan pembatas penutup yang 'match' adalah bagian dari string:"
   ]
  },
  {
   "cell_type": "code",
   "execution_count": 7,
   "id": "79df7e5a",
   "metadata": {
    "scrolled": false
   },
   "outputs": [
    {
     "name": "stdout",
     "output_type": "stream",
     "text": [
      "Hacktiv8\n",
      "<class 'str'>\n"
     ]
    }
   ],
   "source": [
    "print(\"Hacktiv8\")\n",
    "print(type(\"Hacktiv8\"))"
   ]
  },
  {
   "cell_type": "markdown",
   "id": "a6394d2b",
   "metadata": {},
   "source": [
    "Sebuah string dalam Python dapat berisi karakter sebanyak yang kalian inginkan.\n",
    "\n",
    "        Satu-satunya batasan adalah resource memori kalian.\n",
    "String juga boleh kosong:"
   ]
  },
  {
   "cell_type": "code",
   "execution_count": null,
   "id": "0898eb02",
   "metadata": {},
   "outputs": [],
   "source": [
    "print('')"
   ]
  },
  {
   "cell_type": "code",
   "execution_count": 8,
   "id": "719469b3",
   "metadata": {
    "scrolled": true
   },
   "outputs": [
    {
     "name": "stdout",
     "output_type": "stream",
     "text": [
      "This string contains a single quote ('') character.\n",
      "This string contains a double quote (\"\") character.\n"
     ]
    }
   ],
   "source": [
    "print(\"This string contains a single quote ('') character.\")\n",
    "print('This string contains a double quote (\"\") character.')"
   ]
  },
  {
   "cell_type": "markdown",
   "id": "c67a2a4b",
   "metadata": {},
   "source": [
    "## **4. BOOLEAN TYPE, BOOLEAN CONTEXT, AND \"TRUTHINESS\"**\n",
    ">Objek tipe Boolean mungkin memiliki salah satu dari dua nilai, True atau False"
   ]
  },
  {
   "cell_type": "markdown",
   "id": "c9159893",
   "metadata": {},
   "source": [
    "Python 3 menyediakan tipe data Boolean.\n",
    "\n",
    "    Objek tipe Boolean mungkin memiliki salah satu dari dua nilai, True atau False:"
   ]
  },
  {
   "cell_type": "code",
   "execution_count": 9,
   "id": "b43e6a18",
   "metadata": {
    "scrolled": false
   },
   "outputs": [
    {
     "name": "stdout",
     "output_type": "stream",
     "text": [
      "<class 'bool'>\n",
      "<class 'bool'>\n"
     ]
    }
   ],
   "source": [
    "print(type(True))\n",
    "print(type(False))"
   ]
  },
  {
   "cell_type": "markdown",
   "id": "f1784d29",
   "metadata": {},
   "source": [
    "## **5. VARIABLE ASSIGNMENT**\n",
    ">Bayangkan variabel sebagai nama yang dilampirkan ke objek tertentu."
   ]
  },
  {
   "cell_type": "markdown",
   "id": "ee041b62",
   "metadata": {},
   "source": [
    "Di Python, variabel tidak perlu dideklarasikan atau didefinisikan sebelumnya, seperti halnya di banyak bahasa pemrograman lainnya.\n",
    "\n",
    "    Variable assignment dilakukan dengan satu tanda sama dengan (=):"
   ]
  },
  {
   "cell_type": "code",
   "execution_count": 1,
   "id": "da55c892",
   "metadata": {},
   "outputs": [
    {
     "name": "stdout",
     "output_type": "stream",
     "text": [
      "300\n"
     ]
    }
   ],
   "source": [
    "# Untuk membuat variabel, kalian cukup menetapkan nilai dan\n",
    "# bisa digunakan.\n",
    "n = 300\n",
    "print(n)"
   ]
  },
  {
   "cell_type": "code",
   "execution_count": 11,
   "id": "3e8b7be1",
   "metadata": {
    "scrolled": true
   },
   "outputs": [
    {
     "data": {
      "text/plain": [
       "300"
      ]
     },
     "execution_count": 11,
     "metadata": {},
     "output_type": "execute_result"
    }
   ],
   "source": [
    "n"
   ]
  },
  {
   "cell_type": "code",
   "execution_count": 2,
   "id": "15c05421",
   "metadata": {
    "scrolled": true
   },
   "outputs": [
    {
     "name": "stdout",
     "output_type": "stream",
     "text": [
      "1000\n"
     ]
    },
    {
     "data": {
      "text/plain": [
       "1000"
      ]
     },
     "execution_count": 2,
     "metadata": {},
     "output_type": "execute_result"
    }
   ],
   "source": [
    "# Later, if you change the value of n and use it again,\n",
    "# the new value will be substituted instead:\n",
    "n = 1000\n",
    "print(n)\n",
    "\n",
    "n"
   ]
  },
  {
   "cell_type": "markdown",
   "id": "d83f2260",
   "metadata": {},
   "source": [
    "Python juga memungkinkan **chained assignment**, yang memungkinkan untuk menetapkan nilai yang sama ke beberapa variabel secara bersamaan:"
   ]
  },
  {
   "cell_type": "code",
   "execution_count": 14,
   "id": "5a0091ce",
   "metadata": {
    "scrolled": true
   },
   "outputs": [
    {
     "name": "stdout",
     "output_type": "stream",
     "text": [
      "300 300 300\n"
     ]
    }
   ],
   "source": [
    "a = b = c = 300\n",
    "print(a, b, c)"
   ]
  },
  {
   "cell_type": "markdown",
   "id": "18774f44",
   "metadata": {},
   "source": [
    "## **6. VARIABLE TYPES IN PYTHON**\n",
    " >Variabel di python dapat diberi value dari satu jenis dan kemudian diberi value dari jenis yang berbeda"
   ]
  },
  {
   "cell_type": "markdown",
   "id": "59f9fe0e",
   "metadata": {},
   "source": [
    "Dalam banyak bahasa pemrograman, variabel diketik secara statis. Artinya, variabel yang dideklarasikan diawal memiliki tipe data tertentu, dan nilai apa pun yang ditetapkan pada variable tersebut selama masa pakainya harus selalu memiliki tipe itu.\n",
    "\n",
    "Variabel dalam Python berbeda dengan batasan ini.\n",
    "\n",
    "    Di Python, variabel dapat diberi value dari satu jenis dan kemudian diberi value dari jenis yang berbeda:"
   ]
  },
  {
   "cell_type": "code",
   "execution_count": 15,
   "id": "353c77e2",
   "metadata": {
    "scrolled": true
   },
   "outputs": [
    {
     "name": "stdout",
     "output_type": "stream",
     "text": [
      "23.5\n",
      "Now I'm a string\n"
     ]
    }
   ],
   "source": [
    "var = 23.5\n",
    "print(var)\n",
    "\n",
    "var = \"Now I'm a string\"\n",
    "print(var)"
   ]
  },
  {
   "cell_type": "markdown",
   "id": "bc83e3e2",
   "metadata": {},
   "source": [
    "## 7. **VARIABLE NAMES**\n",
    "> Secara resmi, nama variabel di Python bisa berapa pun panjangnya dan bisa terdiri dari huruf besar dan huruf kecil (A-Z, a-z), digit (0-9), dan karakter garis bawah (_)."
   ]
  },
  {
   "cell_type": "markdown",
   "id": "4a0de5c0",
   "metadata": {},
   "source": [
    "Batasan tambahan adalah bahwa, meskipun **nama variabel dapat berisi angka**, **karakter pertama dari nama variabel tidak boleh berupa digit**."
   ]
  },
  {
   "cell_type": "code",
   "execution_count": 16,
   "id": "7dd77899",
   "metadata": {},
   "outputs": [
    {
     "name": "stdout",
     "output_type": "stream",
     "text": [
      "Hacktiv8 54 True\n"
     ]
    }
   ],
   "source": [
    "name = \"Hacktiv8\"\n",
    "Age = 54\n",
    "has_laptops = True\n",
    "print(name, Age, has_laptops)"
   ]
  },
  {
   "cell_type": "markdown",
   "id": "abb6ee4b",
   "metadata": {},
   "source": [
    "        Nama variable tidak boleh dimulai dengan angka:"
   ]
  },
  {
   "cell_type": "markdown",
   "id": "a7b64f9b",
   "metadata": {},
   "source": [
    "9_kepala_naga = True"
   ]
  },
  {
   "cell_type": "markdown",
   "id": "277e0b4f",
   "metadata": {},
   "source": [
    "  File \"<ipython-input-23-737512de54da>\", line 1\n",
    "\n",
    "      9_kepala_naga = True\n",
    "      ^\n",
    "     \n",
    "SyntaxError: invalid token"
   ]
  },
  {
   "cell_type": "markdown",
   "id": "9f6664eb",
   "metadata": {},
   "source": [
    "Perhatikan bahwa case disini sangat berperan\n",
    "- huruf kecil dan huruf besar tidak sama.\n",
    "- penggunaan karakter garis bawah juga penting.\n",
    "\n",
    "Masing-masing dari berikut ini mendefinisikan variabel yang berbeda:"
   ]
  },
  {
   "cell_type": "code",
   "execution_count": 18,
   "id": "65c34019",
   "metadata": {},
   "outputs": [
    {
     "name": "stdout",
     "output_type": "stream",
     "text": [
      "1 2 3 4 5 6 7 8\n"
     ]
    }
   ],
   "source": [
    "age = 1\n",
    "Age = 2\n",
    "aGe = 3\n",
    "AGE = 4\n",
    "a_g_e = 5\n",
    "_age = 6\n",
    "age_ = 7\n",
    "_AGE_ = 8\n",
    "\n",
    "print(age, Age, aGe, AGE, a_g_e, _age, age_, _AGE_)"
   ]
  },
  {
   "cell_type": "markdown",
   "id": "8de8b6eb",
   "metadata": {},
   "source": [
    "Di sisi lain, belum tentu semuanya dapat terbaca.\n",
    "\n",
    "Penamaan variable adalah masalah preferensi pribadi, tetapi kebanyakan orang akan menganggap dua contoh pertama, di mana semua huruf disatukan, lebih sulit untuk dibaca, terutama yang menggunakan huruf kapital semua.\n",
    "\n",
    "Metode yang paling umum digunakan untuk membuat nama variable multi-kata adalah tiga contoh dibawah ini:\n",
    "1. **Camel Case**\n",
    "   \n",
    "   Second and subsequent words are capitalized, to make world boundaries easier to see. (Presumably, it stuck someone at some point that the capital letters strewn throughout the variable name vaguely resemble camel humps.).\n",
    "   \n",
    "   Example: numberOfCollegeGraduates\n",
    "    \n",
    "2. **Pascal Case**\n",
    "       \n",
    "   Identical to Camel Case, except the first word is also capitalized.\n",
    "   \n",
    "   Example: NumberOfCollegeGraduates\n",
    "    \n",
    "3. **Snake Case**\n",
    "       \n",
    "   Words are separated by underscores.\n",
    "   \n",
    "   Example: number_of_college_graduates\n",
    "    \n",
    "Gunakan salah satu dari ketiganya yang paling menarik secara visual bagi kalian. Pilih satu dan gunakan secara konsisten."
   ]
  },
  {
   "cell_type": "markdown",
   "id": "a2646c56",
   "metadata": {},
   "source": [
    "## **8. OPERATORS AND EXPRESSION IN PYTHON**\n",
    ">Di Python, operators adalah simbol khusus yang menunjukkan bahwa suatu jenis komputasi harus dilakukan."
   ]
  },
  {
   "cell_type": "markdown",
   "id": "463ec3fd",
   "metadata": {},
   "source": [
    "        Nilai yang ditindaklanjuti oleh operators disebut **operands**.\n",
    "\n",
    "Berikut ini contohnya:"
   ]
  },
  {
   "cell_type": "code",
   "execution_count": 19,
   "id": "af29ffe7",
   "metadata": {},
   "outputs": [
    {
     "data": {
      "text/plain": [
       "30"
      ]
     },
     "execution_count": 19,
     "metadata": {},
     "output_type": "execute_result"
    }
   ],
   "source": [
    "a = 10\n",
    "b = 20\n",
    "a + b"
   ]
  },
  {
   "cell_type": "code",
   "execution_count": 20,
   "id": "2eeb3c38",
   "metadata": {},
   "outputs": [
    {
     "data": {
      "text/plain": [
       "25"
      ]
     },
     "execution_count": 20,
     "metadata": {},
     "output_type": "execute_result"
    }
   ],
   "source": [
    "a = 10\n",
    "b = 20\n",
    "a + b - 5"
   ]
  },
  {
   "cell_type": "markdown",
   "id": "6f3d4dd4",
   "metadata": {},
   "source": [
    "        Urutan operan dan operator, seperti a + b - 5, disebut **expression**.\n",
    "\n",
    "Python mendukung banyak operator untuk menggabungkan objek data menjadi expression."
   ]
  },
  {
   "cell_type": "markdown",
   "id": "1a90ff43",
   "metadata": {},
   "source": [
    "### *ARITHMETIC OPERATORS*"
   ]
  },
  {
   "cell_type": "markdown",
   "id": "4746facc",
   "metadata": {},
   "source": [
    "| Operator | Description |\tSyntax |\n",
    "-----------|:-----------:|--------:|\n",
    "| +\t       |Addition: adds two operands |\tx + y |\n",
    "|–\t | Subtraction: subtracts two operands |\tx – y |\n",
    "|*\t| Multiplication: multiplies two operands |\tx * y | \n",
    "|/\t| Division (float): divides the first operand by the second |\tx / y |\n",
    "|//\t| Division (floor): divides the first operand by the second |\tx // y | \n",
    "|%\t| Modulus: returns the remainder when first operand is divided by the second | x % y |\n",
    "|**\t| Power : Returns first raised to power second |\tx ** y |"
   ]
  },
  {
   "cell_type": "code",
   "execution_count": 42,
   "id": "c301a6bf",
   "metadata": {},
   "outputs": [
    {
     "name": "stdout",
     "output_type": "stream",
     "text": [
      "7\n",
      "1\n",
      "12\n",
      "1.3333333333333333\n",
      "1\n",
      "64\n"
     ]
    }
   ],
   "source": [
    "# Here are some examples of these operators in use:\n",
    "\n",
    "a = 4\n",
    "b = 3\n",
    "\n",
    "print(a + b)\n",
    "print(a - b)\n",
    "print(a * b)\n",
    "print(a / b)\n",
    "print(a % b)\n",
    "print(a ** b)"
   ]
  },
  {
   "cell_type": "code",
   "execution_count": 43,
   "id": "8d546972",
   "metadata": {},
   "outputs": [
    {
     "data": {
      "text/plain": [
       "2.0"
      ]
     },
     "execution_count": 43,
     "metadata": {},
     "output_type": "execute_result"
    }
   ],
   "source": [
    "# The result of standard division (/) is always a float, even if\n",
    "# the dividend is evenly divisible:\n",
    "\n",
    "10 / 5"
   ]
  },
  {
   "cell_type": "markdown",
   "id": "b64f3345",
   "metadata": {},
   "source": [
    "### *COMPARISON OPERATORS*"
   ]
  },
  {
   "cell_type": "markdown",
   "id": "892d775f",
   "metadata": {},
   "source": [
    "Operator ini untuk membandingkan dua buah nilai. \n",
    "    Operator ini adalah operator relasi dan sering digunakan untuk membuat sebuah logika atau kondisi."
   ]
  },
  {
   "cell_type": "markdown",
   "id": "4f414ab5",
   "metadata": {},
   "source": [
    "|Operator |\tSimbol |\n",
    "|:--------|:-------|\n",
    "|Lebih Besar|\t> |\n",
    "| Lebih Kecil |\t< |\n",
    "| Sama Dengan\t| == | \n",
    "| Tidak Sama dengan |\t!= |\n",
    "| Lebih Besar Sama dengan |\t>= |\n",
    "| Lebih Kecil Sama dengan |\t<= |"
   ]
  },
  {
   "cell_type": "code",
   "execution_count": 44,
   "id": "aca7b82d",
   "metadata": {},
   "outputs": [
    {
     "name": "stdout",
     "output_type": "stream",
     "text": [
      "False\n",
      "True\n",
      "True\n",
      "False\n",
      "True\n",
      "False\n",
      "True\n",
      "True\n"
     ]
    }
   ],
   "source": [
    "# Here are examples of the comparison operators in use:\n",
    "\n",
    "a = 10\n",
    "b = 20\n",
    "print( a == b)\n",
    "\n",
    "print( a != b)\n",
    "\n",
    "print( a <= b)\n",
    "\n",
    "print( a >= b)\n",
    "\n",
    "\n",
    "a = 30\n",
    "b = 30\n",
    "print( a == b)\n",
    "\n",
    "print( a != b)\n",
    "\n",
    "print( a <= b)\n",
    "\n",
    "print( a >= b)"
   ]
  },
  {
   "cell_type": "markdown",
   "id": "b40b3098",
   "metadata": {},
   "source": [
    "## **9. STRING MANIPULATION**"
   ]
  },
  {
   "cell_type": "code",
   "execution_count": 10,
   "id": "8a0bfb32",
   "metadata": {},
   "outputs": [
    {
     "name": "stdout",
     "output_type": "stream",
     "text": [
      "foobar\n",
      "foobarbaz\n",
      "Hacktiv8PTP\n"
     ]
    }
   ],
   "source": [
    "# + Operators\n",
    "s = 'foo'\n",
    "t = 'bar'\n",
    "u = 'baz'\n",
    "\n",
    "print(s + t)\n",
    "\n",
    "print(s + t + u)\n",
    "\n",
    "print('Hacktiv8' + 'PTP')"
   ]
  },
  {
   "cell_type": "code",
   "execution_count": 12,
   "id": "98d83442",
   "metadata": {},
   "outputs": [
    {
     "data": {
      "text/plain": [
       "'foo.foo.foo.foo.'"
      ]
     },
     "execution_count": 12,
     "metadata": {},
     "output_type": "execute_result"
    }
   ],
   "source": [
    "# * Operators\n",
    "s = 'foo.'\n",
    "s * 4"
   ]
  },
  {
   "cell_type": "code",
   "execution_count": 14,
   "id": "85aa28fa",
   "metadata": {},
   "outputs": [
    {
     "name": "stdout",
     "output_type": "stream",
     "text": [
      "True\n",
      "False\n"
     ]
    }
   ],
   "source": [
    "# in Operators\n",
    "s = 'foo'\n",
    "\n",
    "print(s in 'That food for us')\n",
    "\n",
    "print(s in 'That good for us')"
   ]
  },
  {
   "cell_type": "code",
   "execution_count": 45,
   "id": "acba554d",
   "metadata": {},
   "outputs": [
    {
     "name": "stdout",
     "output_type": "stream",
     "text": [
      "Hacktiv8\n",
      "hacktiv8\n",
      "hACKtiv8\n",
      "Hacktiv8\n",
      "HACKTIV8\n"
     ]
    }
   ],
   "source": [
    "# Case Conversion\n",
    "s = 'HackTIV8'\n",
    "\n",
    "# Capitalize\n",
    "print(s.capitalize())\n",
    "\n",
    "#Lower\n",
    "print(s.lower())\n",
    "\n",
    "# Swapcase\n",
    "print(s.swapcase())\n",
    "\n",
    "# Title\n",
    "print(s.title())\n",
    "\n",
    "# Uppercase\n",
    "print(s.upper())"
   ]
  },
  {
   "cell_type": "markdown",
   "id": "73e88612",
   "metadata": {},
   "source": [
    "## **10. PYTHON LISTS**\n",
    ">Singkatnya, list adalah kumpulan objek yang arbitrary, agak mirip dengan array dalam banyak bahasa pemrograman lain tetapi lebih fleksibel."
   ]
  },
  {
   "cell_type": "markdown",
   "id": "39da6fcb",
   "metadata": {},
   "source": [
    "        List didefinisikan dalam Python dengan menyertakan sequence object yang dipisahkan koma dalam tanda kurung siku([]).\n",
    "\n",
    "Seperti yang ditunjukkan di bawah ini:"
   ]
  },
  {
   "cell_type": "code",
   "execution_count": 18,
   "id": "2bcab83a",
   "metadata": {},
   "outputs": [
    {
     "name": "stdout",
     "output_type": "stream",
     "text": [
      "['foo', 'bar', 'baz', 'qux']\n"
     ]
    }
   ],
   "source": [
    "a = ['foo', 'bar', 'baz', 'qux']\n",
    "\n",
    "print(a)"
   ]
  },
  {
   "cell_type": "markdown",
   "id": "b3ea9686",
   "metadata": {},
   "source": [
    "Karakteristik penting dari List Python adalah sebagai berikut:\n",
    "- Lists are ordered.\n",
    "- List can contain any arbitrary objects.\n",
    "- List elements can be accessed by index.\n",
    "- List can be nested to arbitrary depth.\n",
    "- List are mutable.\n",
    "- List are dynamic."
   ]
  },
  {
   "cell_type": "markdown",
   "id": "e0cec52e",
   "metadata": {},
   "source": [
    "### *A. LISTS ARE ORDERED*\n",
    ">List bukan hanya kumpulan object. List adalah kumpulan dari object yang berurutan."
   ]
  },
  {
   "cell_type": "markdown",
   "id": "3a117d0d",
   "metadata": {},
   "source": [
    "        Urutan elemen ketika kalian membuat list akan bertahan selama List tersebut ada.\n",
    "\n",
    "        List yang memiliki elemen yang sama dalam urutan yang berbeda, tidak sama:"
   ]
  },
  {
   "cell_type": "code",
   "execution_count": 22,
   "id": "2bc269f0",
   "metadata": {},
   "outputs": [
    {
     "data": {
      "text/plain": [
       "False"
      ]
     },
     "execution_count": 22,
     "metadata": {},
     "output_type": "execute_result"
    }
   ],
   "source": [
    "a = ['foo', 'bar', 'baz', 'qux']\n",
    "b = ['baz', 'qux', 'foo', 'bar']\n",
    "\n",
    "a == b"
   ]
  },
  {
   "cell_type": "markdown",
   "id": "250226c4",
   "metadata": {},
   "source": [
    "### *B. LISTS CAN CONTAIN ARBITRARY OBJECTS*\n",
    ">Sebuah List dapat berisi bermacam-macam objek. "
   ]
  },
  {
   "cell_type": "markdown",
   "id": "5fcfc7b6",
   "metadata": {},
   "source": [
    "Element dari List semuanya bisa berjenis sama:"
   ]
  },
  {
   "cell_type": "code",
   "execution_count": 20,
   "id": "a6519215",
   "metadata": {},
   "outputs": [
    {
     "name": "stdout",
     "output_type": "stream",
     "text": [
      "[21.42, 'foobar', 3, 4, 'bark', False, 3.14159]\n"
     ]
    }
   ],
   "source": [
    "a = [21.42, 'foobar', 3, 4, 'bark', False, 3.14159]\n",
    "\n",
    "print(a)"
   ]
  },
  {
   "cell_type": "markdown",
   "id": "47bfc0b9",
   "metadata": {},
   "source": [
    "### *C. LIST ELEMENTS CAN BE ACCESSED BY INDEX*\n",
    ">Element individual dalam List dapat diakses menggunakan indeks dalam tanda kurung siku."
   ]
  },
  {
   "cell_type": "markdown",
   "id": "5a6728a0",
   "metadata": {},
   "source": [
    "        Ini sama persis dengan mengakses karakter individu dalam sebuah string.\n",
    "\n",
    "Pengindeksan List berbasis nol seperti halnya dengan string. \n",
    "\n",
    "Perhatikan List berikut ini:"
   ]
  },
  {
   "cell_type": "code",
   "execution_count": 21,
   "id": "aed241a7",
   "metadata": {},
   "outputs": [],
   "source": [
    "a = ['foo', 'bar', 'baz', 'qux', 'quux', 'corge']"
   ]
  },
  {
   "cell_type": "markdown",
   "id": "4e7c7fd8",
   "metadata": {},
   "source": [
    "<img src=\"https://files.realpython.com/media/t.eb0b38e642c5.png?width=1920&dpr=2\" width=\"700\" align=\"center\">"
   ]
  },
  {
   "cell_type": "code",
   "execution_count": 34,
   "id": "628ff120",
   "metadata": {},
   "outputs": [
    {
     "name": "stdout",
     "output_type": "stream",
     "text": [
      "['foo', 'bar', 'baz', 'qux', 'quux', 'corge']\n",
      "foo\n",
      "corge\n"
     ]
    }
   ],
   "source": [
    "print(a)\n",
    "print(a[0])\n",
    "print(a[5])"
   ]
  },
  {
   "cell_type": "markdown",
   "id": "2d595110",
   "metadata": {},
   "source": [
    "        Hampir semua hal tentang pengindeksan string berfungsi serupa untuk list.\n",
    "\n",
    "**CONTOH KASUS 1 :**\n",
    "\n",
    ">Misalnya, **indeks list negatif** dihitung dari akhir list:"
   ]
  },
  {
   "cell_type": "markdown",
   "id": "50dbe497",
   "metadata": {},
   "source": [
    "<img src=\"https://files.realpython.com/media/t.c11ea56e8ca2.png?width=1920&dpr=2\" width=\"700\" align=\"center\">"
   ]
  },
  {
   "cell_type": "code",
   "execution_count": 33,
   "id": "69fc7e8b",
   "metadata": {},
   "outputs": [
    {
     "name": "stdout",
     "output_type": "stream",
     "text": [
      "['foo', 'bar', 'baz', 'qux', 'quux', 'corge']\n",
      "corge\n",
      "foo\n"
     ]
    }
   ],
   "source": [
    "print(a)\n",
    "print(a[-1])\n",
    "print(a[-6])"
   ]
  },
  {
   "cell_type": "markdown",
   "id": "42eba576",
   "metadata": {},
   "source": [
    "**CONTOH KASUS 2 :**\n",
    "\n",
    ">**Slicing** juga bisa digunakan.\n",
    "\n",
    "        Jika a adalah list, ekspresi a[m:n] mengembalikan porsi a dari indeks m ke n, tetapi tidak termasuk, indeks n:"
   ]
  },
  {
   "cell_type": "code",
   "execution_count": 30,
   "id": "54e06ca4",
   "metadata": {},
   "outputs": [
    {
     "data": {
      "text/plain": [
       "['baz', 'qux', 'quux']"
      ]
     },
     "execution_count": 30,
     "metadata": {},
     "output_type": "execute_result"
    }
   ],
   "source": [
    "a = ['foo', 'bar', 'baz', 'qux', 'quux', 'corge']\n",
    "\n",
    "a[2:5]"
   ]
  },
  {
   "cell_type": "code",
   "execution_count": 32,
   "id": "b85f743b",
   "metadata": {},
   "outputs": [
    {
     "name": "stdout",
     "output_type": "stream",
     "text": [
      "['foo', 'bar', 'baz', 'qux', 'quux', 'corge']\n",
      "['foo', 'bar', 'baz', 'qux', 'quux', 'corge', 'grault', 'garply']\n",
      "['foo', 'bar', 'baz', 'qux', 'quux', 'corge', 'foo', 'bar', 'baz', 'qux', 'quux', 'corge']\n"
     ]
    }
   ],
   "source": [
    "# The concatenation (+) and replication (*) operators:\n",
    "\n",
    "print(a)\n",
    "\n",
    "print(a + ['grault', 'garply'])\n",
    "print(a * 2)"
   ]
  },
  {
   "cell_type": "code",
   "execution_count": 35,
   "id": "9f0e4096",
   "metadata": {},
   "outputs": [
    {
     "name": "stdout",
     "output_type": "stream",
     "text": [
      "['foo', 'bar', 'baz', 'qux', 'quux', 'corge']\n",
      "6\n",
      "bar\n",
      "qux\n"
     ]
    }
   ],
   "source": [
    "# len(), min(), max()\n",
    "\n",
    "print(a)\n",
    "\n",
    "print(len(a))\n",
    "print(min(a))\n",
    "print(max(a))"
   ]
  },
  {
   "cell_type": "markdown",
   "id": "30478c60",
   "metadata": {},
   "source": [
    "### *D. MODIFYING A SINGLE LIST VALUE*\n",
    ">Satu nilai dalam list dapat diganti dengan pengindeksan dan assignment sederhana:"
   ]
  },
  {
   "cell_type": "code",
   "execution_count": 20,
   "id": "e8f8af0f",
   "metadata": {},
   "outputs": [
    {
     "name": "stdout",
     "output_type": "stream",
     "text": [
      "['foo', 'bar', 'baz', 'qux', 'quux', 'corge']\n",
      "['foo', 'bar', 10, 'qux', 'quux', 20]\n",
      "['foo', 'bar', 10, 'quux', 20]\n"
     ]
    }
   ],
   "source": [
    "a = ['foo', 'bar', 'baz', 'qux', 'quux', 'corge']\n",
    "\n",
    "print(a)\n",
    "\n",
    "a[2] = 10\n",
    "a[-1] = 20\n",
    "\n",
    "print(a)\n",
    "\n",
    "# A list item can be deleted with the del command:\n",
    "\n",
    "del a[3]\n",
    "print(a)"
   ]
  },
  {
   "cell_type": "markdown",
   "id": "847bb420",
   "metadata": {},
   "source": [
    "### *E. MODIFYING MULTIPLE LIST VALUES*\n",
    ">Mengubah beberapa elemen yang bersebelahan dalam list sekaligus dengan slice"
   ]
  },
  {
   "cell_type": "markdown",
   "id": "9d3ec313",
   "metadata": {},
   "source": [
    "Bagaimana jika kalian ingin mengubah beberapa elemen yang bersebelahan dalam list sekaligus?\n",
    "\n",
    "Python memungkinkan hal ini dengan slice, yang memiliki sintaks berikut:"
   ]
  },
  {
   "cell_type": "code",
   "execution_count": 46,
   "id": "19124e72",
   "metadata": {},
   "outputs": [
    {
     "name": "stdout",
     "output_type": "stream",
     "text": [
      "['bar', 'baz', 'qux']\n",
      "['foo', 1.1, 2.2, 3.3, 4.4, 5.5, 'quux', 'corge']\n"
     ]
    }
   ],
   "source": [
    "a = ['foo', 'bar', 'baz', 'qux', 'quux', 'corge']\n",
    "\n",
    "print(a[1:4])\n",
    "\n",
    "a[1:4] = [1.1, 2.2, 3.3, 4.4, 5.5]\n",
    "\n",
    "print(a)"
   ]
  },
  {
   "cell_type": "markdown",
   "id": "eaaca59d",
   "metadata": {},
   "source": [
    "## **11. PYTHON TUPLES**\n",
    ">Python menyediakan tipe lain dari kumpulan objek yang berurutan, disebut tuple."
   ]
  },
  {
   "cell_type": "markdown",
   "id": "48e3f6db",
   "metadata": {},
   "source": [
    "### *DEFINING AND USING TUPLES*"
   ]
  },
  {
   "cell_type": "markdown",
   "id": "fa234a8b",
   "metadata": {},
   "source": [
    "Tuples identik dengan list dalam segala hal, kecuali untuk properti berikut:\n",
    "- Tuples didefinisikan dengan mengapit elemen dalam tanda kurung(()) daripada tanda kurung siku ([]).\n",
    "- Tuples tidak bisa diubah.\n",
    "\n",
    "Berikut adalah contoh singkat yang menunjukkan pendeklarasian tuple, pengindeksan, dan slicing:"
   ]
  },
  {
   "cell_type": "code",
   "execution_count": 3,
   "id": "810d1b36",
   "metadata": {},
   "outputs": [
    {
     "name": "stdout",
     "output_type": "stream",
     "text": [
      "('foo', 'bar', 'baz', 'qux', 'quux', 'corge')\n"
     ]
    }
   ],
   "source": [
    "# pendeklarasikan tuple\n",
    "t = ('foo', 'bar', 'baz', 'qux', 'quux', 'corge')\n",
    "\n",
    "print(t)"
   ]
  },
  {
   "cell_type": "code",
   "execution_count": 4,
   "id": "f1b9cbb2",
   "metadata": {},
   "outputs": [
    {
     "name": "stdout",
     "output_type": "stream",
     "text": [
      "foo\n",
      "corge\n"
     ]
    }
   ],
   "source": [
    "# pengindeksan\n",
    "print(t[0])\n",
    "print(t[-1])"
   ]
  },
  {
   "cell_type": "code",
   "execution_count": 19,
   "id": "6db76ad6",
   "metadata": {},
   "outputs": [
    {
     "data": {
      "text/plain": [
       "'foo'"
      ]
     },
     "execution_count": 19,
     "metadata": {},
     "output_type": "execute_result"
    }
   ],
   "source": [
    "# packing and unpacking\n",
    "\n",
    "(s1, s2, s3, s4) = ('foo', 'bar', 'baz', 'qux')\n",
    "s1"
   ]
  },
  {
   "cell_type": "markdown",
   "id": "b12afd47",
   "metadata": {},
   "source": [
    "## **12. PYTHON DICTIONARY**"
   ]
  },
  {
   "cell_type": "markdown",
   "id": "65c4f119",
   "metadata": {},
   "source": [
    "Dictionaries and lists share the following characterictics:\n",
    "- Both are mutable.\n",
    "- Both are dynamic. They can grow and shrink as needed.\n",
    "- Both can be nested. A list can contain another list. A dictionary can contain another dictionary. A dictionary can also contain a list, and vice versa.\n",
    "\n",
    "Dictionaries differ from lists primarily in how elements are accessed:\n",
    "- List elements are accessed by their position in the list, via indexing.\n",
    "- Dictionary elements are accessed via keys."
   ]
  },
  {
   "cell_type": "markdown",
   "id": "bb43628b",
   "metadata": {},
   "source": [
    "### *A. DEFINING A DICTIONARY*\n",
    ">Dictionaries adalah implementasi Python dari struktur data yang lebih dikenal sebagai associative array."
   ]
  },
  {
   "cell_type": "markdown",
   "id": "de7aef5a",
   "metadata": {},
   "source": [
    "- Dictionaries terdiri dari key-value pairs.\n",
    "- Setiap key-value pairs memetakan key ke value yang terkait.\n",
    "- Definisikan Dictionaries dengan mengapit daftar key-value pairs yang dipisahkan koma dalam tanda kurung kurawal ({}).\n",
    "- Titik dua (:) memisahkan setiap kunci dari nilai yang terkait."
   ]
  },
  {
   "cell_type": "code",
   "execution_count": 23,
   "id": "ca409570",
   "metadata": {},
   "outputs": [],
   "source": [
    "MLB_team = {\n",
    "    'Colorado' : 'Rockies',\n",
    "    'Boston' : 'Red Sox',\n",
    "    'Minnesota' : 'Twins',\n",
    "    'Milwaukee' : 'Brewers',\n",
    "    'Seattle' : 'Mariners'\n",
    "}"
   ]
  },
  {
   "cell_type": "markdown",
   "id": "9bcae575",
   "metadata": {},
   "source": [
    "### *B. ACCESSING DICTIONARY VALUES*\n",
    ">Sebuah nilai diambil dari dictionary dengan menentukan kunci yang sesuai dalam tanda kurung siku ([]):"
   ]
  },
  {
   "cell_type": "code",
   "execution_count": 24,
   "id": "6608cfab",
   "metadata": {},
   "outputs": [
    {
     "name": "stdout",
     "output_type": "stream",
     "text": [
      "Twins\n",
      "Rockies\n"
     ]
    }
   ],
   "source": [
    "print(MLB_team['Minnesota'])\n",
    "print(MLB_team['Colorado'])\n",
    "\n",
    "# error\n",
    "# MLB_team['Toronto']"
   ]
  },
  {
   "cell_type": "code",
   "execution_count": 25,
   "id": "29a32357",
   "metadata": {},
   "outputs": [
    {
     "data": {
      "text/plain": [
       "{'Colorado': 'Rockies',\n",
       " 'Boston': 'Red Sox',\n",
       " 'Minnesota': 'Twins',\n",
       " 'Milwaukee': 'Brewers',\n",
       " 'Seattle': 'Mariners',\n",
       " 'Kansas City': 'Royals'}"
      ]
     },
     "execution_count": 25,
     "metadata": {},
     "output_type": "execute_result"
    }
   ],
   "source": [
    "# Adding an entry to an existing dictionary is simply a matter\n",
    "# of assigning a new key and value :\n",
    "\n",
    "MLB_team['Kansas City'] = 'Royals'\n",
    "MLB_team"
   ]
  },
  {
   "cell_type": "code",
   "execution_count": 26,
   "id": "9f252699",
   "metadata": {},
   "outputs": [
    {
     "data": {
      "text/plain": [
       "{'Colorado': 'Rockies',\n",
       " 'Boston': 'Red Sox',\n",
       " 'Minnesota': 'Twins',\n",
       " 'Milwaukee': 'Brewers',\n",
       " 'Seattle': 'Seahawks',\n",
       " 'Kansas City': 'Royals'}"
      ]
     },
     "execution_count": 26,
     "metadata": {},
     "output_type": "execute_result"
    }
   ],
   "source": [
    "# if you want to upadte an entry, you can just assign a new \n",
    "# value to an existing key :\n",
    "\n",
    "MLB_team['Seattle'] = 'Seahawks'\n",
    "MLB_team"
   ]
  },
  {
   "cell_type": "code",
   "execution_count": 27,
   "id": "1495e8c3",
   "metadata": {},
   "outputs": [
    {
     "data": {
      "text/plain": [
       "{'Colorado': 'Rockies',\n",
       " 'Boston': 'Red Sox',\n",
       " 'Minnesota': 'Twins',\n",
       " 'Milwaukee': 'Brewers',\n",
       " 'Kansas City': 'Royals'}"
      ]
     },
     "execution_count": 27,
     "metadata": {},
     "output_type": "execute_result"
    }
   ],
   "source": [
    "# To delete an entry, use the del statement, specifying\n",
    "# the key to delete :\n",
    "\n",
    "del MLB_team['Seattle']\n",
    "MLB_team"
   ]
  },
  {
   "cell_type": "markdown",
   "id": "333ebda8",
   "metadata": {},
   "source": [
    "### *C. BUILDING A DICTIONARY INCREMENTALLY*\n",
    ">Mendefinisikan dictionary menggunakan tanda kurung kurawal dan key-value pairs, seperti yang ditunjukkan di atas, tidak masalah jika kalian mengetahui semua kunci dan nilai sebelumnya."
   ]
  },
  {
   "cell_type": "markdown",
   "id": "1290fafc",
   "metadata": {},
   "source": [
    "Tetapi bagaimana jika kalian ingin membuat dictionary sambil jalan?\n",
    "1. Kalian bisa mulai dengan membuat dictionary kosong, yang ditentukan dengan tanda kurung kurawal kosong.\n",
    "2. Kemudian kalian dapat menambahkan kunci dan nilai baru satu per satu :"
   ]
  },
  {
   "cell_type": "code",
   "execution_count": 30,
   "id": "22dfacbb",
   "metadata": {},
   "outputs": [],
   "source": [
    "person = {}\n",
    "type(person)\n",
    "\n",
    "person['fname'] = 'Hack'\n",
    "person['lname'] = 'PTP'\n",
    "person['age'] = 51\n",
    "person['spouse'] = 'Edna'\n",
    "person['children'] = ['Ralph', 'Betty', 'Joey']\n",
    "person['pets'] = {'dog': 'Fido', 'cat': 'Sox'}"
   ]
  },
  {
   "cell_type": "code",
   "execution_count": 31,
   "id": "aa76e112",
   "metadata": {},
   "outputs": [
    {
     "data": {
      "text/plain": [
       "{'fname': 'Hack',\n",
       " 'lname': 'PTP',\n",
       " 'age': 51,\n",
       " 'spouse': 'Edna',\n",
       " 'children': ['Ralph', 'Betty', 'Joey'],\n",
       " 'pets': {'dog': 'Fido', 'cat': 'Sox'}}"
      ]
     },
     "execution_count": 31,
     "metadata": {},
     "output_type": "execute_result"
    }
   ],
   "source": [
    "person"
   ]
  },
  {
   "cell_type": "code",
   "execution_count": 32,
   "id": "26ce4ee7",
   "metadata": {},
   "outputs": [
    {
     "name": "stdout",
     "output_type": "stream",
     "text": [
      "Hack\n",
      "PTP\n"
     ]
    }
   ],
   "source": [
    "print(person['fname'])\n",
    "print(person['lname'])"
   ]
  },
  {
   "cell_type": "code",
   "execution_count": 33,
   "id": "1abcbe19",
   "metadata": {},
   "outputs": [
    {
     "name": "stdout",
     "output_type": "stream",
     "text": [
      "['Ralph', 'Betty', 'Joey']\n",
      "Betty\n"
     ]
    }
   ],
   "source": [
    "print(person['children'])\n",
    "print(person['children'][1])"
   ]
  },
  {
   "cell_type": "code",
   "execution_count": 34,
   "id": "78e0db5a",
   "metadata": {},
   "outputs": [
    {
     "name": "stdout",
     "output_type": "stream",
     "text": [
      "{'dog': 'Fido', 'cat': 'Sox'}\n",
      "Sox\n"
     ]
    }
   ],
   "source": [
    "print(person['pets'])\n",
    "print(person['pets']['cat'])"
   ]
  },
  {
   "cell_type": "code",
   "execution_count": 35,
   "id": "3b13274a",
   "metadata": {},
   "outputs": [
    {
     "name": "stdout",
     "output_type": "stream",
     "text": [
      "dict_items([('a', 10), ('b', 20), ('c', 30)])\n",
      "dict_keys(['a', 'b', 'c'])\n",
      "dict_values([10, 20, 30])\n"
     ]
    }
   ],
   "source": [
    "# Built-in Methods\n",
    "d = {'a': 10, 'b':20, 'c': 30}\n",
    "\n",
    "# items\n",
    "print(d.items())\n",
    "\n",
    "# keys\n",
    "print(d.keys())\n",
    "\n",
    "# values\n",
    "print(d.values())"
   ]
  },
  {
   "cell_type": "markdown",
   "id": "7aaa35c9",
   "metadata": {},
   "source": [
    "## **13. LINE CONTINUATION**"
   ]
  },
  {
   "cell_type": "markdown",
   "id": "7a6e10dd",
   "metadata": {},
   "source": [
    "Misalkan satu pernyataan dalam kode Python kalian sangat panjang.\n",
    "\n",
    "Misalnya, kalian mungkin memiliki assignment statement dengan banyak terms:"
   ]
  },
  {
   "cell_type": "code",
   "execution_count": 37,
   "id": "02016ab5",
   "metadata": {},
   "outputs": [
    {
     "data": {
      "text/plain": [
       "True"
      ]
     },
     "execution_count": 37,
     "metadata": {},
     "output_type": "execute_result"
    }
   ],
   "source": [
    "person1_age = 42\n",
    "person2_age = 16\n",
    "person3_age = 71\n",
    "\n",
    "someone_is_of_working_age = (person1_age >= 18 and person1_age <= 65) or (person2_age >= 18 and person2_age <= 65) or (person3_age >= 18and person3_age <= 65)\n",
    "someone_is_of_working_age"
   ]
  },
  {
   "cell_type": "code",
   "execution_count": 38,
   "id": "2f04225b",
   "metadata": {},
   "outputs": [
    {
     "data": {
      "text/plain": [
       "True"
      ]
     },
     "execution_count": 38,
     "metadata": {},
     "output_type": "execute_result"
    }
   ],
   "source": [
    "someone_is_of_working_age = ((person1_age >= 18 and person1_age <= 65) or (person2_age >= 18 and person2_age <= 65) or (person3_age >= 18 and person3_age <= 65))\n",
    "someone_is_of_working_age"
   ]
  }
 ],
 "metadata": {
  "kernelspec": {
   "display_name": "Python 3.10.8 64-bit (microsoft store)",
   "language": "python",
   "name": "python3"
  },
  "language_info": {
   "codemirror_mode": {
    "name": "ipython",
    "version": 3
   },
   "file_extension": ".py",
   "mimetype": "text/x-python",
   "name": "python",
   "nbconvert_exporter": "python",
   "pygments_lexer": "ipython3",
   "version": "3.10.8"
  },
  "vscode": {
   "interpreter": {
    "hash": "3b7e9cb8e453d6cda0fe8c8dd13f891a1f09162f0e7c66ffeae7751a7aecf00d"
   }
  }
 },
 "nbformat": 4,
 "nbformat_minor": 5
}
