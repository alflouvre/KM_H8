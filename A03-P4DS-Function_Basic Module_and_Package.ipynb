{
 "cells": [
  {
   "cell_type": "markdown",
   "id": "fe7401c1",
   "metadata": {},
   "source": [
    "<img src=\"https://i.pinimg.com/564x/aa/55/41/aa5541d265687d1fb50d15e6088013d6.jpg\" width=\"1200\" height=\"150\" align=\"center\">"
   ]
  },
  {
   "cell_type": "markdown",
   "id": "c2ce0749",
   "metadata": {},
   "source": [
    "# **SESI 3** // *Function, Module, dan Package*\n",
    "---"
   ]
  },
  {
   "cell_type": "markdown",
   "id": "6f6f06b1",
   "metadata": {},
   "source": [
    "## **PYTHON FUNCTION**\n",
    "---\n",
    ">Function adalah blok kode yang terorganisir dan dapat digunakan kembali (reuse code), yang digunakan untuk melakukan satu tindakan terkait."
   ]
  },
  {
   "cell_type": "markdown",
   "id": "369da3d1",
   "metadata": {},
   "source": [
    "Functions menyediakan modularitas yang lebih baik untuk aplikasi kalian dan code reusing yang tinggi."
   ]
  },
  {
   "cell_type": "markdown",
   "id": "d2341171",
   "metadata": {},
   "source": [
    "Seperti yang sudah kelian ketahui, Python memberi kalian banyak built-in functions seperti print(), dll. Tetapi kalian juga dapat membuat function sendiri. Fungsi-fungsi ini disebut **user-defined functions**."
   ]
  },
  {
   "cell_type": "markdown",
   "id": "4b3c9ccb",
   "metadata": {},
   "source": [
    "**--Type of Function**"
   ]
  },
  {
   "cell_type": "markdown",
   "id": "f6b6dc7f",
   "metadata": {},
   "source": [
    "- User-defined Function \n",
    "- Built-in Function \n",
    "- Lambda Function / The Anonymous Functions\n",
    "- Recursion Function \n"
   ]
  },
  {
   "cell_type": "markdown",
   "id": "cbe091d7",
   "metadata": {},
   "source": [
    "### **DEFINING A FUNCTION**"
   ]
  },
  {
   "cell_type": "markdown",
   "id": "1d8cc90d",
   "metadata": {},
   "source": [
    "Berikut adalah aturan sederhana untuk mendefinisikan functions dengan Python:\n",
    "    \n",
    "* Function blocks dimulai dengan keyword **def** diikuti dengan *nama fungsi* dan tanda kurung (()).\n",
    "* Parameter atau argumen masukan apa pun harus ditempatkan di dalam tanda kurung ini.\n",
    "* Statement awal dari suatu fungsi dapat berupa optional statement - dokumentasi dari fungsi atau docstring.\n",
    "* Blok kode dalam setiap function dimulai dengan titik dua (:) dan diberi indentasi.\n",
    "* Statement return [expression] menyebabkan kita keluar dari suatu fungsi, dan secara opsional meneruskan ekspresi ke pemanggil. Pernyataan return tanpa argumen sama dengan return None."
   ]
  },
  {
   "cell_type": "markdown",
   "id": "b338642c",
   "metadata": {},
   "source": [
    "<img src='https://i.ibb.co/t2n5Tcn/Screen-Shot-2021-08-28-at-9-22-55-AM.png' width=500>"
   ]
  },
  {
   "cell_type": "code",
   "execution_count": 2,
   "id": "bac0d8ec",
   "metadata": {},
   "outputs": [],
   "source": [
    "def function_name( parameters):\n",
    "    \"docstring\"\n",
    "    statement(s)"
   ]
  },
  {
   "cell_type": "markdown",
   "id": "f048ab0b",
   "metadata": {},
   "source": [
    "Secara default, parameter memiliki positional behavior dan kalian perlu menginformasikannya dalam urutan yang sama seperti ketika dibuat.\n",
    "\n",
    "String pertama setelah header fungsi disebut docstring dan merupakan kependekan dari documentation string. Digunakan untuk menjelaskan secara singkat, apa tujuan dari function kalian.\n",
    "\n",
    "Meskipun opsional, dokumentasi adalah praktik pemrograman yang baik. Kecuali kalian dapat mengingat apa yang kalian makan untuk makan malam minggu lalu, selalu dokumentasikan kode kalian.\n",
    "\n",
    "Dalam contoh di atas, kita memiliki docstring tepat di bawah header fungsi. Kita biasanya menggunakan tanda kutip tiga sehingga docstring dapat diperpanjang hingga beberapa baris. String ini tersedia bagi kita sebagai atribut doc dari fungsi tersebut."
   ]
  },
  {
   "cell_type": "code",
   "execution_count": 1,
   "id": "fcb23d33",
   "metadata": {},
   "outputs": [],
   "source": [
    "def my_function(p, l):\n",
    "    \"Function untuk mengitung luas\"\n",
    "    print(p * l)"
   ]
  },
  {
   "cell_type": "code",
   "execution_count": 2,
   "id": "a17c64f2",
   "metadata": {},
   "outputs": [
    {
     "name": "stdout",
     "output_type": "stream",
     "text": [
      "8\n"
     ]
    }
   ],
   "source": [
    "my_function(2,4)"
   ]
  },
  {
   "cell_type": "code",
   "execution_count": 3,
   "id": "f6ab7d09",
   "metadata": {},
   "outputs": [],
   "source": [
    "def printme( str ):\n",
    "   \"This prints a passed string into this function\"\n",
    "   print(str)\n",
    "   return"
   ]
  },
  {
   "cell_type": "code",
   "execution_count": 4,
   "id": "0d132467",
   "metadata": {},
   "outputs": [
    {
     "name": "stdout",
     "output_type": "stream",
     "text": [
      "halo aku baekhyun\n"
     ]
    }
   ],
   "source": [
    "printme(\"halo aku baekhyun\")"
   ]
  },
  {
   "cell_type": "markdown",
   "id": "302cadd9",
   "metadata": {},
   "source": [
    "**Keuntungan dari Fungsi yang Ditentukan Pengguna di Python**\n",
    "- Fungsi Python ini membantu membagi program menjadi modul. Ini membuat kode lebih mudah untuk dikelola, di-debug, dan diskalakan.\n",
    "- Ini mengimplementasikan penggunaan kembali kode. Setiap kali Anda perlu menjalankan urutan pernyataan, yang perlu Anda lakukan hanyalah memanggil fungsi tersebut.\n",
    "- Fungsi Python ini memungkinkan kita untuk mengubah fungsionalitas dengan mudah, dan programmer yang berbeda dapat bekerja pada fungsi yang berbeda."
   ]
  },
  {
   "cell_type": "markdown",
   "id": "247364fe",
   "metadata": {},
   "source": [
    "**Aturan penamaan fungsi python**\n",
    "\n",
    "Kami mengikuti aturan yang sama saat memberi nama fungsi seperti yang kami lakukan saat memberi nama variabel.\n",
    "- Itu bisa dimulai dengan salah satu dari berikut ini: AZ, az, dan garis bawah(_).\n",
    "- Sisanya dapat berisi salah satu dari berikut ini: AZ, az, digit (0-9), dan garis bawah (_).\n",
    "- Kata kunci yang dicadangkan tidak boleh dipilih sebagai pengenal.\n",
    "- Ini adalah praktik yang baik untuk memberi nama fungsi Python sesuai dengan fungsinya.\n",
    "- Nama fungsi yang sama akan di overide "
   ]
  },
  {
   "cell_type": "markdown",
   "id": "233bfc50",
   "metadata": {},
   "source": [
    "**Suatu function didalam suatu class yaitu method**\n",
    "\n",
    "**Suatu function diluar class yaitu function**"
   ]
  },
  {
   "cell_type": "code",
   "execution_count": 5,
   "id": "2317ef31",
   "metadata": {},
   "outputs": [],
   "source": [
    "# function luas\n",
    "# p = panjang\n",
    "# l = lebar\n",
    "# luas = p x l\n",
    "def func_cetak_luas(panjang, lebar):\n",
    "    \"\"\"                                 \\ DOCSTRING\n",
    "    Function untuk mengihtung luas\n",
    "    rumus luas = panjang x lebar\n",
    "    akan di cetak luas\n",
    "    \"\"\"\n",
    "    print(panjang * lebar)\n",
    "                # return None"
   ]
  },
  {
   "cell_type": "code",
   "execution_count": 6,
   "id": "a4fc96d8",
   "metadata": {},
   "outputs": [
    {
     "name": "stdout",
     "output_type": "stream",
     "text": [
      "8\n"
     ]
    }
   ],
   "source": [
    "func_cetak_luas(2, 4)"
   ]
  },
  {
   "cell_type": "code",
   "execution_count": 7,
   "id": "c1e6a8fc",
   "metadata": {},
   "outputs": [
    {
     "name": "stdout",
     "output_type": "stream",
     "text": [
      "60\n",
      "None\n"
     ]
    }
   ],
   "source": [
    "# retvar = return variabel\n",
    "retvar = func_cetak_luas(20,3)\n",
    "print(retvar)\n",
    "retvar"
   ]
  },
  {
   "cell_type": "code",
   "execution_count": 8,
   "id": "498ecbc9",
   "metadata": {},
   "outputs": [
    {
     "name": "stdout",
     "output_type": "stream",
     "text": [
      "40\n",
      "None\n"
     ]
    }
   ],
   "source": [
    "# menampilkan return dari function\n",
    "print(func_cetak_luas(20,2))"
   ]
  },
  {
   "cell_type": "code",
   "execution_count": 9,
   "id": "db364f2a",
   "metadata": {},
   "outputs": [
    {
     "name": "stdout",
     "output_type": "stream",
     "text": [
      "20\n"
     ]
    }
   ],
   "source": [
    "result = func_cetak_luas(10,2)"
   ]
  },
  {
   "cell_type": "code",
   "execution_count": 10,
   "id": "bc56519b",
   "metadata": {},
   "outputs": [
    {
     "name": "stdout",
     "output_type": "stream",
     "text": [
      "None\n"
     ]
    }
   ],
   "source": [
    "print(result)"
   ]
  },
  {
   "cell_type": "code",
   "execution_count": 11,
   "id": "c1ee923b",
   "metadata": {},
   "outputs": [],
   "source": [
    "def func_luas2(p,l): \n",
    "    \"function untuk menghitung luas\"\n",
    "    return p*l    # return value"
   ]
  },
  {
   "cell_type": "code",
   "execution_count": 12,
   "id": "3d090630",
   "metadata": {},
   "outputs": [
    {
     "name": "stdout",
     "output_type": "stream",
     "text": [
      "Luas : 120\n"
     ]
    }
   ],
   "source": [
    "luas = func_luas2(30,4)\n",
    "print(\"Luas :\",luas)"
   ]
  },
  {
   "cell_type": "code",
   "execution_count": 13,
   "id": "3d33af4e",
   "metadata": {},
   "outputs": [],
   "source": [
    "def printme( str):\n",
    "    \"This prints a passed string into this function\"\n",
    "    print(str)\n",
    "    return;"
   ]
  },
  {
   "cell_type": "code",
   "execution_count": 14,
   "id": "e00ac2b0",
   "metadata": {},
   "outputs": [
    {
     "name": "stdout",
     "output_type": "stream",
     "text": [
      "iketutg\n",
      "None\n"
     ]
    }
   ],
   "source": [
    "hasil = printme(\"iketutg\")\n",
    "print(hasil)"
   ]
  },
  {
   "cell_type": "markdown",
   "id": "7048df43",
   "metadata": {},
   "source": [
    "#### **Contoh Soal :**\n",
    ">Buatlah function pengecekan nilai ganjil atau genap"
   ]
  },
  {
   "cell_type": "code",
   "execution_count": 16,
   "id": "5afff526",
   "metadata": {},
   "outputs": [
    {
     "data": {
      "text/plain": [
       "False"
      ]
     },
     "execution_count": 16,
     "metadata": {},
     "output_type": "execute_result"
    }
   ],
   "source": [
    "bool(10 % 2)"
   ]
  },
  {
   "cell_type": "code",
   "execution_count": 17,
   "id": "adb2da61",
   "metadata": {},
   "outputs": [
    {
     "name": "stdout",
     "output_type": "stream",
     "text": [
      "Bilangan Genap\n",
      "Bilangan Ganjil\n"
     ]
    }
   ],
   "source": [
    "def cekbilangan(x):\n",
    "    if x % 2:\n",
    "        print(\"Bilangan Ganjil\")\n",
    "    else :\n",
    "        print(\"Bilangan Genap\")\n",
    "    return\n",
    "\n",
    "cekbilangan(10)\n",
    "cekbilangan(1)"
   ]
  },
  {
   "cell_type": "code",
   "execution_count": 18,
   "id": "18077e8b",
   "metadata": {},
   "outputs": [
    {
     "name": "stdout",
     "output_type": "stream",
     "text": [
      "Bilangan Ganjil\n",
      "None\n"
     ]
    }
   ],
   "source": [
    "print(cekbilangan(15))"
   ]
  },
  {
   "cell_type": "markdown",
   "id": "2244af2b",
   "metadata": {},
   "source": [
    "### **CALLING A FUNCTION**"
   ]
  },
  {
   "cell_type": "markdown",
   "id": "04679920",
   "metadata": {},
   "source": [
    "Mendefinisikan function hanya memberinya nama, menentukan parameter yang akan disertakan dalam fungsi dan menyusun blok kode.\n",
    "\n",
    "Setelah struktur dasar suatu function diselesaikan, kalian dapat menjalankannya dengan memanggilnya dari fungsi lain atau langsung dari prompt Python. Berikut adalah contoh untuk memanggil fungsi printme() :"
   ]
  },
  {
   "cell_type": "code",
   "execution_count": 19,
   "id": "21e01577",
   "metadata": {},
   "outputs": [
    {
     "name": "stdout",
     "output_type": "stream",
     "text": [
      "I'm first call to user defined function!\n",
      "Again second call to the same function\n"
     ]
    }
   ],
   "source": [
    "# Function definition is here\n",
    "def printme( str):\n",
    "    \"This prints a passed string into this function\"\n",
    "    print(str)\n",
    "    return;\n",
    "\n",
    "# Now you can call printme function\n",
    "printme(\"I'm first call to user defined function!\")\n",
    "printme(\"Again second call to the same function\")"
   ]
  },
  {
   "cell_type": "markdown",
   "id": "44d89f35",
   "metadata": {},
   "source": [
    "### **PASS BY REFERENCE VS VALUE**"
   ]
  },
  {
   "cell_type": "markdown",
   "id": "e3af5a70",
   "metadata": {},
   "source": [
    "Semua parameter (arguments) dalam Python di-passed by reference. Artinya jika kalian mengubah apa yang dirujuk oleh parameter dalam suatu fungsi, perubahan tersebut juga kembali fungsi pemanggil. Sebagai contoh:"
   ]
  },
  {
   "cell_type": "code",
   "execution_count": 85,
   "id": "fd16db54",
   "metadata": {},
   "outputs": [
    {
     "name": "stdout",
     "output_type": "stream",
     "text": [
      "isi list [9, 8, 7]\n"
     ]
    }
   ],
   "source": [
    "listx = [9,8,7]\n",
    "print(f\"isi list {listx}\")"
   ]
  },
  {
   "cell_type": "code",
   "execution_count": 86,
   "id": "d6d123f6",
   "metadata": {},
   "outputs": [
    {
     "name": "stdout",
     "output_type": "stream",
     "text": [
      "isi list terbaru setelah di append [9, 8, 7, 10]\n"
     ]
    }
   ],
   "source": [
    "listx.append(10)\n",
    "print(f\"isi list terbaru setelah di append {listx}\")"
   ]
  },
  {
   "cell_type": "code",
   "execution_count": 87,
   "id": "2a7f250a",
   "metadata": {},
   "outputs": [
    {
     "name": "stdout",
     "output_type": "stream",
     "text": [
      "isi list terbaru setelah di append [9, 8, 7, 10, [0, 1, 2]]\n"
     ]
    }
   ],
   "source": [
    "listx.append([0,1,2])\n",
    "print(f\"isi list terbaru setelah di append {listx}\")"
   ]
  },
  {
   "cell_type": "code",
   "execution_count": 91,
   "id": "c65bbaa4",
   "metadata": {},
   "outputs": [
    {
     "name": "stdout",
     "output_type": "stream",
     "text": [
      "Values inside the function:  [10, 20, 30, [1, 2, 3, 4]]\n",
      "Values outside the function:  [10, 20, 30, [1, 2, 3, 4]]\n"
     ]
    }
   ],
   "source": [
    "# Function definition is here\n",
    "def changeme1( mylist1):\n",
    "    \"This changes a passed list into this function\"\n",
    "    mylist1.append([1,2,3,4]);\n",
    "    print(\"Values inside the function: \", mylist1)\n",
    "    return\n",
    "\n",
    "# Now you can call changeme function\n",
    "mylist1 = [10,20,30];\n",
    "changeme1( mylist1);\n",
    "print(\"Values outside the function: \", mylist1)"
   ]
  },
  {
   "cell_type": "markdown",
   "id": "14ba5d38",
   "metadata": {},
   "source": [
    "Ada satu contoh lagi di mana argumen diteruskan oleh reference dan reference kemudian dioverwritte di dalam fungsi yang dipanggil."
   ]
  },
  {
   "cell_type": "code",
   "execution_count": 92,
   "id": "0d9d7346",
   "metadata": {},
   "outputs": [
    {
     "name": "stdout",
     "output_type": "stream",
     "text": [
      "Values inside the function:  [1, 2, 3, 4]\n",
      "Values outside the function:  [10, 20, 30]\n"
     ]
    }
   ],
   "source": [
    "# Function definition is here\n",
    "def changeme2( mylist2):\n",
    "    \"this changes a passed listinto this function\"\n",
    "    mylist2 = [1,2,3,4]; # This would assig new reference in mylist\n",
    "    print(\"Values inside the function: \", mylist2)\n",
    "    return\n",
    "\n",
    "# Now you can call changeme function\n",
    "mylist2 = [10,20,30];\n",
    "changeme( mylist2);\n",
    "print(\"Values outside the function: \", mylist2)"
   ]
  },
  {
   "cell_type": "code",
   "execution_count": 94,
   "id": "6936b5fd",
   "metadata": {},
   "outputs": [
    {
     "name": "stdout",
     "output_type": "stream",
     "text": [
      "[10, 20, 30]\n",
      "Values inside the function:  [1, 2, 3, 4]\n",
      "Values outside the function:  [1, 2, 3, 4]\n"
     ]
    }
   ],
   "source": [
    "# Function definition is here\n",
    "def changeme3( mylist3):\n",
    "   \"This changes a passed list into this function\"\n",
    "   print(mylist3)\n",
    "   mylist3 = [1,2,3,4]; # This would assig new reference in mylist\n",
    "   print(\"Values inside the function: \", mylist3)\n",
    "   return mylist3\n",
    "# Now you can call changeme function\n",
    "mylist3 = [10,20,30];\n",
    "mylist3 = changeme3( mylist3 );\n",
    "print(\"Values outside the function: \", mylist3)"
   ]
  },
  {
   "cell_type": "markdown",
   "id": "213234d1",
   "metadata": {},
   "source": [
    "#### **Contoh soal :**\n",
    ">Bandingkan dengan function ini apakah saldo mengikuti perubahan?"
   ]
  },
  {
   "cell_type": "code",
   "execution_count": 99,
   "id": "b6829817",
   "metadata": {},
   "outputs": [
    {
     "name": "stdout",
     "output_type": "stream",
     "text": [
      "hitung saldo selesai 4010\n"
     ]
    },
    {
     "data": {
      "text/plain": [
       "4010"
      ]
     },
     "execution_count": 99,
     "metadata": {},
     "output_type": "execute_result"
    }
   ],
   "source": [
    "def hitung(amt, disc, saldo):\n",
    "    \"hitung sisa saldo\"\n",
    "    saldo -= amt - disc  # saldo = saldo - (amt - disc)\n",
    "    print(\"hitung saldo selesai\", saldo)  # saldo berubah ?\n",
    "    return saldo\n",
    "\n",
    "hitung(1000,10,5000)"
   ]
  },
  {
   "cell_type": "code",
   "execution_count": 101,
   "id": "4908cd59",
   "metadata": {},
   "outputs": [
    {
     "name": "stdout",
     "output_type": "stream",
     "text": [
      "hitung saldo selesai 4010\n",
      "Nominal Belanja : 1000\n",
      "Discount : - 10\n",
      "Saldo sekarang : 4010\n"
     ]
    }
   ],
   "source": [
    "amt = 1000\n",
    "disc = 10\n",
    "saldo = 5000\n",
    "saldo = hitung(amt, disc, saldo)\n",
    "\n",
    "print(f'Nominal Belanja : {amt}')\n",
    "print(f'Discount : - {disc}')\n",
    "print(f\"Saldo sekarang : {saldo}\") # Saldo berubah"
   ]
  },
  {
   "cell_type": "markdown",
   "id": "41a4da0d",
   "metadata": {},
   "source": [
    "### **FUNCTION ARGUMENTS**"
   ]
  },
  {
   "cell_type": "markdown",
   "id": "0216555a",
   "metadata": {},
   "source": [
    "Kalian bisa memanggil suatu fungsi dengan menggunakan tipe argumen berikut\n",
    "\n",
    "- Required arguments\n",
    "- Keyword arguments\n",
    "- Default arguments\n",
    "- Variable-length arguments(*args)\n",
    "- Variable Keyword arguments(**kwargs)"
   ]
  },
  {
   "cell_type": "markdown",
   "id": "1243c450",
   "metadata": {},
   "source": [
    "#### *Required arguments*\n",
    ">Required arguments adalah argumen yang diteruskan ke suatu fungsi dalam urutan posisi yang benar."
   ]
  },
  {
   "cell_type": "markdown",
   "id": "1ca6d5ca",
   "metadata": {},
   "source": [
    "Di sini, jumlah argumen dalam pemanggilan fungsi harus sama persis dengan function definition.\n",
    "\n",
    "Untuk memanggil fungsi printme(), kalian pasti perlu memberikan satu argumen, jika tidak maka akan terjadi error sebagai berikut:"
   ]
  },
  {
   "cell_type": "code",
   "execution_count": 22,
   "id": "6966d381",
   "metadata": {},
   "outputs": [
    {
     "ename": "TypeError",
     "evalue": "printme() missing 1 required positional argument: 'str'",
     "output_type": "error",
     "traceback": [
      "\u001b[1;31m---------------------------------------------------------------------------\u001b[0m",
      "\u001b[1;31mTypeError\u001b[0m                                 Traceback (most recent call last)",
      "\u001b[1;32m~\\AppData\\Local\\Temp\\ipykernel_13864\\913619415.py\u001b[0m in \u001b[0;36m<module>\u001b[1;34m\u001b[0m\n\u001b[0;32m      6\u001b[0m \u001b[1;33m\u001b[0m\u001b[0m\n\u001b[0;32m      7\u001b[0m \u001b[1;31m# Now you can call printme function\u001b[0m\u001b[1;33m\u001b[0m\u001b[1;33m\u001b[0m\u001b[0m\n\u001b[1;32m----> 8\u001b[1;33m \u001b[0mprintme\u001b[0m\u001b[1;33m(\u001b[0m\u001b[1;33m)\u001b[0m\u001b[1;33m\u001b[0m\u001b[1;33m\u001b[0m\u001b[0m\n\u001b[0m",
      "\u001b[1;31mTypeError\u001b[0m: printme() missing 1 required positional argument: 'str'"
     ]
    }
   ],
   "source": [
    "# Function definition is here\n",
    "def printme(str):\n",
    "    \"This prints a passed string into this function\"\n",
    "    print(str)\n",
    "    return;\n",
    "\n",
    "# Now you can call printme function\n",
    "printme()"
   ]
  },
  {
   "cell_type": "code",
   "execution_count": 23,
   "id": "98715feb",
   "metadata": {},
   "outputs": [
    {
     "name": "stdout",
     "output_type": "stream",
     "text": [
      "hello\n"
     ]
    }
   ],
   "source": [
    "print(\"hello\")"
   ]
  },
  {
   "cell_type": "code",
   "execution_count": 24,
   "id": "9ee6662d",
   "metadata": {},
   "outputs": [
    {
     "ename": "TypeError",
     "evalue": "printme() takes 1 positional argument but 2 were given",
     "output_type": "error",
     "traceback": [
      "\u001b[1;31m---------------------------------------------------------------------------\u001b[0m",
      "\u001b[1;31mTypeError\u001b[0m                                 Traceback (most recent call last)",
      "\u001b[1;32m~\\AppData\\Local\\Temp\\ipykernel_13864\\3909724803.py\u001b[0m in \u001b[0;36m<module>\u001b[1;34m\u001b[0m\n\u001b[1;32m----> 1\u001b[1;33m \u001b[0mprintme\u001b[0m\u001b[1;33m(\u001b[0m\u001b[1;34m\"hello\"\u001b[0m\u001b[1;33m,\u001b[0m \u001b[1;34m\"apa kabar\"\u001b[0m\u001b[1;33m)\u001b[0m\u001b[1;33m\u001b[0m\u001b[1;33m\u001b[0m\u001b[0m\n\u001b[0m",
      "\u001b[1;31mTypeError\u001b[0m: printme() takes 1 positional argument but 2 were given"
     ]
    }
   ],
   "source": [
    "printme(\"hello\", \"apa kabar\")"
   ]
  },
  {
   "cell_type": "markdown",
   "id": "cc1bb8a8",
   "metadata": {},
   "source": [
    "#### *Keyword arguments*\n",
    ">Keyword arguments berkaitan dengan pemanggilan fungsi. Saat kalian menggunakan Keyword arguments dalam memanggil fungsi, pemanggil mengidentifikasi argumen dengan nama parameter."
   ]
  },
  {
   "cell_type": "markdown",
   "id": "0a139877",
   "metadata": {},
   "source": [
    "  Untuk menghindari kebingungan argumen posisi, Anda dapat meneruskan argumen \n",
    "    menggunakan nama parameter terkaitnya.\n",
    "\n",
    "    Dalam hal ini, urutan argumen tidak lagi penting karena argumen dicocokkan dengan nama, bukan dengan posisi."
   ]
  },
  {
   "cell_type": "markdown",
   "id": "ca333c55",
   "metadata": {},
   "source": [
    "Hal ini memungkinkan kalian untuk melewati argumen atau menempatkannya tidak berurutan karena interpreter Python dapat menggunakan kata kunci yang disediakan untuk mencocokkan nilai dengan parameter.\n",
    "\n",
    "Kalian juga dapat membuat panggilan kata kunci ke fungsi printme() dengan cara berikut:"
   ]
  },
  {
   "cell_type": "code",
   "execution_count": 25,
   "id": "aadd4153",
   "metadata": {},
   "outputs": [
    {
     "name": "stdout",
     "output_type": "stream",
     "text": [
      "Hacktiv8\n"
     ]
    }
   ],
   "source": [
    "# Function definition is here\n",
    "def printme(str):\n",
    "    \"This prints a passed string into this function\"\n",
    "    print(str)\n",
    "    return;\n",
    "\n",
    "# Now you can call printme function\n",
    "printme(str = \"Hacktiv8\")"
   ]
  },
  {
   "cell_type": "markdown",
   "id": "e14e9e1a",
   "metadata": {},
   "source": [
    "Contoh berikut memberikan gambaran yang lebih jelas. Perhatikan bahwa urutan parameter tidak menjadi masalah."
   ]
  },
  {
   "cell_type": "code",
   "execution_count": 30,
   "id": "eae82dce",
   "metadata": {},
   "outputs": [
    {
     "name": "stdout",
     "output_type": "stream",
     "text": [
      "Name:  hacktiv8\n",
      "Age:  4\n"
     ]
    }
   ],
   "source": [
    "# Function definition is here\n",
    "def printinfo(name,age):\n",
    "    \"This prints a passed info into this function\"\n",
    "    print(\"Name: \", name)\n",
    "    print(\"Age: \", age)\n",
    "    return;\n",
    "\n",
    "#Now you can call printinfo function\n",
    "printinfo(age=4, name=\"hacktiv8\")"
   ]
  },
  {
   "cell_type": "code",
   "execution_count": 112,
   "id": "4da67f09",
   "metadata": {},
   "outputs": [],
   "source": [
    "def func(name, job):\n",
    "    print(name, 'is a', job)"
   ]
  },
  {
   "cell_type": "code",
   "execution_count": 113,
   "id": "c94cbd65",
   "metadata": {},
   "outputs": [
    {
     "name": "stdout",
     "output_type": "stream",
     "text": [
      "Jack is a developer\n"
     ]
    }
   ],
   "source": [
    "func(name='Jack', job='developer')"
   ]
  },
  {
   "cell_type": "code",
   "execution_count": 114,
   "id": "8e2e5121",
   "metadata": {},
   "outputs": [
    {
     "name": "stdout",
     "output_type": "stream",
     "text": [
      "Jack is a developer\n"
     ]
    }
   ],
   "source": [
    "func(job='developer', name='Jack')"
   ]
  },
  {
   "cell_type": "code",
   "execution_count": 116,
   "id": "ad769792",
   "metadata": {},
   "outputs": [
    {
     "name": "stdout",
     "output_type": "stream",
     "text": [
      " Nama : pelanggan\n",
      " Amt  : 10\n",
      " Dics : 90.5\n"
     ]
    }
   ],
   "source": [
    "def printme(nama , intamt, fldisc):\n",
    "    \"This prints a passed string, int, float into this function\"\n",
    "    print(\" Nama :\", nama)\n",
    "    print(\" Amt  :\", intamt)\n",
    "    print(\" Dics :\", fldisc)\n",
    "    return\n",
    "\n",
    "printme(intamt = 10, fldisc = 90.5, nama = \"pelanggan\")"
   ]
  },
  {
   "cell_type": "markdown",
   "id": "eb88d8df",
   "metadata": {},
   "source": [
    "#### *Default arguments*\n",
    ">Default argument adalah argumen yang mengasumsikan nilai default jika nilai tidak disediakan dalam pemanggilan fungsi untuk argumen tersebut."
   ]
  },
  {
   "cell_type": "markdown",
   "id": "c7c994ec",
   "metadata": {},
   "source": [
    "Contoh berikut memberikan gambaran tentang Default argument, dia akan mencetak usia default jika tidak diberikan nilai apapun."
   ]
  },
  {
   "cell_type": "code",
   "execution_count": 119,
   "id": "42a9d7a4",
   "metadata": {},
   "outputs": [
    {
     "name": "stdout",
     "output_type": "stream",
     "text": [
      "Invoice :  1\n",
      "Name:  hacktiv8\n",
      "Amt:  50000\n",
      "Disc:  5000\n",
      "====================\n",
      "Total: 45000\n",
      "\n",
      "\n"
     ]
    }
   ],
   "source": [
    "# Function definition is here\n",
    "# Default dari Disc 100\n",
    "def totalInvoice(name, amt, disc=100):\n",
    "    \"This prints a passed info into this function\"\n",
    "    print(\"Name: \", name)\n",
    "    print(\"Amt: \", amt)\n",
    "    print(\"Disc: \", disc)\n",
    "    total = amt - disc\n",
    "    print(10*\"==\")\n",
    "    print(\"Total:\", total)\n",
    "    return;\n",
    "\n",
    "# Now you call printinfo function\n",
    "print(\"Invoice : \",1)\n",
    "totalInvoice(amt=50000, name=\"hacktiv8\", disc=5000)\n",
    "print(\"\\n\")"
   ]
  },
  {
   "cell_type": "code",
   "execution_count": 120,
   "id": "faa43d03",
   "metadata": {},
   "outputs": [
    {
     "name": "stdout",
     "output_type": "stream",
     "text": [
      "##############################\n",
      "\n",
      "\n",
      "Invoice : 2\n",
      "Name:  Jhon\n",
      "Amt:  10000\n",
      "Disc:  100\n",
      "====================\n",
      "Total: 9900\n"
     ]
    }
   ],
   "source": [
    "print(10*\"###\")\n",
    "print(\"\\n\")\n",
    "print(\"Invoice :\", 2)\n",
    "totalInvoice(name=\"Jhon\", amt=10000)"
   ]
  },
  {
   "cell_type": "markdown",
   "id": "f190c0b8",
   "metadata": {},
   "source": [
    "#### *Variable-length arguments*\n",
    ">Kalian mungkin perlu memproses suatu fungsi untuk menerima lebih banyak argumen daripada yang kalian tentukan saat mendefinisikan fungsi."
   ]
  },
  {
   "cell_type": "markdown",
   "id": "e8907701",
   "metadata": {},
   "source": [
    " Argumen ini disebut variable-length arguments dan tidak diberi nama ketika definisi fungsi, tidak seperti required dan default arguments."
   ]
  },
  {
   "cell_type": "markdown",
   "id": "e3062110",
   "metadata": {},
   "source": [
    " ***args**\n",
    ">Saat Anda mengawali parameter dengan asterisk *, parameter tersebut mengumpulkan semua argumen posisi yang tidak cocok ke dalam sebuah tuple."
   ]
  },
  {
   "cell_type": "markdown",
   "id": "1821f435",
   "metadata": {},
   "source": [
    "Sintaks untuk fungsi dengan non-keyword variable arguments adalah sebagai berikut:"
   ]
  },
  {
   "cell_type": "markdown",
   "id": "85ea0c33",
   "metadata": {},
   "source": [
    "```\n",
    "def functionname([formal_args,] * var_args_tuple):\n",
    "    \"function_docstring\"\n",
    "    function_suite\n",
    "    return [expression]\n",
    "```"
   ]
  },
  {
   "cell_type": "markdown",
   "id": "0a3b7bbe",
   "metadata": {},
   "source": [
    " Karena ini adalah objek Tuple normal, Anda dapat melakukan operasi \n",
    "    apa pun yang didukung oleh Tuple, seperti pengindeksan, iterasi, dll."
   ]
  },
  {
   "cell_type": "markdown",
   "id": "51fb8fa4",
   "metadata": {},
   "source": [
    "Tanda bintang (*) ditempatkan sebelum nama variabel yang menyimpan nilai dari semua nonkeyword variable arguments. Tuple tersebut tetap kosong jika tidak ada argumen tambahan yang ditentukan selama pemanggilan fungsi.\n",
    "\n",
    "Berikut adalah contoh sederhana:"
   ]
  },
  {
   "cell_type": "code",
   "execution_count": 121,
   "id": "0d9632eb",
   "metadata": {},
   "outputs": [],
   "source": [
    "# *args\n",
    "def print_arguments(*args):\n",
    "    print(type(args))\n",
    "    print(args)"
   ]
  },
  {
   "cell_type": "code",
   "execution_count": 122,
   "id": "9056d667",
   "metadata": {},
   "outputs": [
    {
     "name": "stdout",
     "output_type": "stream",
     "text": [
      "<class 'tuple'>\n",
      "(1, 54, 60, 8, 98, 12, 1, 1, 1, 2, 3, 3, 4, 3, 3, 4, 4, 0)\n"
     ]
    }
   ],
   "source": [
    "print_arguments(1, 54, 60, 8, 98, 12, 1, 1, 1, 2, 3, 3, 4, 3, 3, 4, 4, 0)"
   ]
  },
  {
   "cell_type": "code",
   "execution_count": 123,
   "id": "a1bafece",
   "metadata": {},
   "outputs": [
    {
     "name": "stdout",
     "output_type": "stream",
     "text": [
      "<class 'tuple'>\n",
      "()\n"
     ]
    }
   ],
   "source": [
    "print_arguments()"
   ]
  },
  {
   "cell_type": "code",
   "execution_count": 125,
   "id": "fb99cfdd",
   "metadata": {},
   "outputs": [
    {
     "name": "stdout",
     "output_type": "stream",
     "text": [
      "Output is: \n",
      "10\n",
      "function done\n",
      "Output is: \n",
      "70\n",
      "60\n",
      "50\n",
      "a\n",
      "function done\n"
     ]
    }
   ],
   "source": [
    "# Function definition is here\n",
    "def printinfo(arg1, *vartuple):\n",
    "    \"This prints a variable passed arguments\"\n",
    "    print(\"Output is: \")\n",
    "    print(arg1)\n",
    "    for var in vartuple:\n",
    "        print(var)\n",
    "\n",
    "    print('function done')\n",
    "    return;\n",
    "\n",
    "# Now you can call printinfo function\n",
    "printinfo( 10 )\n",
    "printinfo( 70, 60, 50, \"a\")"
   ]
  },
  {
   "cell_type": "code",
   "execution_count": 126,
   "id": "9f73064b",
   "metadata": {},
   "outputs": [
    {
     "name": "stdout",
     "output_type": "stream",
     "text": [
      "Output is: \n",
      "70\n",
      "60\n",
      "50\n",
      "10\n",
      "20\n",
      "function done\n"
     ]
    }
   ],
   "source": [
    "printinfo(70, 60, 50, 10, 20)"
   ]
  },
  {
   "cell_type": "code",
   "execution_count": 127,
   "id": "69148116",
   "metadata": {},
   "outputs": [],
   "source": [
    "def func_satu(a,b,c):\n",
    "    \"func satu\"\n",
    "    print(a,b)\n",
    "    print(c)\n",
    "    return"
   ]
  },
  {
   "cell_type": "code",
   "execution_count": 128,
   "id": "78dddf39",
   "metadata": {},
   "outputs": [
    {
     "name": "stdout",
     "output_type": "stream",
     "text": [
      "10 20\n",
      "{1, 3, 4, 6, 7, 8}\n"
     ]
    }
   ],
   "source": [
    "a = 10\n",
    "b = 20\n",
    "c = set({6, 7, 8, 1, 3, 4, 6})\n",
    "func_satu(a,b,c)"
   ]
  },
  {
   "cell_type": "code",
   "execution_count": 129,
   "id": "1d40281f",
   "metadata": {},
   "outputs": [
    {
     "data": {
      "text/plain": [
       "{0, 1, 2, 4, 5}"
      ]
     },
     "execution_count": 129,
     "metadata": {},
     "output_type": "execute_result"
    }
   ],
   "source": [
    "set({1,5,2,0,4})"
   ]
  },
  {
   "cell_type": "code",
   "execution_count": 130,
   "id": "df6199df",
   "metadata": {},
   "outputs": [
    {
     "name": "stdout",
     "output_type": "stream",
     "text": [
      "Output is: \n",
      "1\n",
      "Hello\n",
      "12\n",
      "4\n",
      "5\n",
      "6\n",
      "{0, 1, 2, 4, 5}\n",
      "function done\n"
     ]
    }
   ],
   "source": [
    "# dapat melakukan operasi apapun yang didukung oleh Tuple,\n",
    "# seperti pengindeksan\n",
    "printinfo(1,\"Hello\", 12, 4, 5, 6, set({1, 5, 2, 0, 4}))"
   ]
  },
  {
   "cell_type": "markdown",
   "id": "02bd677c",
   "metadata": {},
   "source": [
    "### **THE ANONYMOUS FUNCTIONS**"
   ]
  },
  {
   "cell_type": "markdown",
   "id": "eadb41a2",
   "metadata": {},
   "source": [
    "Functions ini disebut anonymous karena tidak dideklarasikan dengan cara standar dengan menggunakan keyword def. Kalian dapat menggunakan keyword lambda untuk membuat anonymous functions.\n",
    "\n",
    "- Lambda dapat mengambil berapapun argumen tetapi hanya mengembalikan satu nilai dalam bentuk expression. Lambda tidak boleh berisi commands atau multiple expressions.\n",
    "- Anonymous function tidak bisa dipanggil langsung melalui print karena lambda memerlukan expression\n",
    "- Lambda functions memiliki namespace local sendiri dan tidak dapat mengakses variabel selain yang ada di daftar parameternya dan yang ada di namespace global.\n",
    "\n",
    "Syntax dari lambda functions mengandung hanya single statement, seperti dibawah ini:\n",
    "\n",
    "    lambda [arg1 [,arg2,.....argn]]:expression\n",
    "\n",
    "Berikut adalah contoh untuk menunjukkan cara kerja bentuk fungsi lambda:"
   ]
  },
  {
   "cell_type": "code",
   "execution_count": 1,
   "id": "5022d67c",
   "metadata": {},
   "outputs": [
    {
     "name": "stdout",
     "output_type": "stream",
     "text": [
      "Value of total :  None\n",
      "Value of total :  None\n"
     ]
    }
   ],
   "source": [
    "# Function definition is here\n",
    "sum = lambda arg1, arg2: arg1 + arg2;\n",
    "\n",
    "def sum(arg1, arg2):\n",
    "    arg1 + arg2\n",
    "    \n",
    "# Now you can call sum as a function\n",
    "print(\"Value of total : \", sum( 10, 20))\n",
    "print(\"Value of total : \", sum( 20, 20))"
   ]
  },
  {
   "cell_type": "markdown",
   "id": "b44e3b15",
   "metadata": {},
   "source": [
    "### **THE RETURN STATEMENT**"
   ]
  },
  {
   "cell_type": "markdown",
   "id": "7d1697b0",
   "metadata": {},
   "source": [
    "Statement return [expression] menyebabkan kita keluar dari suatu fungsi, dan secara opsional meneruskan ekspresi ke pemanggil. Pernyataan return tanpa argumen sama dengan return None.\n",
    "\n",
    "Semua contoh di atas tidak mengembalikan nilai apa pun. Kalian dapat mengembalikan nilai dari fungsi sebagai berikut:"
   ]
  },
  {
   "cell_type": "code",
   "execution_count": 34,
   "id": "3040a3d5",
   "metadata": {},
   "outputs": [
    {
     "name": "stdout",
     "output_type": "stream",
     "text": [
      "Inside the function :  30\n",
      "Outside the function :  40\n"
     ]
    }
   ],
   "source": [
    "# Function definition is here\n",
    "def sum(arg1, arg2):\n",
    "    # Add both the parameters and return them.\n",
    "    total = arg1 + arg2\n",
    "    total2 = total + arg1\n",
    "    print(\"Inside the function : \", total)\n",
    "    return total2\n",
    "\n",
    "# Now you can call sum function\n",
    "total = sum(10, 20)\n",
    "print(\"Outside the function : \", total)"
   ]
  },
  {
   "cell_type": "markdown",
   "id": "3101b7d2",
   "metadata": {},
   "source": [
    "### **SCOPE OF VARIABLES**"
   ]
  },
  {
   "cell_type": "markdown",
   "id": "771e90ad",
   "metadata": {},
   "source": [
    "Semua variabel dalam program mungkin tidak dapat diakses di semua lokasi dalam program tersebut. Tergantung di mana kalian mendeklarasikan variabel.\n",
    "\n",
    "Scope of a variable menentukan aturan apakah program ditempat kalian dapat mengakses identifier tertentu. Ada dua cakupan dasar variabel di Python\n",
    "\n",
    "- Global variables\n",
    "- Local variables"
   ]
  },
  {
   "cell_type": "markdown",
   "id": "2bc2fb44",
   "metadata": {},
   "source": [
    "#### *Global vs. Local variables*\n",
    "\n",
    "Variabel yang didefinisikan  di dalam badan fungsi adalah local scope, dan variabel yang ditentukan di luar adalah global scope."
   ]
  },
  {
   "cell_type": "markdown",
   "id": "20b0262e",
   "metadata": {},
   "source": [
    "Ini berarti bahwa variabel lokal hanya dapat diakses di dalam fungsi yang dideklarasikan, sedangkan variabel global dapat diakses di seluruh badan program oleh semua fungsi. Saat kalian memanggil sebuah fungsi, variabel yang dideklarasikan di dalamnya akan dimasukkan ke dalam scopenya.\n",
    "\n",
    "Berikut adalah contoh sederhana:"
   ]
  },
  {
   "cell_type": "code",
   "execution_count": 37,
   "id": "1c07cc68",
   "metadata": {},
   "outputs": [
    {
     "name": "stdout",
     "output_type": "stream",
     "text": [
      "Inside the function local total :  30\n",
      "Outside the function global total :  0\n"
     ]
    }
   ],
   "source": [
    "total = 0;\n",
    "\n",
    "def sum(arg1, arg2):\n",
    "    \n",
    "    total = arg1 + arg2;\n",
    "    print(\"Inside the function local total : \", total)\n",
    "    return total;\n",
    "\n",
    "def min():\n",
    "    sum( 10, 20);\n",
    "    print(\"Outside the function global total : \", total)\n",
    "\n",
    "min()"
   ]
  },
  {
   "cell_type": "code",
   "execution_count": 36,
   "id": "3c0ed046",
   "metadata": {},
   "outputs": [
    {
     "data": {
      "text/plain": [
       "40"
      ]
     },
     "execution_count": 36,
     "metadata": {},
     "output_type": "execute_result"
    }
   ],
   "source": [
    "jumlahKucing = 20\n",
    "\n",
    "def jumlahHewan():\n",
    "    jumlahAnjing = 30\n",
    "    return jumlahKucing + jumlahAnjing\n",
    "\n",
    "def jumlahKelinci():\n",
    "    return jumlahKucing + jumlahKucing\n",
    "\n",
    "jumlahHewan()\n",
    "jumlahKelinci()"
   ]
  },
  {
   "cell_type": "markdown",
   "id": "86a9986d",
   "metadata": {},
   "source": [
    "---\n",
    "Bagian ini membahas Python modules dan Python packages, dua mekanisme yang memfasilitasi pemrograman modular/modular programming.\n",
    "\n",
    "Pemrograman modular mengacu pada proses pemecahan tugas pemrograman yang besar dan berat menjadi subtugas atau modul yang terpisah, lebih kecil, dan lebih mudah dikelola. Modul individu kemudian dapat digabungkan seperti blok bangunan untuk membuat aplikasi yang lebih besar.\n",
    "\n",
    "Ada beberapa keuntungan memodularisasi kode dalam aplikasi besar:\n",
    "\n",
    "- Simplicity: Daripada berfokus pada keseluruhan masalah yang dihadapi, modul biasanya berfokus pada satu bagian masalah yang relatif kecil. Jika kalian mengerjakan satu modul, kalian akan memiliki domain masalah yang lebih kecil untuk dipahami. Ini membuat development lebih mudah dan less error.\n",
    "\n",
    "- Maintainability: Modul biasanya dirancang sedemikian rupa sehingga menerapkan logical boundaries antara domain masalah yang berbeda. Jika modul ditulis dengan cara yang meminimalkan ketergantungan, ada kemungkinan kecil bahwa modifikasi pada satu modul akan berdampak pada bagian lain dari program. (Kalian bahkan dapat membuat perubahan pada modul tanpa memiliki knowledge apa pun tentang aplikasi di luar modul tersebut.) Hal ini membuat modul lebih cocok bagi tim yang terdiri dari banyak programmer untuk bekerja secara kolaboratif pada aplikasi besar.\n",
    "\n",
    "- Reusability: Fungsi yang didefinisikan dalam satu modul dapat dengan mudah digunakan kembali/reused oleh bagian lain dari aplikasi. Hal ini menghilangkan kebutuhan untuk membuat duplicate code.\n",
    "\n",
    "- Scoping: Modul biasanya mendefinisikan namespace secara  terpisah, yang membantu menghindari tabrakan antara identifiers di berbagai area program."
   ]
  },
  {
   "cell_type": "markdown",
   "id": "7c4c480a",
   "metadata": {},
   "source": [
    "## **PYTHON MODULES: OVERVIEW**\n",
    "---\n",
    "\n",
    "Ada tiga cara berbeda untuk mendefinisikan module dengan Python:"
   ]
  },
  {
   "cell_type": "markdown",
   "id": "08579a8a",
   "metadata": {},
   "source": [
    "- Module dapat ditulis dengan bahasa Python itu sendiri.\n",
    "- Module dapat ditulis dalam C dan di-load secara dinamis pada saat run-time, seperti modul re (ekspresi reguler).\n",
    "- Built-in module secara intrinsik terdapat dalam interpreter, seperti modul itertools.\n",
    "\n",
    "Isi modul diakses dengan cara yang sama dalam ketiga kasus diatas: dengan import statement.\n",
    "\n",
    "Di sini, fokusnya sebagian besar ada pada modul yang ditulis dengan Python. Hal yang menguntungkan tentang modul yang ditulis dengan Python adalah module sangat mudah dibuat. Yang perlu kalian lakukan adalah membuat file yang berisi kode Python dan kemudian memberi nama file dengan ekstensi .py.\n",
    "\n",
    "Misalnya, kalian buat sebuah file bernama mod.py dengan isi sebagai berikut:"
   ]
  },
  {
   "cell_type": "code",
   "execution_count": 9,
   "id": "023432b7",
   "metadata": {},
   "outputs": [],
   "source": [
    "s = \"Hacktiv8-PTP Python For Data Science\"\n",
    "a = [100, 200, 300]\n",
    "\n",
    "def foo(arg):\n",
    "    print(f'arg = {arg}')\n",
    "    \n",
    "class Foo:\n",
    "    pass"
   ]
  },
  {
   "cell_type": "markdown",
   "id": "87fbbe14",
   "metadata": {},
   "source": [
    "Beberapa objek didefinisikan di mod.py:\n",
    "\n",
    "- s (a string)\n",
    "- a (a list)\n",
    "- foo() (a function)\n",
    "- Foo (a class)\n",
    "\n",
    "Dengan asumsi mod.py berada di lokasi yang sesuai, yang akan segera kalian pelajari lebih lanjut, objek ini dapat diakses dengan mengimpor modul dengan cara sebagai berikut:"
   ]
  },
  {
   "cell_type": "code",
   "execution_count": null,
   "id": "a20a92e9",
   "metadata": {},
   "outputs": [],
   "source": [
    ">>> import mod\n",
    ">>> print(mod.s)\n",
    "Hacktiv8-PTP Python For Data Science\n",
    ">>> mod.a\n",
    "[100, 200, 300]\n",
    ">>> mod.foo(['quux', 'corge', 'grault'])\n",
    "arg = ['quux', 'corge', 'grault']\n",
    ">>> x = mod.Foo()\n",
    ">>> x\n",
    "<mod.Foo object at 0x03C181F0>\n"
   ]
  },
  {
   "cell_type": "markdown",
   "id": "ea6b117a",
   "metadata": {},
   "source": [
    "### **THE MODULE SEARCH PATH**\n",
    "Melanjutkan contoh di atas, mari kita lihat apa yang terjadi ketika Python menjalankan pernyataan:"
   ]
  },
  {
   "cell_type": "markdown",
   "id": "a92d38a8",
   "metadata": {},
   "source": [
    "    import mod\n",
    "\n",
    "Ketika interpreter menjalankan pernyataan import di atas, ia mencari mod.py dalam daftar direktori dari sumber berikut:\n",
    "- Direktori tempat skrip input dijalankan atau direktori saat ini jika interpreter dijalankan secara interaktif\n",
    "- The list of directories contained in the PYTHONPATH environment variable, if it is set. (The format for PYTHONPATH is OS-dependent but should mimic the PATH environment variable.)\n",
    "- Daftar direktori yang terdapat dalam variabel PYTHONPATH environment. (Format untuk PYTHONPATH bergantung pada OS tetapi harus sama dengan variabel PATH environment.)\n",
    "- Daftar direktori yang bergantung pada instalasi yang dikonfigurasi pada saat Python diinstal\n",
    "\n",
    "Hasil dari search path dapat diakses di variabel Python sys.path, yang diperoleh dari modul bernama sys:"
   ]
  },
  {
   "cell_type": "code",
   "execution_count": 2,
   "id": "4a26178d",
   "metadata": {},
   "outputs": [
    {
     "data": {
      "text/plain": [
       "['d:\\\\Study_Base\\\\Kampus_Merdeka\\\\Hacktiv8\\\\H8_3',\n",
       " 'c:\\\\Program Data\\\\Anaconda3\\\\python39.zip',\n",
       " 'c:\\\\Program Data\\\\Anaconda3\\\\DLLs',\n",
       " 'c:\\\\Program Data\\\\Anaconda3\\\\lib',\n",
       " 'c:\\\\Program Data\\\\Anaconda3',\n",
       " '',\n",
       " 'c:\\\\Program Data\\\\Anaconda3\\\\lib\\\\site-packages',\n",
       " 'c:\\\\Program Data\\\\Anaconda3\\\\lib\\\\site-packages\\\\win32',\n",
       " 'c:\\\\Program Data\\\\Anaconda3\\\\lib\\\\site-packages\\\\win32\\\\lib',\n",
       " 'c:\\\\Program Data\\\\Anaconda3\\\\lib\\\\site-packages\\\\Pythonwin',\n",
       " 'c:\\\\Program Data\\\\Anaconda3\\\\lib\\\\site-packages\\\\IPython\\\\extensions',\n",
       " 'C:\\\\Users\\\\User\\\\.ipython']"
      ]
     },
     "execution_count": 2,
     "metadata": {},
     "output_type": "execute_result"
    }
   ],
   "source": [
    "import sys\n",
    "sys.path"
   ]
  },
  {
   "cell_type": "markdown",
   "id": "8476e788",
   "metadata": {},
   "source": [
    "Jadi, untuk memastikan modul kalian ditemukan, kalian perlu melakukan salah satu hal berikut:\n",
    "\n",
    "- Letakkan mod.py di direktori tempat skrip input berada atau direktori saat ini pada terminal\n",
    "- Modifikasi PYTHONPATH environment variable agar memuat direktori tempat mod.py berada sebelum memulai interpreter\n",
    "- Atau: Letakkan mod.py di salah satu direktori yang sudah ada di variabel PYTHONPATH\n",
    "- Letakkan mod.py di salah satu direktori yang bergantung pada instalasi, yang mungkin kalian miliki atau tidak memiliki write-access, tergantung pada OS\n",
    "\n",
    "Sebenarnya ada satu opsi tambahan: kalian dapat meletakkan file modul di direktori pilihan kalian dan kemudian memodifikasi sys.path pada saat run-time sehingga berisi direktori tersebut.\n",
    "\n",
    "Misalnya, dalam kasus ini, kalian dapat meletakkan mod.py di direktori /Users/ardhiraka/Desktop/H8Py dan kemudian jalankan statements berikut:"
   ]
  },
  {
   "cell_type": "code",
   "execution_count": null,
   "id": "d109135e",
   "metadata": {},
   "outputs": [],
   "source": [
    ">>> sys.path.append(r'/Users/ardhiraka/Desktop/H8Py')\n",
    ">>> sys.path\n",
    "\n",
    "['', '/usr/local/anaconda3/lib/python37.zip',\n",
    " '/usr/local/anaconda3/lib/python3.7',\n",
    " '/usr/local/anaconda3/lib/python3.7/lib-dynload',\n",
    " '/usr/local/anaconda3/lib/python3.7/site-packages',\n",
    " '/usr/local/anaconda3/lib/python3.7/site-packages/aeosa',\n",
    " '/usr/local/', '/Users/ardhiraka/Desktop/H8Py']\n",
    "\n",
    "import mod"
   ]
  },
  {
   "cell_type": "markdown",
   "id": "cfce8b13",
   "metadata": {},
   "source": [
    "Setelah modul berhasil diimpor, kalian dapat menentukan lokasi di mana modul itu ditemukan dengan atribut file:"
   ]
  },
  {
   "cell_type": "code",
   "execution_count": null,
   "id": "0a310e09",
   "metadata": {},
   "outputs": [],
   "source": [
    ">>> import mod\n",
    ">>> mod.__file__\n",
    "'/Users/ardhiraka/Desktop/H8Py'\n",
    "\n",
    ">>> import re\n",
    ">>> re.__file__\n",
    "'/usr/local/anaconda3/lib/python3.7/re.py'"
   ]
  },
  {
   "cell_type": "code",
   "execution_count": 3,
   "id": "1e70e63a",
   "metadata": {},
   "outputs": [
    {
     "data": {
      "text/plain": [
       "'c:\\\\Program Data\\\\Anaconda3\\\\lib\\\\site-packages\\\\mod.py'"
      ]
     },
     "execution_count": 3,
     "metadata": {},
     "output_type": "execute_result"
    }
   ],
   "source": [
    "import mod\n",
    "mod.__file__"
   ]
  },
  {
   "cell_type": "code",
   "execution_count": 4,
   "id": "030a981e",
   "metadata": {},
   "outputs": [
    {
     "data": {
      "text/plain": [
       "'c:\\\\Program Data\\\\Anaconda3\\\\lib\\\\re.py'"
      ]
     },
     "execution_count": 4,
     "metadata": {},
     "output_type": "execute_result"
    }
   ],
   "source": [
    "import re\n",
    "re.__file__"
   ]
  },
  {
   "cell_type": "markdown",
   "id": "a9e136ea",
   "metadata": {},
   "source": [
    "### **THE IMPORT STATEMENT**\n",
    "Isi modul tersedia untuk pemanggil dengan import statement. Import statement memiliki banyak bentuk berbeda, seperti di bawah ini."
   ]
  },
  {
   "cell_type": "markdown",
   "id": "5ae3f3be",
   "metadata": {},
   "source": [
    "    import <module_name>\n",
    "\n",
    "Bentuk paling sederhana adalah yang sudah ditunjukkan di atas:\n",
    "\n",
    "    import <module_name>\n",
    "\n",
    "Dari pemanggil, objek dalam modul hanya dapat diakses jika diawali dengan <module_name> menggunakan notasi titik, seperti yang diilustrasikan di bawah."
   ]
  },
  {
   "cell_type": "code",
   "execution_count": 2,
   "id": "8f756462",
   "metadata": {},
   "outputs": [
    {
     "data": {
      "text/plain": [
       "<module 'mod' from 'c:\\\\Program Data\\\\Anaconda3\\\\lib\\\\site-packages\\\\mod.py'>"
      ]
     },
     "execution_count": 2,
     "metadata": {},
     "output_type": "execute_result"
    }
   ],
   "source": [
    "import mod\n",
    "mod"
   ]
  },
  {
   "cell_type": "markdown",
   "id": "2ad04f52",
   "metadata": {},
   "source": [
    "Tanpa notasi titik, s dan foo akan mengembalikan error."
   ]
  },
  {
   "cell_type": "code",
   "execution_count": null,
   "id": "d5f5120e",
   "metadata": {},
   "outputs": [],
   "source": [
    ">>> s\n",
    "NameError: name 's' is not defined\n",
    ">>> foo('quux')\n",
    "NameError: name 'foo' is not defined"
   ]
  },
  {
   "cell_type": "markdown",
   "id": "095087a3",
   "metadata": {},
   "source": [
    "Untuk diakses dalam konteks lokal, nama objek yang ditentukan dalam modul harus diawali dengan mod:"
   ]
  },
  {
   "cell_type": "code",
   "execution_count": null,
   "id": "e0eab112",
   "metadata": {},
   "outputs": [],
   "source": [
    ">>> mod.s\n",
    "'Hacktiv8-PTP Python For Data Science'\n",
    ">>> mod.foo('quux')\n",
    "arg = quux"
   ]
  },
  {
   "cell_type": "markdown",
   "id": "842d3d4e",
   "metadata": {},
   "source": [
    "Beberapa modul yang dipisahkan koma dapat dipanggil dalam single import statement:\n",
    "\n",
    ">import <module_name>[, <module_name> ...]\n",
    "\n",
    ">from <module_name> import <name(s)>\n",
    "\n",
    "Bentuk alternatif dari import statement memungkinkan objek individu dari modul untuk diimpor langsung ke tabel simbol pemanggil:\n",
    "\n",
    ">from <module_name> import <name(s)>\n",
    "\n",
    "Setelah menjalankan pernyataan di atas, <name(s)> dapat dirujuk di environment pemanggil tanpa awalan <module_name>:"
   ]
  },
  {
   "cell_type": "code",
   "execution_count": null,
   "id": "c83a506e",
   "metadata": {},
   "outputs": [],
   "source": [
    "\n",
    ">>> from mod import s, foo\n",
    ">>> s\n",
    "'Hacktiv8-PTP Python For Data Science'\n",
    ">>> foo('quux')\n",
    "arg = quux\n",
    "\n",
    ">>> from mod import Foo\n",
    ">>> x = Foo()\n",
    ">>> x\n",
    "<mod.Foo object at 0x02E3AD50>"
   ]
  },
  {
   "cell_type": "markdown",
   "id": "70c57306",
   "metadata": {},
   "source": [
    "Karena bentuk impor ini menempatkan nama objek langsung ke tabel simbol pemanggil, objek apa pun yang sudah ada dengan nama yang sama akan ditimpa:"
   ]
  },
  {
   "cell_type": "code",
   "execution_count": null,
   "id": "c3d7673e",
   "metadata": {},
   "outputs": [],
   "source": [
    "\n",
    ">>> a = ['foo', 'bar', 'baz']\n",
    ">>> a\n",
    "['foo', 'bar', 'baz']\n",
    "\n",
    ">>> from mod import a\n",
    ">>> a\n",
    "[100, 200, 300]"
   ]
  },
  {
   "cell_type": "code",
   "execution_count": 5,
   "id": "448d0db9",
   "metadata": {},
   "outputs": [
    {
     "data": {
      "text/plain": [
       "['foo', 'bar', 'baz']"
      ]
     },
     "execution_count": 5,
     "metadata": {},
     "output_type": "execute_result"
    }
   ],
   "source": [
    "a = ['foo', 'bar', 'baz']\n",
    "a"
   ]
  },
  {
   "cell_type": "markdown",
   "id": "a087b605",
   "metadata": {},
   "source": [
    "It is even possible to indiscriminately import everything from a module at one fell swoop:\n",
    "\n",
    "Bahkan memungkinan untuk mengimpor semuanya secara langsung dari modul dalam satu command:\n",
    "\n",
    ">from <module_name> import *\n",
    "\n",
    "Hal ini akan menempatkan nama semua objek dari <module_name> ke dalam tabel simbol lokal, dengan pengecualian yang dimulai dengan karakter garis bawah (_).\n",
    "\n",
    "Sebagai contoh:"
   ]
  },
  {
   "cell_type": "code",
   "execution_count": null,
   "id": "0a5fe687",
   "metadata": {},
   "outputs": [],
   "source": [
    ">>> from mod import *\n",
    ">>> s\n",
    "'Hacktiv8-PTP Python For Data Science'\n",
    ">>> a\n",
    "[100, 200, 300]\n",
    ">>> foo\n",
    "<function foo at 0x03B449C0>\n",
    ">>> Foo\n",
    "<class 'mod.Foo'>"
   ]
  },
  {
   "cell_type": "code",
   "execution_count": 14,
   "id": "9ae0fd60",
   "metadata": {},
   "outputs": [],
   "source": [
    "from mod import *"
   ]
  },
  {
   "cell_type": "code",
   "execution_count": 15,
   "id": "d3eba5d4",
   "metadata": {},
   "outputs": [
    {
     "data": {
      "text/plain": [
       "'Hacktiv8-PTP Python For Data Science'"
      ]
     },
     "execution_count": 15,
     "metadata": {},
     "output_type": "execute_result"
    }
   ],
   "source": [
    "s"
   ]
  },
  {
   "cell_type": "code",
   "execution_count": 16,
   "id": "bb0d1d53",
   "metadata": {},
   "outputs": [
    {
     "data": {
      "text/plain": [
       "[100, 200, 300]"
      ]
     },
     "execution_count": 16,
     "metadata": {},
     "output_type": "execute_result"
    }
   ],
   "source": [
    "a"
   ]
  },
  {
   "cell_type": "code",
   "execution_count": 17,
   "id": "f8a3146f",
   "metadata": {},
   "outputs": [
    {
     "data": {
      "text/plain": [
       "<function __main__.foo(arg)>"
      ]
     },
     "execution_count": 17,
     "metadata": {},
     "output_type": "execute_result"
    }
   ],
   "source": [
    "foo"
   ]
  },
  {
   "cell_type": "code",
   "execution_count": 18,
   "id": "e1b332d5",
   "metadata": {},
   "outputs": [
    {
     "data": {
      "text/plain": [
       "__main__.Foo"
      ]
     },
     "execution_count": 18,
     "metadata": {},
     "output_type": "execute_result"
    }
   ],
   "source": [
    "Foo"
   ]
  },
  {
   "cell_type": "markdown",
   "id": "a3a23070",
   "metadata": {},
   "source": [
    "Hni tidak selalu direkomendasikan dalam kode produksi skala besar. Dan sedikit berbahaya karena kalian memasukkan nama ke tabel simbol lokal secara massal. Kecuali jika kalian mengenal object kalian semua dengan baik dan yakin tidak akan ada konflik, kalian memiliki peluang yang cukup besar untuk menimpa nama yang sudah ada secara tidak sengaja. Namun, sintaksis ini cukup berguna ketika Anda hanya menggunakan interpreter interaktif, untuk tujuan pengujian atau discovery , karena sintaks ini dengan cepat memberi kalian akses ke semua yang ditawarkan modul tanpa banyak mengetik.\n",
    "\n",
    "> from <module_name> import <name> as <alt_name>\n",
    "\n",
    "Dimungkinkan juga untuk mengimpor objek individu tetapi memasukkannya ke dalam tabel simbol lokal dengan nama alternatif:\n",
    "\n",
    "> from <module_name> import <name> as <alt_name>[, <name> as <alt_name> …]\n",
    "\n",
    "Hal ini memungkinkan untuk menempatkan nama secara langsung ke tabel simbol lokal tetapi menghindari konflik dengan nama yang sudah ada sebelumnya:"
   ]
  },
  {
   "cell_type": "code",
   "execution_count": null,
   "id": "e257af99",
   "metadata": {},
   "outputs": [],
   "source": [
    ">>> s = 'foo'\n",
    ">>> a = ['foo', 'bar', 'baz']\n",
    "\n",
    ">>> from mod import s as string, a as alist\n",
    ">>> s\n",
    "'foo'\n",
    ">>> string\n",
    "'Hacktiv8-PTP Python For Data Science'\n",
    ">>> a\n",
    "['foo', 'bar', 'baz']\n",
    ">>> alist\n",
    "[100, 200, 300]"
   ]
  },
  {
   "cell_type": "code",
   "execution_count": 61,
   "id": "3916462f",
   "metadata": {},
   "outputs": [],
   "source": [
    "s = 'foo'\n",
    "a = ['foo', 'bar', 'baz']"
   ]
  },
  {
   "cell_type": "markdown",
   "id": "25a9982e",
   "metadata": {},
   "source": [
    "> import <module_name> as <alt_name>\n",
    "\n",
    "Kalian juga dapat mengimpor seluruh modul dengan nama alternatif:\n",
    "\n",
    "import <module_name> as <alt_name>"
   ]
  },
  {
   "cell_type": "code",
   "execution_count": null,
   "id": "612d64cb",
   "metadata": {},
   "outputs": [],
   "source": [
    ">>> import mod as my_module\n",
    ">>> my_module.a\n",
    "[100, 200, 300]\n",
    ">>> my_module.foo('qux')\n",
    "arg = qux"
   ]
  },
  {
   "cell_type": "markdown",
   "id": "befd554a",
   "metadata": {},
   "source": [
    "Isi modul dapat diimpor dari dalam definisi fungsi. Dalam hal ini, impor tidak akan terjadi hingga fungsinya dipanggil:"
   ]
  },
  {
   "cell_type": "code",
   "execution_count": null,
   "id": "c6409179",
   "metadata": {},
   "outputs": [],
   "source": [
    ">>> def bar():\n",
    "...     from mod import foo\n",
    "...     foo('corge')\n",
    "...\n",
    "\n",
    ">>> bar()\n",
    "arg = corge"
   ]
  },
  {
   "cell_type": "markdown",
   "id": "fa9c3d29",
   "metadata": {},
   "source": [
    "Namun, Python 3 tidak mengizinkan sintaks impor * secara sembarangan dari dalam suatu fungsi:"
   ]
  },
  {
   "cell_type": "code",
   "execution_count": null,
   "id": "65b7683d",
   "metadata": {},
   "outputs": [],
   "source": [
    ">>> def bar():\n",
    "...     from mod import *\n",
    "...\n",
    "SyntaxError: import * only allowed at module level"
   ]
  },
  {
   "cell_type": "markdown",
   "id": "efc7fcbf",
   "metadata": {},
   "source": [
    "Terakhir, try statement dengan klausa except ImportError dapat digunakan untuk melindungi dari upaya impor yang gagal:\n",
    "\n"
   ]
  },
  {
   "cell_type": "code",
   "execution_count": null,
   "id": "fbab6ed6",
   "metadata": {},
   "outputs": [],
   "source": [
    ">>> try:\n",
    "...     # Non-existent module\n",
    "...     import baz\n",
    "... except ImportError:\n",
    "...     print('Module not found')\n",
    "...\n",
    "\n",
    "Module not found\n",
    ">>> try:\n",
    "...     # Existing module, but non-existent object\n",
    "...     from mod import baz\n",
    "... except ImportError:\n",
    "...     print('Object not found in module')\n",
    "...\n",
    "\n",
    "Object not found in module"
   ]
  },
  {
   "cell_type": "markdown",
   "id": "2679d7ff",
   "metadata": {},
   "source": [
    "### **THE DIR() FUNCTION**\n",
    "Fungsi built-in dir() mengembalikan daftar nama yang ditentukan dalam namespace. Tanpa argumen, dir() menghasilkan daftar nama yang diurutkan menurut abjad dalam tabel simbol lokal saat ini:"
   ]
  },
  {
   "cell_type": "code",
   "execution_count": null,
   "id": "0ada44e4",
   "metadata": {},
   "outputs": [],
   "source": [
    ">>> dir()\n",
    "['__annotations__', '__builtins__', '__doc__', '__loader__', '__name__',\n",
    "'__package__', '__spec__']\n",
    "\n",
    ">>> qux = [1, 2, 3, 4, 5]\n",
    ">>> dir()\n",
    "['__annotations__', '__builtins__', '__doc__', '__loader__', '__name__',\n",
    "'__package__', '__spec__', 'qux']\n",
    "\n",
    ">>> class Bar():\n",
    "...     pass\n",
    "...\n",
    ">>> x = Bar()\n",
    ">>> dir()\n",
    "['Bar', '__annotations__', '__builtins__', '__doc__', '__loader__', '__name__',\n",
    "'__package__', '__spec__', 'qux', 'x']"
   ]
  },
  {
   "cell_type": "markdown",
   "id": "93b6fc75",
   "metadata": {},
   "source": [
    "Perhatikan bagaimana panggilan pertama ke dir() di atas mencantumkan beberapa nama yang ditentukan secara otomatis dan sudah ada di namespace saat penerjemah dimulai. Saat nama baru didefinisikan (qux, Bar, x), mereka muncul pada pemanggilan dir() berikutnya.\n",
    "\n",
    "Ini dapat berguna untuk mengidentifikasi apa yang sebenarnya telah ditambahkan ke namespace dengan import statement:"
   ]
  },
  {
   "cell_type": "code",
   "execution_count": null,
   "id": "d4d42717",
   "metadata": {},
   "outputs": [],
   "source": [
    ">>> dir()\n",
    "['__annotations__', '__builtins__', '__doc__', '__loader__', '__name__',\n",
    "'__package__', '__spec__']\n",
    "\n",
    ">>> import mod\n",
    ">>> dir()\n",
    "['__annotations__', '__builtins__', '__doc__', '__loader__', '__name__',\n",
    "'__package__', '__spec__', 'mod']\n",
    ">>> mod.s\n",
    "'Hacktiv8-PTP Python For Data Science'\n",
    ">>> mod.foo([1, 2, 3])\n",
    "arg = [1, 2, 3]\n",
    "\n",
    ">>> from mod import a, Foo\n",
    ">>> dir()\n",
    "['Foo', '__annotations__', '__builtins__', '__doc__', '__loader__', '__name__',\n",
    "'__package__', '__spec__', 'a', 'mod']\n",
    ">>> a\n",
    "[100, 200, 300]\n",
    ">>> x = Foo()\n",
    ">>> x\n",
    "<mod.Foo object at 0x002EAD50>\n",
    "\n",
    ">>> from mod import s as string\n",
    ">>> dir()\n",
    "['Foo', '__annotations__', '__builtins__', '__doc__', '__loader__', '__name__',\n",
    "'__package__', '__spec__', 'a', 'mod', 'string', 'x']\n",
    ">>> string\n",
    "'Hacktiv8-PTP Python For Data Science'"
   ]
  },
  {
   "cell_type": "markdown",
   "id": "16a8bc17",
   "metadata": {},
   "source": [
    "Ketika diberi argumen yaitu nama modul, dir() mencantumkan nama yang ditentukan dalam modul:"
   ]
  },
  {
   "cell_type": "code",
   "execution_count": null,
   "id": "6bb6b88e",
   "metadata": {},
   "outputs": [],
   "source": [
    ">>> import mod\n",
    ">>> dir(mod)\n",
    "['Foo', '__builtins__', '__cached__', '__doc__', '__file__', '__loader__',\n",
    "'__name__', '__package__', '__spec__', 'a', 'foo', 's']\n",
    ">>> dir()\n",
    "['__annotations__', '__builtins__', '__doc__', '__loader__', '__name__',\n",
    "'__package__', '__spec__']\n",
    ">>> from mod import *\n",
    ">>> dir()\n",
    "['Foo', '__annotations__', '__builtins__', '__doc__', '__loader__', '__name__',\n",
    "'__package__', '__spec__', 'a', 'foo', 's']"
   ]
  },
  {
   "cell_type": "markdown",
   "id": "fc2985b5",
   "metadata": {},
   "source": [
    "### **EXECUTING A MODULE AS A SCRIPT**\n",
    "File .py apa pun yang berisi modul pada dasarnya juga merupakan skrip Python, dan dapat dijalankan."
   ]
  },
  {
   "cell_type": "markdown",
   "id": "04c22113",
   "metadata": {},
   "source": [
    "Di sini sekali lagi adalah mod.py seperti yang didefinisikan di atas:\n",
    "\n",
    "mod.py"
   ]
  },
  {
   "cell_type": "code",
   "execution_count": 6,
   "id": "adb602ef",
   "metadata": {},
   "outputs": [],
   "source": [
    "s = \"Hacktiv8-PTP Python For Data Science\"\n",
    "a = [100, 200, 300]\n",
    "\n",
    "def foo(arg):\n",
    "    print(f'arg = {arg}')\n",
    "\n",
    "class Foo:\n",
    "    pass"
   ]
  },
  {
   "cell_type": "markdown",
   "id": "d8e8ac7b",
   "metadata": {},
   "source": [
    "Dapat dijalankan sebagai skrip:"
   ]
  },
  {
   "cell_type": "code",
   "execution_count": null,
   "id": "e095e73c",
   "metadata": {},
   "outputs": [],
   "source": [
    "(base) ardhiraka@rakas-Macbook-Very-Pro ~ %python mod.py\n",
    "(base) ardhiraka@rakas-Macbook-Very-Pro ~ %"
   ]
  },
  {
   "cell_type": "markdown",
   "id": "68949086",
   "metadata": {},
   "source": [
    "Tidak ada errors, namun module tidak melakukan apa-apa, dan tidak menghasilkan keluaran apa pun.\n",
    "\n",
    "Mari kita ubah modul Python di atas sehingga menghasilkan beberapa keluaran saat dijalankan sebagai skrip:\n",
    "\n",
    "mod.py"
   ]
  },
  {
   "cell_type": "code",
   "execution_count": null,
   "id": "63b941fb",
   "metadata": {},
   "outputs": [],
   "source": [
    "s = \"Hacktiv8-PTP Python For Data Science\"\n",
    "a = [100, 200, 300]\n",
    "\n",
    "def foo(arg):\n",
    "    print(f'arg = {arg}')\n",
    "\n",
    "class Foo:\n",
    "    pass\n",
    "\n",
    "print(s)\n",
    "print(a)\n",
    "foo('quux')\n",
    "x = Foo()\n",
    "print(x)"
   ]
  },
  {
   "cell_type": "markdown",
   "id": "71159ea2",
   "metadata": {},
   "source": [
    "Sekarang seharusnya sedikit lebih menarik:"
   ]
  },
  {
   "cell_type": "code",
   "execution_count": null,
   "id": "30ea0eea",
   "metadata": {},
   "outputs": [],
   "source": [
    "(base) ardhiraka@rakas-Macbook-Very-Pro ~ % mod.py\n",
    "Hacktiv8-PTP Python For Data Science\n",
    "[100, 200, 300]\n",
    "arg = quux\n",
    "<__main__.Foo object at 0x02F101D0>"
   ]
  },
  {
   "cell_type": "markdown",
   "id": "11fd62bf",
   "metadata": {},
   "source": [
    "Sayangnya, sekarang modul tersebut juga menghasilkan keluaran saat diimpor sebagai modul:"
   ]
  },
  {
   "cell_type": "code",
   "execution_count": null,
   "id": "84f8b09e",
   "metadata": {},
   "outputs": [],
   "source": [
    ">>> import mod\n",
    "Hacktiv8-PTP Python For Data Science\n",
    "[100, 200, 300]\n",
    "arg = quux\n",
    "<mod.Foo object at 0x0169AD50>"
   ]
  },
  {
   "cell_type": "markdown",
   "id": "5446f5e2",
   "metadata": {},
   "source": [
    "Ini mungkin bukan yang kalian inginkan. Tidak biasanya modul menghasilkan keluaran saat diimpor.\n",
    "\n",
    "Bukankah lebih baik jika kalian dapat membedakan antara saat file dimuat sebagai modul dan saat dijalankan sebagai skrip standalone?\n",
    "\n",
    "Ketika file .py diimpor sebagai modul, Python menetapkan nama variabel khusus ke nama modul. Namun, jika file dijalankan sebagai skrip standalone, namanya disetel ke string 'main'. Dengan ini, kalian dapat membedakan mana yang terjadi pada waktu proses dan mengubahnya dengan perilaku yang sesuai:\n",
    "\n",
    "mod.py"
   ]
  },
  {
   "cell_type": "code",
   "execution_count": null,
   "id": "ecc7d3e3",
   "metadata": {},
   "outputs": [],
   "source": [
    "s = \"Hacktiv8-PTP Python For Data Science\"\n",
    "a = [100, 200, 300]\n",
    "\n",
    "def foo(arg):\n",
    "    print(f'arg = {arg}')\n",
    "\n",
    "class Foo:\n",
    "    pass\n",
    "\n",
    "if (__name__ == '__main__'):\n",
    "    print('Executing as standalone script')\n",
    "    print(s)\n",
    "    print(a)\n",
    "    foo('quux')\n",
    "    x = Foo()\n",
    "    print(x)"
   ]
  },
  {
   "cell_type": "markdown",
   "id": "768b30d2",
   "metadata": {},
   "source": [
    "Sekarang, jika kalian menjalankannya sebagai skrip, kalian mendapatkan keluaran:"
   ]
  },
  {
   "cell_type": "code",
   "execution_count": null,
   "id": "635ce893",
   "metadata": {},
   "outputs": [],
   "source": [
    "(base) ardhiraka@rakas-Macbook-Very-Pro ~ % python mod.py\n",
    "Executing as standalone script\n",
    "Hacktiv8-PTP Python For Data Science\n",
    "[100, 200, 300]\n",
    "arg = quux\n",
    "<__main__.Foo object at 0x03450690>"
   ]
  },
  {
   "cell_type": "markdown",
   "id": "b77db3b5",
   "metadata": {},
   "source": [
    "Tetapi jika kalian mengimpor sebagai modul, kalian tidak mendapatkan keluaran:"
   ]
  },
  {
   "cell_type": "code",
   "execution_count": null,
   "id": "41139350",
   "metadata": {},
   "outputs": [],
   "source": [
    ">>> import mod\n",
    ">>> mod.foo('grault')\n",
    "arg = grault"
   ]
  },
  {
   "cell_type": "markdown",
   "id": "25e1aa29",
   "metadata": {},
   "source": [
    "Modul sering kali dirancang dengan kemampuan untuk dijalankan sebagai skrip standalone untuk tujuan testing fungsionalitas yang terdapat dalam modul. Hal ini disebut sebagai unit testing. Misalnya, kalian telah membuat modul fact.py berisi factorial function, sebagai berikut:\n",
    "\n",
    "fact.py"
   ]
  },
  {
   "cell_type": "code",
   "execution_count": null,
   "id": "e7b92567",
   "metadata": {},
   "outputs": [],
   "source": [
    "def fact(n):\n",
    "    return 1 if n == 1 else n * fact(n-1)\n",
    "\n",
    "if (__name__ == '__main__'):\n",
    "    import sys\n",
    "    if len(sys.argv) > 1:\n",
    "        print(fact(int(sys.argv[1])))"
   ]
  },
  {
   "cell_type": "markdown",
   "id": "1a95b97d",
   "metadata": {},
   "source": [
    "File dapat diperlakukan sebagai modul, dan fungsi fact() dapat diimpor:"
   ]
  },
  {
   "cell_type": "code",
   "execution_count": null,
   "id": "65080f7f",
   "metadata": {},
   "outputs": [],
   "source": [
    ">>> from fact import fact\n",
    ">>> fact(6)\n",
    "720"
   ]
  },
  {
   "cell_type": "markdown",
   "id": "a104bb39",
   "metadata": {},
   "source": [
    "Tapi modul tersebut juga bisa dijalankan sebagai standalone dengan meneruskan argumen integer pada baris command-line untuk pengujian:"
   ]
  },
  {
   "cell_type": "code",
   "execution_count": null,
   "id": "85267e23",
   "metadata": {},
   "outputs": [],
   "source": [
    "(base) ardhiraka@rakas-Macbook-Very-Pro ~ % python fact.py 6\n",
    "720"
   ]
  },
  {
   "cell_type": "markdown",
   "id": "e6d5fbaa",
   "metadata": {},
   "source": [
    "### **RELOADING A MODULE**\n",
    "Untuk alasan efisiensi, modul hanya dimuat sekali per sesi interpreter. Tidak masalah untuk definisi fungsi dan kelas, yang biasanya merupakan bagian terbesar dari konten modul. Tapi modul juga bisa berisi pernyataan yang dapat dieksekusi, biasanya untuk inisialisasi. Perhatikan bahwa statements hanya akan dijalankan saat pertama kali modul diimpor."
   ]
  },
  {
   "cell_type": "markdown",
   "id": "9508c634",
   "metadata": {},
   "source": [
    "Perhatikan file mod.py:\n",
    "\n",
    "mod.py"
   ]
  },
  {
   "cell_type": "code",
   "execution_count": 27,
   "id": "e19ab2ec",
   "metadata": {},
   "outputs": [
    {
     "name": "stdout",
     "output_type": "stream",
     "text": [
      "a = [100, 200, 300]\n"
     ]
    }
   ],
   "source": [
    "a = [100, 200, 300]\n",
    "print('a =', a)"
   ]
  },
  {
   "cell_type": "code",
   "execution_count": null,
   "id": "5f1c9021",
   "metadata": {},
   "outputs": [],
   "source": [
    ">>> import mod\n",
    "a = [100, 200, 300]\n",
    ">>> import mod\n",
    ">>> import mod\n",
    "\n",
    ">>> mod.a\n",
    "[100, 200, 300]"
   ]
  },
  {
   "cell_type": "markdown",
   "id": "24d0d680",
   "metadata": {},
   "source": [
    "Jika kalian membuat perubahan pada modul dan perlu memuatnya kembali, kalian perlu memulai ulang interpreter atau menggunakan fungsi yang disebut reload() dari modul importlib:"
   ]
  },
  {
   "cell_type": "code",
   "execution_count": null,
   "id": "aff406fa",
   "metadata": {},
   "outputs": [],
   "source": [
    ">>> import mod\n",
    "a = [100, 200, 300]\n",
    "\n",
    ">>> import mod\n",
    "\n",
    ">>> import importlib\n",
    ">>> importlib.reload(mod)\n",
    "a = [100, 200, 300]\n",
    "<module 'mod' from '/Users/ardhiraka/Desktop/H8Py'>"
   ]
  },
  {
   "cell_type": "markdown",
   "id": "82d75b1e",
   "metadata": {},
   "source": [
    "## **PYTHON PACKAGES**\n",
    "---\n",
    "Misalkan kalian mengembangkan aplikasi yang sangat besar yang mencakup banyak modul. Seiring bertambahnya jumlah modul, akan sulit untuk melacak semuanya jika dimasukan ke satu lokasi. Ini terjadi jika mereka memiliki nama atau fungsi yang mirip. Kalian mungkin harus mencari cara untuk mengelompokkan dan mengaturnya."
   ]
  },
  {
   "cell_type": "markdown",
   "id": "e2b5d201",
   "metadata": {},
   "source": [
    "Packages memungkinkan penataan hierarki nama modul menggunakan notasi titik. Dengan cara yang sama seperti modul membantu menghindari tabrakan antara nama variabel global, packages membantu menghindari tabrakan antara nama modul.\n",
    "\n",
    "Membuat package cukup mudah, karena menggunakan struktur file hierarki yang sama pada sistem operasi. Lihat pengaturan berikut:"
   ]
  },
  {
   "cell_type": "markdown",
   "id": "ef29766a",
   "metadata": {},
   "source": [
    "![alt text](https://files.realpython.com/media/pkg1.9af1c7aea48f.png?width=1920&dpr=2)"
   ]
  },
  {
   "cell_type": "markdown",
   "id": "b8a61800",
   "metadata": {},
   "source": [
    "Di sini, ada direktori bernama pkg yang berisi dua modul, mod1.py dan mod2.py. Isi dari modul tersebut adalah:\n",
    "\n",
    "mod1.py"
   ]
  },
  {
   "cell_type": "code",
   "execution_count": 1,
   "id": "de42356d",
   "metadata": {},
   "outputs": [],
   "source": [
    "def foo():\n",
    "    print('[mod1] foo()')\n",
    "\n",
    "class Foo:\n",
    "    pass"
   ]
  },
  {
   "cell_type": "markdown",
   "id": "38ced597",
   "metadata": {},
   "source": [
    "mod2.py"
   ]
  },
  {
   "cell_type": "code",
   "execution_count": 2,
   "id": "b529d446",
   "metadata": {},
   "outputs": [],
   "source": [
    "\n",
    "def bar():\n",
    "    print('[mod2] bar()')\n",
    "\n",
    "class Bar:\n",
    "    pass"
   ]
  },
  {
   "cell_type": "markdown",
   "id": "2297f36a",
   "metadata": {},
   "source": [
    "Dengan struktur ini, jika direktori pkg berada di lokasi di mana ia dapat ditemukan (di salah satu direktori yang terdapat dalam sys.path), kalian dapat merujuk ke dua modul dengan notasi titik (pkg.mod1, pkg.mod2) dan impor dengan sintaks yang sudah kalian pelajari:\n",
    "\n",
    "    import <module_name>[, <module_name> ...]"
   ]
  },
  {
   "cell_type": "code",
   "execution_count": null,
   "id": "f5a64a1f",
   "metadata": {},
   "outputs": [],
   "source": [
    ">>> import pkg.mod1, pkg.mod2\n",
    ">>> pkg.mod1.foo()\n",
    "[mod1] foo()\n",
    ">>> x = pkg.mod2.Bar()\n",
    ">>> x\n",
    "<pkg.mod2.Bar object at 0x033F7290>"
   ]
  },
  {
   "cell_type": "markdown",
   "id": "3a134d80",
   "metadata": {},
   "source": [
    "    from <module_name> import <name(s)>"
   ]
  },
  {
   "cell_type": "code",
   "execution_count": null,
   "id": "712879a5",
   "metadata": {},
   "outputs": [],
   "source": [
    ">>> from pkg.mod1 import foo\n",
    ">>> foo()\n",
    "[mod1] foo()"
   ]
  },
  {
   "cell_type": "markdown",
   "id": "7ac5d6ff",
   "metadata": {},
   "source": [
    "    from <module_name> import <name> as <alt_name>"
   ]
  },
  {
   "cell_type": "code",
   "execution_count": null,
   "id": "02ebe57c",
   "metadata": {},
   "outputs": [],
   "source": [
    ">>> from pkg.mod2 import Bar as Qux\n",
    ">>> x = Qux()\n",
    ">>> x\n",
    "<pkg.mod2.Bar object at 0x036DFFD0>"
   ]
  },
  {
   "cell_type": "markdown",
   "id": "fe6060e7",
   "metadata": {},
   "source": [
    "Kalian juga dapat mengimpor modul dengan pernyataan ini:"
   ]
  },
  {
   "cell_type": "code",
   "execution_count": null,
   "id": "c6c9f471",
   "metadata": {},
   "outputs": [],
   "source": [
    "from <package_name> import <modules_name>[, <module_name> ...]\n",
    "from <package_name> import <module_name> as <alt_name>"
   ]
  },
  {
   "cell_type": "code",
   "execution_count": null,
   "id": "f355c4d1",
   "metadata": {},
   "outputs": [],
   "source": [
    ">>> from pkg import mod1\n",
    ">>> mod1.foo()\n",
    "[mod1] foo()\n",
    "\n",
    ">>> from pkg import mod2 as quux\n",
    ">>> quux.bar()\n",
    "[mod2] bar()"
   ]
  },
  {
   "cell_type": "markdown",
   "id": "edf8d981",
   "metadata": {},
   "source": [
    "Secara teknis kalianjuga dapat mengimpor package:"
   ]
  },
  {
   "cell_type": "code",
   "execution_count": null,
   "id": "9e676df7",
   "metadata": {},
   "outputs": [],
   "source": [
    ">>> import pkg\n",
    ">>> pkg\n",
    "<module 'pkg' (namespace)>"
   ]
  },
  {
   "cell_type": "code",
   "execution_count": null,
   "id": "cc98fb8e",
   "metadata": {},
   "outputs": [],
   "source": [
    ">>> pkg.mod1\n",
    "Traceback (most recent call last):\n",
    "  File \"<pyshell#34>\", line 1, in <module>\n",
    "    pkg.mod1\n",
    "AttributeError: module 'pkg' has no attribute 'mod1'\n",
    ">>> pkg.mod1.foo()\n",
    "Traceback (most recent call last):\n",
    "  File \"<pyshell#35>\", line 1, in <module>\n",
    "    pkg.mod1.foo()\n",
    "AttributeError: module 'pkg' has no attribute 'mod1'\n",
    ">>> pkg.mod2.Bar()\n",
    "Traceback (most recent call last):\n",
    "  File \"<pyshell#36>\", line 1, in <module>\n",
    "    pkg.mod2.Bar()\n",
    "AttributeError: module 'pkg' has no attribute 'mod2'\n",
    "To actually import the modules or their contents, you need to use one of the forms shown above."
   ]
  },
  {
   "cell_type": "markdown",
   "id": "6a09889b",
   "metadata": {},
   "source": [
    "## **PIP**\n",
    "---\n",
    "Jadi, apa itu pip? pip adalah package manager untuk Python. Artinya, pip adalah alat yang memungkinkan kalian menginstal dan mengelola library dan dependensi tambahan yang tidak didistribusikan sebagai bagian dari library standar."
   ]
  },
  {
   "cell_type": "markdown",
   "id": "b6c181c9",
   "metadata": {},
   "source": [
    "Konsep manajer paket mungkin tidak asing bagi kalian jika kalian berasal dari bahasa lain. JavaScript menggunakan npm untuk package management, Ruby menggunakan gem, dan .NET menggunakan NuGet. Di Python, pip telah menjadi package manager standar.\n",
    "\n",
    "Kalian dapat memverifikasi bahwa pip tersedia dengan menjalankan perintah berikut di konsol kalian:"
   ]
  },
  {
   "cell_type": "code",
   "execution_count": null,
   "id": "45d99ef9",
   "metadata": {},
   "outputs": [],
   "source": [
    "$ pip --version\n",
    "\n",
    "pip 20.2.3 from /Library/Frameworks/Python.framework/Versions/3.8/lib/python3.8/site-packages/pip (python 3.8)"
   ]
  },
  {
   "cell_type": "markdown",
   "id": "837a3328",
   "metadata": {},
   "source": [
    "Kalian akan melihat keluaran serupa yang menampilkan versi pip, serta lokasi dan versi Python. Jika kalian menggunakan Python versi lama yang tidak menyertakan pip, kalian dapat menginstalnya dengan mengikuti petunjuk untuk sistem kalian di dokumentasi instalasi pip."
   ]
  },
  {
   "cell_type": "markdown",
   "id": "c86bad41",
   "metadata": {},
   "source": [
    "### **BASIC PACKAGE INSTALLATION**\n",
    "PyPI menghosting pustaka yang sangat populer untuk melakukan HTTP requests yang disebut requests. kalian dapat mempelajari semua tentang request di situs dokumentasi resminya."
   ]
  },
  {
   "cell_type": "markdown",
   "id": "bf3f25d7",
   "metadata": {},
   "source": [
    "Langkah pertama adalah menginstalrequests package ke environment kalian. kaliandapat mempelajari tentang perintah yang didukung pip dengan menjalankan help:\n",
    "\n",
    ">pip help\n",
    "\n",
    "Seperti yang kalian lihat, pip menyediakan perintah install untuk menginstal paket. Kalian dapat menjalankannya untuk menginstal requests package:\n",
    "\n",
    ">pip install requests\n",
    "\n",
    "Kalian menggunakan pip dengan perintah install diikuti dengan nama paket yang ingin kalian instal. pip mencari package di PyPI, menghitung dependensinya, dan menginstalnya untuk memastikan requests akan berfungsi.\n",
    "\n",
    "Perintah untuk memperbaharui pip:\n",
    "\n",
    ">python -m pip install --upgrade pip\n",
    "\n",
    "Perhatikan bahwa kalian menggunakan python -m untuk memperbarui pip. -m memberi tahu Python untuk menjalankan modul sebagai executable. Hal ini diperlukan agar kalian dapat memperbarui pip, versi lama harus dicopot sebelum menginstal versi baru.\n",
    "\n",
    "Saat kalian menjalankan pip sebagai modul, Python memuat modul dalam memori dan mengizinkan package dihapus saat sedang digunakan. Kalian dapat menjalankan package seolah-olah itu adalah skrip jika package menyediakan top-level script main.py.\n",
    "\n",
    "Sekarang kalian telah menginstal request dan mengupgrade pip, kalian dapat menggunakan perintah list untuk melihat packages yang diinstal di environment kalian:\n",
    "\n",
    ">pip list\n",
    "\n",
    "Perintah pip install <package> selalu mencari versi terbaru dari package dan menginstalnya. Ia juga mencari dependensi yang terdaftar dalam metadata package dan menginstal dependensi tersebut untuk memastikan bahwa package tersebut memiliki semua persyaratan yang dibutuhkannya.\n",
    "\n",
    "Seperti yang kalian lihat, beberapa package telah diinstal. Kalian dapat melihat metadata package dengan menggunakan perintah show di pip:\n",
    "\n",
    ">pip show requests\n",
    "\n",
    "Metadata mencantumkan certifi, chardet, idna, dan urllib3 sebagai dependensi, dan kalian dapat melihat package tersebut juga diinstal.\n",
    "\n",
    "Dengan requests package terinstal, kalian dapat mengubah contoh di atas dan melihat betapa mudahnya mengambil konten halaman web:"
   ]
  },
  {
   "cell_type": "code",
   "execution_count": null,
   "id": "59033a98",
   "metadata": {},
   "outputs": [],
   "source": [
    "# In using-requests.py\n",
    "\n",
    "import requests\n",
    "\n",
    "url = 'https://www.google.com'\n",
    "response = requests.get(url)\n",
    "print(f'Response returned: {response.status_code}, {response.reason}')\n",
    "print(response.text)"
   ]
  },
  {
   "cell_type": "markdown",
   "id": "e3d717bc",
   "metadata": {},
   "source": [
    "Anda dapat mengimpor requests package sebagai paket standar karena sekarang package tersebut sudah diinstal di environment kalian.\n",
    "\n",
    "Seperti yang kalian lihat, requests.get() menangani koneksi HTTP untuk kalian dan mengembalikan objek respons yang mirip dengan contoh asli tetapi dengan beberapa peningkatan antarmuka."
   ]
  },
  {
   "cell_type": "markdown",
   "id": "44fc676b",
   "metadata": {},
   "source": [
    "### **USING REQUIREMENT FILES**\n",
    "Perintah pip install selalu menginstal versi terbaru dari sebuah paket, tetapi terkadang, kalian mungkin ingin menginstal versi tertentu yang kalian tahu berfungsi dengan kode kalian."
   ]
  },
  {
   "cell_type": "markdown",
   "id": "f5f0e819",
   "metadata": {},
   "source": [
    "Kalian harus membuat spesifikasi dependensi dan versi yang kalian gunakan untuk mengembangkan dan menguji aplikasi kalian, jadi tidak ada masalah ketika kalian menggunakan aplikasi dalam produksi.\n",
    "\n",
    "Requirement files memungkinkan kalian menentukan dengan tepat paket dan versi mana yang harus diinstal. Menjalankan pip help menunjukkan bahwa ada freeze command yang mengeluarkan paket yang diinstal dalam format requirements. Kalian dapat menggunakan perintah ini, mengarahkan output ke file untuk menghasilkan requirements file:"
   ]
  },
  {
   "cell_type": "code",
   "execution_count": null,
   "id": "a8084f2d",
   "metadata": {},
   "outputs": [],
   "source": [
    "pip freeze > requirements.txt\n",
    "cat requirements.txt"
   ]
  },
  {
   "cell_type": "markdown",
   "id": "5a551ef3",
   "metadata": {},
   "source": [
    "Perintah freeze membuang semua paket dan versinya ke output standar, sehingga kalian dapat mengarahkan output ke file yang dapat digunakan untuk menginstal persyaratan yang tepat ke sistem lain. Ketentuannya adalah menamai file ini Requirement.txt, tetapi kalian dapat memberikannya nama apa pun yang kalian inginkan.\n",
    "\n",
    "Saat kalian ingin mereplikasi environment di sistem lain, kalian dapat menjalankan pip install dengan menentukan requirements file menggunakan -r:\n",
    "\n",
    ">pip install -r requirements.txt\n",
    "\n",
    "Versi paket akan cocok dengan yang tercantum di requirement.txt:\n",
    "\n",
    ">pip list\n",
    "\n",
    "Kalian dapat mengirimkan file requirement.txt ke source control dan menggunakannya untuk membuat environment yang tepat di komputer lain."
   ]
  },
  {
   "cell_type": "markdown",
   "id": "be10db96",
   "metadata": {},
   "source": [
    "### **FINDING PACKAGES TO USE**\n",
    "Akan ada saat-saat ketika kalian perlu memecahkan masalah yang berbeda, dan kalian akan ingin mencari alat atau pustaka lain yang dapat membantu kalian . "
   ]
  },
  {
   "cell_type": "markdown",
   "id": "65d853a0",
   "metadata": {},
   "source": [
    "Seperti yang kalian lihat di atas, pip help menunjukkan bahwa ada perintah pencarian yang mencari paket yang dipublikasikan ke PyPI.\n",
    "\n",
    ">pip help search\n",
    "\n",
    "    Perintah mengambil satu set opsi yang tercantum di atas dan <query>. Kueri hanya lah string untuk dicari dan akan cocok dengan paket dan deskripsinya.\n",
    "\n",
    "Misalkan aplikasi kalian perlu mengakses layanan yang menggunakan OAuth2 untuk otorisasi. Idealnya, ada perpustakaan yang bekerja dengan requests atau dengan antarmuka serupa yang dapat membantu kita. Mari kita telusuri PyPI menggunakan pip:\n",
    "\n",
    ">pip search requests oauth\n",
    "\n",
    "Pencarian untuk istilah yang sama di PyPI menghasilkan banyak hasil, tetapi kalian dapat memfilternya berdasarkan kategori yang berbeda.\n",
    "\n",
    "Misalnya, kalian dapat memilih Pengembang. Selain itu, kalian mungkin menginginkan paket yang stabil dan siap produksi. kalian dapat memperluas kategori Status Pengembangan dan memilih Produksi / Stabil:"
   ]
  },
  {
   "cell_type": "markdown",
   "id": "6ab574dd",
   "metadata": {},
   "source": [
    "![alt text](https://files.realpython.com/media/search_results.1151d72a4b9b.png?width=1920&dpr=2)"
   ]
  },
  {
   "cell_type": "markdown",
   "id": "7d8090c7",
   "metadata": {},
   "source": [
    "![alt text](https://files.realpython.com/media/request_oauth_page.a5c341a27a69.png?width=1920&dpr=2)"
   ]
  },
  {
   "cell_type": "markdown",
   "id": "4bcee05b",
   "metadata": {},
   "source": [
    "### **UNINSTALLING PACKAGES**"
   ]
  },
  {
   "cell_type": "markdown",
   "id": "1d0bb8ee",
   "metadata": {},
   "source": [
    "Sebelum kalian menghapus paket, pastikan kalian menjalankan perintah show untuk package tersebut:\n",
    "\n",
    ">pip show requests\n",
    "\n",
    "Perhatikan dua kolom terakhir Requires dan Required-by. Perintah show memberi tahu kita bahwa requests membutuhkan urllib3, certifi, chardet, dan idna. Kalian mungkin ingin menghapus keduanya. Kalian juga dapat melihat bahwa requests tidak diperlukan oleh paket lain, jadi aman untuk menghapusnya.\n",
    "\n",
    "Kalian harus menjalankan perintah show terhadap semua dependensi permintaan untuk memastikan tidak ada library lain yang juga bergantung padanya. Setelah kalian memahami urutan ketergantungan paket yang ingin kalian copot pemasangannya, kalian dapat menghapusnya menggunakan perintah uninstall:\n",
    "\n",
    ">pip uninstall certifi\n",
    "\n",
    "Menghapus instalan paket menunjukkan kepada kalian file yang akan dihapus dan akan meminta konfirmasi. Jika kalian yakin ingin menghapus paket karena kalian telah memeriksa dependensinya dan mengetahui bahwa tidak ada orang lain yang menggunakannya, kalian dapat meneruskan -y untuk menyembunyikan daftar file dan konfirmasi:\n",
    "\n",
    ">pip uninstall urllib3 -y"
   ]
  }
 ],
 "metadata": {
  "kernelspec": {
   "display_name": "Python 3.9.13 ('base')",
   "language": "python",
   "name": "python3"
  },
  "language_info": {
   "codemirror_mode": {
    "name": "ipython",
    "version": 3
   },
   "file_extension": ".py",
   "mimetype": "text/x-python",
   "name": "python",
   "nbconvert_exporter": "python",
   "pygments_lexer": "ipython3",
   "version": "3.9.13"
  },
  "vscode": {
   "interpreter": {
    "hash": "d59d52ade43162edbb467d9616250e95ae2e9434d6e1253c0b5377c88ad3f9d9"
   }
  }
 },
 "nbformat": 4,
 "nbformat_minor": 5
}
