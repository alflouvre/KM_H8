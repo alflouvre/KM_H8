{
 "cells": [
  {
   "cell_type": "markdown",
   "id": "be71c94d",
   "metadata": {},
   "source": [
    "<img src=\"https://i.pinimg.com/564x/aa/55/41/aa5541d265687d1fb50d15e6088013d6.jpg\" width=\"1200\" height=\"150\" align=\"center\">"
   ]
  },
  {
   "cell_type": "markdown",
   "id": "b8943e60",
   "metadata": {},
   "source": [
    "# **SESI 4** // *Numpy*\n",
    "---"
   ]
  },
  {
   "cell_type": "markdown",
   "id": "39071c8d",
   "metadata": {},
   "source": [
    "\n",
    "    Numpy Intro \n",
    "    How to import NumPy\n",
    "    Why use NumPy?\n",
    "    Terminology\n",
    "    What is an array?\n",
    "    What are the attributes of an array?\n",
    "    What’s the difference between a Python list and a NumPy array?\n",
    "    \n",
    "         1. NumPy Initialization \n",
    "         2. Creating Ndarrays in NumPy\n",
    "         3. Add, Remove, and Sort\n",
    "         4. Multi-Dimensional Arrays\n",
    "         5. ndim , shape and size\n",
    "         6. Sorting Array\n",
    "         7. Reshape\n",
    "         8. Convert 1D to 2D\n",
    "         9. Indexing and Slicing\n",
    "         10. Creating Array from Existing Data  \n",
    "         11. Copying\n",
    "         12. Basic array Operation\n",
    "         13. Broadcasting \n",
    "         14. More Array Operations\n",
    "         15. Save Array into file\n",
    "         16. Latihan Studi Kasus\n",
    "         17. Matrices \n",
    "               Create Matrices \n",
    "               Matrix Aritmetic \n",
    "               Dot Product \n",
    "               Matrix Indexing \n",
    "               Matrix Aggregation \n",
    "               Transposing and Reshaping \n",
    "               N-Dimensional Array \n",
    "               Flatten N-Dimensional Array \n",
    "         Working with math Formulas \n",
    "         \n",
    " \n",
    " Absen : \n",
    "       \n",
    "       \n",
    "       "
   ]
  },
  {
   "cell_type": "markdown",
   "id": "25a14f1d",
   "metadata": {},
   "source": [
    "## **NUMPY INTRODUCTION**\n",
    "---\n",
    ">NumPy (Python Numerik) adalah ekstensi open source dari Python Numerical komputasi. "
   ]
  },
  {
   "cell_type": "markdown",
   "id": "5075fc62",
   "metadata": {},
   "source": [
    "    NumPy (Python Numerik) adalah ekstensi open source dari Python Numerical komputasi. \n",
    "    Alat ini dapat digunakan untuk menyimpan dan memproses matriks besar. \n",
    "    Numpy jauh lebih efisien daripada struktur nested list Python sendiri. \n",
    "    Ini mendukung operasi array dan matriks beberapa dimensi. \n",
    "    Selain itu juga menyediakan sejumlah besar perpustakaan matematika untuk operasi array \n",
    "    Dan digunakan di hampir setiap bidang sains dan teknik. \n",
    "    \n",
    "    NumPy dari tahun 2005 dan membentuk semacam kode sumber terbuka dan dipelihara \n",
    "    dan dikembangkan oleh banyak kolaborator bersama-sama.\n",
    "\n",
    "    NumPy API digunakan secara luas di Pandas, SciPy, Matplotlib, scikit-learn, scikit-image \n",
    "    dan sebagian besar paket ilmu data dan Python ilmiah lainnya.\n",
    "\n",
    "    Pustaka NumPy berisi array multidimensi dan struktur data matriks (Anda akan menemukan informasi lebih \n",
    "    lanjut tentang ini di bagian selanjutnya). Ini menyediakan ndarray, objek array n-dimensi homogen, \n",
    "    dengan metode untuk beroperasi secara efisien di atasnya. NumPy dapat digunakan untuk melakukan \n",
    "    berbagai macam operasi matematika pada array. Itu menambahkan struktur data yang kuat ke Python \n",
    "    yang menjamin perhitungan yang efisien dengan array dan matriks dan itu memasok perpustakaan \n",
    "    besar fungsi matematika tingkat tinggi yang beroperasi pada array dan matriks ini."
   ]
  },
  {
   "cell_type": "markdown",
   "id": "06af2ccb",
   "metadata": {},
   "source": [
    "\n",
    "<img src=\"https://i.ibb.co/HK3pbdm/numpy-base.webp\" align=\"center\">\n",
    "\n",
    "<br>\n",
    "\n",
    "sumber : Harris, C.R., Millman, K.J., van der Walt, S.J. et al. Array programming with NumPy. Nature 585, 357–362 (2020). https://doi.org/10.1038/s41586-020-2649-2 \n"
   ]
  },
  {
   "cell_type": "markdown",
   "id": "57c195bd",
   "metadata": {},
   "source": []
  },
  {
   "cell_type": "markdown",
   "id": "610279fd",
   "metadata": {},
   "source": [
    "### **Installing NumPy**\n",
    ">If you already have Python, you can install NumPy with:"
   ]
  },
  {
   "cell_type": "markdown",
   "id": "f9d61207",
   "metadata": {},
   "source": [
    "\n",
    "    conda install numpy\n",
    "\n",
    "or\n",
    "\n",
    "    pip install numpy\n",
    "\n",
    "\n",
    "    !pip install numpy "
   ]
  },
  {
   "cell_type": "code",
   "execution_count": 140,
   "id": "7ff98c66",
   "metadata": {},
   "outputs": [
    {
     "name": "stdout",
     "output_type": "stream",
     "text": [
      "Requirement already satisfied: numpy in ./env_pytn071/lib/python3.9/site-packages (1.22.0)\n",
      "\u001b[33mWARNING: You are using pip version 21.3.1; however, version 22.2.2 is available.\n",
      "You should consider upgrading via the '/Users/iketutg/MyKetut/workspace_python/__H8-PYTN071/env_pytn071/bin/python -m pip install --upgrade pip' command.\u001b[0m\n",
      "Note: you may need to restart the kernel to use updated packages.\n"
     ]
    }
   ],
   "source": [
    "pip install numpy "
   ]
  },
  {
   "cell_type": "code",
   "execution_count": 2,
   "id": "9fc679aa",
   "metadata": {},
   "outputs": [
    {
     "data": {
      "text/plain": [
       "'1.23.4'"
      ]
     },
     "execution_count": 2,
     "metadata": {},
     "output_type": "execute_result"
    }
   ],
   "source": [
    "import numpy as np \n",
    "np.__version__"
   ]
  },
  {
   "cell_type": "markdown",
   "id": "be9a240a",
   "metadata": {},
   "source": [
    "### **How to import NumPy**\n",
    ">Setiap kali Anda ingin menggunakan paket atau pustaka dalam kode Anda, Anda harus membuatnya dapat diakses terlebih dahulu."
   ]
  },
  {
   "cell_type": "markdown",
   "id": "c31d672b",
   "metadata": {},
   "source": [
    "Untuk mulai menggunakan NumPy dan semua fungsi yang tersedia di NumPy, Anda harus mengimpornya. Ini dapat dengan mudah dilakukan dengan pernyataan impor ini:\n",
    "\n",
    "    import numpy as np\n",
    "\n",
    "(Kami mempersingkat \"numpy\" menjadi \"np\" untuk menghemat waktu dan juga untuk menjaga standarisasi kode sehingga siapa pun yang bekerja dengan kode Anda dapat dengan mudah memahami dan menjalankannya.)"
   ]
  },
  {
   "cell_type": "markdown",
   "id": "6c68d7ea",
   "metadata": {},
   "source": [
    "### **Why use NumPy?**\n",
    ">Array NumPy lebih cepat dan lebih ringkas daripada list Python."
   ]
  },
  {
   "cell_type": "markdown",
   "id": "c6325ce0",
   "metadata": {},
   "source": [
    " Sebuah array mengkonsumsi lebih \n",
    "    sedikit memori dan jauh lebih nyaman untuk digunakan. NumPy menggunakan lebih sedikit memori \n",
    "    untuk menyimpan data dan menyediakan mekanisme untuk menentukan tipe data, \n",
    "    yang memungkinkan kode untuk dioptimalkan lebih jauh.\n",
    "    \n",
    "    Numpy adalah library aljabar linear untuk python "
   ]
  },
  {
   "cell_type": "code",
   "execution_count": 61,
   "id": "ab7ef90a",
   "metadata": {},
   "outputs": [
    {
     "data": {
      "text/plain": [
       "[0, 1, 2, 3, 4, 5, 6, 7, 8, 9]"
      ]
     },
     "execution_count": 61,
     "metadata": {},
     "output_type": "execute_result"
    }
   ],
   "source": [
    "b = list(range(10)) ##\n",
    "b\n"
   ]
  },
  {
   "cell_type": "code",
   "execution_count": 141,
   "id": "d6f4fff5",
   "metadata": {},
   "outputs": [],
   "source": [
    "## Adding Vector menggunakan pure python without numpy \n",
    "def pythonsum(n):\n",
    "    a = b = list(range(n)) ## range returns a lazy sequence object - it does not return a list\n",
    "    c = [] # out put \n",
    "    for i in range(len(a)):\n",
    "        x = a[i] ** 2 \n",
    "        y = b[i] ** 3 \n",
    "        c.append(x + y )\n",
    "    return c \n",
    "\n",
    "c = pythonsum(10)    \n",
    "print(c)"
   ]
  },
  {
   "cell_type": "code",
   "execution_count": 143,
   "id": "8fea52b8",
   "metadata": {},
   "outputs": [],
   "source": [
    "## Adding Vector menggunakan pure python with numpy \n",
    "def numpysum(n):\n",
    "    a = np.arange(n) ** 2 \n",
    "    b = np.arange(n) ** 3 \n",
    "    c=a+ b \n",
    "    return c\n"
   ]
  },
  {
   "cell_type": "code",
   "execution_count": 144,
   "id": "a63c6f0c",
   "metadata": {},
   "outputs": [
    {
     "name": "stdout",
     "output_type": "stream",
     "text": [
      "[  0   2  12  36  80 150 252 392 576 810]\n"
     ]
    }
   ],
   "source": [
    "x = numpysum(10) \n",
    "print(x)\n"
   ]
  },
  {
   "cell_type": "code",
   "execution_count": 148,
   "id": "1b0ba180",
   "metadata": {},
   "outputs": [
    {
     "name": "stdout",
     "output_type": "stream",
     "text": [
      "The last 2 elements of the sum [950796, 980100]\n",
      "PythonSum elapsed time in microseconds 441\n"
     ]
    }
   ],
   "source": [
    "## membandingkan kecepatan antara numpy dg List core python \n",
    "from datetime import datetime\n",
    "size = 100\n",
    "start = datetime.now()\n",
    "c = pythonsum(size)\n",
    "delta = datetime.now() - start\n",
    "print(\"The last 2 elements of the sum\", c[-2:])\n",
    "print(\"PythonSum elapsed time in microseconds\", delta.microseconds)"
   ]
  },
  {
   "cell_type": "code",
   "execution_count": 147,
   "id": "61d46051",
   "metadata": {},
   "outputs": [
    {
     "name": "stdout",
     "output_type": "stream",
     "text": [
      "The last 2 elements of the sum [950796 980100]\n",
      "NumPySum elapsed time in microseconds 122\n"
     ]
    }
   ],
   "source": [
    "start = datetime.now()\n",
    "c = numpysum(size)\n",
    "delta = datetime.now() - start\n",
    "print(\"The last 2 elements of the sum\", c[-2:])\n",
    "print(\"NumPySum elapsed time in microseconds\", delta.microseconds)"
   ]
  },
  {
   "cell_type": "markdown",
   "id": "17a0ac78",
   "metadata": {},
   "source": [
    "## **TERMINOLOGY**\n",
    "---"
   ]
  },
  {
   "cell_type": "markdown",
   "id": "1fa69a95",
   "metadata": {},
   "source": [
    "### **What is an array?**\n",
    ">Array adalah struktur data pusat dari library NumPy."
   ]
  },
  {
   "cell_type": "markdown",
   "id": "ba953503",
   "metadata": {},
   "source": [
    "    \n",
    "Ini adalah kisi nilai dan berisi informasi tentang data mentah, cara menemukan elemen, dan cara menafsirkan elemen. Ini memiliki kisi elemen yang dapat diindeks dengan berbagai cara. Semua elemen memiliki tipe yang sama, disebut sebagai tipe array d (tipe data).\n",
    "    \n",
    "Array dapat diindeks oleh tupel bilangan bulat non-negatif, dengan boolean, oleh array lain, atau dengan bilangan bulat. Rank dari array adalah jumlah dimensi. Bentuk array adalah tupel bilangan bulat yang memberikan ukuran array sepanjang setiap dimensi.\n",
    "\n",
    "Salah satu cara kita dapat menginisialisasi array NumPy adalah dari daftar Python bersarang.\n",
    "\n",
    "    a = np.array([[1 , 2, 3, 4], [5, 6, 7, 8], [9, 10, 11, 12]])\n",
    "\n",
    "Kita dapat mengakses elemen dalam array menggunakan tanda kurung siku. Saat Anda mengakses elemen, ingatlah bahwa pengindeksan di NumPy dimulai dari 0. Artinya, jika Anda ingin mengakses elemen pertama dalam array, Anda akan mengakses elemen “0”.\n",
    "\n",
    "        print(a[0])\n",
    "\n",
    "Keluaran:\n",
    "\n",
    "        [1 2 3 4]\n",
    "\n",
    "Informasi lebih lanjut tentang array\n",
    "\n",
    "    array 1D, array 2D, ndarray, vektor, matriks\n",
    "\n",
    "Anda mungkin kadang-kadang mendengar array yang disebut sebagai \"ndarray,\" yang merupakan singkatan dari \"array N-dimensi.\" Array N-dimensi hanyalah sebuah array dengan sejumlah dimensi. Anda mungkin juga mendengar 1-D, atau array satu dimensi, 2-D, atau larik dua dimensi, dan seterusnya.  \n",
    "    \n",
    "    * Kelas NumPy ndarray digunakan untuk mewakili matriks dan vektor. \n",
    "    * Vektor adalah array dengan satu kolom. \n",
    "    * sedangkan matriks  mengacu pada array dengan banyak kolom."
   ]
  },
  {
   "cell_type": "markdown",
   "id": "61a2c7c4",
   "metadata": {},
   "source": [
    "### **What are the attributes of an array?**\n",
    ">Array biasanya merupakan wadah berukuran tetap dari item dengan jenis dan ukuran yang sama. Jumlah dimensi dan item dalam array ditentukan oleh bentuknya.\n",
    "\n"
   ]
  },
  {
   "cell_type": "markdown",
   "id": "33e618e7",
   "metadata": {},
   "source": [
    "Bentuk array adalah tupel bilangan bulat non-negatif yang menentukan ukuran setiap dimensi.\n",
    "\n",
    "Di NumPy, dimensi disebut sumbu. Ini berarti jika Anda memiliki array 2D yang terlihat seperti ini:\n",
    "\n",
    "    [[0., 0., 0.],\n",
    "    [1., 1., 1.]]\n",
    "\n",
    "Array Anda memiliki 2 sumbu. Sumbu pertama memiliki panjang 2 dan sumbu kedua memiliki panjang 3.\n",
    "\n",
    "Sama seperti objek kontainer Python lainnya, isi array dapat diakses dan dimodifikasi dengan mengindeks atau mengiris array. Array yang berbeda dapat berbagi data yang sama, sehingga perubahan yang dibuat pada satu array mungkin terlihat di array lain.\n",
    "\n",
    "Atribut array mencerminkan informasi intrinsik ke array itu sendiri. Jika Anda perlu mendapatkan, atau bahkan mengatur, properti array tanpa membuat array baru, Anda sering dapat mengakses array melalui atributnya."
   ]
  },
  {
   "cell_type": "markdown",
   "id": "d2096f98",
   "metadata": {},
   "source": [
    "### **What’s the difference between a Python list and a NumPy array?**\n",
    ">NumPy memberi Anda sejumlah besar opsi terkait numerik yang cepat dan efisien. Meskipun list Python dapat berisi tipe data yang berbeda dalam satu list, semua elemen dalam array NumPy harus tipe data yang sama (Jika int harus integer, jika string maka harus string semua data)."
   ]
  },
  {
   "cell_type": "markdown",
   "id": "8b0e5185",
   "metadata": {},
   "source": [
    "Operasi matematika yang dimaksudkan untuk dilakukan pada array tidak akan mungkin jika array tidak homogen."
   ]
  },
  {
   "cell_type": "markdown",
   "id": "42812cca",
   "metadata": {},
   "source": [
    "###  **NumPy Basic**"
   ]
  },
  {
   "cell_type": "markdown",
   "id": "fdbd5f56",
   "metadata": {},
   "source": [
    "#### *NumPy Initialization*"
   ]
  },
  {
   "cell_type": "code",
   "execution_count": 9,
   "id": "6a6c7f77",
   "metadata": {},
   "outputs": [],
   "source": [
    "import numpy"
   ]
  },
  {
   "cell_type": "code",
   "execution_count": 10,
   "id": "704ffb66",
   "metadata": {},
   "outputs": [
    {
     "data": {
      "text/plain": [
       "array([1, 2, 3])"
      ]
     },
     "execution_count": 10,
     "metadata": {},
     "output_type": "execute_result"
    }
   ],
   "source": [
    "numpy.array([1,2,3])"
   ]
  },
  {
   "cell_type": "code",
   "execution_count": 11,
   "id": "acdc035e",
   "metadata": {},
   "outputs": [],
   "source": [
    "# contoh import menggunakan asterik all \n",
    "from numpy import * "
   ]
  },
  {
   "cell_type": "code",
   "execution_count": 12,
   "id": "8b354834",
   "metadata": {},
   "outputs": [
    {
     "data": {
      "text/plain": [
       "array([1, 2, 3])"
      ]
     },
     "execution_count": 12,
     "metadata": {},
     "output_type": "execute_result"
    }
   ],
   "source": [
    "array([1,2,3])"
   ]
  },
  {
   "cell_type": "code",
   "execution_count": 13,
   "id": "bebb6c59",
   "metadata": {},
   "outputs": [
    {
     "data": {
      "text/plain": [
       "array([1, 2, 3])"
      ]
     },
     "execution_count": 13,
     "metadata": {},
     "output_type": "execute_result"
    }
   ],
   "source": [
    "# contoh menyingkan librany numpy sebagai np \n",
    "import numpy as np \n",
    "np.array([1,2,3])"
   ]
  },
  {
   "cell_type": "markdown",
   "id": "25cbcb52",
   "metadata": {},
   "source": [
    "#### *Cek Version dari Numpy*"
   ]
  },
  {
   "cell_type": "code",
   "execution_count": 14,
   "id": "2f0b16ec",
   "metadata": {},
   "outputs": [
    {
     "data": {
      "text/plain": [
       "'1.23.4'"
      ]
     },
     "execution_count": 14,
     "metadata": {},
     "output_type": "execute_result"
    }
   ],
   "source": [
    "np.__version__  ## pengecekan version dari numpy "
   ]
  },
  {
   "cell_type": "markdown",
   "id": "379e1f45",
   "metadata": {},
   "source": [
    "#### *Cara Melihat Docstring Modul/Library Numpy*"
   ]
  },
  {
   "cell_type": "code",
   "execution_count": 15,
   "id": "83ada950",
   "metadata": {},
   "outputs": [
    {
     "name": "stdout",
     "output_type": "stream",
     "text": [
      "\n",
      "NumPy\n",
      "=====\n",
      "\n",
      "Provides\n",
      "  1. An array object of arbitrary homogeneous items\n",
      "  2. Fast mathematical operations over arrays\n",
      "  3. Linear Algebra, Fourier Transforms, Random Number Generation\n",
      "\n",
      "How to use the documentation\n",
      "----------------------------\n",
      "Documentation is available in two forms: docstrings provided\n",
      "with the code, and a loose standing reference guide, available from\n",
      "`the NumPy homepage <https://numpy.org>`_.\n",
      "\n",
      "We recommend exploring the docstrings using\n",
      "`IPython <https://ipython.org>`_, an advanced Python shell with\n",
      "TAB-completion and introspection capabilities.  See below for further\n",
      "instructions.\n",
      "\n",
      "The docstring examples assume that `numpy` has been imported as `np`::\n",
      "\n",
      "  >>> import numpy as np\n",
      "\n",
      "Code snippets are indicated by three greater-than signs::\n",
      "\n",
      "  >>> x = 42\n",
      "  >>> x = x + 1\n",
      "\n",
      "Use the built-in ``help`` function to view a function's docstring::\n",
      "\n",
      "  >>> help(np.sort)\n",
      "  ... # doctest: +SKIP\n",
      "\n",
      "For some objects, ``np.info(obj)`` may provide additional help.  This is\n",
      "particularly true if you see the line \"Help on ufunc object:\" at the top\n",
      "of the help() page.  Ufuncs are implemented in C, not Python, for speed.\n",
      "The native Python help() does not know how to view their help, but our\n",
      "np.info() function does.\n",
      "\n",
      "To search for documents containing a keyword, do::\n",
      "\n",
      "  >>> np.lookfor('keyword')\n",
      "  ... # doctest: +SKIP\n",
      "\n",
      "General-purpose documents like a glossary and help on the basic concepts\n",
      "of numpy are available under the ``doc`` sub-module::\n",
      "\n",
      "  >>> from numpy import doc\n",
      "  >>> help(doc)\n",
      "  ... # doctest: +SKIP\n",
      "\n",
      "Available subpackages\n",
      "---------------------\n",
      "lib\n",
      "    Basic functions used by several sub-packages.\n",
      "random\n",
      "    Core Random Tools\n",
      "linalg\n",
      "    Core Linear Algebra Tools\n",
      "fft\n",
      "    Core FFT routines\n",
      "polynomial\n",
      "    Polynomial tools\n",
      "testing\n",
      "    NumPy testing tools\n",
      "distutils\n",
      "    Enhancements to distutils with support for\n",
      "    Fortran compilers support and more.\n",
      "\n",
      "Utilities\n",
      "---------\n",
      "test\n",
      "    Run numpy unittests\n",
      "show_config\n",
      "    Show numpy build configuration\n",
      "dual\n",
      "    Overwrite certain functions with high-performance SciPy tools.\n",
      "    Note: `numpy.dual` is deprecated.  Use the functions from NumPy or Scipy\n",
      "    directly instead of importing them from `numpy.dual`.\n",
      "matlib\n",
      "    Make everything matrices.\n",
      "__version__\n",
      "    NumPy version string\n",
      "\n",
      "Viewing documentation using IPython\n",
      "-----------------------------------\n",
      "Start IPython with the NumPy profile (``ipython -p numpy``), which will\n",
      "import `numpy` under the alias `np`.  Then, use the ``cpaste`` command to\n",
      "paste examples into the shell.  To see which functions are available in\n",
      "`numpy`, type ``np.<TAB>`` (where ``<TAB>`` refers to the TAB key), or use\n",
      "``np.*cos*?<ENTER>`` (where ``<ENTER>`` refers to the ENTER key) to narrow\n",
      "down the list.  To view the docstring for a function, use\n",
      "``np.cos?<ENTER>`` (to view the docstring) and ``np.cos??<ENTER>`` (to view\n",
      "the source code).\n",
      "\n",
      "Copies vs. in-place operation\n",
      "-----------------------------\n",
      "Most of the functions in `numpy` return a copy of the array argument\n",
      "(e.g., `np.sort`).  In-place versions of these functions are often\n",
      "available as array methods, i.e. ``x = np.array([1,2,3]); x.sort()``.\n",
      "Exceptions to this rule are documented.\n",
      "\n",
      "\n"
     ]
    }
   ],
   "source": [
    "print(np.__doc__)  ## melihat dari doc string modul / libray numpy "
   ]
  },
  {
   "cell_type": "markdown",
   "id": "181c57de",
   "metadata": {},
   "source": [
    "#### *Contoh*"
   ]
  },
  {
   "cell_type": "code",
   "execution_count": 158,
   "id": "f37c5b55",
   "metadata": {},
   "outputs": [],
   "source": [
    "array1 = np.arange(100)"
   ]
  },
  {
   "cell_type": "code",
   "execution_count": 160,
   "id": "bcfbd52e",
   "metadata": {},
   "outputs": [],
   "source": [
    "np.set_printoptions(threshold=500) #sys.maxsize"
   ]
  },
  {
   "cell_type": "code",
   "execution_count": 153,
   "id": "a11664bc",
   "metadata": {},
   "outputs": [],
   "source": [
    "array2 = list(range(100)) "
   ]
  },
  {
   "cell_type": "code",
   "execution_count": 159,
   "id": "317faf4a",
   "metadata": {},
   "outputs": [
    {
     "name": "stdout",
     "output_type": "stream",
     "text": [
      "[ 0  1  2 ... 97 98 99]\n"
     ]
    }
   ],
   "source": [
    "print(array1)"
   ]
  },
  {
   "cell_type": "code",
   "execution_count": 155,
   "id": "ea6a2b1f",
   "metadata": {},
   "outputs": [
    {
     "name": "stdout",
     "output_type": "stream",
     "text": [
      "[0, 1, 2, 3, 4, 5, 6, 7, 8, 9, 10, 11, 12, 13, 14, 15, 16, 17, 18, 19, 20, 21, 22, 23, 24, 25, 26, 27, 28, 29, 30, 31, 32, 33, 34, 35, 36, 37, 38, 39, 40, 41, 42, 43, 44, 45, 46, 47, 48, 49, 50, 51, 52, 53, 54, 55, 56, 57, 58, 59, 60, 61, 62, 63, 64, 65, 66, 67, 68, 69, 70, 71, 72, 73, 74, 75, 76, 77, 78, 79, 80, 81, 82, 83, 84, 85, 86, 87, 88, 89, 90, 91, 92, 93, 94, 95, 96, 97, 98, 99]\n"
     ]
    }
   ],
   "source": [
    "print(array2)"
   ]
  },
  {
   "cell_type": "markdown",
   "id": "8d6894c6",
   "metadata": {},
   "source": [
    "## **ARRAY**\n",
    "---"
   ]
  },
  {
   "cell_type": "markdown",
   "id": "720998de",
   "metadata": {},
   "source": [
    "### **Create Array**"
   ]
  },
  {
   "cell_type": "code",
   "execution_count": null,
   "id": "66813904",
   "metadata": {},
   "outputs": [],
   "source": [
    "np.array()\n",
    "np.zeros()\n",
    "np.ones()\n",
    "np.empty()\n",
    "np.arange()"
   ]
  },
  {
   "cell_type": "markdown",
   "id": "6eead0bc",
   "metadata": {},
   "source": [
    "Untuk membuat array NumPy, kalian dapat menggunakan fungsi **np.array()**.\n",
    "\n",
    "Yang perlu kalian lakukan untuk membuat array sederhana adalah dengan passing list ke dalamnya. Kalian juga dapat menentukan tipe data dalam List kalian."
   ]
  },
  {
   "cell_type": "code",
   "execution_count": 16,
   "id": "5f092002",
   "metadata": {},
   "outputs": [],
   "source": [
    "import numpy as np\n",
    "\n",
    "a = np.array([1, 2, 3])     # CONTOH NP.ARRAY()"
   ]
  },
  {
   "cell_type": "code",
   "execution_count": 17,
   "id": "3ba066ba",
   "metadata": {},
   "outputs": [
    {
     "data": {
      "text/plain": [
       "array([1, 2, 3])"
      ]
     },
     "execution_count": 17,
     "metadata": {},
     "output_type": "execute_result"
    }
   ],
   "source": [
    "a"
   ]
  },
  {
   "cell_type": "markdown",
   "id": "c6d6cfaf",
   "metadata": {},
   "source": [
    "Sering ada kasus ketika kita ingin NumPy menginisialisasi nilai array untuk kita. NumPy menyediakan metode seperti ones(), zeros(), dan lain-lain untuk kasus ini. Kitahanya memberikan mereka sejumlah elemen yang kita inginkan untuk di-generate:"
   ]
  },
  {
   "cell_type": "code",
   "execution_count": 19,
   "id": "d489faba",
   "metadata": {},
   "outputs": [
    {
     "data": {
      "text/plain": [
       "array([0., 0., 0., 0., 0., 0.])"
      ]
     },
     "execution_count": 19,
     "metadata": {},
     "output_type": "execute_result"
    }
   ],
   "source": [
    "# you can easily create an array filled with 0s:\n",
    "\n",
    "np.zeros(6)                 # CONTOH NP.ZEROS()"
   ]
  },
  {
   "cell_type": "code",
   "execution_count": 20,
   "id": "779bacd5",
   "metadata": {},
   "outputs": [
    {
     "data": {
      "text/plain": [
       "array([1., 1., 1., 1., 1., 1.])"
      ]
     },
     "execution_count": 20,
     "metadata": {},
     "output_type": "execute_result"
    }
   ],
   "source": [
    "# Or an array filled with 1s:\n",
    "\n",
    "np.ones(6)                  # CONTOH NP.ONES()"
   ]
  },
  {
   "cell_type": "code",
   "execution_count": 21,
   "id": "215e3625",
   "metadata": {},
   "outputs": [
    {
     "data": {
      "text/plain": [
       "array([1., 1., 1., 1., 1., 1.])"
      ]
     },
     "execution_count": 21,
     "metadata": {},
     "output_type": "execute_result"
    }
   ],
   "source": [
    "# Or even an empty array!\n",
    "# The function empty creates an array whose initial content is random and depends on the state of the memory.\n",
    "\n",
    "np.empty(6)                 # CONTOH NP.EMPTY()"
   ]
  },
  {
   "cell_type": "code",
   "execution_count": 22,
   "id": "969e97f6",
   "metadata": {},
   "outputs": [
    {
     "name": "stdout",
     "output_type": "stream",
     "text": [
      "[0 1 2 3]\n",
      "[0 2 4 6 8]\n"
     ]
    }
   ],
   "source": [
    "# You can create an array with a range of elements\n",
    "\n",
    "print(np.arange(4))         # CONTOH NP.ARRANGE()\n",
    "print(np.arange(0,10,2)) # (start, stop, step)"
   ]
  },
  {
   "cell_type": "markdown",
   "id": "f8a50141",
   "metadata": {},
   "source": [
    "---\n",
    "tambahan dari pak ketut"
   ]
  },
  {
   "cell_type": "code",
   "execution_count": 162,
   "id": "3abfff00",
   "metadata": {},
   "outputs": [
    {
     "name": "stdout",
     "output_type": "stream",
     "text": [
      "<class 'list'>\n"
     ]
    }
   ],
   "source": [
    "# membuat list \n",
    "my_list = list(range(5))\n",
    "my_list\n",
    "print(type(my_list))\n"
   ]
  },
  {
   "cell_type": "code",
   "execution_count": 163,
   "id": "8467e28b",
   "metadata": {},
   "outputs": [
    {
     "name": "stdout",
     "output_type": "stream",
     "text": [
      "<class 'numpy.ndarray'>\n"
     ]
    },
    {
     "data": {
      "text/plain": [
       "array([0, 1, 2, 3, 4])"
      ]
     },
     "execution_count": 163,
     "metadata": {},
     "output_type": "execute_result"
    }
   ],
   "source": [
    "array_1 = np.array(my_list)\n",
    "print(type(array_1))\n",
    "array_1\n"
   ]
  },
  {
   "cell_type": "code",
   "execution_count": 83,
   "id": "0996f6b8",
   "metadata": {},
   "outputs": [
    {
     "name": "stdout",
     "output_type": "stream",
     "text": [
      "array1 :\n",
      " [0 1 2 3 4]\n"
     ]
    }
   ],
   "source": [
    "print(\"array1 :\\n\",array_1)"
   ]
  },
  {
   "cell_type": "code",
   "execution_count": 164,
   "id": "fdf5da68",
   "metadata": {},
   "outputs": [
    {
     "name": "stdout",
     "output_type": "stream",
     "text": [
      "[0 1 2 3]\n",
      "[1 2 3 4 5 6 7 8 9]\n",
      "[2 4 6 8]\n"
     ]
    }
   ],
   "source": [
    "# You can create an array with a range of elements\n",
    "print(np.arange(4)) # start default = 0 , stop=4 , step default =1  \n",
    "print(np.arange(1,10)) # start, stop , step default = 1 \n",
    "print(np.arange(2,10,2)) # start 0 , Stop = 10 , step =2 "
   ]
  },
  {
   "cell_type": "markdown",
   "id": "bd80d3cc",
   "metadata": {},
   "source": [
    "---------"
   ]
  },
  {
   "cell_type": "markdown",
   "id": "10b08000",
   "metadata": {},
   "source": [
    "Apa yang dilakukan **arange([start],stop,[step])** adalah mengatur angka dari awal hingga berhenti, dalam langkah langkah. Inilah artinya untuk np.arange(0,10,2):\n",
    "\n",
    "kembalikan daftar np mulai dari 0 hingga 10 tetapi jangan sertakan 10 dan tambahkan angka 2 setiap kali.\n",
    "\n",
    "hal penting yang perlu diingat di sini adalah bahwa nomor pemberhentian tidak akan dimasukkan dalam daftar.\n",
    "\n",
    "contoh lain:"
   ]
  },
  {
   "cell_type": "code",
   "execution_count": 165,
   "id": "06de6a74",
   "metadata": {},
   "outputs": [
    {
     "name": "stdout",
     "output_type": "stream",
     "text": [
      "[ 2  7 12 17 22 27]\n"
     ]
    }
   ],
   "source": [
    "print(np.arange(2,29,5))"
   ]
  },
  {
   "cell_type": "markdown",
   "id": "3de372cf",
   "metadata": {},
   "source": [
    "### **Add, Remove, and Sort**"
   ]
  },
  {
   "cell_type": "code",
   "execution_count": null,
   "id": "558fd6bd",
   "metadata": {},
   "outputs": [],
   "source": [
    "np.append()\n",
    "np.delete()\n",
    "np.sort()"
   ]
  },
  {
   "cell_type": "markdown",
   "id": "406840c6",
   "metadata": {},
   "source": [
    "Jika kalian mulai dari array ini:\n",
    "\n",
    "    arr = np.array([1, 2, 3, 4, 5, 6, 7, 8])\n",
    "\n",
    "Kalian bisa menambahkan elemen ke array kalian kapan saja dengan np.append(). Pastikan untuk menentukan array dan elemen yang ingin kalian sertakan."
   ]
  },
  {
   "cell_type": "code",
   "execution_count": 166,
   "id": "c073338e",
   "metadata": {},
   "outputs": [
    {
     "name": "stdout",
     "output_type": "stream",
     "text": [
      "[1 2 3 4 5 6 7 8]\n"
     ]
    }
   ],
   "source": [
    "arr = np.array([1, 2, 3, 4, 5, 6, 7, 8])\n",
    "print(arr)"
   ]
  },
  {
   "cell_type": "code",
   "execution_count": 167,
   "id": "1c4f3fb8",
   "metadata": {},
   "outputs": [
    {
     "name": "stdout",
     "output_type": "stream",
     "text": [
      "[ 1  2  3  4  5  6  7  8  9 10]\n"
     ]
    }
   ],
   "source": [
    "arr = np.append(arr, [9,10])\n",
    "print(arr)"
   ]
  },
  {
   "cell_type": "markdown",
   "id": "0ffefe43",
   "metadata": {},
   "source": [
    "Kalian bisa menghapus elemen dengan np.delete(). Jika kalian ingin menghapus elemen di posisi 1 dari array kalian, kalian dapat menjalankan:"
   ]
  },
  {
   "cell_type": "code",
   "execution_count": 168,
   "id": "dbffcd5c",
   "metadata": {},
   "outputs": [
    {
     "data": {
      "text/plain": [
       "array([ 1,  3,  4,  5,  6,  7,  8,  9, 10])"
      ]
     },
     "execution_count": 168,
     "metadata": {},
     "output_type": "execute_result"
    }
   ],
   "source": [
    "# menghapus index 1 \n",
    "np.delete(arr, 1)"
   ]
  },
  {
   "cell_type": "markdown",
   "id": "9739794f",
   "metadata": {},
   "source": [
    "Mengurutkan elemen sederhana dengan **np.sort()**. Anda dapat menentukan axis, jenis, dan urutan saat Anda memanggil fungsi.\n",
    "     \n",
    "     np.sort(a, axis=-1, kind=None, order=None)\n",
    "\n",
    "Jika kalian mulai dari array ini:"
   ]
  },
  {
   "cell_type": "code",
   "execution_count": 169,
   "id": "2cb2b373",
   "metadata": {},
   "outputs": [],
   "source": [
    "arrsort = np.array([2, 1, 5, 3, 7, 4, 6, 8]) "
   ]
  },
  {
   "cell_type": "markdown",
   "id": "2472dc4a",
   "metadata": {},
   "source": [
    "Kalian dapat dengan cepat mengurutkan angka dalam urutan menaik dengan:"
   ]
  },
  {
   "cell_type": "code",
   "execution_count": 170,
   "id": "20104645",
   "metadata": {},
   "outputs": [
    {
     "name": "stdout",
     "output_type": "stream",
     "text": [
      "[1 2 3 4 5 6 7 8]\n"
     ]
    }
   ],
   "source": [
    "data = np.sort(arrsort)\n",
    "print(data)"
   ]
  },
  {
   "cell_type": "code",
   "execution_count": 91,
   "id": "58928a3d",
   "metadata": {},
   "outputs": [
    {
     "name": "stdout",
     "output_type": "stream",
     "text": [
      "[2 1 5 3 7 4 6 8]\n"
     ]
    }
   ],
   "source": [
    "print(arrsort)"
   ]
  },
  {
   "cell_type": "markdown",
   "id": "36b63925",
   "metadata": {},
   "source": [
    "### **Shape and Size**"
   ]
  },
  {
   "cell_type": "code",
   "execution_count": null,
   "id": "311f7602",
   "metadata": {},
   "outputs": [],
   "source": [
    "ndarray.ndim()\n",
    "ndarray.size()\n",
    "ndarray.shape()"
   ]
  },
  {
   "cell_type": "markdown",
   "id": "3cda3201",
   "metadata": {},
   "source": [
    "**ndarray.ndim**\n",
    "\n",
    "    akan memberi tahu kalian jumlah axes, atau dimensi, dari array.\n",
    "\n",
    "**ndarray.size**\n",
    "\n",
    "    akan memberi tahu kalian jumlah total elemen array. Ini adalah produk dari elemen shape array.\n",
    "\n",
    "**ndarray.shape**\n",
    "\n",
    "    akan menampilkan tuple integer yang menunjukkan jumlah elemen yang disimpan di sepanjang setiap dimensi array. Jika, misalnya, kalian memiliki larik 2D dengan 2 baris dan 3 kolom, maka bentuk larik Anda adalah (2,3)."
   ]
  },
  {
   "cell_type": "code",
   "execution_count": 24,
   "id": "c5f458d1",
   "metadata": {},
   "outputs": [
    {
     "name": "stdout",
     "output_type": "stream",
     "text": [
      "[[[0 1 2 3]\n",
      "  [4 5 6 7]]\n",
      "\n",
      " [[0 1 2 3]\n",
      "  [4 5 6 7]]\n",
      "\n",
      " [[0 1 2 3]\n",
      "  [4 5 6 7]]]\n"
     ]
    }
   ],
   "source": [
    "array_example = np.array([[[0, 1, 2, 3],\n",
    "                           [4, 5, 6, 7]],\n",
    "\n",
    "                          [[0, 1, 2, 3],\n",
    "                           [4, 5, 6, 7]],\n",
    "\n",
    "                          [[0, 1, 2, 3],\n",
    "                           [4, 5, 6, 7]]])\n",
    "\n",
    "print(array_example)"
   ]
  },
  {
   "cell_type": "code",
   "execution_count": 25,
   "id": "f1949cae",
   "metadata": {},
   "outputs": [
    {
     "data": {
      "text/plain": [
       "3"
      ]
     },
     "execution_count": 25,
     "metadata": {},
     "output_type": "execute_result"
    }
   ],
   "source": [
    "array_example.ndim"
   ]
  },
  {
   "cell_type": "code",
   "execution_count": 26,
   "id": "49530a58",
   "metadata": {},
   "outputs": [
    {
     "data": {
      "text/plain": [
       "24"
      ]
     },
     "execution_count": 26,
     "metadata": {},
     "output_type": "execute_result"
    }
   ],
   "source": [
    "array_example.size"
   ]
  },
  {
   "cell_type": "code",
   "execution_count": 27,
   "id": "ff9fe8e3",
   "metadata": {},
   "outputs": [
    {
     "data": {
      "text/plain": [
       "(3, 2, 4)"
      ]
     },
     "execution_count": 27,
     "metadata": {},
     "output_type": "execute_result"
    }
   ],
   "source": [
    "array_example.shape"
   ]
  },
  {
   "cell_type": "code",
   "execution_count": 28,
   "id": "b6cd4234",
   "metadata": {},
   "outputs": [],
   "source": [
    "arr_one = np.array([[1, 2, 3, 4, 5]])"
   ]
  },
  {
   "cell_type": "code",
   "execution_count": 29,
   "id": "ab21bcc0",
   "metadata": {},
   "outputs": [
    {
     "data": {
      "text/plain": [
       "2"
      ]
     },
     "execution_count": 29,
     "metadata": {},
     "output_type": "execute_result"
    }
   ],
   "source": [
    "arr_one.ndim"
   ]
  },
  {
   "cell_type": "code",
   "execution_count": 30,
   "id": "35607a77",
   "metadata": {},
   "outputs": [
    {
     "data": {
      "text/plain": [
       "5"
      ]
     },
     "execution_count": 30,
     "metadata": {},
     "output_type": "execute_result"
    }
   ],
   "source": [
    "arr_one.size"
   ]
  },
  {
   "cell_type": "code",
   "execution_count": 31,
   "id": "3152d9a2",
   "metadata": {},
   "outputs": [
    {
     "data": {
      "text/plain": [
       "(1, 5)"
      ]
     },
     "execution_count": 31,
     "metadata": {},
     "output_type": "execute_result"
    }
   ],
   "source": [
    "arr_one.shape"
   ]
  },
  {
   "cell_type": "markdown",
   "id": "96b83a12",
   "metadata": {},
   "source": [
    "### **Multi-Dimensional Arrays**\n",
    ">NumPy array memudahkan kita untuk membuat array multi-dimensi."
   ]
  },
  {
   "cell_type": "markdown",
   "id": "6611c7d4",
   "metadata": {},
   "source": [
    "<img src=\"https://i.ibb.co/dDQnK4S/2DArray.png\" align=\"center\">\n"
   ]
  },
  {
   "cell_type": "code",
   "execution_count": 171,
   "id": "588f291d",
   "metadata": {},
   "outputs": [
    {
     "name": "stdout",
     "output_type": "stream",
     "text": [
      "<class 'list'>\n"
     ]
    },
    {
     "data": {
      "text/plain": [
       "[[0, 1, 2, 3], [10, 11, 12, 13]]"
      ]
     },
     "execution_count": 171,
     "metadata": {},
     "output_type": "execute_result"
    }
   ],
   "source": [
    "import numpy as np \n",
    "multi_list = [[0, 1, 2, 3], [10, 11, 12,13]]\n",
    "print(type(multi_list))\n",
    "multi_list"
   ]
  },
  {
   "cell_type": "code",
   "execution_count": 172,
   "id": "8b66d8ad",
   "metadata": {},
   "outputs": [
    {
     "name": "stdout",
     "output_type": "stream",
     "text": [
      "<class 'numpy.ndarray'>\n",
      "2\n"
     ]
    },
    {
     "data": {
      "text/plain": [
       "(2, 4)"
      ]
     },
     "execution_count": 172,
     "metadata": {},
     "output_type": "execute_result"
    }
   ],
   "source": [
    "a = np.array(multi_list)\n",
    "print(type(a))\n",
    "print(a.ndim)\n",
    "a.shape"
   ]
  },
  {
   "cell_type": "markdown",
   "id": "fe46221e",
   "metadata": {},
   "source": [
    "#### ndim , shape and size"
   ]
  },
  {
   "cell_type": "code",
   "execution_count": 94,
   "id": "f2f8950e",
   "metadata": {},
   "outputs": [],
   "source": [
    "### sebelum 2 dimensi kita lakukan 1 dimensi"
   ]
  },
  {
   "cell_type": "code",
   "execution_count": 173,
   "id": "59955e9b",
   "metadata": {},
   "outputs": [
    {
     "name": "stdout",
     "output_type": "stream",
     "text": [
      "[2 1 5 3 7 4 6 8]\n"
     ]
    }
   ],
   "source": [
    "arr_1 = np.array([2, 1, 5, 3, 7, 4, 6, 8])  # 1 dimensi\n",
    "print(arr_1)"
   ]
  },
  {
   "cell_type": "code",
   "execution_count": 174,
   "id": "9c7a252e",
   "metadata": {},
   "outputs": [
    {
     "data": {
      "text/plain": [
       "1"
      ]
     },
     "execution_count": 174,
     "metadata": {},
     "output_type": "execute_result"
    }
   ],
   "source": [
    "arr_1.ndim # Untuk mengetahui jumlah dimensi pada data menggunakan fungsi ndim."
   ]
  },
  {
   "cell_type": "code",
   "execution_count": 175,
   "id": "83d0e50c",
   "metadata": {},
   "outputs": [
    {
     "data": {
      "text/plain": [
       "(8,)"
      ]
     },
     "execution_count": 175,
     "metadata": {},
     "output_type": "execute_result"
    }
   ],
   "source": [
    "arr_1.shape # Array a memiliki shape ...5, yaitu panjang array pada 1-dimensi array."
   ]
  },
  {
   "cell_type": "code",
   "execution_count": 176,
   "id": "14bbafaf",
   "metadata": {},
   "outputs": [
    {
     "data": {
      "text/plain": [
       "8"
      ]
     },
     "execution_count": 176,
     "metadata": {},
     "output_type": "execute_result"
    }
   ],
   "source": [
    "arr_1.size"
   ]
  },
  {
   "cell_type": "markdown",
   "id": "da8eb284",
   "metadata": {},
   "source": [
    "  ndarray.ndim akan memberi tahu Anda jumlah sumbu, atau dimensi, dari array.\n",
    "\n",
    "  ndarray.size akan memberi tahu Anda jumlah total elemen array. Ini adalah produk dari elemen bentuk array.\n",
    "\n",
    "  ndarray.shape akan menampilkan tupel bilangan bulat yang menunjukkan jumlah elemen yang disimpan di sepanjang setiap dimensi array. Jika, misalnya, Anda memiliki array 2D dengan 2 baris dan 3 kolom, bentuk array Anda adalah (2,3)."
   ]
  },
  {
   "cell_type": "markdown",
   "id": "0605bd8b",
   "metadata": {},
   "source": [
    " *Fungsi shape pada array multi-dimensi menghasilkan tuple berisikan \n",
    "     **(jumlah baris, jumlah kolom)** .* "
   ]
  },
  {
   "cell_type": "markdown",
   "id": "e1266a7b",
   "metadata": {},
   "source": [
    "<img src=\"https://i.ibb.co/LRLN7ZP/shape.png\" align=\"center\">"
   ]
  },
  {
   "cell_type": "code",
   "execution_count": 177,
   "id": "3dd406f3",
   "metadata": {},
   "outputs": [
    {
     "name": "stdout",
     "output_type": "stream",
     "text": [
      "[[ 0  1  2  3]\n",
      " [10 11 12 13]]\n"
     ]
    }
   ],
   "source": [
    "print(a)"
   ]
  },
  {
   "cell_type": "code",
   "execution_count": 178,
   "id": "4fdf95e2",
   "metadata": {},
   "outputs": [
    {
     "data": {
      "text/plain": [
       "(2, 4)"
      ]
     },
     "execution_count": 178,
     "metadata": {},
     "output_type": "execute_result"
    }
   ],
   "source": [
    "# Pada fungsi shape menghasilkan sebuah tuple yang berisikan panjang sebuah array pada tiap dimensi.\n",
    "a.shape "
   ]
  },
  {
   "cell_type": "markdown",
   "id": "311111fb",
   "metadata": {},
   "source": [
    "  Untuk mengetahui jumlah elemen pada array multi-dimensi menggunakan fungsi size."
   ]
  },
  {
   "cell_type": "markdown",
   "id": "55db9a93",
   "metadata": {},
   "source": [
    "<img src=\"https://i.ibb.co/KN199JW/size.png\" align=\"center\"> "
   ]
  },
  {
   "cell_type": "code",
   "execution_count": 101,
   "id": "288e8af3",
   "metadata": {},
   "outputs": [
    {
     "data": {
      "text/plain": [
       "8"
      ]
     },
     "execution_count": 101,
     "metadata": {},
     "output_type": "execute_result"
    }
   ],
   "source": [
    "a.size"
   ]
  },
  {
   "cell_type": "markdown",
   "id": "2548f68f",
   "metadata": {},
   "source": [
    "    Untuk mengetahui jumlah dimensi dari array multi-dimensi menggunakan fungsi ndim. Jumlah dimensi pada array a adalah 2, karena merupakan array 2-dimensi."
   ]
  },
  {
   "cell_type": "code",
   "execution_count": 102,
   "id": "c12039fa",
   "metadata": {},
   "outputs": [
    {
     "data": {
      "text/plain": [
       "2"
      ]
     },
     "execution_count": 102,
     "metadata": {},
     "output_type": "execute_result"
    }
   ],
   "source": [
    "a.ndim"
   ]
  },
  {
   "cell_type": "code",
   "execution_count": 179,
   "id": "14283cee",
   "metadata": {},
   "outputs": [
    {
     "name": "stdout",
     "output_type": "stream",
     "text": [
      "[[[0 1 2 3]\n",
      "  [4 5 6 7]]\n",
      "\n",
      " [[0 1 2 3]\n",
      "  [4 5 6 7]]\n",
      "\n",
      " [[0 1 2 3]\n",
      "  [4 5 6 7]]]\n"
     ]
    }
   ],
   "source": [
    "# 3 dimensi \n",
    "array_example = np.array([[[0, 1, 2, 3],\n",
    "                           [4, 5, 6, 7]],\n",
    "\n",
    "                          [[0, 1, 2, 3],\n",
    "                           [4, 5, 6, 7]],\n",
    "\n",
    "                          [[0, 1, 2, 3],\n",
    "                           [4, 5, 6, 7]]])\n",
    "\n",
    "print(array_example)"
   ]
  },
  {
   "cell_type": "code",
   "execution_count": 180,
   "id": "6c3fc84b",
   "metadata": {},
   "outputs": [
    {
     "data": {
      "text/plain": [
       "3"
      ]
     },
     "execution_count": 180,
     "metadata": {},
     "output_type": "execute_result"
    }
   ],
   "source": [
    "array_example.ndim"
   ]
  },
  {
   "cell_type": "code",
   "execution_count": 181,
   "id": "303f7272",
   "metadata": {},
   "outputs": [
    {
     "data": {
      "text/plain": [
       "(3, 2, 4)"
      ]
     },
     "execution_count": 181,
     "metadata": {},
     "output_type": "execute_result"
    }
   ],
   "source": [
    "array_example.shape "
   ]
  },
  {
   "cell_type": "code",
   "execution_count": 182,
   "id": "4fe15a4f",
   "metadata": {},
   "outputs": [
    {
     "data": {
      "text/plain": [
       "24"
      ]
     },
     "execution_count": 182,
     "metadata": {},
     "output_type": "execute_result"
    }
   ],
   "source": [
    "array_example.size "
   ]
  },
  {
   "cell_type": "markdown",
   "id": "4bfd7746",
   "metadata": {},
   "source": [
    "-----------"
   ]
  },
  {
   "cell_type": "markdown",
   "id": "9970e490",
   "metadata": {},
   "source": [
    "    Pada array multi-dimensi kita dapat mengakses nilai elemen berdasarkan indeks dengan pemisah tanda koma [,]. \n",
    "    Misalkan kita ingin mendapatkan data pada baris ke-1 dan kolom ke-3 dari array a,\n",
    "    maka dilakukan perintah a[1, 3]."
   ]
  },
  {
   "cell_type": "markdown",
   "id": "e1d3d865",
   "metadata": {},
   "source": [
    "    Misalkan, kita akan mengganti data pada baris ke-1 dan kolom ke-3 pada array a dengan nilai -1, \n",
    "    kita dapat langsung assign nilai baru tersebut pada indeks."
   ]
  },
  {
   "cell_type": "markdown",
   "id": "ba67d533",
   "metadata": {},
   "source": [
    "<img src=\"https://i.ibb.co/LPDSf6N/2dimx.png\" align=\"center\"> "
   ]
  },
  {
   "cell_type": "code",
   "execution_count": 183,
   "id": "49116d11",
   "metadata": {},
   "outputs": [
    {
     "name": "stdout",
     "output_type": "stream",
     "text": [
      "[[ 0  1  2  3]\n",
      " [10 11 12 13]]\n"
     ]
    }
   ],
   "source": [
    "print(a)"
   ]
  },
  {
   "cell_type": "code",
   "execution_count": 184,
   "id": "7e3d92a0",
   "metadata": {},
   "outputs": [
    {
     "data": {
      "text/plain": [
       "13"
      ]
     },
     "execution_count": 184,
     "metadata": {},
     "output_type": "execute_result"
    }
   ],
   "source": [
    "a[1,3]"
   ]
  },
  {
   "cell_type": "code",
   "execution_count": 185,
   "id": "216515b4",
   "metadata": {},
   "outputs": [
    {
     "data": {
      "text/plain": [
       "array([[ 0,  1,  2,  3],\n",
       "       [10, 11, 12, -1]])"
      ]
     },
     "execution_count": 185,
     "metadata": {},
     "output_type": "execute_result"
    }
   ],
   "source": [
    "a[1,3] = -1 \n",
    "a"
   ]
  },
  {
   "cell_type": "markdown",
   "id": "a77a59ed",
   "metadata": {},
   "source": [
    " #### Sorting Array\n",
    " \n",
    " np.sort?  ## Signature: np.sort(a, axis=-1, kind=None, order=None)\n",
    "\n",
    " ----------------------------------\n",
    "|   kind    |  speed  |    stable |\n",
    "|:--------|:-------|:--------| \n",
    "|'quicksort' |   1    |          no |\n",
    "|'heapsort'  |   3   |          no |\n",
    "|'mergesort' |   2   |       yes |\n",
    "|'timsort'   |   2  |          yes |\n"
   ]
  },
  {
   "cell_type": "code",
   "execution_count": 186,
   "id": "f5868028",
   "metadata": {},
   "outputs": [
    {
     "data": {
      "text/plain": [
       "array([[4, 1, 0, 5],\n",
       "       [1, 5, 3, 4]])"
      ]
     },
     "execution_count": 186,
     "metadata": {},
     "output_type": "execute_result"
    }
   ],
   "source": [
    "data = np.array([[4, 1, 0, 5],[1, 5, 3, 4]])\n",
    "data"
   ]
  },
  {
   "cell_type": "markdown",
   "id": "5bcce123",
   "metadata": {},
   "source": [
    " a = np.array([[1,4],[3,1]])\n",
    "\n",
    ">>> np.sort(a)                # sort along the last axis\n",
    "\n",
    "array([[1, 4],\n",
    "       [1, 3]])\n",
    "\n",
    ">>> np.sort(a, axis=None)     # sort the flattened array\n",
    "\n",
    "array([1, 1, 3, 4])\n",
    "\n",
    ">>> np.sort(a, axis=0)        # sort along the first axis\n",
    "array([[1, 1],\n",
    "       [3, 4]])"
   ]
  },
  {
   "cell_type": "code",
   "execution_count": 187,
   "id": "1fb84e95",
   "metadata": {},
   "outputs": [
    {
     "name": "stdout",
     "output_type": "stream",
     "text": [
      "[[0 1 4 5]\n",
      " [1 3 4 5]]\n"
     ]
    }
   ],
   "source": [
    "# menambahkan parameter axis =1 \n",
    "data.sort(axis=1)\n",
    "print(data)"
   ]
  },
  {
   "cell_type": "code",
   "execution_count": 112,
   "id": "81d942db",
   "metadata": {},
   "outputs": [],
   "source": [
    "## dengan kita menambahkan parameter \"axis=0\" kita menghasilkan \n",
    "## array baru yang merupakan hasil sorting berdasarkan per kolom "
   ]
  },
  {
   "cell_type": "code",
   "execution_count": 188,
   "id": "dc320c5e",
   "metadata": {},
   "outputs": [
    {
     "name": "stdout",
     "output_type": "stream",
     "text": [
      "[[4 1 0 5]\n",
      " [1 5 3 4]]\n",
      "sebelum di sort axis=0\n",
      "==================================================\n",
      "[[1 1 0 4]\n",
      " [4 5 3 5]]\n"
     ]
    }
   ],
   "source": [
    "data = np.array([[4, 1, 0, 5],[1, 5, 3, 4]])\n",
    "# menambahkan parameter axis =0 \n",
    "print(data)\n",
    "print(\"sebelum di sort axis=0\")\n",
    "print(10*\"=====\")\n",
    "data.sort(axis=0)\n",
    "print(data)"
   ]
  },
  {
   "cell_type": "code",
   "execution_count": 114,
   "id": "3d88628d",
   "metadata": {},
   "outputs": [],
   "source": [
    "## dengan kita menambahkan parameter \"axis=0\" kita menghasilkan \n",
    "## array baru yang merupakan hasil sorting berdasarkan per kolom "
   ]
  },
  {
   "cell_type": "code",
   "execution_count": 189,
   "id": "1780283b",
   "metadata": {},
   "outputs": [
    {
     "name": "stdout",
     "output_type": "stream",
     "text": [
      "[[0 1 1 4]\n",
      " [3 4 5 5]]\n"
     ]
    }
   ],
   "source": [
    "# menambahkan parameter axis =1 \n",
    "data.sort(axis=1)   ## data ini adalah hasil perubahan dari sebelumnya \n",
    "print(data)"
   ]
  },
  {
   "cell_type": "markdown",
   "id": "1a85eca0",
   "metadata": {},
   "source": [
    "______"
   ]
  },
  {
   "cell_type": "code",
   "execution_count": 190,
   "id": "44adf9ed",
   "metadata": {},
   "outputs": [
    {
     "data": {
      "text/plain": [
       "[('name', 'S10'), ('height', float), ('age', int)]"
      ]
     },
     "execution_count": 190,
     "metadata": {},
     "output_type": "execute_result"
    }
   ],
   "source": [
    "#### sorting dengan membuat structure array\n",
    "dtype = [('name', 'S10'), ('height', float), ('age', int)]  ##  name type string , heigh type float , age type int\n",
    "dtype "
   ]
  },
  {
   "cell_type": "code",
   "execution_count": 191,
   "id": "93eed5e7",
   "metadata": {},
   "outputs": [
    {
     "data": {
      "text/plain": [
       "[('Arthur', 1.8, 41), ('Lancelot', 1.9, 38), ('Galahad', 1.7, 38)]"
      ]
     },
     "execution_count": 191,
     "metadata": {},
     "output_type": "execute_result"
    }
   ],
   "source": [
    "values = [('Arthur', 1.8, 41), \n",
    "          ('Lancelot', 1.9, 38),\n",
    "          ('Galahad', 1.7, 38)]\n",
    "values "
   ]
  },
  {
   "cell_type": "code",
   "execution_count": 192,
   "id": "6669fbf7",
   "metadata": {},
   "outputs": [
    {
     "name": "stdout",
     "output_type": "stream",
     "text": [
      "[(b'Arthur', 1.8, 41) (b'Lancelot', 1.9, 38) (b'Galahad', 1.7, 38)]\n"
     ]
    }
   ],
   "source": [
    "a = np.array(values, dtype=dtype) # create a structured array\n",
    "print(a)"
   ]
  },
  {
   "cell_type": "code",
   "execution_count": 193,
   "id": "2fb0955f",
   "metadata": {},
   "outputs": [
    {
     "name": "stdout",
     "output_type": "stream",
     "text": [
      "[(b'Arthur', 1.8, 41) (b'Galahad', 1.7, 38) (b'Lancelot', 1.9, 38)]\n"
     ]
    }
   ],
   "source": [
    "x = np.sort(a, order='name')  \n",
    "print(x)"
   ]
  },
  {
   "cell_type": "code",
   "execution_count": 194,
   "id": "5598eca4",
   "metadata": {},
   "outputs": [
    {
     "data": {
      "text/plain": [
       "array([(b'Galahad', 1.7, 38), (b'Lancelot', 1.9, 38),\n",
       "       (b'Arthur', 1.8, 41)],\n",
       "      dtype=[('name', 'S10'), ('height', '<f8'), ('age', '<i8')])"
      ]
     },
     "execution_count": 194,
     "metadata": {},
     "output_type": "execute_result"
    }
   ],
   "source": [
    "np.sort(a, order=['age', 'height'])     "
   ]
  },
  {
   "cell_type": "code",
   "execution_count": 121,
   "id": "5b9c883c",
   "metadata": {},
   "outputs": [
    {
     "data": {
      "text/plain": [
       "('Lancelot', 1.9, 38)"
      ]
     },
     "execution_count": 121,
     "metadata": {},
     "output_type": "execute_result"
    }
   ],
   "source": [
    "values[1] # menghasilkan tuple \n"
   ]
  },
  {
   "cell_type": "code",
   "execution_count": 122,
   "id": "e26e523f",
   "metadata": {},
   "outputs": [
    {
     "data": {
      "text/plain": [
       "'Arthur'"
      ]
     },
     "execution_count": 122,
     "metadata": {},
     "output_type": "execute_result"
    }
   ],
   "source": [
    "values[0][0] ## arthur , "
   ]
  },
  {
   "cell_type": "markdown",
   "id": "45c7e0c8",
   "metadata": {},
   "source": [
    "#### zeroes \n",
    "\n",
    "  Sering ada kasus ketika kita ingin NumPy menginisialisasi nilai array untuk kita. NumPy menyediakan metode seperti one(), zeros(), dan lain-lain untuk kasus ini. Kami hanya memberikan mereka jumlah elemen yang kami ingin hasilkan: "
   ]
  },
  {
   "cell_type": "code",
   "execution_count": 123,
   "id": "6a480b0b",
   "metadata": {},
   "outputs": [
    {
     "data": {
      "text/plain": [
       "array([0., 0., 0., 0., 0., 0., 0., 0., 0., 0.])"
      ]
     },
     "execution_count": 123,
     "metadata": {},
     "output_type": "execute_result"
    }
   ],
   "source": [
    "np.zeros(10)"
   ]
  },
  {
   "cell_type": "code",
   "execution_count": 124,
   "id": "7974dccb",
   "metadata": {},
   "outputs": [
    {
     "data": {
      "text/plain": [
       "array([1., 1.])"
      ]
     },
     "execution_count": 124,
     "metadata": {},
     "output_type": "execute_result"
    }
   ],
   "source": [
    "# Or an array filled with 1s:\n",
    "\n",
    "np.ones(2)"
   ]
  },
  {
   "cell_type": "code",
   "execution_count": 195,
   "id": "9ec28bac",
   "metadata": {},
   "outputs": [
    {
     "data": {
      "text/plain": [
       "array([1.7, 1.9, 1.8])"
      ]
     },
     "execution_count": 195,
     "metadata": {},
     "output_type": "execute_result"
    }
   ],
   "source": [
    "# Atau bahkan array kosong!\n",
    "# Fungsi kosong membuat larik yang konten awalnya acak dan bergantung pada status memori.\n",
    "np.empty(3) # lakukan perubahan parameter"
   ]
  },
  {
   "cell_type": "code",
   "execution_count": 196,
   "id": "671bd91d",
   "metadata": {},
   "outputs": [
    {
     "name": "stdout",
     "output_type": "stream",
     "text": [
      "[[[0. 0.]\n",
      "  [0. 0.]]\n",
      "\n",
      " [[0. 0.]\n",
      "  [0. 0.]]]\n"
     ]
    }
   ],
   "source": [
    "dzero = np.zeros((2,2,2))\n",
    "print(dzero)"
   ]
  },
  {
   "cell_type": "code",
   "execution_count": 127,
   "id": "0ca502cc",
   "metadata": {},
   "outputs": [
    {
     "data": {
      "text/plain": [
       "(2, 2, 2)"
      ]
     },
     "execution_count": 127,
     "metadata": {},
     "output_type": "execute_result"
    }
   ],
   "source": [
    "dzero.shape"
   ]
  },
  {
   "cell_type": "code",
   "execution_count": 128,
   "id": "e1523880",
   "metadata": {},
   "outputs": [
    {
     "data": {
      "text/plain": [
       "3"
      ]
     },
     "execution_count": 128,
     "metadata": {},
     "output_type": "execute_result"
    }
   ],
   "source": [
    "dzero.ndim"
   ]
  },
  {
   "cell_type": "code",
   "execution_count": 129,
   "id": "8f6efdb1",
   "metadata": {},
   "outputs": [
    {
     "data": {
      "text/plain": [
       "array([[0., 0., 0., 0., 0., 0.],\n",
       "       [0., 0., 0., 0., 0., 0.],\n",
       "       [0., 0., 0., 0., 0., 0.]])"
      ]
     },
     "execution_count": 129,
     "metadata": {},
     "output_type": "execute_result"
    }
   ],
   "source": [
    "zeros_ndarray = np.zeros((3, 6))\n",
    "zeros_ndarray"
   ]
  },
  {
   "cell_type": "code",
   "execution_count": 130,
   "id": "235883e8",
   "metadata": {},
   "outputs": [
    {
     "data": {
      "text/plain": [
       "(3, 6)"
      ]
     },
     "execution_count": 130,
     "metadata": {},
     "output_type": "execute_result"
    }
   ],
   "source": [
    "zeros_ndarray.shape"
   ]
  },
  {
   "cell_type": "code",
   "execution_count": 131,
   "id": "b58abe46",
   "metadata": {},
   "outputs": [
    {
     "data": {
      "text/plain": [
       "2"
      ]
     },
     "execution_count": 131,
     "metadata": {},
     "output_type": "execute_result"
    }
   ],
   "source": [
    "zeros_ndarray.ndim"
   ]
  },
  {
   "cell_type": "code",
   "execution_count": 132,
   "id": "b8fabc8c",
   "metadata": {},
   "outputs": [
    {
     "data": {
      "text/plain": [
       "array([1., 1., 1., 1., 1., 1., 1., 1., 1., 1.])"
      ]
     },
     "execution_count": 132,
     "metadata": {},
     "output_type": "execute_result"
    }
   ],
   "source": [
    "ones_array = np.ones(10)\n",
    "ones_array"
   ]
  },
  {
   "cell_type": "code",
   "execution_count": 133,
   "id": "667fd29c",
   "metadata": {},
   "outputs": [
    {
     "data": {
      "text/plain": [
       "array([[[0.00000000e+000, 2.68677908e+154],\n",
       "        [8.39911598e-323, 0.00000000e+000],\n",
       "        [2.12199579e-314, 5.02034658e+175]],\n",
       "\n",
       "       [[1.32324163e-071, 5.44207827e-062],\n",
       "        [6.56196567e+169, 9.59405921e-071],\n",
       "        [1.09287130e-042, 7.11767117e-144]],\n",
       "\n",
       "       [[3.59751658e+252, 1.46901661e+179],\n",
       "        [3.75505006e+199, 2.59027921e-144],\n",
       "        [3.80985069e+180, 4.90746474e+252]],\n",
       "\n",
       "       [[3.96041428e+246, 1.16318408e-028],\n",
       "        [9.16448945e-072, 4.08468727e+179],\n",
       "        [1.90253394e+185, 1.27888305e+161]]])"
      ]
     },
     "execution_count": 133,
     "metadata": {},
     "output_type": "execute_result"
    }
   ],
   "source": [
    "empty_array = np.empty((4, 3, 2))\n",
    "empty_array"
   ]
  },
  {
   "cell_type": "code",
   "execution_count": 134,
   "id": "1fd8b6f4",
   "metadata": {},
   "outputs": [
    {
     "data": {
      "text/plain": [
       "3"
      ]
     },
     "execution_count": 134,
     "metadata": {},
     "output_type": "execute_result"
    }
   ],
   "source": [
    "empty_array.ndim"
   ]
  },
  {
   "cell_type": "code",
   "execution_count": 135,
   "id": "7b1c6613",
   "metadata": {},
   "outputs": [
    {
     "data": {
      "text/plain": [
       "(4, 3, 2)"
      ]
     },
     "execution_count": 135,
     "metadata": {},
     "output_type": "execute_result"
    }
   ],
   "source": [
    "empty_array.shape"
   ]
  },
  {
   "cell_type": "markdown",
   "id": "9800bc7f",
   "metadata": {},
   "source": [
    "________"
   ]
  },
  {
   "cell_type": "markdown",
   "id": "c0812d6d",
   "metadata": {},
   "source": [
    "### **Reshape**\n",
    ">Menggunakan **np.reshape()** akan memberikan bentuk baru ke array tanpa mengubah data."
   ]
  },
  {
   "cell_type": "markdown",
   "id": "18b2a0f3",
   "metadata": {},
   "source": [
    "Ingatlah bahwa ketika Anda menggunakan metode reshape.  \n",
    ">output dari array memiliki jumlah elemen yang sama dengan array aslinya.\n",
    "\n",
    "     12 element :  4x3 , 3x4 , 12 x 1 \n",
    "    \n",
    "Dengan np.reshape, Anda dapat menentukan beberapa parameter opsional:\n",
    "\n",
    "    numpy.reshape(a, newshape, order)"
   ]
  },
  {
   "cell_type": "markdown",
   "id": "7a205b7a",
   "metadata": {},
   "source": [
    "keterangan :\n",
    "- a : array yang akan dibentuk kembali.\n",
    "- newshape :\n",
    "    - int atau tuple dari ints\n",
    "    - bentuk baru yang Anda inginkan. \n",
    "    - Anda dapat menentukan bilangan bulat atau tupel bilangan bulat. \n",
    "    - Jika Anda menentukan bilangan bulat, hasilnya akan berupa array dengan panjang tersebut. \n",
    "    - Bentuknya harus sesuai dengan bentuk aslinya.\n",
    "- order    :\n",
    "    - 'C' berarti membaca/menulis elemen menggunakan urutan indeks seperti C,\n",
    "    - 'F' berarti membaca/menulis elemen menggunakan urutan indeks seperti Fortran, \n",
    "    - 'A' berarti membaca/menulis elemen dalam seperti Fortran urutan indeks jika a adalah Fortran bersebelahan dalam memori, urutan seperti C sebaliknya. \n",
    "    (Ini adalah parameter opsional dan tidak perlu ditentukan.)\n",
    "\n",
    "Default = C "
   ]
  },
  {
   "cell_type": "markdown",
   "id": "c6003bad",
   "metadata": {},
   "source": [
    "Jika kalian mulai dengan array ini:"
   ]
  },
  {
   "cell_type": "code",
   "execution_count": 33,
   "id": "9ea7bf6a",
   "metadata": {},
   "outputs": [
    {
     "name": "stdout",
     "output_type": "stream",
     "text": [
      "[0 1 2 3 4 5]\n"
     ]
    }
   ],
   "source": [
    "a = np.arange(6)\n",
    "\n",
    "print(a)"
   ]
  },
  {
   "cell_type": "markdown",
   "id": "5f2f09e5",
   "metadata": {},
   "source": [
    "Anda dapat menggunakan reshape() untuk membentuk kembali array Anda.\n",
    "\n",
    "**CONTOH KASUS :**\n",
    "\n",
    ">Anda dapat membentuk ulang array ini menjadi array dengan tiga baris dan dua kolom:"
   ]
  },
  {
   "cell_type": "code",
   "execution_count": 34,
   "id": "20d05705",
   "metadata": {},
   "outputs": [
    {
     "name": "stdout",
     "output_type": "stream",
     "text": [
      "[[0 1 2]\n",
      " [3 4 5]]\n"
     ]
    }
   ],
   "source": [
    "a.reshape(2,3)"
   ]
  },
  {
   "cell_type": "code",
   "execution_count": 35,
   "id": "dfd0d38e",
   "metadata": {},
   "outputs": [
    {
     "name": "stdout",
     "output_type": "stream",
     "text": [
      "[[0 1]\n",
      " [2 3]\n",
      " [4 5]]\n"
     ]
    }
   ],
   "source": [
    "##For example, ``a.reshape(10, 11)`` is equivalent to ``a.reshape((10, 11))``\n",
    "a.reshape((3,2))"
   ]
  },
  {
   "cell_type": "code",
   "execution_count": 49,
   "id": "0f87d40b",
   "metadata": {},
   "outputs": [
    {
     "data": {
      "text/plain": [
       "array([[0],\n",
       "       [1],\n",
       "       [2],\n",
       "       [3],\n",
       "       [4],\n",
       "       [5]])"
      ]
     },
     "execution_count": 49,
     "metadata": {},
     "output_type": "execute_result"
    }
   ],
   "source": [
    "a.reshape(6,1)"
   ]
  },
  {
   "cell_type": "code",
   "execution_count": 40,
   "id": "a3158029",
   "metadata": {},
   "outputs": [
    {
     "name": "stdout",
     "output_type": "stream",
     "text": [
      "[0 1 2 3 4]\n"
     ]
    }
   ],
   "source": [
    "x = np.arange(5)\n",
    "print(x)"
   ]
  },
  {
   "cell_type": "code",
   "execution_count": 47,
   "id": "aa0da180",
   "metadata": {},
   "outputs": [
    {
     "data": {
      "text/plain": [
       "array([[0],\n",
       "       [1],\n",
       "       [2],\n",
       "       [3],\n",
       "       [4]])"
      ]
     },
     "execution_count": 47,
     "metadata": {},
     "output_type": "execute_result"
    }
   ],
   "source": [
    "x.reshape(5,1)"
   ]
  },
  {
   "cell_type": "code",
   "execution_count": 58,
   "id": "cd525bde",
   "metadata": {},
   "outputs": [
    {
     "data": {
      "text/plain": [
       "array([[0, 1],\n",
       "       [2, 3],\n",
       "       [4, 5]])"
      ]
     },
     "execution_count": 58,
     "metadata": {},
     "output_type": "execute_result"
    }
   ],
   "source": [
    "a = np.arange(6).reshape((3, 2))\n",
    "a"
   ]
  },
  {
   "cell_type": "code",
   "execution_count": 59,
   "id": "545ede3e",
   "metadata": {},
   "outputs": [
    {
     "data": {
      "text/plain": [
       "array([[0, 1, 2],\n",
       "       [3, 4, 5]])"
      ]
     },
     "execution_count": 59,
     "metadata": {},
     "output_type": "execute_result"
    }
   ],
   "source": [
    "np.reshape(a, (2, 3))"
   ]
  },
  {
   "cell_type": "code",
   "execution_count": 60,
   "id": "e9f17ec9",
   "metadata": {},
   "outputs": [
    {
     "data": {
      "text/plain": [
       "array([[1, 2, 3],\n",
       "       [4, 5, 6]])"
      ]
     },
     "execution_count": 60,
     "metadata": {},
     "output_type": "execute_result"
    }
   ],
   "source": [
    "a = np.array([[1,2,3], [4,5,6]])\n",
    "a"
   ]
  },
  {
   "cell_type": "code",
   "execution_count": 62,
   "id": "ce5eacfa",
   "metadata": {},
   "outputs": [
    {
     "data": {
      "text/plain": [
       "array([1, 2, 3, 4, 5, 6])"
      ]
     },
     "execution_count": 62,
     "metadata": {},
     "output_type": "execute_result"
    }
   ],
   "source": [
    "np.reshape(a, 6)"
   ]
  },
  {
   "cell_type": "markdown",
   "id": "7ea63724",
   "metadata": {},
   "source": [
    "### **Convert 1D to 2D**\n",
    ">Anda dapat menggunakan np.newaxis dan np.expand_dims untuk meningkatkan dimensi array yang ada."
   ]
  },
  {
   "cell_type": "code",
   "execution_count": null,
   "id": "27962a50",
   "metadata": {},
   "outputs": [],
   "source": [
    "np.newaxis          # menambah 1 dimensi tiap digunakan\n",
    "np.expand_dims      # memperluas array dg nambah axis baru"
   ]
  },
  {
   "cell_type": "markdown",
   "id": "e690cfb0",
   "metadata": {},
   "source": [
    " Menggunakan np.newaxis akan meningkatkan dimensi array Anda satu dimensi saat digunakan sekali.\n",
    "Artinya :\n",
    "- Array 1D akan menjadi array 2D,\n",
    "- Array 2D akan menjadi Array 3D, dan seterusnya.\n",
    "\n",
    "Misalnya, jika Anda mulai dengan array ini:"
   ]
  },
  {
   "cell_type": "code",
   "execution_count": 71,
   "id": "4129c41b",
   "metadata": {},
   "outputs": [
    {
     "data": {
      "text/plain": [
       "(6,)"
      ]
     },
     "execution_count": 71,
     "metadata": {},
     "output_type": "execute_result"
    }
   ],
   "source": [
    "variabelA = np.array([1, 2, 3, 4, 5, 6])\n",
    "variabelA.shape"
   ]
  },
  {
   "cell_type": "code",
   "execution_count": 72,
   "id": "4025ed15",
   "metadata": {},
   "outputs": [
    {
     "name": "stdout",
     "output_type": "stream",
     "text": [
      "(1, 6)\n",
      "[[1 2 3 4 5 6]]\n"
     ]
    },
    {
     "data": {
      "text/plain": [
       "2"
      ]
     },
     "execution_count": 72,
     "metadata": {},
     "output_type": "execute_result"
    }
   ],
   "source": [
    "# You can use np.newaxis to add a new axis:\n",
    "# menambahkan menggunakan np.newaxis \n",
    "a2 = variabelA[np.newaxis]          # CONTOH NEWAXIS()\n",
    "print(a2.shape)\n",
    "print(a2)\n",
    "a2.ndim"
   ]
  },
  {
   "cell_type": "code",
   "execution_count": 73,
   "id": "5d89b378",
   "metadata": {},
   "outputs": [
    {
     "name": "stdout",
     "output_type": "stream",
     "text": [
      "(1, 6)\n",
      "[[1 2 3 4 5 6]]\n"
     ]
    }
   ],
   "source": [
    "# Anda dapat mengonversi array 1D ke vektor baris dengan \n",
    "# memasukkan sumbu di sepanjang dimensi pertama\n",
    "row_vector = variabelA[np.newaxis, :]   # CONTOH NEWAXIS()\n",
    "print(row_vector.shape)\n",
    "print(row_vector)"
   ]
  },
  {
   "cell_type": "code",
   "execution_count": 74,
   "id": "763a2107",
   "metadata": {},
   "outputs": [
    {
     "name": "stdout",
     "output_type": "stream",
     "text": [
      "(6, 1)\n",
      "[[1]\n",
      " [2]\n",
      " [3]\n",
      " [4]\n",
      " [5]\n",
      " [6]]\n"
     ]
    }
   ],
   "source": [
    "# untuk vektor kolom, Anda dapat menyisipkan axis di sepanjang\n",
    "# dimensi kedua\n",
    "\n",
    "col_vector = a[:, np.newaxis]           # CONTOH NEWAXIS()\n",
    "print(col_vector.shape)\n",
    "print(col_vector)"
   ]
  },
  {
   "cell_type": "markdown",
   "id": "6b24f22d",
   "metadata": {},
   "source": [
    "kita juga dapat memperluas array dengan menyisipkan axis baru pada posisi tertentu dengan np.expand_dims.\n",
    "\n",
    "Misalnya, jika Anda mulai dengan array ini:"
   ]
  },
  {
   "cell_type": "code",
   "execution_count": 75,
   "id": "df44fb0a",
   "metadata": {},
   "outputs": [
    {
     "data": {
      "text/plain": [
       "(6,)"
      ]
     },
     "execution_count": 75,
     "metadata": {},
     "output_type": "execute_result"
    }
   ],
   "source": [
    "a = np.array([1, 2, 3, 4, 5, 6])\n",
    "a.shape"
   ]
  },
  {
   "cell_type": "code",
   "execution_count": 76,
   "id": "79f35e68",
   "metadata": {},
   "outputs": [
    {
     "name": "stdout",
     "output_type": "stream",
     "text": [
      "(6, 1)\n",
      "[[1]\n",
      " [2]\n",
      " [3]\n",
      " [4]\n",
      " [5]\n",
      " [6]]\n"
     ]
    }
   ],
   "source": [
    "# You can use np.expand_dims to add an axis at index position 1 with:\n",
    "\n",
    "b = np.expand_dims(a, axis=1)       # CONTOH EXPAND_DIMS()\n",
    "b.shape\n",
    "print(b.shape)\n",
    "print(b)"
   ]
  },
  {
   "cell_type": "code",
   "execution_count": 77,
   "id": "13375536",
   "metadata": {},
   "outputs": [
    {
     "name": "stdout",
     "output_type": "stream",
     "text": [
      "(1, 6)\n",
      "[[1 2 3 4 5 6]]\n"
     ]
    }
   ],
   "source": [
    "# You can add an axis at index position 0 with:\n",
    "\n",
    "c = np.expand_dims(a, axis=0)       # CONTOH EXPAND_DIMS()\n",
    "print(c.shape)\n",
    "print(c)"
   ]
  },
  {
   "cell_type": "markdown",
   "id": "d50777c4",
   "metadata": {},
   "source": [
    "### **Indexing and Slicing**\n",
    ">Kalian dapat mengindeks dan slice array NumPy dengan cara yang sama seperti kalian slice lists Python."
   ]
  },
  {
   "cell_type": "markdown",
   "id": "509296ff",
   "metadata": {},
   "source": [
    "Array NumPy juga mendukung slice, seperti kalian slice lists Python, dengan menggunakan operator titik dua (yaitu arr[:]) untuk mengiris. Kita juga dapat menggunakan pengindeksan negatif untuk mengiris ke arah belakang.\n",
    "\n",
    "Kode di bawah ini menunjukkan potongan contoh array NumPy 1-D."
   ]
  },
  {
   "cell_type": "code",
   "execution_count": 80,
   "id": "7aa86761",
   "metadata": {},
   "outputs": [
    {
     "name": "stdout",
     "output_type": "stream",
     "text": [
      "[1 2 3]\n",
      "1\n",
      "2\n",
      "[1 2]\n",
      "[2 3]\n",
      "[2 3]\n"
     ]
    }
   ],
   "source": [
    "data = np.array([1,2,3])\n",
    "print(data)\n",
    "print(data[0])\n",
    "print(data[1])\n",
    "print(data[0:2])\n",
    "print(data[1:])\n",
    "print(data[-2:]) ##  -2:   = posisi -2 sampai akhir "
   ]
  },
  {
   "cell_type": "code",
   "execution_count": 81,
   "id": "ce1a262d",
   "metadata": {},
   "outputs": [
    {
     "name": "stdout",
     "output_type": "stream",
     "text": [
      "[1 2 3 4 5]\n"
     ]
    }
   ],
   "source": [
    "arr = np.array([1, 2, 3, 4, 5])\n",
    "print(arr[:])"
   ]
  },
  {
   "cell_type": "code",
   "execution_count": 82,
   "id": "3ab9e90b",
   "metadata": {},
   "outputs": [
    {
     "name": "stdout",
     "output_type": "stream",
     "text": [
      "[2 3 4 5]\n"
     ]
    }
   ],
   "source": [
    "print((arr[1:]))"
   ]
  },
  {
   "cell_type": "code",
   "execution_count": 83,
   "id": "d9497fe6",
   "metadata": {},
   "outputs": [
    {
     "name": "stdout",
     "output_type": "stream",
     "text": [
      "[3 4]\n"
     ]
    }
   ],
   "source": [
    "print((arr[2:4]))"
   ]
  },
  {
   "cell_type": "code",
   "execution_count": 84,
   "id": "c227670a",
   "metadata": {},
   "outputs": [
    {
     "name": "stdout",
     "output_type": "stream",
     "text": [
      "array([1, 2, 3, 4])\n"
     ]
    }
   ],
   "source": [
    "print(repr(arr[:-1])) # array([1, 2, 3, 4])"
   ]
  },
  {
   "cell_type": "code",
   "execution_count": 85,
   "id": "07232fa3",
   "metadata": {},
   "outputs": [
    {
     "name": "stdout",
     "output_type": "stream",
     "text": [
      "array([4, 5])\n"
     ]
    }
   ],
   "source": [
    "print(repr(arr[-2:])) # array([4, 5])"
   ]
  },
  {
   "cell_type": "markdown",
   "id": "9b00119e",
   "metadata": {},
   "source": [
    "Kita mungkin ingin mengambil bagian dari array atau elemen array tertentu untuk digunakan dalam analisis lebih lanjut atau operasi tambahan. \n",
    "\n",
    "- Untuk melakukannya, Anda harus membuat subset, mengiris, dan/atau mengindeks array Anda.\n",
    "- Jika Anda ingin memilih nilai dari array Anda yang memenuhi kondisi tertentu, langsung saja dengan NumPy.\n",
    "\n",
    "Misalnya, jika Anda mulai dengan array ini:"
   ]
  },
  {
   "cell_type": "code",
   "execution_count": 86,
   "id": "8879e138",
   "metadata": {},
   "outputs": [
    {
     "name": "stdout",
     "output_type": "stream",
     "text": [
      "[[ 1  2  3  4]\n",
      " [ 5  6  7  8]\n",
      " [ 9 10 11 12]]\n"
     ]
    }
   ],
   "source": [
    "a = np.array([[1 , 2, 3, 4], [5, 6, 7, 8], [9, 10, 11, 12]])\n",
    "print(a)"
   ]
  },
  {
   "cell_type": "code",
   "execution_count": 87,
   "id": "b07b97aa",
   "metadata": {},
   "outputs": [
    {
     "name": "stdout",
     "output_type": "stream",
     "text": [
      "[ 5  6  7  8  9 10 11 12]\n"
     ]
    }
   ],
   "source": [
    "# mencetak semua nilai dalam array yang lebih dari\n",
    "# sama dengan 5\n",
    "print(a[a>=5]) "
   ]
  },
  {
   "cell_type": "markdown",
   "id": "8353f26c",
   "metadata": {},
   "source": [
    "**CONTOH KASUS :**\n",
    ">Angka yang sama dengan atau lebih besar dari 5, dan menggunakan kondisi tersebut untuk mengindeks array."
   ]
  },
  {
   "cell_type": "code",
   "execution_count": 88,
   "id": "a22b92cd",
   "metadata": {},
   "outputs": [
    {
     "name": "stdout",
     "output_type": "stream",
     "text": [
      "[ 5  6  7  8  9 10 11 12]\n",
      "[ 5  6  7  8  9 10 11 12]\n"
     ]
    }
   ],
   "source": [
    "five_up = (a >= 5)\n",
    "\n",
    "print(a[five_up])\n",
    "print(a[a>=5]) "
   ]
  },
  {
   "cell_type": "code",
   "execution_count": 89,
   "id": "bd57bf3c",
   "metadata": {},
   "outputs": [
    {
     "name": "stdout",
     "output_type": "stream",
     "text": [
      "[ 2  4  6  8 10 12]\n"
     ]
    }
   ],
   "source": [
    "# memilih elemen yang habis dibagi 2\n",
    "divisible_by_2 = a[a%2==0]\n",
    "\n",
    "print(divisible_by_2)"
   ]
  },
  {
   "cell_type": "code",
   "execution_count": 90,
   "id": "702fe3f4",
   "metadata": {},
   "outputs": [
    {
     "name": "stdout",
     "output_type": "stream",
     "text": [
      "[ 3  4  5  6  7  8  9 10]\n"
     ]
    }
   ],
   "source": [
    "# memilih elemen yang memenuhi dua kondisi menggunakan\n",
    "# bitwise & dan | operator\n",
    "\n",
    "c = a[(a > 2) & (a < 11)]\n",
    "\n",
    "print(c)"
   ]
  },
  {
   "cell_type": "markdown",
   "id": "887155e8",
   "metadata": {},
   "source": [
    "### **Creating Array from Existing Data**\n",
    ">Anda dapat dengan mudah menggunakan buat array baru dari bagian array yang ada."
   ]
  },
  {
   "cell_type": "markdown",
   "id": "c645d290",
   "metadata": {},
   "source": [
    "slicing indexing"
   ]
  },
  {
   "cell_type": "code",
   "execution_count": null,
   "id": "99c582be",
   "metadata": {},
   "outputs": [],
   "source": [
    "np.vstack()\n",
    "np.hstack()\n",
    "np.hsplit()\n",
    ".view()\n",
    ".copy()"
   ]
  },
  {
   "cell_type": "markdown",
   "id": "b1a544f0",
   "metadata": {},
   "source": [
    "Anda dapat dengan mudah menggunakan buat array baru dari bagian array yang ada. Katakanlah Anda memiliki array ini:\n",
    "\n",
    "    array([ 1, 2, 3, 4, 5, 6, 7, 8, 9, 10])\n",
    "\n",
    "Anda dapat membuat array baru dari bagian array Anda kapan saja dengan menentukan di mana Anda ingin mengiris array Anda."
   ]
  },
  {
   "cell_type": "code",
   "execution_count": 228,
   "id": "7a49f68f",
   "metadata": {},
   "outputs": [
    {
     "data": {
      "text/plain": [
       "array([4, 5, 6, 7, 8])"
      ]
     },
     "execution_count": 228,
     "metadata": {},
     "output_type": "execute_result"
    }
   ],
   "source": [
    "arr = np.array([ 1,  2,  3,  4,  5,  6,  7,  8,  9, 10])\n",
    "arr1 = arr[3:8]\n",
    "arr1"
   ]
  },
  {
   "cell_type": "markdown",
   "id": "b1310d17",
   "metadata": {},
   "source": [
    "Anda juga dapat menumpuk dua array yang ada, baik secara vertikal maupun horizontal. Katakanlah Anda memiliki dua array:\n",
    "\n",
    "    a_1:"
   ]
  },
  {
   "cell_type": "code",
   "execution_count": 91,
   "id": "93bb9f78",
   "metadata": {},
   "outputs": [
    {
     "data": {
      "text/plain": [
       "array([[1, 1],\n",
       "       [2, 2]])"
      ]
     },
     "execution_count": 91,
     "metadata": {},
     "output_type": "execute_result"
    }
   ],
   "source": [
    "array([[1, 1],\n",
    "     [2, 2]])\n"
   ]
  },
  {
   "cell_type": "markdown",
   "id": "884a801b",
   "metadata": {},
   "source": [
    "    a_2:"
   ]
  },
  {
   "cell_type": "code",
   "execution_count": 92,
   "id": "11516698",
   "metadata": {},
   "outputs": [
    {
     "data": {
      "text/plain": [
       "array([[3, 3],\n",
       "       [4, 4]])"
      ]
     },
     "execution_count": 92,
     "metadata": {},
     "output_type": "execute_result"
    }
   ],
   "source": [
    "\n",
    "array([[3, 3],\n",
    "     [4, 4]])\n"
   ]
  },
  {
   "cell_type": "markdown",
   "id": "7a30a2fd",
   "metadata": {},
   "source": [
    "Kalian dapat menumpuk secara vertikal dengan vstack"
   ]
  },
  {
   "cell_type": "code",
   "execution_count": 95,
   "id": "9457fa46",
   "metadata": {},
   "outputs": [],
   "source": [
    "a_1 = np.array([[1, 1],\n",
    "                [2, 2]])"
   ]
  },
  {
   "cell_type": "code",
   "execution_count": 96,
   "id": "c9f65857",
   "metadata": {},
   "outputs": [],
   "source": [
    "a_2 = np.array([[3, 3],\n",
    "                [4, 4]])"
   ]
  },
  {
   "cell_type": "code",
   "execution_count": 97,
   "id": "6565e1e2",
   "metadata": {},
   "outputs": [
    {
     "data": {
      "text/plain": [
       "array([[1, 1],\n",
       "       [2, 2],\n",
       "       [3, 3],\n",
       "       [4, 4]])"
      ]
     },
     "execution_count": 97,
     "metadata": {},
     "output_type": "execute_result"
    }
   ],
   "source": [
    "np.vstack((a_1, a_2))"
   ]
  },
  {
   "cell_type": "code",
   "execution_count": 98,
   "id": "72c2853f",
   "metadata": {},
   "outputs": [
    {
     "data": {
      "text/plain": [
       "array([[1, 1, 3, 3],\n",
       "       [2, 2, 4, 4]])"
      ]
     },
     "execution_count": 98,
     "metadata": {},
     "output_type": "execute_result"
    }
   ],
   "source": [
    "# Or stack them horizontally with hstack\n",
    "\n",
    "np.hstack((a_1, a_2))"
   ]
  },
  {
   "cell_type": "code",
   "execution_count": 93,
   "id": "6cc05378",
   "metadata": {},
   "outputs": [
    {
     "data": {
      "text/plain": [
       "array([[1, 2, 3],\n",
       "       [2, 3, 4]])"
      ]
     },
     "execution_count": 93,
     "metadata": {},
     "output_type": "execute_result"
    }
   ],
   "source": [
    "a = np.array([1,2, 3])\n",
    "b = np.array([2, 3, 4])\n",
    "\n",
    "np.vstack((a,b))"
   ]
  },
  {
   "cell_type": "code",
   "execution_count": 99,
   "id": "149d2d7f",
   "metadata": {},
   "outputs": [
    {
     "name": "stdout",
     "output_type": "stream",
     "text": [
      "[[1]\n",
      " [2]\n",
      " [3]]\n",
      "==========\n",
      "[[2]\n",
      " [3]\n",
      " [4]]\n"
     ]
    },
    {
     "data": {
      "text/plain": [
       "array([[1],\n",
       "       [2],\n",
       "       [3],\n",
       "       [2],\n",
       "       [3],\n",
       "       [4]])"
      ]
     },
     "execution_count": 99,
     "metadata": {},
     "output_type": "execute_result"
    }
   ],
   "source": [
    "a = np.array([[1], [2], [3]])\n",
    "b = np.array([[2], [3], [4]])\n",
    "print(a)\n",
    "print(5*\"==\")\n",
    "print(b)\n",
    "np.vstack((a,b))"
   ]
  },
  {
   "cell_type": "code",
   "execution_count": 103,
   "id": "3c114c61",
   "metadata": {},
   "outputs": [
    {
     "data": {
      "text/plain": [
       "array([[3, 3],\n",
       "       [4, 4]])"
      ]
     },
     "execution_count": 103,
     "metadata": {},
     "output_type": "execute_result"
    }
   ],
   "source": [
    "a_2 = np.array([[3, 3],\n",
    "                [4, 4]])\n",
    "a_2"
   ]
  },
  {
   "cell_type": "code",
   "execution_count": 104,
   "id": "fbb93f6c",
   "metadata": {},
   "outputs": [
    {
     "data": {
      "text/plain": [
       "array([[1, 1],\n",
       "       [2, 2]])"
      ]
     },
     "execution_count": 104,
     "metadata": {},
     "output_type": "execute_result"
    }
   ],
   "source": [
    "a_1 = np.array([[1, 1],\n",
    "                [2, 2]])\n",
    "a_1"
   ]
  },
  {
   "cell_type": "code",
   "execution_count": 102,
   "id": "5946facf",
   "metadata": {},
   "outputs": [
    {
     "data": {
      "text/plain": [
       "array([[1, 1, 3, 3],\n",
       "       [2, 2, 4, 4]])"
      ]
     },
     "execution_count": 102,
     "metadata": {},
     "output_type": "execute_result"
    }
   ],
   "source": [
    "# Or stack them horizontally with hstack\n",
    "\n",
    "np.hstack((a_1, a_2))"
   ]
  },
  {
   "cell_type": "markdown",
   "id": "c880a509",
   "metadata": {},
   "source": [
    "- Anda dapat membagi sebuah array menjadi beberapa array yang lebih kecil menggunakan **hsplit**. \n",
    "- Anda dapat menentukan jumlah array berbentuk sama untuk dikembalikan atau kolom setelah pembagian harus dilakukan.\n",
    "\n",
    "Katakanlah Anda memiliki array ini:\n",
    "\n",
    "    array([[ 1,  2,  3,  4,  5,  6,  7,  8,  9, 10, 11, 12],\n",
    "         [13, 14, 15, 16, 17, 18, 19, 20, 21, 22, 23, 24]])"
   ]
  },
  {
   "cell_type": "code",
   "execution_count": 105,
   "id": "9d17dad6",
   "metadata": {},
   "outputs": [
    {
     "name": "stdout",
     "output_type": "stream",
     "text": [
      "[[ 1  2  3  4  5  6  7  8  9 10 11 12]\n",
      " [13 14 15 16 17 18 19 20 21 22 23 24]]\n"
     ]
    }
   ],
   "source": [
    "arrsplit = np.array([[1,  2,  3,  4,  5,  6,  7,  8,  9, 10, 11, 12],\n",
    "                     [13, 14, 15, 16, 17, 18, 19, 20, 21, 22, 23,24]])\n",
    "print(arrsplit)"
   ]
  },
  {
   "cell_type": "markdown",
   "id": "3b8aa3a1",
   "metadata": {},
   "source": [
    "    Jika panjang tidak sesuai \n",
    "```\n",
    "<ipython-input-54-f668532b9a75>:1: VisibleDeprecationWarning:\n",
    "- Creating an ndarray from ragged nested sequences (which is a list-or-tuple of lists-or-tuples-or ndarrays with different lengths or shapes) is deprecated.\n",
    "- If you meant to do this, you must specify 'dtype=object' when creating the ndarray\n",
    "  arrsplit = np.array([[1,  2,  3,  4,  5,  6,  7,  8,  9, 10, 11, 12],\n",
    "  ```"
   ]
  },
  {
   "cell_type": "code",
   "execution_count": 238,
   "id": "69bb04fc",
   "metadata": {},
   "outputs": [
    {
     "data": {
      "text/plain": [
       "[array([[ 1,  2,  3,  4],\n",
       "        [13, 14, 15, 16]]),\n",
       " array([[ 5,  6,  7,  8],\n",
       "        [17, 18, 19, 20]]),\n",
       " array([[ 9, 10, 11, 12],\n",
       "        [21, 22, 23, 24]])]"
      ]
     },
     "execution_count": 238,
     "metadata": {},
     "output_type": "execute_result"
    }
   ],
   "source": [
    "# membagi array ini menjadi tiga array yang sama bentuknya\n",
    "np.hsplit(arrsplit,3)"
   ]
  },
  {
   "cell_type": "markdown",
   "id": "e6944989",
   "metadata": {},
   "source": [
    "Kalian dapat menggunakan metode view untuk membuat objek array baru yang terlihat sama dengan array asli (shallow copy)"
   ]
  },
  {
   "cell_type": "code",
   "execution_count": 106,
   "id": "890d54cb",
   "metadata": {},
   "outputs": [
    {
     "data": {
      "text/plain": [
       "array([[ 1,  2,  3,  4],\n",
       "       [ 5,  6,  7,  8],\n",
       "       [ 9, 10, 11, 12]])"
      ]
     },
     "execution_count": 106,
     "metadata": {},
     "output_type": "execute_result"
    }
   ],
   "source": [
    "a = np.array([[1 , 2, 3, 4], [5, 6, 7, 8], [9, 10, 11, 12]])\n",
    "a"
   ]
  },
  {
   "cell_type": "code",
   "execution_count": 107,
   "id": "4fe22540",
   "metadata": {},
   "outputs": [
    {
     "data": {
      "text/plain": [
       "array([[ 1,  2,  3,  4],\n",
       "       [ 5,  6,  7,  8],\n",
       "       [ 9, 10, 11, 12]])"
      ]
     },
     "execution_count": 107,
     "metadata": {},
     "output_type": "execute_result"
    }
   ],
   "source": [
    "# You can create a new array object that looks at the same data\n",
    "\n",
    "b = a.view()\n",
    "b"
   ]
  },
  {
   "cell_type": "code",
   "execution_count": 108,
   "id": "f032ab58",
   "metadata": {},
   "outputs": [
    {
     "data": {
      "text/plain": [
       "array([[ 1,  2,  3,  4],\n",
       "       [ 5,  6,  7,  8],\n",
       "       [ 9, 10, 11, 12]])"
      ]
     },
     "execution_count": 108,
     "metadata": {},
     "output_type": "execute_result"
    }
   ],
   "source": [
    "# Using the copy method will make a complete copy of the array\n",
    "# and its data (a deep copy).\n",
    "c = a.copy()\n",
    "c"
   ]
  },
  {
   "cell_type": "markdown",
   "id": "969a60a2",
   "metadata": {},
   "source": [
    "### **Copying**\n",
    ">Jika tidak ingin merubah nilai asli menggunakan fungsi copy() "
   ]
  },
  {
   "cell_type": "markdown",
   "id": "94684264",
   "metadata": {},
   "source": [
    "Serupa dengan List Python, pada saat membuat referensi ke array NumPy, itu tidak membuat array yang berbeda. Oleh karena itu, jika kita mengubah nilai menggunakan variabel referensi, itu juga mengubah array asli.\n",
    "\n",
    "- Jika tidak ingin merubah nilai asli menggunakan fungsi copy() \n",
    "- Fungsi tidak memiliki argumen yang diperlukan, dan mengembalikan array yang disalin.\n",
    "\n",
    "Dalam contoh kode di bawah ini :\n",
    "- c adalah referensi ke while d adalah salinannya.\n",
    "- Oleh karena itu, perubahan c menyebabkan perubahan yang sama pada a,\n",
    "- sedangkan perubahan d tidak mengubah nilai b."
   ]
  },
  {
   "cell_type": "code",
   "execution_count": 109,
   "id": "478f7cbd",
   "metadata": {},
   "outputs": [
    {
     "name": "stdout",
     "output_type": "stream",
     "text": [
      "[0, 1]\n",
      "[5, 1]\n"
     ]
    }
   ],
   "source": [
    "x = [0,1]\n",
    "y = [9,8]\n",
    "z = x\n",
    "\n",
    "print(x)\n",
    "z[0] = 5 \n",
    "print(x)"
   ]
  },
  {
   "cell_type": "code",
   "execution_count": 111,
   "id": "0501d82a",
   "metadata": {},
   "outputs": [
    {
     "name": "stdout",
     "output_type": "stream",
     "text": [
      "[9, 8]\n",
      "[6, 8]\n"
     ]
    }
   ],
   "source": [
    "\n",
    "p = y.copy()\n",
    "p[0] = 6 \n",
    "print(y)  #tidak berubah \n",
    "print(p)"
   ]
  },
  {
   "cell_type": "code",
   "execution_count": 112,
   "id": "f3452e7a",
   "metadata": {},
   "outputs": [
    {
     "name": "stdout",
     "output_type": "stream",
     "text": [
      "Array a: array([0, 1])\n",
      "Array a: array([5, 1])\n",
      "Array b: array([9, 8])\n",
      "Array b: array([6, 8])\n"
     ]
    }
   ],
   "source": [
    "a = np.array([0, 1])\n",
    "b = np.array([9, 8])\n",
    "c = a\n",
    "print('Array a: {}'.format(repr(a)))\n",
    "c[0] = 5\n",
    "print('Array a: {}'.format(repr(a)))\n",
    "\n",
    "d = b.copy()\n",
    "d[0] = 6\n",
    "print('Array b: {}'.format(repr(b)))\n",
    "print('Array b: {}'.format(repr(d)))\n"
   ]
  },
  {
   "cell_type": "markdown",
   "id": "968f3267",
   "metadata": {},
   "source": [
    "### **Basic array operations**"
   ]
  },
  {
   "cell_type": "markdown",
   "id": "fd343504",
   "metadata": {},
   "source": [
    "    Addition, subtraction, multiplication, division, and more\n",
    "\n",
    "Setelah Anda membuat array, Anda dapat mulai bekerja dengannya.\n",
    "\n",
    "**CONTOH KASUS :**\n",
    ">Anda telah membuat dua array, satu disebut \"data\" dan satu lagi disebut \"ones\". Anda dapat menambahkan array bersama dengan tanda plus.\n",
    "\n",
    "    data + ones\n",
    "\n",
    "Anda tentu saja dapat melakukan lebih dari sekadar penambahan.\n",
    "\n",
    "    data - data\n",
    "    data * data\n",
    "    data / data\n",
    "    \n",
    "Operasi dasar sederhana dengan NumPy. Jika Anda ingin menemukan jumlah elemen dalam array, Anda akan menggunakan **sum()**. Ini berfungsi untuk larik 1D, larik 2D, dan larik dalam dimensi yang lebih tinggi."
   ]
  },
  {
   "cell_type": "code",
   "execution_count": 113,
   "id": "de2e4e29",
   "metadata": {},
   "outputs": [
    {
     "data": {
      "text/plain": [
       "10"
      ]
     },
     "execution_count": 113,
     "metadata": {},
     "output_type": "execute_result"
    }
   ],
   "source": [
    "a = np.array([1, 2, 3, 4])\n",
    "\n",
    "# menambahkan semua elemen dalam array\n",
    "a.sum()"
   ]
  },
  {
   "cell_type": "markdown",
   "id": "c0122da8",
   "metadata": {},
   "source": [
    "Untuk menambahkan baris atau kolom dalam array 2D, kita harus menentukan axis \n",
    "\n",
    "Jika kalian mulai dengan array ini:"
   ]
  },
  {
   "cell_type": "code",
   "execution_count": 114,
   "id": "f6fff3dc",
   "metadata": {},
   "outputs": [
    {
     "data": {
      "text/plain": [
       "array([[1, 1],\n",
       "       [2, 2]])"
      ]
     },
     "execution_count": 114,
     "metadata": {},
     "output_type": "execute_result"
    }
   ],
   "source": [
    "b = np.array([[1, 1], [2, 2]])\n",
    "b"
   ]
  },
  {
   "cell_type": "code",
   "execution_count": 115,
   "id": "548b3e8a",
   "metadata": {},
   "outputs": [
    {
     "data": {
      "text/plain": [
       "array([3, 3])"
      ]
     },
     "execution_count": 115,
     "metadata": {},
     "output_type": "execute_result"
    }
   ],
   "source": [
    "# Anda dapat menjumlahkan baris\n",
    "b.sum(axis=0)"
   ]
  },
  {
   "cell_type": "code",
   "execution_count": 117,
   "id": "00e8c394",
   "metadata": {},
   "outputs": [
    {
     "data": {
      "text/plain": [
       "array([2, 4])"
      ]
     },
     "execution_count": 117,
     "metadata": {},
     "output_type": "execute_result"
    }
   ],
   "source": [
    "# Anda dapat menjumlahkan kolom\n",
    "b.sum(axis=1)"
   ]
  },
  {
   "cell_type": "code",
   "execution_count": 118,
   "id": "e4f08f71",
   "metadata": {},
   "outputs": [
    {
     "data": {
      "text/plain": [
       "array([1, 2])"
      ]
     },
     "execution_count": 118,
     "metadata": {},
     "output_type": "execute_result"
    }
   ],
   "source": [
    "data = np.array([1,2])\n",
    "data"
   ]
  },
  {
   "cell_type": "code",
   "execution_count": 119,
   "id": "0123c365",
   "metadata": {},
   "outputs": [
    {
     "data": {
      "text/plain": [
       "array([1., 1.])"
      ]
     },
     "execution_count": 119,
     "metadata": {},
     "output_type": "execute_result"
    }
   ],
   "source": [
    "ones = np.ones(2)\n",
    "ones"
   ]
  },
  {
   "cell_type": "code",
   "execution_count": 120,
   "id": "a88e864d",
   "metadata": {},
   "outputs": [
    {
     "data": {
      "text/plain": [
       "array([2., 3.])"
      ]
     },
     "execution_count": 120,
     "metadata": {},
     "output_type": "execute_result"
    }
   ],
   "source": [
    "data + ones"
   ]
  },
  {
   "cell_type": "code",
   "execution_count": 121,
   "id": "dc607600",
   "metadata": {},
   "outputs": [
    {
     "data": {
      "text/plain": [
       "array([1, 4])"
      ]
     },
     "execution_count": 121,
     "metadata": {},
     "output_type": "execute_result"
    }
   ],
   "source": [
    "data * data"
   ]
  },
  {
   "cell_type": "code",
   "execution_count": 122,
   "id": "f7ba978d",
   "metadata": {},
   "outputs": [
    {
     "data": {
      "text/plain": [
       "array([2., 2.])"
      ]
     },
     "execution_count": 122,
     "metadata": {},
     "output_type": "execute_result"
    }
   ],
   "source": [
    "newdata = data / data \n",
    "\n",
    "newdata+ones"
   ]
  },
  {
   "cell_type": "markdown",
   "id": "81f4457e",
   "metadata": {},
   "source": [
    "### **Broadcasting**\n",
    ">Ada kalanya Anda mungkin ingin melakukan operasi antara array dan satu angka (juga disebut operasi antara vektor dan skalar) atau antara array dengan dua ukuran berbeda."
   ]
  },
  {
   "cell_type": "markdown",
   "id": "8b21c187",
   "metadata": {},
   "source": [
    "**CONTOH KASUS :**\n",
    ">Array Anda (kami akan menyebutnya \"data\") mungkin berisi informasi tentang jarak dalam mil tetapi Anda ingin mengubah informasi tersebut menjadi kilometer."
   ]
  },
  {
   "cell_type": "markdown",
   "id": "bf3f8be1",
   "metadata": {},
   "source": [
    "Anda dapat melakukan operasi ini dengan:"
   ]
  },
  {
   "cell_type": "code",
   "execution_count": 124,
   "id": "9c62ec9f",
   "metadata": {},
   "outputs": [
    {
     "data": {
      "text/plain": [
       "array([1.6, 3.2])"
      ]
     },
     "execution_count": 124,
     "metadata": {},
     "output_type": "execute_result"
    }
   ],
   "source": [
    "data * 1.6"
   ]
  },
  {
   "cell_type": "markdown",
   "id": "ef4af138",
   "metadata": {},
   "source": [
    "<img src=\"https://i.ibb.co/t3Y0GvK/broadcast.png\" align=\"left\"> "
   ]
  },
  {
   "cell_type": "markdown",
   "id": "02773682",
   "metadata": {},
   "source": [
    ">NumPy memahami bahwa perkalian harus terjadi dengan setiap sel. Konsep itu disebut broadcasting.\n",
    "\n",
    ">Broadcasting adalah mekanisme yang memungkinkan NumPy untuk melakukan operasi pada array dari berbagai bentuk. \n",
    "\n",
    "Dimensi array Anda harus kompatibel, misalnya, ketika dimensi kedua array sama atau ketika salah satunya adalah 1.\n",
    "\n",
    "Jika dimensi tidak kompatibel, Anda akan mendapatkan kesalahan nilai."
   ]
  },
  {
   "cell_type": "code",
   "execution_count": 125,
   "id": "444ee17e",
   "metadata": {},
   "outputs": [
    {
     "name": "stdout",
     "output_type": "stream",
     "text": [
      "[1 2]\n",
      "[2 4]\n"
     ]
    }
   ],
   "source": [
    "print(data)\n",
    "print(data * 2) "
   ]
  },
  {
   "cell_type": "markdown",
   "id": "55ceb0f6",
   "metadata": {},
   "source": [
    "### **More Array Operations** "
   ]
  },
  {
   "cell_type": "markdown",
   "id": "0e539e21",
   "metadata": {},
   "source": [
    "- Maximum\n",
    "- minimum\n",
    "- sum\n",
    "- mean\n",
    "- product\n",
    "- standard deviation, and more\n",
    "\n",
    "NumPy juga melakukan fungsi agregasi. Selain **min, max**, dan **sum**,  Anda dapat dengan mudah menjalankan **mean** untuk mendapatkan rata-rata, **prod** untuk mendapatkan hasil perkalian elemen, **std** untuk mendapatkan standar deviasi, dan banyak lagi."
   ]
  },
  {
   "cell_type": "code",
   "execution_count": null,
   "id": "3886b891",
   "metadata": {},
   "outputs": [],
   "source": [
    "data.max()\n",
    "data.min()\n",
    "data.sum()"
   ]
  },
  {
   "cell_type": "code",
   "execution_count": null,
   "id": "b558e822",
   "metadata": {},
   "outputs": [
    {
     "name": "stdout",
     "output_type": "stream",
     "text": [
      "[[0.45053314 0.17296777 0.34376245 0.5510652 ]\n",
      " [0.54627315 0.05093587 0.40067661 0.55645993]\n",
      " [0.12697628 0.82485143 0.26590556 0.56917101]]\n"
     ]
    }
   ],
   "source": [
    "A = np.array([[0.45053314, 0.17296777, 0.34376245, 0.5510652],\n",
    "              [0.54627315, 0.05093587, 0.40067661, 0.55645993],\n",
    "              [0.12697628, 0.82485143, 0.26590556, 0.56917101]])\n",
    "\n",
    "print(A)"
   ]
  },
  {
   "cell_type": "markdown",
   "id": "3afe631c",
   "metadata": {},
   "source": [
    "    Sangat umum untuk ingin menggabungkan sepanjang baris atau kolom. Secara default, setiap fungsi agregasi NumPy akan mengembalikan agregat dari seluruh array."
   ]
  },
  {
   "cell_type": "code",
   "execution_count": null,
   "id": "f426f682",
   "metadata": {},
   "outputs": [
    {
     "data": {
      "text/plain": [
       "4.8595784"
      ]
     },
     "metadata": {},
     "output_type": "display_data"
    }
   ],
   "source": [
    "A.sum()\n"
   ]
  },
  {
   "cell_type": "code",
   "execution_count": null,
   "id": "b0220d26",
   "metadata": {},
   "outputs": [
    {
     "data": {
      "text/plain": [
       "0.05093587"
      ]
     },
     "metadata": {},
     "output_type": "display_data"
    }
   ],
   "source": [
    "A.min()\n"
   ]
  },
  {
   "cell_type": "code",
   "execution_count": null,
   "id": "28b0009a",
   "metadata": {},
   "outputs": [
    {
     "data": {
      "text/plain": [
       "array([0.17296777, 0.05093587, 0.12697628])"
      ]
     },
     "metadata": {},
     "output_type": "display_data"
    }
   ],
   "source": [
    "A.min(axis=1)"
   ]
  },
  {
   "cell_type": "code",
   "execution_count": null,
   "id": "5d21acdb",
   "metadata": {},
   "outputs": [
    {
     "data": {
      "text/plain": [
       "array([0.12697628, 0.05093587, 0.26590556, 0.5510652 ])"
      ]
     },
     "metadata": {},
     "output_type": "display_data"
    }
   ],
   "source": [
    "A.min(axis=0)\n"
   ]
  },
  {
   "cell_type": "code",
   "execution_count": null,
   "id": "71289dd6",
   "metadata": {},
   "outputs": [
    {
     "data": {
      "text/plain": [
       "0.82485143"
      ]
     },
     "metadata": {},
     "output_type": "display_data"
    }
   ],
   "source": [
    "A.max()"
   ]
  },
  {
   "cell_type": "code",
   "execution_count": null,
   "id": "82bd5be3",
   "metadata": {},
   "outputs": [
    {
     "data": {
      "text/plain": [
       "array([0.5510652 , 0.55645993, 0.82485143])"
      ]
     },
     "metadata": {},
     "output_type": "display_data"
    }
   ],
   "source": [
    "A.max(axis=1)"
   ]
  },
  {
   "cell_type": "code",
   "execution_count": null,
   "id": "e0106575",
   "metadata": {},
   "outputs": [
    {
     "data": {
      "text/plain": [
       "0.21392120766089617"
      ]
     },
     "metadata": {},
     "output_type": "display_data"
    }
   ],
   "source": [
    "A.std()"
   ]
  },
  {
   "cell_type": "markdown",
   "id": "0293df06",
   "metadata": {},
   "source": [
    " Empat nilai yang tercantum di atas sesuai dengan jumlah kolom dalam array Anda. Dengan array empat kolom, Anda akan mendapatkan empat nilai sebagai hasilnya."
   ]
  },
  {
   "cell_type": "code",
   "execution_count": null,
   "id": "07938dc9",
   "metadata": {},
   "outputs": [
    {
     "data": {
      "text/plain": [
       "array([0.17296777, 0.05093587, 0.12697628])"
      ]
     },
     "metadata": {},
     "output_type": "display_data"
    }
   ],
   "source": [
    "dataA = A.min(axis=1)\n",
    "dataA"
   ]
  },
  {
   "cell_type": "code",
   "execution_count": null,
   "id": "3ba056d2",
   "metadata": {},
   "outputs": [
    {
     "data": {
      "text/plain": [
       "1"
      ]
     },
     "metadata": {},
     "output_type": "display_data"
    }
   ],
   "source": [
    "dataA.argmin()          # posisi index "
   ]
  },
  {
   "cell_type": "code",
   "execution_count": null,
   "id": "5a8cb902",
   "metadata": {},
   "outputs": [
    {
     "data": {
      "text/plain": [
       "0"
      ]
     },
     "metadata": {},
     "output_type": "display_data"
    }
   ],
   "source": [
    "dataA.argmax()          # posisi index "
   ]
  },
  {
   "cell_type": "markdown",
   "id": "f5ceeb3a",
   "metadata": {},
   "source": [
    "### **Save Array Into File**"
   ]
  },
  {
   "cell_type": "code",
   "execution_count": null,
   "id": "8dcb2378",
   "metadata": {},
   "outputs": [
    {
     "name": "stdout",
     "output_type": "stream",
     "text": [
      "[[0.45053314 0.17296777 0.34376245 0.5510652 ]\n",
      " [0.54627315 0.05093587 0.40067661 0.55645993]\n",
      " [0.12697628 0.82485143 0.26590556 0.56917101]]\n"
     ]
    }
   ],
   "source": [
    "A = np.array([[0.45053314, 0.17296777, 0.34376245, 0.5510652],\n",
    "              [0.54627315, 0.05093587, 0.40067661, 0.55645993],\n",
    "              [0.12697628, 0.82485143, 0.26590556, 0.56917101]])\n",
    "\n",
    "print(A)"
   ]
  },
  {
   "cell_type": "code",
   "execution_count": null,
   "id": "fb0eef2c",
   "metadata": {},
   "outputs": [],
   "source": [
    "np.save(\"myarraytest2022.npy\",A)"
   ]
  },
  {
   "cell_type": "code",
   "execution_count": null,
   "id": "4aaf4176",
   "metadata": {},
   "outputs": [
    {
     "name": "stdout",
     "output_type": "stream",
     "text": [
      "[[0.45053314 0.17296777 0.34376245 0.5510652 ]\n",
      " [0.54627315 0.05093587 0.40067661 0.55645993]\n",
      " [0.12697628 0.82485143 0.26590556 0.56917101]]\n"
     ]
    }
   ],
   "source": [
    "responseFile = np.load('myarraytest2022.npy')\n",
    "print(responseFile)"
   ]
  },
  {
   "cell_type": "code",
   "execution_count": null,
   "id": "752d5632",
   "metadata": {},
   "outputs": [],
   "source": []
  },
  {
   "cell_type": "markdown",
   "id": "d9d26279",
   "metadata": {},
   "source": [
    "## **FUNCTION**\n",
    "---"
   ]
  },
  {
   "cell_type": "markdown",
   "id": "19bd32bb",
   "metadata": {},
   "source": [
    "Beberapa fungsi utilitas dasar dari modul np.random :\n",
    "- np.random.seed\n",
    "- np.random.shuffle\n",
    "\n",
    "Kami menggunakan fungsi **np.random.seed** untuk mengatur random seed, yang *memungkinkan kami untuk mengontrol output* dari fungsi pseudo-random.\n",
    "\n",
    "Fungsi mengambil satu bilangan bulat sebagai argumen, yang mewakili random seed.\n",
    "\n",
    "Kode di bawah ini menggunakan np.random.seed dengan seed random yang sama. Perhatikan bagaimana output dari \n",
    "fungsi random di setiap proses berikutnya adalah identik ketika ditetapkan random seed yang sama.\n",
    "Beberapa fungsi utilitas dasar dari modul np.random adalah np.random.seed dan np.random.shuffle. \n",
    "\n",
    "Dalam menggunakan fungsi np.random.seed untuk mengatur random seed, yang memungkinkan dilakukan \n",
    "untuk mengontrol output dari fungsi pseudo-acak. Fungsi mengambil satu bilangan bulat sebagai argumen, \n",
    "yang mewakili random seed.\n",
    "\n",
    "Kode di bawah ini menggunakan np.random.seed dengan seed acak yang sama.\n",
    "\n",
    "Perhatikan bagaimana output dari fungsi random di setiap proses berikutnya adalah identik ketika \n",
    "kita menetapkan random seed yang sama."
   ]
  },
  {
   "cell_type": "markdown",
   "id": "7f91b6de",
   "metadata": {},
   "source": [
    "#### **zeros**"
   ]
  },
  {
   "cell_type": "code",
   "execution_count": null,
   "id": "db747e0a",
   "metadata": {},
   "outputs": [],
   "source": [
    "a = np.zeros((2,2))   # Create an array of all zeros\n",
    "print(a)              # Prints \"[[ 0.  0.]\n",
    "                      #          [ 0.  0.]]\""
   ]
  },
  {
   "cell_type": "markdown",
   "id": "701db9dc",
   "metadata": {},
   "source": [
    "#### **ones**"
   ]
  },
  {
   "cell_type": "code",
   "execution_count": null,
   "id": "7763488c",
   "metadata": {},
   "outputs": [],
   "source": [
    "b = np.ones((1,2))    # Create an array of all ones\n",
    "print(b)              # Prints \"[[ 1.  1.]]\""
   ]
  },
  {
   "cell_type": "markdown",
   "id": "53f7c691",
   "metadata": {},
   "source": [
    "#### **full**"
   ]
  },
  {
   "cell_type": "code",
   "execution_count": null,
   "id": "187c16c7",
   "metadata": {},
   "outputs": [],
   "source": [
    "c = np.full((2,2), 7)  # Create a constant array\n",
    "print(c)               # Prints \"[[ 7.  7.]\n",
    "                       #          [ 7.  7.]]\""
   ]
  },
  {
   "cell_type": "markdown",
   "id": "62b9e5d2",
   "metadata": {},
   "source": [
    "#### **eye**"
   ]
  },
  {
   "cell_type": "code",
   "execution_count": null,
   "id": "ff5649c2",
   "metadata": {},
   "outputs": [],
   "source": [
    "d = np.eye(2)         # Create a 2x2 identity matrix\n",
    "print(d)              # Prints \"[[ 1.  0.]\n",
    "                      #          [ 0.  1.]]\""
   ]
  },
  {
   "cell_type": "markdown",
   "id": "29527ea5",
   "metadata": {},
   "source": [
    "#### **Random**"
   ]
  },
  {
   "cell_type": "code",
   "execution_count": 264,
   "id": "8db3d571",
   "metadata": {},
   "outputs": [
    {
     "name": "stdout",
     "output_type": "stream",
     "text": [
      "3\n"
     ]
    }
   ],
   "source": [
    "print(np.random.randint(30))"
   ]
  },
  {
   "cell_type": "code",
   "execution_count": 260,
   "id": "6e701cee",
   "metadata": {},
   "outputs": [
    {
     "name": "stdout",
     "output_type": "stream",
     "text": [
      "5\n"
     ]
    }
   ],
   "source": [
    "np.random.seed(0)\n",
    "print(np.random.randint(10))"
   ]
  },
  {
   "cell_type": "code",
   "execution_count": 269,
   "id": "ffe94469",
   "metadata": {},
   "outputs": [
    {
     "name": "stdout",
     "output_type": "stream",
     "text": [
      "[89 57 74 92 98 59]\n"
     ]
    }
   ],
   "source": [
    "random_arr = np.random.randint(10,100,6) # dari 10 ke 100 sebanyak 6 \n",
    "print(random_arr)"
   ]
  },
  {
   "cell_type": "code",
   "execution_count": 271,
   "id": "dab7c5da",
   "metadata": {},
   "outputs": [
    {
     "name": "stdout",
     "output_type": "stream",
     "text": [
      "array([[47, 50],\n",
      "       [67, 70]])\n"
     ]
    }
   ],
   "source": [
    "np.random.seed(0)\n",
    "random_arr = np.random.randint(3, high=100,\n",
    "                               size=(2, 2)) ## randint(low, high=None, size=None, dtype=int)\n",
    "\n",
    "print(repr(random_arr))\n",
    "\n"
   ]
  },
  {
   "cell_type": "code",
   "execution_count": 272,
   "id": "de242ea2",
   "metadata": {},
   "outputs": [
    {
     "name": "stdout",
     "output_type": "stream",
     "text": [
      "array([[43, 18],\n",
      "       [75, 25]])\n"
     ]
    }
   ],
   "source": [
    "\n",
    "# New seed\n",
    "np.random.seed(2)\n",
    "\n",
    "random_arr = np.random.randint(3, high=100,\n",
    "                               size=(2, 2))\n",
    "print(repr(random_arr))\n"
   ]
  },
  {
   "cell_type": "code",
   "execution_count": 273,
   "id": "c6eaddac",
   "metadata": {},
   "outputs": [
    {
     "name": "stdout",
     "output_type": "stream",
     "text": [
      "array([[47, 50],\n",
      "       [67, 70]])\n"
     ]
    }
   ],
   "source": [
    "\n",
    "# Original seed\n",
    "np.random.seed(0)\n",
    "random_arr = np.random.randint(3, high=100,\n",
    "                               size=(2, 2))\n",
    "print(repr(random_arr))"
   ]
  },
  {
   "cell_type": "markdown",
   "id": "a5cb24d7",
   "metadata": {},
   "source": [
    "### **LATIHAN PRAKTIKUM 1**\n",
    "---"
   ]
  },
  {
   "cell_type": "markdown",
   "id": "f3f3cf78",
   "metadata": {},
   "source": [
    "\n",
    "* Buat lah Array \n",
    "```\n",
    "[[  0  72   3]\n",
    " [  1   3 -60]\n",
    " [ -3  -2   4]]\n",
    "``` \n",
    "\n",
    "Simpan file Array tersebut \n",
    "Kemudian lakukan load file Array \n",
    "\n",
    "lakukan pencarian data dibawah ini \n",
    "\n",
    "Temukan Nilai minum dan maksimum pada file tersebut \n",
    "\n",
    "Temukan Nilai minum di setiap kolom \n",
    "Temukan Nilai Maksimum di setiap Kolom \n",
    "Menemukan Nilai Minimum di setiap baris \n",
    "Menemukan Nilai Maksimum di setiap baris "
   ]
  },
  {
   "cell_type": "code",
   "execution_count": null,
   "id": "c5e28da4",
   "metadata": {},
   "outputs": [],
   "source": [
    "arr = np.array([[0, 72, 3],\n",
    "                [1, 3, -60],\n",
    "                [-3, -2, 4]])\n",
    "print(arr)"
   ]
  },
  {
   "cell_type": "code",
   "execution_count": null,
   "id": "a592bd23",
   "metadata": {},
   "outputs": [],
   "source": [
    "np.save(\"myarray3.npy\",arr)\n"
   ]
  },
  {
   "cell_type": "code",
   "execution_count": null,
   "id": "89358490",
   "metadata": {},
   "outputs": [],
   "source": [
    "resfile = np.load('myarray3.npy')\n",
    "print(resfile)"
   ]
  },
  {
   "cell_type": "code",
   "execution_count": null,
   "id": "b587160b",
   "metadata": {},
   "outputs": [],
   "source": [
    "print(resfile.min())\n",
    "print(resfile.max())\n",
    "\n",
    "print(repr(resfile.min(axis=0)))\n",
    "print(repr(resfile.max(axis=0)))\n",
    "\n",
    "print(repr(resfile.max(axis=-1)))\n",
    "print(repr(resfile.min(axis=-1)))\n",
    "\n"
   ]
  },
  {
   "cell_type": "markdown",
   "id": "cc7192cb",
   "metadata": {},
   "source": [
    "----------"
   ]
  },
  {
   "cell_type": "markdown",
   "id": "c3edcfda",
   "metadata": {},
   "source": [
    "### **LATIHAN STUDI KASUS**\n",
    "---"
   ]
  },
  {
   "cell_type": "markdown",
   "id": "11ecb4b9",
   "metadata": {},
   "source": [
    "10 buah botol minum akan dibuat untuk menyimpan air dengan jari2 dan tinggi yang berbeda - beda . \n",
    "Besaran jari2 dan tinggi botol adalah bilang bulat kisaran 7 sampai dengan 20 cm . \n",
    "\n",
    "Temukan : \n",
    "\n",
    "1. Volume air yang dapat disimpan di setiap botol \n",
    "2. Total volume air yang tersimpan dalam semua botol \n",
    "3. Botol mana yang volume air terkecil dan temukan volumenya \n",
    "4. Botol mana yang menampung volume air terbesar dan temukan volume airnya . \n",
    "5. Rata-rata volume yang dapat di tampung di tiap botol "
   ]
  },
  {
   "cell_type": "markdown",
   "id": "282480b8",
   "metadata": {},
   "source": [
    "Solusi : \n",
    "1. Lakukan generate tinggi botol dan jari2 \n",
    "2. Punya batasan 7 sampai 20 , kemudian sebanyak 10 \n",
    "   Dengan kata lain harus mengenerate sebanyak 20 \n",
    "3. Membentuk botol sebanyak 10 buah (tinggi dan jari2) \n",
    "4. Setelah terbentuk botol mencari volume air masing botol \n",
    "   Volume air = (Pi x r^2 x t ) untuk numpy pi = np.pi \n",
    "5. Mencari Total volume air dalam semua botol sum \n",
    "6. Mencari botol yang terkcil dan temukan volume nya \n",
    "7. Mencari botol yang terbesar dan temukan volume nya \n",
    "8. Mencari rata2 dengan mean "
   ]
  },
  {
   "cell_type": "code",
   "execution_count": 286,
   "id": "8871bfca",
   "metadata": {},
   "outputs": [
    {
     "name": "stdout",
     "output_type": "stream",
     "text": [
      "[19 12  7 10 18 10 14 16 10 12  9 11 14 13 15 15 19 17  8 13]\n"
     ]
    }
   ],
   "source": [
    "import numpy as np \n",
    "np.random.seed(0)\n",
    "dataBotol = np.random.randint(7,20,20)\n",
    "print(dataBotol)"
   ]
  },
  {
   "cell_type": "code",
   "execution_count": null,
   "id": "ac557118",
   "metadata": {},
   "outputs": [],
   "source": [
    "dataBotol.resize(10,2)\n",
    "print(dataBotol)"
   ]
  },
  {
   "cell_type": "code",
   "execution_count": null,
   "id": "a5d13dcc",
   "metadata": {},
   "outputs": [],
   "source": [
    "## tinngi kolom = 0\n",
    "## jari kolom =1 \n",
    "volume = np.pi * dataBotol[:,1]**2 * dataBotol[:,0]\n",
    "print(volume)"
   ]
  },
  {
   "cell_type": "code",
   "execution_count": null,
   "id": "53c6dd86",
   "metadata": {},
   "outputs": [],
   "source": [
    "totalVolume = volume.sum()\n",
    "print(f\"Total volume  : {totalVolume} \")\n"
   ]
  },
  {
   "cell_type": "code",
   "execution_count": null,
   "id": "5c41218b",
   "metadata": {},
   "outputs": [],
   "source": [
    "volume.argmin() # \n",
    "volume[volume.argmin()]"
   ]
  },
  {
   "cell_type": "code",
   "execution_count": null,
   "id": "813aea0b",
   "metadata": {},
   "outputs": [],
   "source": [
    "volume.argmax()\n",
    "volume[volume.argmax()]"
   ]
  },
  {
   "cell_type": "code",
   "execution_count": null,
   "id": "9e53b8b4",
   "metadata": {},
   "outputs": [],
   "source": [
    "idxBotolKecil = volume.argmin()\n",
    "volumeBotolKecil = volume[idxBotolKecil]\n",
    "print(f\"Botol Terkecil Pada Botol index : {idxBotolKecil} volume {volumeBotolKecil}\")\n",
    "idxBotolBesar = volume.argmax()\n",
    "volumeBotolBesar = volume[idxBotolBesar]\n",
    "print(f\"Botol Terkecil Pada Botol index : {idxBotolBesar} volume {volumeBotolBesar}\")\n"
   ]
  },
  {
   "cell_type": "markdown",
   "id": "46abf131",
   "metadata": {},
   "source": [
    "## **MATRICES**\n",
    "---\n",
    ">Anda dapat meneruskan list of list Python untuk membuat matriks untuk mewakilinya di NumPy."
   ]
  },
  {
   "cell_type": "markdown",
   "id": "2c7bb790",
   "metadata": {},
   "source": [
    "### **Membuat Matriks**\n",
    ">np.array([[1,2],[3,4]])"
   ]
  },
  {
   "cell_type": "markdown",
   "id": "e2574199",
   "metadata": {},
   "source": [
    "Kami juga dapat menggunakan metode yang sama yang kami sebutkan di atas (**ones()**, **zeros()**, dan **random.random()**) selama kami memberi mereka tupel yang menjelaskan dimensi matriks yang kami buat"
   ]
  },
  {
   "cell_type": "code",
   "execution_count": 144,
   "id": "9927c73a",
   "metadata": {},
   "outputs": [
    {
     "data": {
      "text/plain": [
       "array([[0.31887346, 0.680065  ],\n",
       "       [0.74054642, 0.08522349],\n",
       "       [0.92572509, 0.7866034 ]])"
      ]
     },
     "execution_count": 144,
     "metadata": {},
     "output_type": "execute_result"
    }
   ],
   "source": [
    "np.ones((3,2))\n",
    "np.zeros((3,2))\n",
    "np.random.random((3,2))"
   ]
  },
  {
   "cell_type": "code",
   "execution_count": 143,
   "id": "557a5a0c",
   "metadata": {},
   "outputs": [
    {
     "name": "stdout",
     "output_type": "stream",
     "text": [
      "[[1. 1.]\n",
      " [1. 1.]\n",
      " [1. 1.]]\n",
      "[[0. 0.]\n",
      " [0. 0.]\n",
      " [0. 0.]]\n",
      "[[0.91884487 0.51973842]\n",
      " [0.36481454 0.59200795]\n",
      " [0.61818012 0.17130877]]\n"
     ]
    }
   ],
   "source": [
    "print(np.ones((3,2)))\n",
    "print(np.zeros((3,2)))\n",
    "print(np.random.random((3,2)))"
   ]
  },
  {
   "cell_type": "markdown",
   "id": "0c330e7e",
   "metadata": {},
   "source": [
    "### **Matrix Arithmetic**\n",
    ">Kita dapat menjumlahkan dan mengalikan matriks menggunakan operator aritmatika (+ - * / )  "
   ]
  },
  {
   "cell_type": "markdown",
   "id": "715303c9",
   "metadata": {},
   "source": [
    "Jika kedua matriks tersebut berukuran sama. \n",
    "Numpy menangani sebagai position-wise operations."
   ]
  },
  {
   "cell_type": "code",
   "execution_count": 290,
   "id": "47a55602",
   "metadata": {},
   "outputs": [
    {
     "name": "stdout",
     "output_type": "stream",
     "text": [
      "[[1 2]\n",
      " [3 4]]\n"
     ]
    }
   ],
   "source": [
    "data = np.array([[1,2],[3,4]])\n",
    "print(data)"
   ]
  },
  {
   "cell_type": "code",
   "execution_count": 291,
   "id": "8620fdbd",
   "metadata": {},
   "outputs": [
    {
     "name": "stdout",
     "output_type": "stream",
     "text": [
      "[[1. 1.]\n",
      " [1. 1.]]\n"
     ]
    }
   ],
   "source": [
    "ones = np.ones([2,2]) \n",
    "print(ones)"
   ]
  },
  {
   "cell_type": "code",
   "execution_count": 292,
   "id": "7f7e05ca",
   "metadata": {},
   "outputs": [
    {
     "name": "stdout",
     "output_type": "stream",
     "text": [
      "[[2. 3.]\n",
      " [4. 5.]]\n"
     ]
    }
   ],
   "source": [
    "print(data+ones)"
   ]
  },
  {
   "cell_type": "code",
   "execution_count": 293,
   "id": "5fd6953c",
   "metadata": {},
   "outputs": [
    {
     "name": "stdout",
     "output_type": "stream",
     "text": [
      "[[1. 1.]]\n"
     ]
    }
   ],
   "source": [
    "ones_row = np.ones([1,2])\n",
    "print(ones_row)\n"
   ]
  },
  {
   "cell_type": "code",
   "execution_count": null,
   "id": "e6b482cb",
   "metadata": {},
   "outputs": [],
   "source": [
    "print(data + ones_row)"
   ]
  },
  {
   "cell_type": "code",
   "execution_count": null,
   "id": "38d30942",
   "metadata": {},
   "outputs": [],
   "source": [
    "data1 = np.array([[1,2],[3,4],[5,6]])\n",
    "print(data1)"
   ]
  },
  {
   "cell_type": "code",
   "execution_count": null,
   "id": "0d63e129",
   "metadata": {},
   "outputs": [],
   "source": [
    "print(data1 + ones_row)"
   ]
  },
  {
   "cell_type": "code",
   "execution_count": null,
   "id": "012695ea",
   "metadata": {},
   "outputs": [],
   "source": [
    "data2 = np.array([[1,2,3],[4,5,6]])\n",
    "print(data2)"
   ]
  },
  {
   "cell_type": "code",
   "execution_count": null,
   "id": "14cf9b06",
   "metadata": {},
   "outputs": [],
   "source": [
    "print(data2 + ones_row)"
   ]
  },
  {
   "cell_type": "code",
   "execution_count": null,
   "id": "40f08267",
   "metadata": {},
   "outputs": [],
   "source": [
    "ones_row.shape?"
   ]
  },
  {
   "cell_type": "code",
   "execution_count": null,
   "id": "489943d6",
   "metadata": {},
   "outputs": [],
   "source": [
    "data2.shape"
   ]
  },
  {
   "cell_type": "code",
   "execution_count": null,
   "id": "bd732f99",
   "metadata": {},
   "outputs": [],
   "source": [
    "data.shape"
   ]
  },
  {
   "cell_type": "markdown",
   "id": "5f862de6",
   "metadata": {},
   "source": [
    "### **Dot Product**\n",
    ">Perbedaan utama yang harus dibuat dengan aritmatika adalah kasus perkalian matriks menggunakan produk titik."
   ]
  },
  {
   "cell_type": "markdown",
   "id": "a5f4b7b7",
   "metadata": {},
   "source": [
    "NumPy memberikan setiap matriks metode **dot()** yang dapat kita gunakan untuk melakukan operasi produk dot dengan matriks lain"
   ]
  },
  {
   "cell_type": "code",
   "execution_count": 146,
   "id": "bf795441",
   "metadata": {},
   "outputs": [
    {
     "data": {
      "text/plain": [
       "<function numpy.dot>"
      ]
     },
     "execution_count": 146,
     "metadata": {},
     "output_type": "execute_result"
    }
   ],
   "source": [
    "np.dot"
   ]
  },
  {
   "cell_type": "code",
   "execution_count": 147,
   "id": "31f11ed4",
   "metadata": {},
   "outputs": [
    {
     "data": {
      "text/plain": [
       "12"
      ]
     },
     "execution_count": 147,
     "metadata": {},
     "output_type": "execute_result"
    }
   ],
   "source": [
    "np.dot(3, 4)"
   ]
  },
  {
   "cell_type": "code",
   "execution_count": 148,
   "id": "4931ba75",
   "metadata": {},
   "outputs": [
    {
     "name": "stdout",
     "output_type": "stream",
     "text": [
      "[[1 2 3]\n",
      " [4 5 6]]\n",
      "(2, 3)\n",
      "[[ 7  8]\n",
      " [ 9 10]\n",
      " [11 12]]\n",
      "(3, 2)\n"
     ]
    }
   ],
   "source": [
    "a_1 = np.array([[1, 2, 3], [4, 5, 6]])\n",
    "print(a_1)\n",
    "print(a_1.shape)\n",
    "\n",
    "a_2 = np.array([[7, 8], [9, 10], [11, 12]])\n",
    "print(a_2)\n",
    "print(a_2.shape)"
   ]
  },
  {
   "cell_type": "code",
   "execution_count": 149,
   "id": "b13eb627",
   "metadata": {},
   "outputs": [
    {
     "data": {
      "text/plain": [
       "array([[ 58,  64],\n",
       "       [139, 154]])"
      ]
     },
     "execution_count": 149,
     "metadata": {},
     "output_type": "execute_result"
    }
   ],
   "source": [
    "np.dot(a_1, a_2)"
   ]
  },
  {
   "cell_type": "code",
   "execution_count": 145,
   "id": "2477ead9",
   "metadata": {},
   "outputs": [
    {
     "name": "stdout",
     "output_type": "stream",
     "text": [
      "[[[[  0   1   2   3   4   5]\n",
      "   [  6   7   8   9  10  11]\n",
      "   [ 12  13  14  15  16  17]\n",
      "   [ 18  19  20  21  22  23]\n",
      "   [ 24  25  26  27  28  29]]\n",
      "\n",
      "  [[ 30  31  32  33  34  35]\n",
      "   [ 36  37  38  39  40  41]\n",
      "   [ 42  43  44  45  46  47]\n",
      "   [ 48  49  50  51  52  53]\n",
      "   [ 54  55  56  57  58  59]]\n",
      "\n",
      "  [[ 60  61  62  63  64  65]\n",
      "   [ 66  67  68  69  70  71]\n",
      "   [ 72  73  74  75  76  77]\n",
      "   [ 78  79  80  81  82  83]\n",
      "   [ 84  85  86  87  88  89]]\n",
      "\n",
      "  [[ 90  91  92  93  94  95]\n",
      "   [ 96  97  98  99 100 101]\n",
      "   [102 103 104 105 106 107]\n",
      "   [108 109 110 111 112 113]\n",
      "   [114 115 116 117 118 119]]]\n",
      "\n",
      "\n",
      " [[[120 121 122 123 124 125]\n",
      "   [126 127 128 129 130 131]\n",
      "   [132 133 134 135 136 137]\n",
      "   [138 139 140 141 142 143]\n",
      "   [144 145 146 147 148 149]]\n",
      "\n",
      "  [[150 151 152 153 154 155]\n",
      "   [156 157 158 159 160 161]\n",
      "   [162 163 164 165 166 167]\n",
      "   [168 169 170 171 172 173]\n",
      "   [174 175 176 177 178 179]]\n",
      "\n",
      "  [[180 181 182 183 184 185]\n",
      "   [186 187 188 189 190 191]\n",
      "   [192 193 194 195 196 197]\n",
      "   [198 199 200 201 202 203]\n",
      "   [204 205 206 207 208 209]]\n",
      "\n",
      "  [[210 211 212 213 214 215]\n",
      "   [216 217 218 219 220 221]\n",
      "   [222 223 224 225 226 227]\n",
      "   [228 229 230 231 232 233]\n",
      "   [234 235 236 237 238 239]]]\n",
      "\n",
      "\n",
      " [[[240 241 242 243 244 245]\n",
      "   [246 247 248 249 250 251]\n",
      "   [252 253 254 255 256 257]\n",
      "   [258 259 260 261 262 263]\n",
      "   [264 265 266 267 268 269]]\n",
      "\n",
      "  [[270 271 272 273 274 275]\n",
      "   [276 277 278 279 280 281]\n",
      "   [282 283 284 285 286 287]\n",
      "   [288 289 290 291 292 293]\n",
      "   [294 295 296 297 298 299]]\n",
      "\n",
      "  [[300 301 302 303 304 305]\n",
      "   [306 307 308 309 310 311]\n",
      "   [312 313 314 315 316 317]\n",
      "   [318 319 320 321 322 323]\n",
      "   [324 325 326 327 328 329]]\n",
      "\n",
      "  [[330 331 332 333 334 335]\n",
      "   [336 337 338 339 340 341]\n",
      "   [342 343 344 345 346 347]\n",
      "   [348 349 350 351 352 353]\n",
      "   [354 355 356 357 358 359]]]]\n"
     ]
    }
   ],
   "source": [
    "a = np.arange(3*4*5*6).reshape((3,4,5,6)) \n",
    "print(a)"
   ]
  },
  {
   "cell_type": "code",
   "execution_count": null,
   "id": "3a286aac",
   "metadata": {},
   "outputs": [],
   "source": [
    "b = np.arange(3*4*5*6)[::-1].reshape((5,4,6,3))\n",
    "print(b)"
   ]
  },
  {
   "cell_type": "code",
   "execution_count": null,
   "id": "af313a51",
   "metadata": {},
   "outputs": [],
   "source": [
    "np.dot(a, b)[2,3,2,1,2,2]"
   ]
  },
  {
   "cell_type": "code",
   "execution_count": null,
   "id": "082c71f1",
   "metadata": {},
   "outputs": [],
   "source": [
    "sum(a[2,3,2,:] * b[1,2,:,2])"
   ]
  },
  {
   "cell_type": "markdown",
   "id": "76c569c4",
   "metadata": {},
   "source": [
    "### **Matrix Indexing**\n",
    ">Operasi pengindeksan dan pemotongan menjadi lebih berguna saat kita memanipulasi matriks"
   ]
  },
  {
   "cell_type": "markdown",
   "id": "6db44e8a",
   "metadata": {},
   "source": [
    "   ```np.array([[1, 2], [3, 4], [5, 6]])```\n",
    "\n",
    "    \n",
    "<img src=\"https://i.ibb.co/4sS8HGD/Screen-Shot-2021-09-02-at-8-26-34-AM.png\" align=\"left\"> "
   ]
  },
  {
   "cell_type": "code",
   "execution_count": 17,
   "id": "c632e23a",
   "metadata": {},
   "outputs": [
    {
     "name": "stdout",
     "output_type": "stream",
     "text": [
      "data :\n",
      "[[1 2]\n",
      " [3 4]\n",
      " [5 6]]\n",
      "[[1 2]\n",
      " [3 4]\n",
      " [5 6]]\n",
      "data[0,1] :\n",
      "2\n",
      "data[1:3] :\n",
      "[[3 4]\n",
      " [5 6]]\n",
      "data[0:2] :\n",
      "[[1 2]\n",
      " [3 4]]\n",
      "data[0:2,0] :\n",
      "[1 3]\n",
      "data[0:2,1] :\n",
      "[2 4]\n"
     ]
    }
   ],
   "source": [
    "data = np.array([[1, 2], [3, 4], [5, 6]])\n",
    "\n",
    "print(\"data :\")\n",
    "print(data)\n",
    "print((data[:]))\n",
    "print(\"data[0,1] :\")\n",
    "print(data[0,1])\n",
    "print(\"data[1:3] :\")\n",
    "print(data[1:3])\n",
    "print(\"data[0:2] :\")\n",
    "print(data[0:2])\n",
    "print(\"data[0:2,0] :\")\n",
    "print(data[0:2,0])\n",
    "print(\"data[0:2,1] :\")\n",
    "print(data[0:2,1])"
   ]
  },
  {
   "cell_type": "code",
   "execution_count": 21,
   "id": "f16a9c3f",
   "metadata": {},
   "outputs": [
    {
     "name": "stdout",
     "output_type": "stream",
     "text": [
      "[[1 2]\n",
      " [3 4]\n",
      " [5 6]]\n",
      "[2 4 6]\n"
     ]
    }
   ],
   "source": [
    "print(data[:])\n",
    "print(data[:, -1])"
   ]
  },
  {
   "cell_type": "code",
   "execution_count": 34,
   "id": "a003c3eb",
   "metadata": {},
   "outputs": [
    {
     "name": "stdout",
     "output_type": "stream",
     "text": [
      "[2 4 6]\n"
     ]
    },
    {
     "data": {
      "text/plain": [
       "1"
      ]
     },
     "execution_count": 34,
     "metadata": {},
     "output_type": "execute_result"
    }
   ],
   "source": [
    "print(data[:, -1])         # -1 kanan (transpose)\n",
    "xdata = data[:, -1]        # sama dengan data[:, -1]\n",
    "xdata.ndim                  # cek jumlah dimensi\n",
    "                            # xdata.shape"
   ]
  },
  {
   "cell_type": "code",
   "execution_count": 36,
   "id": "7617c259",
   "metadata": {},
   "outputs": [
    {
     "name": "stdout",
     "output_type": "stream",
     "text": [
      "[[2]\n",
      " [4]\n",
      " [6]]\n"
     ]
    }
   ],
   "source": [
    "print(data[:, 1:])          # syntax : untuk transpose"
   ]
  },
  {
   "cell_type": "code",
   "execution_count": 37,
   "id": "0bfd78e0",
   "metadata": {},
   "outputs": [
    {
     "name": "stdout",
     "output_type": "stream",
     "text": [
      "[[2]\n",
      " [4]\n",
      " [6]]\n"
     ]
    },
    {
     "data": {
      "text/plain": [
       "2"
      ]
     },
     "execution_count": 37,
     "metadata": {},
     "output_type": "execute_result"
    }
   ],
   "source": [
    "print(data[:, 1:])          # -1 kanan\n",
    "xdata = data[:, 1:]\n",
    "xdata.ndim                  # 2 dimensi\n",
    "                            #xdata.shape"
   ]
  },
  {
   "cell_type": "code",
   "execution_count": 38,
   "id": "de4ea5a8",
   "metadata": {},
   "outputs": [
    {
     "name": "stdout",
     "output_type": "stream",
     "text": [
      "[[1 2]\n",
      " [3 4]\n",
      " [5 6]]\n"
     ]
    }
   ],
   "source": [
    "print(data[:, :]) "
   ]
  },
  {
   "cell_type": "code",
   "execution_count": 39,
   "id": "313beb6a",
   "metadata": {},
   "outputs": [
    {
     "name": "stdout",
     "output_type": "stream",
     "text": [
      "[[1]\n",
      " [3]\n",
      " [5]]\n"
     ]
    }
   ],
   "source": [
    "print(data[:, 0:1]) \n"
   ]
  },
  {
   "cell_type": "code",
   "execution_count": 40,
   "id": "d2ba3410",
   "metadata": {},
   "outputs": [
    {
     "name": "stdout",
     "output_type": "stream",
     "text": [
      "[[2]\n",
      " [4]\n",
      " [6]]\n"
     ]
    }
   ],
   "source": [
    "print(data[:, 1:2]) "
   ]
  },
  {
   "cell_type": "code",
   "execution_count": 52,
   "id": "287d2bbc",
   "metadata": {},
   "outputs": [
    {
     "name": "stdout",
     "output_type": "stream",
     "text": [
      "[[2]\n",
      " [4]\n",
      " [6]]\n"
     ]
    }
   ],
   "source": [
    "print(data[:, 1:]) \n"
   ]
  },
  {
   "cell_type": "code",
   "execution_count": 41,
   "id": "bd5ce8d8",
   "metadata": {},
   "outputs": [
    {
     "name": "stdout",
     "output_type": "stream",
     "text": [
      "[[1 2]\n",
      " [3 4]]\n"
     ]
    }
   ],
   "source": [
    "print((data[0:2,:]))"
   ]
  },
  {
   "cell_type": "markdown",
   "id": "6937d938",
   "metadata": {},
   "source": [
    "<img src=\"https://i.ibb.co/4sS8HGD/Screen-Shot-2021-09-02-at-8-26-34-AM.png\" align=\"left\"> "
   ]
  },
  {
   "cell_type": "code",
   "execution_count": 51,
   "id": "8a07084e",
   "metadata": {},
   "outputs": [
    {
     "name": "stdout",
     "output_type": "stream",
     "text": [
      "array([[2]])\n"
     ]
    }
   ],
   "source": [
    "print(repr(data[0:1, 1:]))"
   ]
  },
  {
   "cell_type": "code",
   "execution_count": 46,
   "id": "f0c7131f",
   "metadata": {},
   "outputs": [
    {
     "name": "stdout",
     "output_type": "stream",
     "text": [
      "array([[1, 2],\n",
      "       [3, 4],\n",
      "       [5, 6]])\n"
     ]
    }
   ],
   "source": [
    "print(repr(data))"
   ]
  },
  {
   "cell_type": "code",
   "execution_count": 47,
   "id": "076b9e4e",
   "metadata": {},
   "outputs": [
    {
     "name": "stdout",
     "output_type": "stream",
     "text": [
      "array([[2],\n",
      "       [4]])\n"
     ]
    }
   ],
   "source": [
    "print(repr(data[0:2, 1:]))"
   ]
  },
  {
   "cell_type": "code",
   "execution_count": 48,
   "id": "823548d1",
   "metadata": {},
   "outputs": [
    {
     "name": "stdout",
     "output_type": "stream",
     "text": [
      "array([4])\n"
     ]
    }
   ],
   "source": [
    "print(repr(data[1, 1:]))"
   ]
  },
  {
   "cell_type": "markdown",
   "id": "8f2d72be",
   "metadata": {},
   "source": [
    "<img src=\"https://i.ibb.co/rQN75GL/numpy-indexing-arrays-width-1200.jpg\" align=\"left\"> \n"
   ]
  },
  {
   "cell_type": "code",
   "execution_count": 53,
   "id": "8d4b2e07",
   "metadata": {},
   "outputs": [
    {
     "data": {
      "text/plain": [
       "array([ 1,  2,  3,  4,  5,  6,  7,  8,  9, 10, 11, 12, 13, 14, 15, 16])"
      ]
     },
     "execution_count": 53,
     "metadata": {},
     "output_type": "execute_result"
    }
   ],
   "source": [
    "np_m = np.arange(1,17)\n",
    "np_m "
   ]
  },
  {
   "cell_type": "code",
   "execution_count": 54,
   "id": "b49562a8",
   "metadata": {},
   "outputs": [
    {
     "data": {
      "text/plain": [
       "array([[ 1,  2,  3,  4],\n",
       "       [ 5,  6,  7,  8],\n",
       "       [ 9, 10, 11, 12],\n",
       "       [13, 14, 15, 16]])"
      ]
     },
     "execution_count": 54,
     "metadata": {},
     "output_type": "execute_result"
    }
   ],
   "source": [
    "np4x4 = np_m.reshape(4,4)\n",
    "np4x4 "
   ]
  },
  {
   "cell_type": "markdown",
   "id": "cac2f5b6",
   "metadata": {},
   "source": [
    "<img src=\"https://i.ibb.co/rQN75GL/numpy-indexing-arrays-width-1200.jpg\" align=\"left\"> \n"
   ]
  },
  {
   "cell_type": "code",
   "execution_count": 57,
   "id": "6821ab39",
   "metadata": {},
   "outputs": [
    {
     "name": "stdout",
     "output_type": "stream",
     "text": [
      "[7 8]\n",
      "array([7, 8])\n",
      "------------------------------\n",
      "[ 2  6 10 14]\n",
      "array([ 2,  6, 10, 14])\n"
     ]
    }
   ],
   "source": [
    "# baris 1 dan kolom 2:4 \n",
    "npa = np4x4[1,2:4]\n",
    "print(npa)\n",
    "print(repr(npa))\n",
    "print(5*\"------\")\n",
    "# semua baris , hanya kolom 1 \n",
    "npb = np4x4[:,1] \n",
    "print(npb)\n",
    "print(repr(npb))\n"
   ]
  },
  {
   "cell_type": "code",
   "execution_count": 58,
   "id": "5aa74e42",
   "metadata": {},
   "outputs": [
    {
     "name": "stdout",
     "output_type": "stream",
     "text": [
      "[[11 12]\n",
      " [15 16]]\n",
      "-----\n",
      "[[ 5  7]\n",
      " [13 15]]\n"
     ]
    }
   ],
   "source": [
    "# baris 2 sampai akhir dan kolom 2 sampai akhir \n",
    "npc = np4x4[2: , 2:] \n",
    "print(npc) \n",
    "print(5*\"-\")\n",
    "# baris 1  , sampai akhir , step 2  dan  kolom dari 0 sampai kolom akhir ,  step 2 \n",
    "npd = np4x4[1::2, ::2] \n",
    "print(npd )"
   ]
  },
  {
   "cell_type": "markdown",
   "id": "863c474b",
   "metadata": {},
   "source": [
    "### **LATIHAN PRAKTIKUM 2**"
   ]
  },
  {
   "cell_type": "code",
   "execution_count": 60,
   "id": "7ca6ccd4",
   "metadata": {},
   "outputs": [
    {
     "data": {
      "text/plain": [
       "array([[ 1,  2,  3,  4],\n",
       "       [ 5,  6,  7,  8],\n",
       "       [ 9, 10, 11, 12]])"
      ]
     },
     "execution_count": 60,
     "metadata": {},
     "output_type": "execute_result"
    }
   ],
   "source": [
    "# membuat 2 array dengan shape (3, 4)\n",
    "# [[ 1  2  3  4]\n",
    "#  [ 5  6  7  8]\n",
    "#  [ 9 10 11 12]]\n",
    "a = np.array([[1,2,3,4], [5,6,7,8], [9,10,11,12]])\n",
    "a"
   ]
  },
  {
   "cell_type": "code",
   "execution_count": 62,
   "id": "a8fa8415",
   "metadata": {},
   "outputs": [
    {
     "data": {
      "text/plain": [
       "array([[2, 3],\n",
       "       [6, 7]])"
      ]
     },
     "execution_count": 62,
     "metadata": {},
     "output_type": "execute_result"
    }
   ],
   "source": [
    "# menggunakan slicing untuk mendaptkan subarray yang terdiri dari :\n",
    "# 2 baris pertama yaitu kolom 1 dan 2\n",
    "# b adalah array bentuk berikut (2, 2):\n",
    "# [[2 3]\n",
    "#  [6 7]]\n",
    "b = a[:2, 1:3]\n",
    "b"
   ]
  },
  {
   "cell_type": "code",
   "execution_count": 63,
   "id": "e72566c1",
   "metadata": {},
   "outputs": [
    {
     "name": "stdout",
     "output_type": "stream",
     "text": [
      "[[1 2 3]\n",
      " [4 5 6]\n",
      " [7 8 9]]\n"
     ]
    }
   ],
   "source": [
    "arr = np.array([[1, 2, 3],\n",
    "                [4, 5, 6],\n",
    "                [7, 8, 9]])\n",
    "print((arr[:]))"
   ]
  },
  {
   "cell_type": "code",
   "execution_count": 64,
   "id": "9288b120",
   "metadata": {},
   "outputs": [
    {
     "name": "stdout",
     "output_type": "stream",
     "text": [
      "[[4 5 6]\n",
      " [7 8 9]]\n"
     ]
    }
   ],
   "source": [
    "print((arr[1:]))"
   ]
  },
  {
   "cell_type": "code",
   "execution_count": 65,
   "id": "d381a5bd",
   "metadata": {},
   "outputs": [
    {
     "name": "stdout",
     "output_type": "stream",
     "text": [
      "array([3, 6, 9])\n"
     ]
    }
   ],
   "source": [
    "print(repr(arr[:, -1]))"
   ]
  },
  {
   "cell_type": "code",
   "execution_count": 66,
   "id": "234ee033",
   "metadata": {},
   "outputs": [
    {
     "name": "stdout",
     "output_type": "stream",
     "text": [
      "array([[2, 3],\n",
      "       [5, 6],\n",
      "       [8, 9]])\n"
     ]
    }
   ],
   "source": [
    "print(repr(arr[:, 1:]))     # (baris,kolom)\n"
   ]
  },
  {
   "cell_type": "code",
   "execution_count": 67,
   "id": "1d2f0e65",
   "metadata": {},
   "outputs": [
    {
     "name": "stdout",
     "output_type": "stream",
     "text": [
      "array([[1, 2, 3]])\n"
     ]
    }
   ],
   "source": [
    "print(repr(arr[0:1,:]))"
   ]
  },
  {
   "cell_type": "code",
   "execution_count": 68,
   "id": "5c1eabdb",
   "metadata": {},
   "outputs": [
    {
     "name": "stdout",
     "output_type": "stream",
     "text": [
      "array([[2, 3]])\n"
     ]
    }
   ],
   "source": [
    "print(repr(arr[0:1, 1:]))"
   ]
  },
  {
   "cell_type": "code",
   "execution_count": 69,
   "id": "75facab0",
   "metadata": {},
   "outputs": [
    {
     "name": "stdout",
     "output_type": "stream",
     "text": [
      "array([[1, 2, 3],\n",
      "       [4, 5, 6]])\n"
     ]
    }
   ],
   "source": [
    "print(repr(arr[0:2,:]))"
   ]
  },
  {
   "cell_type": "code",
   "execution_count": 70,
   "id": "ee11e098",
   "metadata": {},
   "outputs": [
    {
     "name": "stdout",
     "output_type": "stream",
     "text": [
      "array([[2, 3],\n",
      "       [5, 6]])\n"
     ]
    }
   ],
   "source": [
    "print(repr(arr[0:2, 1:]))"
   ]
  },
  {
   "cell_type": "code",
   "execution_count": 71,
   "id": "812fdb30",
   "metadata": {},
   "outputs": [
    {
     "name": "stdout",
     "output_type": "stream",
     "text": [
      "array([2, 3])\n"
     ]
    }
   ],
   "source": [
    "print(repr(arr[0, 1:]))"
   ]
  },
  {
   "cell_type": "markdown",
   "id": "a875b742",
   "metadata": {},
   "source": [
    "### **Matrix Aggregation**\n",
    ">Kita dapat menjumlahkan matriks dengan cara yang sama seperti kita menjumlahkan vector"
   ]
  },
  {
   "cell_type": "code",
   "execution_count": 72,
   "id": "239dc621",
   "metadata": {},
   "outputs": [
    {
     "name": "stdout",
     "output_type": "stream",
     "text": [
      "[[1 2]\n",
      " [3 4]\n",
      " [5 6]]\n"
     ]
    }
   ],
   "source": [
    "data = np.array([[1, 2], [3, 4], [5, 6]])\n",
    "\n",
    "print(data)"
   ]
  },
  {
   "cell_type": "code",
   "execution_count": 73,
   "id": "c1b91e54",
   "metadata": {},
   "outputs": [
    {
     "name": "stdout",
     "output_type": "stream",
     "text": [
      "6\n",
      "1\n",
      "21\n"
     ]
    }
   ],
   "source": [
    "print(data.max())\n",
    "print(data.min())\n",
    "print(data.sum())"
   ]
  },
  {
   "cell_type": "code",
   "execution_count": 74,
   "id": "c87756ca",
   "metadata": {},
   "outputs": [
    {
     "name": "stdout",
     "output_type": "stream",
     "text": [
      "[5 6]\n",
      "[2 4 6]\n"
     ]
    }
   ],
   "source": [
    "print(data.max(axis=0))\n",
    "print(data.max(axis=1))"
   ]
  },
  {
   "cell_type": "markdown",
   "id": "e8c0cd16",
   "metadata": {},
   "source": [
    "### **Transposing and Reshaping**\n",
    ">Kebutuhan umum ketika berhadapan dengan matriks adalah kebutuhan untuk memutarnya."
   ]
  },
  {
   "cell_type": "markdown",
   "id": "080a2200",
   "metadata": {},
   "source": [
    "Ini sering terjadi ketika kita perlu mengambil produk titik dari dua matriks dan perlu menyelaraskan dimensi yang mereka bagi. Array NumPy memiliki properti nyaman yang disebut T untuk mendapatkan transpos matriks.\n",
    "\n",
    "\n",
    "mentraspose suatu array adalah proses mengubah posisi *element2 vektor baris menjadi vektor kolom demikian pula sebaliknya.* \n",
    "\n",
    "Menggunakan numpy , melakukan traspose suatu array dapat dilakukan dengan cara memangil function **transpose()** atau memanggil properti **T** dari suatu array  "
   ]
  },
  {
   "cell_type": "code",
   "execution_count": 306,
   "id": "e9f5c6f2",
   "metadata": {},
   "outputs": [
    {
     "name": "stdout",
     "output_type": "stream",
     "text": [
      "[[1 2]\n",
      " [3 4]\n",
      " [5 6]]\n"
     ]
    }
   ],
   "source": [
    "data = np.array([[1, 2], [3, 4], [5, 6]])\n",
    "print(data)"
   ]
  },
  {
   "cell_type": "code",
   "execution_count": 307,
   "id": "57bdcf6e",
   "metadata": {},
   "outputs": [
    {
     "name": "stdout",
     "output_type": "stream",
     "text": [
      "[[1 3 5]\n",
      " [2 4 6]]\n"
     ]
    }
   ],
   "source": [
    "print(data.transpose())"
   ]
  },
  {
   "cell_type": "code",
   "execution_count": 75,
   "id": "dfedece8",
   "metadata": {},
   "outputs": [
    {
     "name": "stdout",
     "output_type": "stream",
     "text": [
      "[[1 3 5]\n",
      " [2 4 6]]\n"
     ]
    }
   ],
   "source": [
    "print(data.T)"
   ]
  },
  {
   "cell_type": "code",
   "execution_count": 77,
   "id": "5b964446",
   "metadata": {},
   "outputs": [
    {
     "name": "stdout",
     "output_type": "stream",
     "text": [
      "[[1 2]\n",
      " [3 4]\n",
      " [5 6]]\n",
      "\n",
      "[[1 3 5]\n",
      " [2 4 6]]\n"
     ]
    }
   ],
   "source": [
    "data = np.array([[1, 2], [3, 4], [5, 6]])\n",
    "print(data)\n",
    "print(\"\")\n",
    "data = data.transpose()\n",
    "print(data)"
   ]
  },
  {
   "cell_type": "markdown",
   "id": "3ec28d7d",
   "metadata": {},
   "source": [
    "Dalam kasus penggunaan yang lebih lanjut, Anda mungkin perlu mengganti dimensi matriks tertentu. \n",
    "\n",
    "Ini sering terjadi dalam aplikasi pembelajaran mesin di mana model tertentu mengharapkan bentuk tertentu untuk input yang berbeda dari kumpulan data Anda.\n",
    "\n",
    "Metode **reshape()** NumPy berguna dalam kasus ini. Anda hanya memberikan dimensi baru yang Anda inginkan untuk matriks. \n",
    "\n",
    "Anda dapat meneruskan -1 untuk suatu dimensi dan NumPy dapat menyimpulkan dimensi yang benar berdasarkan matriks Anda"
   ]
  },
  {
   "cell_type": "code",
   "execution_count": 78,
   "id": "c1ca91da",
   "metadata": {},
   "outputs": [
    {
     "name": "stdout",
     "output_type": "stream",
     "text": [
      "[[1]\n",
      " [2]\n",
      " [3]\n",
      " [4]\n",
      " [5]\n",
      " [6]]\n"
     ]
    }
   ],
   "source": [
    "data_col = np.array([[1, 2, 3, 4, 5, 6]]).T\n",
    "print(data_col)"
   ]
  },
  {
   "cell_type": "code",
   "execution_count": 79,
   "id": "6c16f2e3",
   "metadata": {},
   "outputs": [
    {
     "data": {
      "text/plain": [
       "array([[1, 2, 3],\n",
       "       [4, 5, 6]])"
      ]
     },
     "execution_count": 79,
     "metadata": {},
     "output_type": "execute_result"
    }
   ],
   "source": [
    "data_col.reshape(2, 3)"
   ]
  },
  {
   "cell_type": "code",
   "execution_count": 80,
   "id": "168e0232",
   "metadata": {},
   "outputs": [
    {
     "data": {
      "text/plain": [
       "array([[1, 2],\n",
       "       [3, 4],\n",
       "       [5, 6]])"
      ]
     },
     "execution_count": 80,
     "metadata": {},
     "output_type": "execute_result"
    }
   ],
   "source": [
    "data_col.reshape(3, 2)"
   ]
  },
  {
   "cell_type": "markdown",
   "id": "b83924ca",
   "metadata": {},
   "source": [
    "Anda juga dapat menggunakan **np.transpose** untuk membalikkan atau mengubah sumbu array sesuai dengan nilai yang Anda tentukan. Jika Anda mulai dengan array ini"
   ]
  },
  {
   "cell_type": "code",
   "execution_count": 81,
   "id": "a94ca18c",
   "metadata": {},
   "outputs": [
    {
     "name": "stdout",
     "output_type": "stream",
     "text": [
      "[[0 1 2]\n",
      " [3 4 5]]\n"
     ]
    }
   ],
   "source": [
    "arr = np.arange(6).reshape((2, 3))\n",
    "print(arr)"
   ]
  },
  {
   "cell_type": "markdown",
   "id": "ad126a4e",
   "metadata": {},
   "source": [
    "Dalam banyak hal, berurusan dengan dimensi baru hanyalah menambahkan koma ke parameter fungsi NumPy "
   ]
  },
  {
   "cell_type": "code",
   "execution_count": 82,
   "id": "9a576293",
   "metadata": {},
   "outputs": [
    {
     "name": "stdout",
     "output_type": "stream",
     "text": [
      "[[[1. 1.]\n",
      "  [1. 1.]\n",
      "  [1. 1.]]\n",
      "\n",
      " [[1. 1.]\n",
      "  [1. 1.]\n",
      "  [1. 1.]]\n",
      "\n",
      " [[1. 1.]\n",
      "  [1. 1.]\n",
      "  [1. 1.]]\n",
      "\n",
      " [[1. 1.]\n",
      "  [1. 1.]\n",
      "  [1. 1.]]]\n"
     ]
    }
   ],
   "source": [
    "print(np.ones((4,3,2)))"
   ]
  },
  {
   "cell_type": "markdown",
   "id": "e0a39fed",
   "metadata": {},
   "source": [
    "### **N-Dimensional Array** \n",
    ">NumPy dapat melakukan semua yang telah kita sebutkan dalam sejumlah dimensi. Struktur data pusatnya disebut ndarray (N-Dimensional Array) karena suatu alasan."
   ]
  },
  {
   "cell_type": "markdown",
   "id": "97c76fd3",
   "metadata": {},
   "source": [
    "<img src=\"https://miro.medium.com/max/799/0*G1IZA6_mFl3m9wH0.png?width=1920&dpr=2\" width=\"700\" align=\"center\">"
   ]
  },
  {
   "cell_type": "code",
   "execution_count": 83,
   "id": "77f04a97",
   "metadata": {},
   "outputs": [
    {
     "name": "stdout",
     "output_type": "stream",
     "text": [
      "[[[1 2]\n",
      "  [3 4]]\n",
      "\n",
      " [[5 6]\n",
      "  [7 8]]]\n"
     ]
    }
   ],
   "source": [
    "\n",
    "ndarr = np.array([ [[1,2],[3,4]],\n",
    "                  [[5,6],[7,8]] ])\n",
    "\n",
    "print(ndarr)"
   ]
  },
  {
   "cell_type": "markdown",
   "id": "7a3c71e0",
   "metadata": {},
   "source": [
    "Dalam banyak hal, berurusan dengan dimensi baru hanyalah dengan menambahkan koma ke parameter fungsi NumPy"
   ]
  },
  {
   "cell_type": "code",
   "execution_count": 84,
   "id": "d0176583",
   "metadata": {},
   "outputs": [
    {
     "name": "stdout",
     "output_type": "stream",
     "text": [
      "[[[1. 1.]\n",
      "  [1. 1.]\n",
      "  [1. 1.]]\n",
      "\n",
      " [[1. 1.]\n",
      "  [1. 1.]\n",
      "  [1. 1.]]\n",
      "\n",
      " [[1. 1.]\n",
      "  [1. 1.]\n",
      "  [1. 1.]]\n",
      "\n",
      " [[1. 1.]\n",
      "  [1. 1.]\n",
      "  [1. 1.]]]\n"
     ]
    }
   ],
   "source": [
    "print(np.ones((4,3,2)))"
   ]
  },
  {
   "cell_type": "code",
   "execution_count": 85,
   "id": "a428339e",
   "metadata": {},
   "outputs": [
    {
     "name": "stdout",
     "output_type": "stream",
     "text": [
      "[[[0. 0.]\n",
      "  [0. 0.]\n",
      "  [0. 0.]]\n",
      "\n",
      " [[0. 0.]\n",
      "  [0. 0.]\n",
      "  [0. 0.]]\n",
      "\n",
      " [[0. 0.]\n",
      "  [0. 0.]\n",
      "  [0. 0.]]\n",
      "\n",
      " [[0. 0.]\n",
      "  [0. 0.]\n",
      "  [0. 0.]]]\n"
     ]
    }
   ],
   "source": [
    "print(np.zeros((4,3,2)))"
   ]
  },
  {
   "cell_type": "code",
   "execution_count": 86,
   "id": "64613937",
   "metadata": {},
   "outputs": [
    {
     "name": "stdout",
     "output_type": "stream",
     "text": [
      "[[[0.50140065 0.64157961]\n",
      "  [0.99488067 0.90076567]\n",
      "  [0.36017669 0.93617081]]\n",
      "\n",
      " [[0.23048649 0.36734022]\n",
      "  [0.85748303 0.15854157]\n",
      "  [0.87136367 0.60115791]]\n",
      "\n",
      " [[0.8393793  0.60076345]\n",
      "  [0.63357693 0.70012592]\n",
      "  [0.34398875 0.61501061]]\n",
      "\n",
      " [[0.28610648 0.49981123]\n",
      "  [0.98813338 0.93831509]\n",
      "  [0.93598463 0.55491393]]]\n"
     ]
    }
   ],
   "source": [
    "print(np.random.random((4,3,2)))"
   ]
  },
  {
   "cell_type": "markdown",
   "id": "04dfd815",
   "metadata": {},
   "source": [
    "### **Flatten N-Dimensional Array**\n",
    ">Ada dua cara populer untuk meratakan array"
   ]
  },
  {
   "cell_type": "markdown",
   "id": "10d65473",
   "metadata": {},
   "source": [
    "Ada dua cara populer untuk meratakan array:\n",
    "- .flatten()\n",
    "- .ravel()\n",
    "\n",
    "Perbedaan utama antara keduanya adalah bahwa array baru yang dibuat menggunakan ravel() sebenarnya adalah referensi ke array induk. Ini berarti bahwa setiap perubahan pada array baru akan mempengaruhi array induk juga. Karena ravel tidak membuat salinan, ini hemat memori."
   ]
  },
  {
   "cell_type": "code",
   "execution_count": 87,
   "id": "1bd98a85",
   "metadata": {},
   "outputs": [
    {
     "name": "stdout",
     "output_type": "stream",
     "text": [
      "[[ 1  2  3  4]\n",
      " [ 5  6  7  8]\n",
      " [ 9 10 11 12]]\n"
     ]
    }
   ],
   "source": [
    "arrflat = np.array([[1, 2, 3, 4], [5, 6, 7, 8], [9, 10, 11, 12]])\n",
    "\n",
    "print(arrflat)"
   ]
  },
  {
   "cell_type": "code",
   "execution_count": 88,
   "id": "ed8f6c95",
   "metadata": {},
   "outputs": [
    {
     "data": {
      "text/plain": [
       "array([ 1,  2,  3,  4,  5,  6,  7,  8,  9, 10, 11, 12])"
      ]
     },
     "execution_count": 88,
     "metadata": {},
     "output_type": "execute_result"
    }
   ],
   "source": [
    "# You can use flatten to flatten your array into a 1D array.\n",
    "arrflat.flatten()"
   ]
  },
  {
   "cell_type": "code",
   "execution_count": 89,
   "id": "ad3c781a",
   "metadata": {},
   "outputs": [
    {
     "data": {
      "text/plain": [
       "array([ 1,  2,  3,  4,  5,  6,  7,  8,  9, 10, 11, 12])"
      ]
     },
     "execution_count": 89,
     "metadata": {},
     "output_type": "execute_result"
    }
   ],
   "source": [
    "arrflat.ravel()"
   ]
  },
  {
   "cell_type": "markdown",
   "id": "0111cbe3",
   "metadata": {},
   "source": [
    "## **WORKING WITH MATH FORMULAS**\n",
    "---\n",
    ">Menerapkan rumus matematika yang bekerja pada array adalah salah satu hal yang membuat NumPy sangat dihormati di komunitas Python ilmiah.  \n"
   ]
  },
  {
   "cell_type": "markdown",
   "id": "94e5e30e",
   "metadata": {},
   "source": [
    "**CONTOH KASUS :**\n",
    ">Misalnya, ini adalah rumus mean square error (rumus utama yang digunakan dalam model pembelajaran mesin terawasi yang menangani regresi):\n",
    "\n",
    "<img src=\"https://i.ibb.co/7tTftxS/Screen-Shot-2021-09-02-at-12-18-44-PM.png\" width=\"300\" align=\"center\"> "
   ]
  },
  {
   "cell_type": "markdown",
   "id": "fd20ac19",
   "metadata": {},
   "source": [
    "Menerapkan rumus ini sederhana dan mudah di Numpy :"
   ]
  },
  {
   "cell_type": "code",
   "execution_count": null,
   "id": "4ddfa3f9",
   "metadata": {},
   "outputs": [],
   "source": [
    "error = (1/n) * np.sum(np.square(observed - prediction)) "
   ]
  },
  {
   "cell_type": "markdown",
   "id": "377714c7",
   "metadata": {},
   "source": [
    "------------"
   ]
  },
  {
   "cell_type": "markdown",
   "id": "a038a4f5",
   "metadata": {},
   "source": [
    "## **ADDITIONAL MATERI**\n",
    "---"
   ]
  },
  {
   "cell_type": "markdown",
   "id": "589518b3",
   "metadata": {},
   "source": [
    "### *DATA STRUCTURE*"
   ]
  },
  {
   "cell_type": "markdown",
   "id": "98a49729",
   "metadata": {},
   "source": [
    "<img src=\"https://i.ibb.co/WK6XHvh/a-numpy-structure.png\" align=\"left\"> \n"
   ]
  },
  {
   "cell_type": "code",
   "execution_count": 102,
   "id": "9139dcd9",
   "metadata": {},
   "outputs": [
    {
     "name": "stdout",
     "output_type": "stream",
     "text": [
      "[ 0  1  2  3  4  5  6  7  8  9 10 11]\n",
      "[ 8  9 10 11 12 13 14 15]\n",
      "[1 3 5 7 9]\n",
      "[1 3 5 7 9]\n",
      "[3 4 5 6 7 8 9]\n",
      "[-3 -2 -1  0  1  2  3]\n",
      "[ 0  3  6  9 12 15 18]\n",
      "[0.         0.33333333 0.66666667 1.         1.33333333 1.66666667\n",
      " 2.        ]\n",
      "7\n",
      "7\n"
     ]
    }
   ],
   "source": [
    "import numpy as np\n",
    "\n",
    "# create array in sequence\n",
    "np_a = np.arange(12)            # [0 1 2 3 4 5 6 7 8 9 10 11]\n",
    "print(np_a)\n",
    "\n",
    "# with initial value\n",
    "print(np.arange(8, 16))         # [8 9 10 11 12 13 14 15]\n",
    "\n",
    "# with step size\n",
    "print(np.arange(1,10,2))        # [1 3 5 7 9]\n",
    "print(np.arange(1,10,step=2))   # alternative method\n",
    "\n",
    "# adding some operation\n",
    "print(np.arange(7)+3)           # [3 4 5 6 7 8 9]\n",
    "print(np.arange(7)-3)           # [-3 -2 -1 0 1 2 3]\n",
    "print(np.arange(7)*3)           # [ 0 3 6 9 12 15 18]\n",
    "print(np.arange(7)/3)           # [0 0 0 1 1 1 2]\n",
    "\n",
    "# return the size of array\n",
    "my_arange = np.arange(7)\n",
    "print(my_arange.size)           # 7\n",
    "print(len(my_arange))           # work with len()"
   ]
  },
  {
   "cell_type": "code",
   "execution_count": 93,
   "id": "2c5d8029",
   "metadata": {},
   "outputs": [
    {
     "data": {
      "text/plain": [
       "dtype('int32')"
      ]
     },
     "execution_count": 93,
     "metadata": {},
     "output_type": "execute_result"
    }
   ],
   "source": [
    "np_a.dtype      # cek tipe data variabel"
   ]
  },
  {
   "cell_type": "code",
   "execution_count": 94,
   "id": "faa7a369",
   "metadata": {},
   "outputs": [
    {
     "data": {
      "text/plain": [
       "(12,)"
      ]
     },
     "execution_count": 94,
     "metadata": {},
     "output_type": "execute_result"
    }
   ],
   "source": [
    "np_a.shape      # cek bentuk/shape dari variabel"
   ]
  },
  {
   "cell_type": "code",
   "execution_count": 103,
   "id": "287762e9",
   "metadata": {},
   "outputs": [
    {
     "data": {
      "text/plain": [
       "(4,)"
      ]
     },
     "execution_count": 103,
     "metadata": {},
     "output_type": "execute_result"
    }
   ],
   "source": [
    "np_a.strides"
   ]
  },
  {
   "cell_type": "code",
   "execution_count": 104,
   "id": "33352d27",
   "metadata": {},
   "outputs": [
    {
     "data": {
      "text/plain": [
       "array([[ 0,  1,  2],\n",
       "       [ 3,  4,  5],\n",
       "       [ 6,  7,  8],\n",
       "       [ 9, 10, 11]])"
      ]
     },
     "execution_count": 104,
     "metadata": {},
     "output_type": "execute_result"
    }
   ],
   "source": [
    "# merubah menjadi 2 Dimensi dengan 4 baris dan 3 kolom \n",
    "np_2d = np_a.reshape(4,3)\n",
    "np_2d "
   ]
  },
  {
   "cell_type": "code",
   "execution_count": 105,
   "id": "324c09b8",
   "metadata": {},
   "outputs": [
    {
     "data": {
      "text/plain": [
       "(4, 3)"
      ]
     },
     "execution_count": 105,
     "metadata": {},
     "output_type": "execute_result"
    }
   ],
   "source": [
    "np_2d.shape"
   ]
  },
  {
   "cell_type": "code",
   "execution_count": 106,
   "id": "f68cd3b1",
   "metadata": {},
   "outputs": [
    {
     "data": {
      "text/plain": [
       "2"
      ]
     },
     "execution_count": 106,
     "metadata": {},
     "output_type": "execute_result"
    }
   ],
   "source": [
    "np_2d.ndim"
   ]
  },
  {
   "cell_type": "code",
   "execution_count": 107,
   "id": "1fad3de5",
   "metadata": {},
   "outputs": [
    {
     "data": {
      "text/plain": [
       "dtype('int32')"
      ]
     },
     "execution_count": 107,
     "metadata": {},
     "output_type": "execute_result"
    }
   ],
   "source": [
    "np_2d.dtype "
   ]
  },
  {
   "cell_type": "code",
   "execution_count": 108,
   "id": "966ffb84",
   "metadata": {},
   "outputs": [
    {
     "data": {
      "text/plain": [
       "(12, 4)"
      ]
     },
     "execution_count": 108,
     "metadata": {},
     "output_type": "execute_result"
    }
   ],
   "source": [
    "np_2d.strides"
   ]
  },
  {
   "cell_type": "code",
   "execution_count": 109,
   "id": "bb92801b",
   "metadata": {},
   "outputs": [
    {
     "data": {
      "text/plain": [
       "array([[ 0,  1,  2],\n",
       "       [ 3,  4,  5],\n",
       "       [ 6,  7,  8],\n",
       "       [ 9, 10, 11]], dtype=int16)"
      ]
     },
     "execution_count": 109,
     "metadata": {},
     "output_type": "execute_result"
    }
   ],
   "source": [
    "# np_2d  int64 dengan locatannya 24 bytes \n",
    "np_2d = np_2d.astype('int16')   # astype() mengubah tipe data data\n",
    "np_2d "
   ]
  },
  {
   "cell_type": "code",
   "execution_count": 110,
   "id": "144478c9",
   "metadata": {},
   "outputs": [
    {
     "data": {
      "text/plain": [
       "(6, 2)"
      ]
     },
     "execution_count": 110,
     "metadata": {},
     "output_type": "execute_result"
    }
   ],
   "source": [
    "np_2d.strides"
   ]
  },
  {
   "cell_type": "markdown",
   "id": "73d516bf",
   "metadata": {},
   "source": [
    "### *INDEXING(VIEW)*"
   ]
  },
  {
   "cell_type": "markdown",
   "id": "bac66960",
   "metadata": {},
   "source": [
    "<img src=\"https://i.ibb.co/MS7b4kK/b-numpy-view.png\" align=\"left\"> \n"
   ]
  },
  {
   "cell_type": "code",
   "execution_count": 111,
   "id": "ee7d72ff",
   "metadata": {},
   "outputs": [
    {
     "data": {
      "text/plain": [
       "array([[ 1,  2],\n",
       "       [ 4,  5],\n",
       "       [ 7,  8],\n",
       "       [10, 11]], dtype=int16)"
      ]
     },
     "execution_count": 111,
     "metadata": {},
     "output_type": "execute_result"
    }
   ],
   "source": [
    "np_2d[:,1:] # semua baris , kolom 1 dst (indeks mulai dari 0 )   [:,1::]  , [:,1::1] default step 1 "
   ]
  },
  {
   "cell_type": "code",
   "execution_count": 313,
   "id": "119dc1ef",
   "metadata": {},
   "outputs": [
    {
     "data": {
      "text/plain": [
       "array([[ 0,  2],\n",
       "       [ 3,  5],\n",
       "       [ 6,  8],\n",
       "       [ 9, 11]])"
      ]
     },
     "execution_count": 313,
     "metadata": {},
     "output_type": "execute_result"
    }
   ],
   "source": [
    "np_2d[:, ::2]   # semua baris, kolom 0, sampai kolom terakhir,\n",
    "                # dengan step 2 sesuai gambar diatas "
   ]
  },
  {
   "cell_type": "markdown",
   "id": "1a3156e0",
   "metadata": {},
   "source": [
    "### *INDEXING(COPY)*"
   ]
  },
  {
   "cell_type": "markdown",
   "id": "7363dcf2",
   "metadata": {},
   "source": [
    "<img src=\"https://i.ibb.co/YN5XSDY/c-numpy-indexing-copy.png\" align=\"left\"> \n"
   ]
  },
  {
   "cell_type": "code",
   "execution_count": 113,
   "id": "f8bee2d6",
   "metadata": {},
   "outputs": [
    {
     "data": {
      "text/plain": [
       "array([[ 0,  1,  2],\n",
       "       [ 3,  4,  5],\n",
       "       [ 6,  7,  8],\n",
       "       [ 9, 10, 11]], dtype=int16)"
      ]
     },
     "execution_count": 113,
     "metadata": {},
     "output_type": "execute_result"
    }
   ],
   "source": [
    "np_2d"
   ]
  },
  {
   "cell_type": "code",
   "execution_count": 112,
   "id": "b37ba4f3",
   "metadata": {},
   "outputs": [
    {
     "data": {
      "text/plain": [
       "5"
      ]
     },
     "execution_count": 112,
     "metadata": {},
     "output_type": "execute_result"
    }
   ],
   "source": [
    "np_2d[1,2]          # indeks skalar ; baris 1 kolom 2"
   ]
  },
  {
   "cell_type": "code",
   "execution_count": 115,
   "id": "5dc91916",
   "metadata": {},
   "outputs": [
    {
     "data": {
      "text/plain": [
       "array([ 9, 10, 11], dtype=int16)"
      ]
     },
     "execution_count": 115,
     "metadata": {},
     "output_type": "execute_result"
    }
   ],
   "source": [
    "np_2d[np_2d > 8]    # pengindeksan dengan condition "
   ]
  },
  {
   "cell_type": "code",
   "execution_count": 116,
   "id": "e7ebf027",
   "metadata": {},
   "outputs": [
    {
     "data": {
      "text/plain": [
       "array([0, 1, 2, 3, 4], dtype=int16)"
      ]
     },
     "execution_count": 116,
     "metadata": {},
     "output_type": "execute_result"
    }
   ],
   "source": [
    "np_2d[np_2d < 5] "
   ]
  },
  {
   "cell_type": "code",
   "execution_count": 117,
   "id": "8a9157fe",
   "metadata": {},
   "outputs": [
    {
     "data": {
      "text/plain": [
       "array([1, 5], dtype=int16)"
      ]
     },
     "execution_count": 117,
     "metadata": {},
     "output_type": "execute_result"
    }
   ],
   "source": [
    "np_2d[[0,1] , [1,2]] # pengindeksan dengan array "
   ]
  },
  {
   "cell_type": "code",
   "execution_count": 119,
   "id": "96ddb9ab",
   "metadata": {},
   "outputs": [
    {
     "data": {
      "text/plain": [
       "array([[ 0,  1,  2],\n",
       "       [ 3,  4,  5],\n",
       "       [ 6,  7,  8],\n",
       "       [ 9, 10, 11]], dtype=int16)"
      ]
     },
     "execution_count": 119,
     "metadata": {},
     "output_type": "execute_result"
    }
   ],
   "source": [
    "np_2d"
   ]
  },
  {
   "cell_type": "code",
   "execution_count": 140,
   "id": "4d5d3309",
   "metadata": {},
   "outputs": [
    {
     "data": {
      "text/plain": [
       "array([[4, 3],\n",
       "       [7, 6]], dtype=int16)"
      ]
     },
     "execution_count": 140,
     "metadata": {},
     "output_type": "execute_result"
    }
   ],
   "source": [
    "np_2d[ [[1],[2]], [1,0] ]   # kolom 1 dan 2 yang dipilih\n",
    "                            # baris 1 dan 0 dibalik "
   ]
  },
  {
   "cell_type": "markdown",
   "id": "ee02e381",
   "metadata": {},
   "source": [
    "### *VECTORIZATION*"
   ]
  },
  {
   "cell_type": "markdown",
   "id": "7b18ed22",
   "metadata": {},
   "source": [
    "<img src=\"https://i.ibb.co/Ybz0vBR/d-numpy-vectorization.png\" align=\"left\"> \n"
   ]
  },
  {
   "cell_type": "code",
   "execution_count": 130,
   "id": "0bff33f9",
   "metadata": {},
   "outputs": [
    {
     "name": "stdout",
     "output_type": "stream",
     "text": [
      "vector a\n",
      "[[ 0  1]\n",
      " [ 3  4]\n",
      " [ 6  7]\n",
      " [ 9 10]]\n"
     ]
    }
   ],
   "source": [
    "vectora = np.array([[0,1],[3,4],[6,7],[9,10]]) \n",
    "print(\"vector a\")\n",
    "print(vectora)"
   ]
  },
  {
   "cell_type": "code",
   "execution_count": 129,
   "id": "f5d35475",
   "metadata": {},
   "outputs": [
    {
     "name": "stdout",
     "output_type": "stream",
     "text": [
      "vector b\n",
      "[[1 1]\n",
      " [1 1]\n",
      " [1 1]\n",
      " [1 1]]\n"
     ]
    }
   ],
   "source": [
    "vectorb = np.array([[1,1],[1,1],[1,1],[1,1]]) \n",
    "print(\"vector b\")\n",
    "print(vectorb)"
   ]
  },
  {
   "cell_type": "code",
   "execution_count": 128,
   "id": "837d4158",
   "metadata": {},
   "outputs": [
    {
     "name": "stdout",
     "output_type": "stream",
     "text": [
      "vector c\n",
      "[[ 1  2]\n",
      " [ 4  5]\n",
      " [ 7  8]\n",
      " [10 11]]\n"
     ]
    }
   ],
   "source": [
    "vectorc = vectora + vectorb\n",
    "print(\"vector c\")\n",
    "print(vectorc)"
   ]
  },
  {
   "cell_type": "code",
   "execution_count": 132,
   "id": "f8a818fb",
   "metadata": {},
   "outputs": [
    {
     "name": "stdout",
     "output_type": "stream",
     "text": [
      "Vector d\n",
      "[[ 1  2]\n",
      " [ 4  5]\n",
      " [ 7  8]\n",
      " [10 11]]\n"
     ]
    }
   ],
   "source": [
    "vectord = vectora + 1 \n",
    "print(\"Vector d\")\n",
    "print(vectord)"
   ]
  },
  {
   "cell_type": "markdown",
   "id": "59965316",
   "metadata": {},
   "source": [
    "### *BROADCASTING*"
   ]
  },
  {
   "cell_type": "markdown",
   "id": "221ffda2",
   "metadata": {},
   "source": [
    "<img src=\"https://i.ibb.co/M2s1TqC/e-numpy-broadcasting.png\" align=\"left\"> \n"
   ]
  },
  {
   "cell_type": "code",
   "execution_count": 141,
   "id": "71811f0c",
   "metadata": {},
   "outputs": [
    {
     "data": {
      "text/plain": [
       "array([[ 0,  0],\n",
       "       [ 3,  6],\n",
       "       [ 6, 12],\n",
       "       [ 9, 18]])"
      ]
     },
     "execution_count": 141,
     "metadata": {},
     "output_type": "execute_result"
    }
   ],
   "source": [
    "ebrodcast = np.array([[0], [3], [6], [9]])                                     \n",
    "ebrodcast * np.array(*[[1, 2]])"
   ]
  },
  {
   "cell_type": "markdown",
   "id": "beb8d631",
   "metadata": {},
   "source": [
    "### *REDUCTION*"
   ]
  },
  {
   "cell_type": "markdown",
   "id": "d43dd38f",
   "metadata": {},
   "source": [
    "<img src=\"https://i.ibb.co/FVbnhdc/f-numpy-reduction.png\" align=\"left\"> "
   ]
  },
  {
   "cell_type": "code",
   "execution_count": 142,
   "id": "e66cc2e8",
   "metadata": {},
   "outputs": [
    {
     "name": "stdout",
     "output_type": "stream",
     "text": [
      "[ 0  1  2  3  4  5  6  7  8  9 10 11]\n",
      "[[ 0  1  2]\n",
      " [ 3  4  5]\n",
      " [ 6  7  8]\n",
      " [ 9 10 11]]\n"
     ]
    }
   ],
   "source": [
    "reduc = np.arange(12) \n",
    "print(reduc) \n",
    "reduc4x3  = reduc.reshape(4,3) \n",
    "print(reduc4x3)"
   ]
  },
  {
   "cell_type": "markdown",
   "id": "cb5642b6",
   "metadata": {},
   "source": [
    "<img src=\"https://i.ibb.co/QbjwCCD/numpy-reduction2.png\" align=\"left\"> \n"
   ]
  },
  {
   "cell_type": "code",
   "execution_count": 143,
   "id": "e44d0135",
   "metadata": {},
   "outputs": [
    {
     "name": "stdout",
     "output_type": "stream",
     "text": [
      "[18 22 26]\n",
      "[ 3 12 21 30]\n",
      "66\n"
     ]
    }
   ],
   "source": [
    "one_d1 = reduc4x3.sum(axis=0)\n",
    "print(one_d1)\n",
    "\n",
    "one_d2 = reduc4x3.sum(axis=1)\n",
    "print(one_d2)\n",
    "\n",
    "skalar0d = reduc4x3.sum()\n",
    "print(skalar0d)\n"
   ]
  },
  {
   "cell_type": "markdown",
   "id": "3ae919e1",
   "metadata": {},
   "source": [
    "### *EXAMPLE RESHAPE AND ARANGE*"
   ]
  },
  {
   "cell_type": "code",
   "execution_count": 145,
   "id": "a4624760",
   "metadata": {},
   "outputs": [
    {
     "data": {
      "text/plain": [
       "array([ 0,  1,  2,  3,  4,  5,  6,  7,  8,  9, 10, 11])"
      ]
     },
     "execution_count": 145,
     "metadata": {},
     "output_type": "execute_result"
    }
   ],
   "source": [
    "x = np.arange(12)\n",
    "x"
   ]
  },
  {
   "cell_type": "code",
   "execution_count": 146,
   "id": "16179e1d",
   "metadata": {},
   "outputs": [
    {
     "data": {
      "text/plain": [
       "array([[ 0,  1,  2],\n",
       "       [ 3,  4,  5],\n",
       "       [ 6,  7,  8],\n",
       "       [ 9, 10, 11]])"
      ]
     },
     "execution_count": 146,
     "metadata": {},
     "output_type": "execute_result"
    }
   ],
   "source": [
    "x = x.reshape(4,3)\n",
    "x"
   ]
  },
  {
   "cell_type": "code",
   "execution_count": 147,
   "id": "4cf7c903",
   "metadata": {},
   "outputs": [
    {
     "data": {
      "text/plain": [
       "array([4.5, 5.5, 6.5])"
      ]
     },
     "execution_count": 147,
     "metadata": {},
     "output_type": "execute_result"
    }
   ],
   "source": [
    "np.mean(x,axis=0)"
   ]
  },
  {
   "cell_type": "code",
   "execution_count": 148,
   "id": "7a5f0a9b",
   "metadata": {},
   "outputs": [
    {
     "data": {
      "text/plain": [
       "array([ 1.,  4.,  7., 10.])"
      ]
     },
     "execution_count": 148,
     "metadata": {},
     "output_type": "execute_result"
    }
   ],
   "source": [
    "np.mean(x,axis=1)"
   ]
  },
  {
   "cell_type": "markdown",
   "id": "1a498924",
   "metadata": {},
   "source": [
    "## **NUMPY READ CSV**\n",
    "---"
   ]
  },
  {
   "cell_type": "code",
   "execution_count": 149,
   "id": "b174dd78",
   "metadata": {},
   "outputs": [],
   "source": [
    "import csv"
   ]
  },
  {
   "cell_type": "code",
   "execution_count": 150,
   "id": "c1c15f0b",
   "metadata": {},
   "outputs": [],
   "source": [
    "data = []"
   ]
  },
  {
   "cell_type": "code",
   "execution_count": null,
   "id": "a856c6e6",
   "metadata": {},
   "outputs": [],
   "source": [
    "with open('data/MER_T07_02A.csv', 'r') as csvfile:\n",
    "    file_reader = csv.reader(csvfile, delimiter=',')\n",
    "    for row in file_reader:\n",
    "        data.append(row)\n",
    "        \n",
    "data = np.array(data)\n",
    "#convert the list of lists to a NumPy array"
   ]
  },
  {
   "cell_type": "code",
   "execution_count": 315,
   "id": "7018ba7b",
   "metadata": {},
   "outputs": [
    {
     "data": {
      "text/plain": [
       "(8542, 6)"
      ]
     },
     "execution_count": 315,
     "metadata": {},
     "output_type": "execute_result"
    }
   ],
   "source": [
    "data.shape"
   ]
  },
  {
   "cell_type": "code",
   "execution_count": 316,
   "id": "548c0e7e",
   "metadata": {},
   "outputs": [
    {
     "data": {
      "text/plain": [
       "array(['CLETPUS', '195313', '218846.325', '1',\n",
       "       'Electricity Net Generation From Coal, All Sectors',\n",
       "       'Million Kilowatthours'], dtype='<U80')"
      ]
     },
     "execution_count": 316,
     "metadata": {},
     "output_type": "execute_result"
    }
   ],
   "source": [
    "data[5]"
   ]
  },
  {
   "cell_type": "code",
   "execution_count": null,
   "id": "421c8476",
   "metadata": {},
   "outputs": [],
   "source": [
    "data.dtype.type"
   ]
  },
  {
   "cell_type": "code",
   "execution_count": 317,
   "id": "a937fc8a",
   "metadata": {},
   "outputs": [],
   "source": [
    "np.save(open('data.npy', 'wb'), data)\n",
    "# Saves data to a binary file with the .npy extension"
   ]
  },
  {
   "cell_type": "code",
   "execution_count": 319,
   "id": "a19f9371",
   "metadata": {},
   "outputs": [
    {
     "data": {
      "text/plain": [
       "(8542, 6)"
      ]
     },
     "execution_count": 319,
     "metadata": {},
     "output_type": "execute_result"
    }
   ],
   "source": [
    "newdata = np.load('data.npy')\n",
    "newdata.shape"
   ]
  }
 ],
 "metadata": {
  "kernelspec": {
   "display_name": "Python 3.10.8 64-bit (microsoft store)",
   "language": "python",
   "name": "python3"
  },
  "language_info": {
   "codemirror_mode": {
    "name": "ipython",
    "version": 3
   },
   "file_extension": ".py",
   "mimetype": "text/x-python",
   "name": "python",
   "nbconvert_exporter": "python",
   "pygments_lexer": "ipython3",
   "version": "3.10.8"
  },
  "vscode": {
   "interpreter": {
    "hash": "3b7e9cb8e453d6cda0fe8c8dd13f891a1f09162f0e7c66ffeae7751a7aecf00d"
   }
  }
 },
 "nbformat": 4,
 "nbformat_minor": 5
}
