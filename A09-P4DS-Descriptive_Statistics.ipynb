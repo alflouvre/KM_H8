{
  "cells": [
    {
      "cell_type": "markdown",
      "metadata": {},
      "source": [
        "<img src=\"https://i.pinimg.com/564x/aa/55/41/aa5541d265687d1fb50d15e6088013d6.jpg\" width=\"1200\" height=\"150\" align=\"center\">"
      ]
    },
    {
      "cell_type": "markdown",
      "metadata": {
        "id": "7nM0TT3dvLx1"
      },
      "source": [
        "## **INTRODUCTION**\n",
        "---"
      ]
    },
    {
      "cell_type": "markdown",
      "metadata": {
        "id": "zFE1eVV2vQn-"
      },
      "source": [
        "**What is Descriptive Statistics ?**"
      ]
    },
    {
      "cell_type": "markdown",
      "metadata": {
        "id": "HBogwjUwvhMR"
      },
      "source": [
        "- `Descriptive statistics/Statistik deskriptif` melibatkan meringkas/summarizing dan mengatur data sehingga dapat dengan mudah dipahami.\n",
        "- Statistik deskriptif, tidak seperti statistik inferensial, berupaya mendeskripsikan data, tetapi tidak mencoba membuat kesimpulan dari sampel ke seluruh populasi. \n",
        "- Di sini, `kita biasanya mendeskripsikan data dalam sampel`. Secara umum berarti bahwa `statistik deskriptif`, tidak seperti statistik inferensial, `tidak dikembangkan berdasarkan teori probabilitas`.\n",
        "\n",
        "`Descriptive Statistical Analysis` membantu kita memahami data dan merupakan `bagian yang sangat penting dari Machine Learning`. Ini karena `Machine Learning adalah tentang membuat prediksi`. Di sisi lain, statistik adalah tentang menarik `kesimpulan dari data`, yang merupakan langkah awal yang diperlukan.\n",
        "\n",
        "Dalam sesi ini akan membahas tentang konsep statistik deskriptif yang paling penting. `Descriptive statistics akan membantu kita lebih memahami apa yang coba diceritakan oleh data kita, yang akan menghasilkan model dan pemahaman machine learning yang lebih baik secara keseluruhan.`"
      ]
    },
    {
      "cell_type": "markdown",
      "metadata": {
        "id": "o1VvnyCxsUWH"
      },
      "source": [
        "## **STATISTIKA DESKRIPTIF**\n",
        "---\n"
      ]
    },
    {
      "cell_type": "markdown",
      "metadata": {
        "id": "-TEsxwFXsSMF"
      },
      "source": [
        "**Statistik Deskriptif**\n",
        "\n",
        "`Statistik deskriptif` adalah tentang menggambarkan dan meringkas data. \n",
        "\n",
        "**Pendekatan Utama**\n",
        "\n",
        "1. Pendekatan `kuantitatif` menggambarkan dan meringkas data secara `numerik`.\n",
        "2. Pendekatan `visual` menggambarkan data dengan `grafik, plot, histogram, dan grafik lainnya`."
      ]
    },
    {
      "cell_type": "markdown",
      "metadata": {},
      "source": [
        "### **Jenis Analisis**"
      ]
    },
    {
      "cell_type": "markdown",
      "metadata": {
        "id": "-pu3WvbSsS4l"
      },
      "source": [
        "Kita dapat menerapkan statistik deskriptif ke `satu atau banyak dataset atau variabel` :\n",
        "* Saat Anda mendeskripsikan dan meringkas `satu variabel`, Anda melakukan **`analisis univariat`** . \n",
        "* Saat Anda menelusuri `hubungan statistik di antara sepasang variabel`, Anda melakukan **`analisis bivariat`** . \n",
        "* Demikian pula, **`analisis multivariat`** berkaitan dengan `beberapa variabel sekaligus`.\n",
        "\n",
        ">Apa itu Analisis Univariat?\n",
        "\n",
        "- **`Analisis univariat`** adalah bentuk analisis data yang paling sederhana. “Uni” berarti “satu”, jadi dengan kata lain data Anda `hanya memiliki satu variabel`.\n",
        "- Itu `tidak berurusan dengan penyebab atau hubungan` (tidak seperti regresi )\n",
        "- `Tujuan` utamanya adalah untuk `menggambarkan`; Dibutuhkan data, `merangkum` data itu dan `menemukan pola` dalam data."
      ]
    },
    {
      "cell_type": "markdown",
      "metadata": {
        "id": "bQ87X9yHtNgZ"
      },
      "source": [
        "### **Jenis Tindakan**"
      ]
    },
    {
      "cell_type": "markdown",
      "metadata": {
        "id": "pRYJIG47tPdY"
      },
      "source": [
        "`Jenis ukuran` dalam statistik deskriptif:\n",
        "\n",
        "* **`Tendensi sentral`**\n",
        "    - Beritahu tentang : `pusat-pusat data`\n",
        "    - Berguna : `mean, median, dan modus`\n",
        "* **`Variabilitas`**\n",
        "    - Beritahu tentang : `penyebaran data`\n",
        "    - Berguna : `varians dan standar deviasi.`\n",
        "* **`Korelasi atau variabilitas bersama`**\n",
        "    - Beritahu tentang : `hubungan antara sepasang variabel dalam dataset`\n",
        "    - Berguna : `kovarians dan koefisien korelasi`\n",
        "\n",
        "Bagaimana kita akan memahami dan menghitung ukuran ini dengan Python?"
      ]
    },
    {
      "cell_type": "markdown",
      "metadata": {
        "id": "9dQMOfn8vYiX"
      },
      "source": [
        "### **Tipe dari Statistik Deskriptif**"
      ]
    },
    {
      "cell_type": "markdown",
      "metadata": {},
      "source": [
        "Statistik deskriptif dipecah menjadi dua kategori :\n",
        "- Measures of central tendency\n",
        "- Measures of variability (spread)."
      ]
    },
    {
      "cell_type": "markdown",
      "metadata": {},
      "source": [
        "### **Istilah-Istilah dalam Statistik**"
      ]
    },
    {
      "cell_type": "markdown",
      "metadata": {
        "id": "gZaFeQqgwCxr"
      },
      "source": [
        "#### *Population vs Samples*"
      ]
    },
    {
      "cell_type": "markdown",
      "metadata": {
        "id": "gj5fQDyJohRv"
      },
      "source": [
        "\n",
        "\n",
        "<img src=\"https://i.ibb.co/pKk0k8x/populasi-sample.png\" width=\"500\" align=\"center\">\n"
      ]
    },
    {
      "cell_type": "markdown",
      "metadata": {
        "id": "UzTusGBxwCt3"
      },
      "source": [
        "**`Populasi`**\n",
        "\n",
        "Dalam statistik, `populasi` adalah sekumpulan dari semua elemen atau item yang kita minati.\n",
        "\n",
        "Populasi seringkali sangat banyak, sehingga `tidak sesuai untuk collecting dan analyzing data`. Itulah mengapa statisticians biasanya mencoba membuat beberapa kesimpulan tentang suatu populasi dengan `memilih dan memeriksa subkumpulan perwakilan dari populasi tersebut.`\\\n",
        "\n",
        "**`Sampel`**\n",
        "\n",
        "Bagian dari populasi ini disebut `sampel`. Idealnya, `sampel harus mempertahankan fitur statistik esensial dari populasi` hingga tingkat yang memuaskan. Dengan begitu, kita akan `dapat menggunakan sampel untuk menarik kesimpulan tentang populasi.`"
      ]
    },
    {
      "cell_type": "markdown",
      "metadata": {
        "id": "eePovAw_wCq0"
      },
      "source": [
        "#### *Outliers*"
      ]
    },
    {
      "cell_type": "markdown",
      "metadata": {
        "id": "srXfrNTjwCnC"
      },
      "source": [
        "`Outlier/Pencilan` adalah titik data yang berbeda secara signifikan dari sebagian besar data yang diambil dari sampel atau populasi.\n",
        "\n",
        "Ada banyak kemungkinan `penyebab pencilan`, tetapi berikut ini beberapa yang bisa membantu kita:\n",
        "\n",
        "* **Natural variation** in data\n",
        "* **Change** in the behavior of the observed system\n",
        "* **Errors** in data collection\n",
        "\n",
        "`Kesalahan pengumpulan data` adalah `penyebab utama pencilan`. \n",
        "\n",
        "Misalnya :\n",
        "- Keterbatasan instrumen atau prosedur pengukuran dapat berarti bahwa data yang benar tidak dapat diperoleh.\n",
        "- Kesalahan lainnya dapat disebabkan oleh kesalahan perhitungan, kontaminasi data, kesalahan manusia, dan lainnya.\n",
        "\n",
        "Tidak ada definisi matematis yang tepat tentang pencilan. Kita harus mengandalkan pengalaman, pengetahuan tentang subjek yang diminati, dan common sense untuk menentukan apakah titik data adalah pencilan dan bagaimana cara menanganinya.\n",
        "\n"
      ]
    },
    {
      "cell_type": "markdown",
      "metadata": {
        "id": "26-L4baNrYbv"
      },
      "source": [
        "\n",
        "\n",
        "<img src=\"https://i.ibb.co/XygdS6T/outlier.jpg\" width=\"600\" align=\"center\">\n",
        "\n",
        "\n",
        "<img src=\"https://i.ibb.co/w4gH6Lp/outlier2.jpg\" width=\"600\" align=\"center\">\n",
        "\n"
      ]
    },
    {
      "cell_type": "markdown",
      "metadata": {
        "id": "aGPi8k_kvjNi"
      },
      "source": [
        "## **PUSTAKA STATISTIK**\n",
        "---\n"
      ]
    },
    {
      "cell_type": "markdown",
      "metadata": {
        "id": "6g4hfIOhwCkG"
      },
      "source": [
        "Ada banyak `library statistik Python` di luar sana untuk Anda gunakan, tetapi dalam tutorial ini, Anda akan belajar tentang beberapa `yang paling populer dan banyak digunakan` :\n",
        "\n",
        "1. **`Python’s statistics`** adalah library Python bawaan `untuk statistik deskriptif`. Anda dapat menggunakannya `jika dataset Anda tidak terlalu besar` atau jika Anda tidak dapat mengandalkan pengimporan pustaka lain.\n",
        "\n",
        "2. **`NumPy`** adalah perpustakaan pihak ketiga `untuk komputasi numerik`, dioptimalkan untuk bekerja dengan array satu dan multi-dimensi. Tipe utamanya adalah tipe array yang disebut \n",
        "ndarray. Pustaka ini berisi `banyak rutinitas untuk analisis statistik`.\n",
        "\n",
        "3. **`SciPy`** adalah perpustakaan pihak ketiga `untuk komputasi ilmiah berdasarkan NumPy`. Ini menawarkan fungsionalitas tambahan dibandingkan dengan NumPy, termasuk `scipy.stats untuk analisis statistik`.\n",
        "\n",
        "4. **`Pandas`** adalah perpustakaan pihak ketiga `untuk komputasi numerik berdasarkan NumPy`. Ini `unggul dalam menangani data satu dimensi (1D) berlabel dengan Series objek dan data dua dimensi (2D) dengan DataFrame objek.`\n",
        "\n",
        "5. **`Matplotlib`** adalah perpustakaan pihak ketiga `untuk visualisasi data`. Ini bekerja dengan baik dalam kombinasi dengan NumPy, SciPy, dan Pandas.\n",
        "\n",
        "Perhatikan bahwa : \n",
        "- Dalam banyak kasus, `Series dan DataFrame objek dapat digunakan sebagai pengganti array NumPy`. \n",
        "- Seringkali, Anda mungkin hanya meneruskannya ke fungsi statistik NumPy atau SciPy.\n",
        "- Selain itu, Anda bisa `mendapatkan data yang tidak berlabel dari a Series atau DataFrame sebagai np.ndarray objek` dengan memanggil `.values atau .to_numpy()`."
      ]
    },
    {
      "cell_type": "markdown",
      "metadata": {
        "id": "KISpKQUEwCZa"
      },
      "source": [
        "## **Measure of Central Tendency**\n",
        "---"
      ]
    },
    {
      "cell_type": "markdown",
      "metadata": {},
      "source": [
        "`Central tendency mengacu pada gagasan` bahwa `ada satu bilangan yang paling baik untuk meringkas seluruh rangkaian pengukuran`, sebuah bilangan yang dalam beberapa hal merupakan “central” dari himpunan tersebut.\n",
        "\n",
        "Atau bisa dikatakan pengukuran suatu nilai dimana dapat digunakan untuk mempresentasikan nilai sentral dari dataset\n",
        "\n",
        "* Mean \n",
        "* Median \n",
        "* Mode"
      ]
    },
    {
      "cell_type": "markdown",
      "metadata": {
        "id": "ITaUyqunwCWN"
      },
      "source": [
        "#### **1. Mean / Average**\n",
        "`Mean atau Average` adalah central tendency dari data, `angka diantara seluruh data tersebar`.\n",
        "\n"
      ]
    },
    {
      "cell_type": "markdown",
      "metadata": {},
      "source": [
        "Di satu sisi, Mean atau Average adalah `angka tunggal yang dapat memperkirakan nilai seluruh dataset`. Mean hanyalah rata-rata dan dianggap sebagai `ukuran tendensi sentral yang paling andal untuk membuat asumsi tentang suatu populasi dari satu sampel`. Tendensi sentral menentukan kecenderungan nilai data kita untuk mengelompok di sekitar mean, mode, atau mediannya. \n",
        "\n",
        "Rata-rata dihitung dengan `jumlah semua nilai, dibagi dengan jumlah nilai`.\n",
        "\n",
        "**CONTOH KASUS 1 :**\n",
        "> Hitung mean dari dataset yang memiliki 8 bilangan bulat."
      ]
    },
    {
      "cell_type": "markdown",
      "metadata": {
        "id": "wNwFEpOUWQGO"
      },
      "source": [
        "\n",
        "<img src=\"https://i.ibb.co/smXc7sm/mean.png\" width=\"400\" align=\"center\">"
      ]
    },
    {
      "cell_type": "markdown",
      "metadata": {
        "id": "OI97ZZt4woUg"
      },
      "source": [
        "Jika kita berbicara `tentang populasi`, maka `lambang Mean` yang biasa digunakan adalah **`μ`** \n",
        "\n",
        "sedangkan `pada sampel` adalah **`x̄`**."
      ]
    },
    {
      "cell_type": "markdown",
      "metadata": {
        "id": "i2CXXqGQwCTh"
      },
      "source": [
        "#### **2. Median**\n",
        "`Median` adalah nilai yang membagi data dalam 2 bagian yang sama yaitu `jumlah suku di sisi kanannya sama dengan jumlah suku di sisi kirinya` saat data `disusun dalam urutan naik atau turun`. `Median` adalah `nilai \"tengah\"` atau `titik tengah dalam data kita` dan juga disebut \"`persentil ke-50`\".\n",
        "\n"
      ]
    },
    {
      "cell_type": "markdown",
      "metadata": {},
      "source": [
        "**Perhatikan bahwa `MEDIAN` jauh lebih `sedikit dipengaruhi` oleh `OUTLIERS` dan `SKEWED DATA` daripada `MEAN`** \n",
        "\n",
        "**CONTOH KASUS 1 :**\n",
        "> Bayangkan Kalian memiliki kumpulan data hadiah perumahan yang `sebagian besar berkisar antara 100.000 hingga 300.000` tetapi berisi `beberapa rumah yang bernilai lebih dari 3 juta Dolar`.\n",
        "\n",
        "- Rumah-rumah mahal ini akan `sangat berpengaruh` karena `MEANnya adalah jumlah dari semua nilai, dibagi dengan jumlah nilai`.\n",
        "- `MEDIAN tidak akan terlalu terpengaruh` oleh pencilan/OUTLIERS ini karena `hanya nilai \"tengah\" dari semua titik data`.\n",
        "- Oleh karena itu, `MEDIAN` adalah `statistik yang jauh lebih cocok untuk melaporkan data kita`.\n",
        "\n",
        "`MEDIAN` adalah nilai tengah, jika jumlah nilai `ganjil`\n",
        "\n",
        "`MEDIAN` adalah `MEAN` dari 2 nilai tengah, jika jumlah nilai `genap`."
      ]
    },
    {
      "cell_type": "markdown",
      "metadata": {
        "id": "FPDWc4ovwCO9"
      },
      "source": [
        "**CONTOH KASUS 2 :**\n",
        "> 12 + 24 + 41 + `51 + 67` + 67 + 85 + 99"
      ]
    },
    {
      "cell_type": "markdown",
      "metadata": {
        "id": "q0rpyfOwwCIO"
      },
      "source": [
        "Mediannya adalah 59 yang akan membagi kumpulan angka menjadi dua bagian yang sama. Karena ada bilangan genap dalam himpunan, jawabannya adalah rata-rata dari bilangan tengah 51 dan 67."
      ]
    },
    {
      "cell_type": "markdown",
      "metadata": {
        "id": "H7hUnVG0wB-b"
      },
      "source": [
        "**CONTOH KASUS 3 :**\n",
        "> 2 , 4, `6` , 8, 10"
      ]
    },
    {
      "cell_type": "markdown",
      "metadata": {
        "id": "5Qvv0nqkvc8y"
      },
      "source": [
        "Mean dari 5 angka diatas adalah 6 dan mediannya 6 "
      ]
    },
    {
      "cell_type": "markdown",
      "metadata": {
        "id": "8k36WIISMNiu"
      },
      "source": [
        "**`SIFAT MEDIAN :`**\n",
        "- `Tidak dipengaruhi oleh nilai ekstrim.`\n",
        "\n",
        "    Kondisi dimana nilai ekstrim ditemukan maka penggunaan median sebagai penunjuk lokasi pusat data lebih representative.\n",
        "- `Dapat digunakan untuk data yang bersifat ordinal.`\n",
        "\n",
        "    Data ordinal merupakan data yang menunjukkan adanya level. Pada data ordinal nilai rata-rata tidak dapat digunakan untuk menggambarkan pemusatan data karena cenerung akan menghasilkan nilai kontinyu (bukan diskrit) yang menyulitkan untuk dilakukan interpretasi.\n"
      ]
    },
    {
      "cell_type": "markdown",
      "metadata": {
        "id": "lUBMb-02wBpk"
      },
      "source": [
        "#### **3. Mode / Modus**\n",
        "`Mode` adalah nilai yang muncul secara maksimum dalam dataSET, `nilai yang memiliki frekuensi tertinggi`. Modus adalah `nilai atau kategori yang paling sering muncul dalam data`."
      ]
    },
    {
      "cell_type": "markdown",
      "metadata": {},
      "source": [
        "Oleh karena itu, `dataset tidak memiliki mode, jika tidak ada nomor yang diulangi atau jika tidak ada kategori yang sama.` \n",
        "\n",
        "Ada kemungkinan dataset memiliki lebih dari satu mode.\n",
        "\n",
        "**CONTOH KASUS 1 :**\n",
        "> Bagaimana jika kita ingin memberi kesimpulan dengan mode pada variabel category?\n",
        "\n",
        "`Mode` merupakan `satu-satunya ukuran tendensi sentral yang dapat digunakan untuk` **`variabel category`** `karena kita tidak dapat menghitungnya`\n",
        "\n",
        "misalnya rata-rata untuk variabel \"gender\" atau \"warna\". Kita cukup melaporkan variabel kategori sebagai angka dan persentase."
      ]
    },
    {
      "cell_type": "markdown",
      "metadata": {
        "id": "duyqKiauW1cJ"
      },
      "source": [
        "**CONTOH KASUS 2 :**\n",
        "> 12 , 24, 41, 51, **67, 67**, 85 , 99"
      ]
    },
    {
      "cell_type": "markdown",
      "metadata": {
        "id": "Hskl0h7FW15F"
      },
      "source": [
        "Dalam kumpulan data ini, mode-nya adalah 67 karena memiliki frekuensi lebih dari nilai lainnya, yaitu dua kali.\n",
        "\n",
        "- Tetapi mungkin `ada kumpulan data di mana tidak ada mode sama sekali` karena `semua nilai muncul dalam jumlah yang sama`.\n",
        "- Jika `dua nilai muncul pada waktu yang sama dan lebih dari nilai lainnya` maka kumpulan datanya adalah **`bimodal`**\n",
        "- Jika `tiga nilai muncul pada waktu yang sama dan lebih dari nilai lainnya` maka kumpulan datanya adalah **`trimodal`**\n",
        "- Jika `untuk n mode`, kumpulan data tersebut adalah **`multimodal`**"
      ]
    },
    {
      "cell_type": "markdown",
      "metadata": {
        "id": "LaML7CRzW7Ay"
      },
      "source": [
        "## **Measure of Spread / Dispersion / Variation**\n",
        "---\n"
      ]
    },
    {
      "cell_type": "markdown",
      "metadata": {},
      "source": [
        "Measure of Spread `mengacu pada gagasan variabilitas dalam data kita`.\n",
        "\n",
        "**`FUNGSI :`**\n",
        "- untuk mengukur seberapa \"bagus\" MEAN merepresentasikan dataset (How far away data from the center)\n",
        "- untuk memberi tahu kita tentang seberapa luas dataset\n",
        "\n",
        "`Beberapa ukuran dasar spread yang digunakan dalam statistik`. Yang paling umum adalah : \n",
        "1. Standard Deviation \n",
        "2. Variance \n",
        "3. Range \n",
        "4. Mean Deviation\n"
      ]
    },
    {
      "cell_type": "markdown",
      "metadata": {
        "id": "gFW6tOtQW7iF"
      },
      "source": [
        "#### **1. Standard Deviation/ Simpangan Baku**\n",
        "Standard deviation/Simpangan baku adalah `pengukuran jarak rata-rata antara setiap besaran dan mean`."
      ]
    },
    {
      "cell_type": "markdown",
      "metadata": {},
      "source": [
        "**`Bagaimana data disebarkan/seberapa tersebar data dari mean?`**\n",
        "- Standar deviasi yang `rendah` menunjukkan bahwa `titik data cenderung mendekati rata-rata kumpulan data`\n",
        "- Standar deviasi yang `tinggi` menunjukkan bahwa `titik data tersebar di nilai yang lebih luas`\n",
        "\n",
        "Bagaimana jika kita berada pada situasi harus memilih antara `sample` atau `population Standard Deviation`?\n",
        "\n",
        "Jadi, ketika kita diminta untuk menemukan Strandar Devasi dari `beberapa bagian populasi/ segmen populasi`, maka kita menggunakan `sample Standard Deviation`.\n",
        "\n",
        "**`Sample Standard Deviation`**"
      ]
    },
    {
      "cell_type": "markdown",
      "metadata": {
        "id": "InohP9h7W857"
      },
      "source": [
        "<img src=\"https://i.ibb.co/L5Fx5L9/SDSample.png\" width=\"400\" align=\"center\">"
      ]
    },
    {
      "cell_type": "markdown",
      "metadata": {
        "id": "1hcQgs0-W9gb"
      },
      "source": [
        "Dimana x̅ adalah mean dari sample.\n",
        "\n",
        "Tetapi ketika kita harus menangani `keseluruhan populasi`, maka kita menggunakan `population Standard Deviation`.\n",
        "\n",
        "**`Population Standard Deviation`**"
      ]
    },
    {
      "cell_type": "markdown",
      "metadata": {
        "id": "z1AZRocUW9ld"
      },
      "source": [
        "<img src=\"https://i.ibb.co/gmmhFxS/SDPopulasi1.png\" width=\"400\" align=\"center\">"
      ]
    },
    {
      "cell_type": "markdown",
      "metadata": {
        "id": "qrVItmWPW9rB"
      },
      "source": [
        "Dimana µ adalah mean dari populasi.\n",
        "\n",
        "Meskipun sampel adalah bagian dari populasi, rumus SD mereka seharusnya sama, padahal sebenarnya tidak.\n",
        "\n",
        "Seperti yang kita ketahui, `dalam statistik deskriptif`, kita `biasanya berurusan dengan data yang tersedia dalam sampel`, `bukan dalam populasi`.\n",
        "\n",
        "**CONTOH KASUS 1 :**\n",
        "> Dataset di Mean -> 12 + 24 + 41 + 51 + 67 + 67 + 85 + 99 dan meannya 55.75\n",
        "\n",
        "\n",
        "Jadi jika kita menggunakan kumpulan data sebelumnya yang kita gunakan dalam mean, dan mengganti nilai dalam rumus sampel"
      ]
    },
    {
      "cell_type": "markdown",
      "metadata": {
        "id": "Zy00zGv_W9uS"
      },
      "source": [
        "<img src=\"https://i.ibb.co/x8ShJ0n/meanpopulasi.png\" width=\"700\" align=\"center\">\n",
        "\n",
        "\n",
        "Dan sample standard deviationnya adalah `29.62`\n",
        "\n"
      ]
    },
    {
      "cell_type": "markdown",
      "metadata": {
        "id": "FwEJJmvAW9yv"
      },
      "source": [
        "#### **2. Mean Deviation / Mean Absolute Deviation**\n",
        "Mean Absolute Deviation adalah `rata-rata perbedaan absolut antara setiap nilai dalam satu set nilai`, dan `rata-rata semua nilai dari set itu`."
      ]
    },
    {
      "cell_type": "markdown",
      "metadata": {},
      "source": [
        "<img src=\"https://sis.binus.ac.id/wp-content/uploads/2018/12/fgfr.jpg\" width=\"400\" align=\"center\">"
      ]
    },
    {
      "cell_type": "markdown",
      "metadata": {},
      "source": [
        "**CONTOH KASUS 1 :**\n",
        "> Dataset di Mean -> 12 + 24 + 41 + 51 + 67 + 67 + 85 + 99 dan meannya 55.75\n",
        "\n",
        "Jadi jika kita menggunakan kumpulan data sebelumnya, dan mengganti nilainya,"
      ]
    },
    {
      "cell_type": "markdown",
      "metadata": {
        "id": "U-PdSFP_W94p"
      },
      "source": [
        "<img src=\"https://i.ibb.co/JzQ8Xy7/Mean-Dev-Bagi-Mean-Abs.png\" width=\"700\" align=\"center\">\n",
        "\n",
        "Dan jawabannya adalah 23.75.\n"
      ]
    },
    {
      "cell_type": "markdown",
      "metadata": {
        "id": "HdJyTyBWW99p"
      },
      "source": [
        "#### **3. Variance**\n",
        "Variance /Varians adalah `kuadrat jarak rata-rata antara setiap kuantitas dan mean`. Variance adalah `kuadrat dari standar deviasi`."
      ]
    },
    {
      "cell_type": "markdown",
      "metadata": {},
      "source": [
        "Varians dihitung dengan mencari selisih antara setiap titik data dan mean, mengkuadratkannya, menjumlahkannya, dan kemudian mengambil rata-rata dari angka-angka itu."
      ]
    },
    {
      "cell_type": "markdown",
      "metadata": {
        "id": "KdnqNVfKW-Bk"
      },
      "source": [
        "**`RUMUS VARIANCE`**\n",
        "> **Variance** = ( S.D.)2\n",
        "\n",
        "Dan jawabannya adalah 877.34.\n"
      ]
    },
    {
      "cell_type": "markdown",
      "metadata": {
        "id": "s4IBB7a42rve"
      },
      "source": [
        "#### **4. Range**\n",
        "Range /Rentang adalah `salah satu teknik statistik deskriptif yang paling sederhana`. Range adalah `perbedaan antara nilai terendah dan tertinggi`.\n"
      ]
    },
    {
      "cell_type": "markdown",
      "metadata": {
        "id": "q3wYbFsmW-Lg"
      },
      "source": [
        "**CONTOH KASUS 1 :**\n",
        "> 12, 24, 51, 67, 67, 85, 99"
      ]
    },
    {
      "cell_type": "markdown",
      "metadata": {
        "id": "sVZGLMUnW-Pj"
      },
      "source": [
        "\n",
        "Range adalah 99–12 = 87\n",
        "\n",
        "**`KELEMAHAN DALAM RANGE`** :\n",
        "- hanya meryertakan dua nilai saja dalam proses pengukuran\n"
      ]
    },
    {
      "cell_type": "markdown",
      "metadata": {
        "id": "B2EQ1KGe224D"
      },
      "source": [
        "#### **5. Percentile**\n",
        "Percentile/Persentil adalah `cara untuk merepresentasikan posisi suatu nilai dalam dataset`.\n",
        "\n",
        "- Untuk menghitung persentil, `nilai dalam kumpulan data harus selalu dalam urutan ascending/menaik`"
      ]
    },
    {
      "cell_type": "markdown",
      "metadata": {
        "id": "cWSljM0aW-VW"
      },
      "source": [
        "**CONTOH KASUS 1 :**\n",
        "> 12, 24, 51, 67, 67, 85, 99  -> data sudah diurutkan"
      ]
    },
    {
      "cell_type": "markdown",
      "metadata": {},
      "source": [
        "Median-nya adalah 59 (mean dari 51 dan 67) memiliki 3 nilai yang lebih kecil dari dirinya sendiri.\n",
        "\n",
        "Dapat juga dikatakan sebagai:\n",
        "- Dalam kumpulan data, 59 adalah persentil ke-50 karena 50% dari total suku kurang dari 59.\n",
        "\n",
        "Secara umum, `jika k adalah persentil ke-n, itu menyiratkan bahwa n% dari total suku kurang dari k.`"
      ]
    },
    {
      "cell_type": "markdown",
      "metadata": {
        "id": "2q9o8f41W-aT"
      },
      "source": [
        "#### **6. Quartiles : Q1, Q2, Q3, IQR**\n",
        "`Dalam statistik dan probabilitas`, quartiles adalah `nilai yang membagi data kita menjadi beberapa quarters jika data diurutkan dalam urutan ascending/menaik.`"
      ]
    },
    {
      "cell_type": "markdown",
      "metadata": {
        "id": "MpccZAjoW-eL"
      },
      "source": [
        "<img src=\"https://i.ibb.co/QvM3LBj/Quartile.gif\" width=\"700\" align=\"center\">\n"
      ]
    },
    {
      "cell_type": "markdown",
      "metadata": {
        "id": "iWjWM9vLYOeh"
      },
      "source": [
        "**`3 MACAM NILAI QUARTIL :`**\n",
        "\n",
        "- Nilai Q1 berada pada 25 persentil. \n",
        "\n",
        "- Nilai Q2 adalah 50 persentil \n",
        "\n",
        "- Nilai Q3 adalah 75 persentil. \n",
        "\n",
        "**`POSISI 3 NILAI QUARTIL :`**\n",
        "- Median dari `SELURUH DATA` -> Q2 / Kuartil kedua\n",
        "- Median dari `SEPARUH DATA BAGIAN ATAS` -> Q1 / Kuartil pertama\n",
        "- Median dari `SEPARUH DATA BAGIAN BAWAH` -> Q3 / Kuartil ketiga"
      ]
    },
    {
      "cell_type": "markdown",
      "metadata": {
        "id": "oNMMosCzYOkO"
      },
      "source": [
        "**CONTOH KASUS 1 :**\n",
        "> **12,24,41,51,67,67,85,99,115**\n",
        "\n",
        "Jadi,\n",
        "\n",
        "* Q2 = 67: adalah 50 percentile of the whole data dan median.\n",
        "* Q1 = 41: adalah 25 percentile of the data.\n",
        "* Q3 = 85: adalah 75 percentile of the date.\n",
        "* Interquartile range (IQR) = Q3 - Q1 = 85 - 41 = 44\n",
        "\n"
      ]
    },
    {
      "cell_type": "markdown",
      "metadata": {
        "id": "i_2inP5d4srj"
      },
      "source": [
        "## **SKEWNESS**\n",
        "---\n"
      ]
    },
    {
      "cell_type": "markdown",
      "metadata": {},
      "source": [
        "Skewness adalah `ukuran asimetri distribusi probabilitas dari real-valued random variable tentang meannya`\n",
        "\n",
        "Nilai kemiringan bisa :\n",
        "- positif\n",
        "- negatif\n",
        "- undefined"
      ]
    },
    {
      "cell_type": "markdown",
      "metadata": {
        "id": "CrJnBorvYgkV"
      },
      "source": [
        "<img src=\"https://i.ibb.co/FHxhq5H/skweness.jpg\" width=\"700\" align=\"center\">\n"
      ]
    },
    {
      "cell_type": "markdown",
      "metadata": {
        "id": "xRkaOtyqYOpo"
      },
      "source": [
        "Bagaimana cara menghitung koefisien skewness?\n",
        "\n",
        "`Ada 2 metode menghitung skewness coefficient sample :`\n",
        "\n",
        "- **(Mode skewness) Pearson First Coefficient of Skewness**\n",
        "\n",
        ">**(Mean - Mode) / SD**\n",
        "\n",
        "- **(Median skewness) Pearson Second Coefficient of Skewness**\n",
        "\n",
        "> **3 * (Mean - Median) / SD**\n",
        "\n",
        "    Standard Deviation = SD"
      ]
    },
    {
      "cell_type": "markdown",
      "metadata": {
        "id": "TX9__KpqYreO"
      },
      "source": [
        "### **Interpretations**\n"
      ]
    },
    {
      "cell_type": "markdown",
      "metadata": {},
      "source": [
        "- Arah kemiringan akan diberi tanda. `Nol berarti tidak ada kemiringan sama sekali`.\n",
        "- `Nilai negatif berarti distribusinya negatively skewed`. `Nilai positif berarti distribusinya positively skewed`.\n",
        "- `Coefficient membandingkan distribusi sampel dengan distribusi normal`. Semakin besar nilainya, semakin besar perbedaan distribusi dari distribusi normal.\n",
        "\n",
        "**CONTOH KASUS 1 :**\n",
        "> Gunakan Pearson’s Coefficient 1 dan 2 untuk menemukan skewness data dengan karakteristik berikut:"
      ]
    },
    {
      "cell_type": "code",
      "execution_count": 408,
      "metadata": {
        "colab": {
          "base_uri": "https://localhost:8080/"
        },
        "id": "swqQCcFCt5qv",
        "outputId": "beb05d10-1f81-4317-bccf-827bbf66558d"
      },
      "outputs": [
        {
          "name": "stdout",
          "output_type": "stream",
          "text": [
            "-1.1764705882352942\n",
            "-2.1176470588235294\n"
          ]
        }
      ],
      "source": [
        "mean = 50       # mean\n",
        "median = 56     # median\n",
        "mode = 60       # mode\n",
        "sd = 8.5        # standard deviation\n",
        "\n",
        "p1stc =  (mean - mode ) / sd        # pearson first coefficient of skewness\n",
        "print(p1stc)\n",
        "\n",
        "p2stc = 3 * (mean - median) / sd    # pearson second coefficient of skewness\n",
        "print(p2stc)\n"
      ]
    },
    {
      "cell_type": "markdown",
      "metadata": {
        "id": "MX7yvO35t6e1"
      },
      "source": [
        "\n",
        "Hasil :\n",
        "- Pearson’s First Coefficient of Skewness: -1.17.\n",
        "- Pearson’s Second Coefficient of Skewness: -2.117.\n",
        "\n",
        "Catatan:\n",
        "- Pearson’s first coefficient of skewness menggunakan mode.\n",
        "- Oleh karena itu, jika frekuensi nilai sangat rendah maka tidak akan memberikan ukuran yang stabil dari tendensi sentral.\n",
        "        \n",
        "Misalnya, mode di kedua kumpulan data ini adalah 9 :\n",
        "\n",
        "**CONTOH KASUS 2 :**\n",
        ">1, 2, 3, `4,4`, 5, 6, 7, 8, 9.\n",
        "\n",
        "Di dataset pertama, `mode 4 hanya muncul dua kali`.\n",
        "\n",
        "Jadi, bukan ide yang baik untuk menggunakan Pearson’s First Coefficient of Skewness (Mode Skewness)"
      ]
    },
    {
      "cell_type": "code",
      "execution_count": 409,
      "metadata": {},
      "outputs": [],
      "source": [
        "x = [1,2,3,4,4,5,6,7,8,9]\n",
        "\n",
        "def mean(deret):\n",
        "  return sum(deret) / len(deret)"
      ]
    },
    {
      "cell_type": "code",
      "execution_count": 410,
      "metadata": {},
      "outputs": [],
      "source": [
        "def median(deret):\n",
        "  deret.sort()\n",
        "  n = len(deret) # ambil panjang data\n",
        "  i_tengah = n // 2 # dibulatkan ke bawah\n",
        "\n",
        "  # jika n adalah ganjil\n",
        "  if n % 2 == 1:\n",
        "    return deret[i_tengah]\n",
        "\n",
        "  # jika n genap\n",
        "  return (deret[i_tengah - 1] + deret[i_tengah]) / 2"
      ]
    },
    {
      "cell_type": "code",
      "execution_count": 411,
      "metadata": {},
      "outputs": [],
      "source": [
        "def mode(deret):\n",
        "  # dictionary untuk mapping nilai terbanyak\n",
        "  peta_kemunculan = {}\n",
        "\n",
        "  # perulangan satu-persatu tiap bilangan\n",
        "  for bilangan in deret:\n",
        "    # periksa apakah sudah pernah muncul atau belum\n",
        "    if bilangan in peta_kemunculan:\n",
        "      peta_kemunculan[bilangan] += 1\n",
        "    else:\n",
        "      peta_kemunculan[bilangan] = 1\n",
        "\n",
        "  # cari kemunculan terbanyak\n",
        "  bilangan_terbesar = x[0] # ambil angka pertama sebagai yg terbanyak\n",
        "  for bilangan in peta_kemunculan.keys():\n",
        "    jumlah = peta_kemunculan[bilangan]\n",
        "\n",
        "    if jumlah > peta_kemunculan[bilangan_terbesar]:\n",
        "      bilangan_terbesar = bilangan\n",
        "\n",
        "  return bilangan_terbesar"
      ]
    },
    {
      "cell_type": "code",
      "execution_count": 412,
      "metadata": {},
      "outputs": [],
      "source": [
        "def variance(deret):\n",
        "  n = len(deret)\n",
        "  mean = sum(deret) / n\n",
        "  deviations = [(x - mean) ** 2 for x in deret]\n",
        "  variance = sum(deviations) / n\n",
        "  return variance\n",
        " \n",
        "def stdev(deret):\n",
        "  import math\n",
        "  var = variance(deret)\n",
        "  std_dev = math.sqrt(var)\n",
        "  return std_dev"
      ]
    },
    {
      "cell_type": "code",
      "execution_count": 413,
      "metadata": {},
      "outputs": [
        {
          "name": "stdout",
          "output_type": "stream",
          "text": [
            "4.9\n",
            "4.5\n",
            "4\n",
            "2.4677925358506134\n"
          ]
        }
      ],
      "source": [
        "print(mean(x))\n",
        "print(median(x))\n",
        "print(mode(x))\n",
        "print(stdev(x))"
      ]
    },
    {
      "cell_type": "code",
      "execution_count": 414,
      "metadata": {},
      "outputs": [
        {
          "name": "stdout",
          "output_type": "stream",
          "text": [
            "0.3646984043128986\n",
            "0.4862645390838651\n"
          ]
        }
      ],
      "source": [
        "p1stc =  (mean(x) - mode(x) ) / stdev(x)       # pearson first coefficient of skewness\n",
        "print(p1stc)\n",
        "\n",
        "p2stc = 3 * (mean(x) - median(x)) / stdev(x)    # pearson second coefficient of skewness # lebih masuk akal\n",
        "print(p2stc)"
      ]
    },
    {
      "cell_type": "markdown",
      "metadata": {},
      "source": [
        "**CONTOH KASUS 3 :**\n",
        "> 1, 2, 3, 4, 4, 4, 4, 4, 4, 4, 4, 5, 6, 7, 8, 9, 10, 12, 12, 13.\n",
        "\n",
        "Di dataset kedua, `mode 4 muncul 8 kali`.\n",
        "\n",
        "Oleh karena itu, Pearson’s Second Coefficient of Skewness (Median Skewness) kemungkinan akan memberi kita hasil yang masuk reasonable ."
      ]
    },
    {
      "cell_type": "code",
      "execution_count": 415,
      "metadata": {},
      "outputs": [],
      "source": [
        "a = [1,2,3,4,4,4,4,4,4,4,4,5,6,7,8,9]"
      ]
    },
    {
      "cell_type": "code",
      "execution_count": 416,
      "metadata": {},
      "outputs": [
        {
          "name": "stdout",
          "output_type": "stream",
          "text": [
            "4.5625\n",
            "4.0\n",
            "4\n",
            "1.9990231989649345\n"
          ]
        }
      ],
      "source": [
        "print(mean(a))\n",
        "print(median(a))\n",
        "print(mode(a))\n",
        "print(stdev(a))"
      ]
    },
    {
      "cell_type": "code",
      "execution_count": 417,
      "metadata": {},
      "outputs": [
        {
          "name": "stdout",
          "output_type": "stream",
          "text": [
            "0.2813874297663251\n",
            "0.8441622892989752\n"
          ]
        }
      ],
      "source": [
        "p1stc =  (mean(a) - mode(a) ) / stdev(a)       # pearson first coefficient of skewness\n",
        "print(p1stc)\n",
        "\n",
        "p2stc = 3 * (mean(a) - median(a)) / stdev(a)    # pearson second coefficient of skewness # lebih masuk akal\n",
        "print(p2stc)"
      ]
    },
    {
      "cell_type": "markdown",
      "metadata": {
        "id": "cJBM9cWn54BX"
      },
      "source": [
        "## **KURTOSIS**\n",
        "---"
      ]
    },
    {
      "cell_type": "markdown",
      "metadata": {},
      "source": [
        "Kurtosis adalah `ukuran apakah data bersifat heavy-tailed (banyak outlier)` atau `light-tailed (kurang outlier) relatif terhadap distribusi normal.`"
      ]
    },
    {
      "cell_type": "markdown",
      "metadata": {},
      "source": [
        "<img src=\"https://i.ibb.co/MZDZ2Ck/kurtosis.jpg\" width=\"500\" align=\"center\">"
      ]
    },
    {
      "cell_type": "markdown",
      "metadata": {},
      "source": [
        "Ada tiga tipe dari Kurtosis:\n",
        "\n",
        "* **Mesokurtik** adalah distribusi yang memiliki `kurtosis serupa dengan kurtosis berdistribusi normal`, yaitu nol.\n",
        "\n",
        "* **Leptokurtic** adalah distribusi yang memiliki `kurtosis lebih besar dari pada distribusi Mesokurtik`. Ekor dari distribusi seperti itu tebal dan berat. Jika `kurva suatu distribusi lebih memuncak daripada kurva Mesokurtik`, maka hal itu disebut kurva Leptokurtik.\n",
        "\n",
        "* **Platykurtic** adalah distribusi yang memiliki `kurtosis lebih rendah dari distribusi Mesokurtik`. Ekor distribusi tersebut lebih tipis. Jika `kurva distribusi kurang memuncak daripada kurva Mesokurtik`, itu disebut sebagai kurva Platykurtic.\n",
        "\n",
        "Perbedaan utama antara skewness dan kurtosis adalah\n",
        "- skewness `mengacu pada tingkat simetri`\n",
        "- kurtosis `mengacu pada tingkat keberadaan pencilan dalam distribusi`"
      ]
    },
    {
      "cell_type": "markdown",
      "metadata": {},
      "source": [
        "## **CORRELATION**\n",
        "---"
      ]
    },
    {
      "cell_type": "markdown",
      "metadata": {},
      "source": [
        "Korelasi adalah teknik statistik yang dapat menunjukkan `apakah dan seberapa kuat variabel terkait/related`."
      ]
    },
    {
      "cell_type": "markdown",
      "metadata": {
        "id": "e3A6Aa0GYrpx"
      },
      "source": [
        "<img src=\"https://i.ibb.co/C842Qy9/Positif-Correlation.png\" width=\"500\" align=\"center\">\n",
        "\n"
      ]
    },
    {
      "cell_type": "markdown",
      "metadata": {
        "id": "ZlERFotQYruI"
      },
      "source": [
        "Hasil utama korelasi disebut **correlation coefficient (atau “r”)**.\n",
        "\n",
        "Correlation coefficient berkisar dari -1,0 hingga +1,0.\n",
        "\n",
        "Semakin dekat r ke +1 atau -1, semakin erat hubungan kedua variabel tersebut.\n",
        "\n",
        "- Jika `r mendekati 0`, artinya `tidak ada hubungan antar variabel`.\n",
        "- Jika `r positif`, berarti semakin besar satu variabel, `variabel lainnya semakin besar`.\n",
        "- Jika `r negatif` berarti semakin besar satu variable, `variabel yang lain akan semakin kecil` (sering disebut **korelasi “inverse”**).\n"
      ]
    },
    {
      "cell_type": "markdown",
      "metadata": {},
      "source": [
        "## **PRACTICE ON PYTHON**\n",
        "---"
      ]
    },
    {
      "cell_type": "markdown",
      "metadata": {
        "id": "853x39fp7cVg"
      },
      "source": [
        "### **CALCULATING DESCRIPTIVE STATISTICS**"
      ]
    },
    {
      "cell_type": "markdown",
      "metadata": {},
      "source": [
        "Mulailah dengan mengimpor semua packages yang kita perlukan:"
      ]
    },
    {
      "cell_type": "code",
      "execution_count": 418,
      "metadata": {
        "id": "j5BYcUcjtmo6"
      },
      "outputs": [],
      "source": [
        "import math\n",
        "import statistics\n",
        "import numpy as np\n",
        "import scipy.stats\n",
        "import pandas as pd"
      ]
    },
    {
      "cell_type": "markdown",
      "metadata": {
        "id": "QnMjCYAyZmAe"
      },
      "source": [
        "Ini semua adalah paket yang kita perlukan untuk penghitungan statistik Python. Biasanya, kita tidak akan menggunakan built-in math package Python, tapi akan berguna dalam sesi ini. Nanti, kita juga akan mengimpor matplotlib.pyplot untuk visualisasi data.\n",
        "\n",
        "Mari buat beberapa data untuk dikerjakan. Kita akan mulai dengan List Python yang berisi beberapa data numerik:"
      ]
    },
    {
      "cell_type": "code",
      "execution_count": 419,
      "metadata": {
        "colab": {
          "base_uri": "https://localhost:8080/"
        },
        "id": "PTsS5seZZmdC",
        "outputId": "3e8082e5-bb68-4df3-c21e-e7baa72b12f1"
      },
      "outputs": [
        {
          "name": "stdout",
          "output_type": "stream",
          "text": [
            "[8.0, 1, 2.5, 4, 28.0]\n",
            "[8.0, 1, 2.5, nan, 4, 28.0]\n"
          ]
        }
      ],
      "source": [
        "x = [8.0, 1, 2.5, 4, 28.0]                          # create list x -> X\n",
        "x_with_nan = [8.0, 1, 2.5, math.nan, 4, 28.0]       # create list x with nan -> x_with_nan\n",
        "print(x)\n",
        "print(x_with_nan)"
      ]
    },
    {
      "cell_type": "markdown",
      "metadata": {
        "id": "WY7-H_2XZqAe"
      },
      "source": [
        "Sekarang kita memiliki lists **x dan x_with_nan**. *Keduanya hampir sama, dengan perbedaan bahwa x_with_nan berisi nilai nan*. Penting untuk memahami behavior statistik Python ketika mereka menemukan nilai not-a-number (nan). Dalam data science, missing values adalah hal biasa, dan kita akan sering menggantinya dengan nan.\n",
        "\n",
        "    Sekarang, buat objek np.ndarray dan pd.Series yang sesuai dengan x dan x_with_nan:"
      ]
    },
    {
      "cell_type": "code",
      "execution_count": 420,
      "metadata": {
        "colab": {
          "base_uri": "https://localhost:8080/"
        },
        "id": "DNatfCUjZu4U",
        "outputId": "16aeb388-87b1-4a46-ea47-0eb83714bf0a"
      },
      "outputs": [
        {
          "name": "stdout",
          "output_type": "stream",
          "text": [
            "[ 8.   1.   2.5  4.  28. ]\n",
            "[ 8.   1.   2.5  nan  4.  28. ]\n"
          ]
        }
      ],
      "source": [
        "y, y_with_nan = np.array(x), np.array(x_with_nan)   # create numpy objects\n",
        "print(y)\n",
        "print(y_with_nan)"
      ]
    },
    {
      "cell_type": "code",
      "execution_count": 421,
      "metadata": {
        "colab": {
          "base_uri": "https://localhost:8080/"
        },
        "id": "ZY5A1nAqvyBJ",
        "outputId": "c23b1ecf-b586-48d6-978c-c08aaab69172"
      },
      "outputs": [
        {
          "name": "stdout",
          "output_type": "stream",
          "text": [
            "0     8.0\n",
            "1     1.0\n",
            "2     2.5\n",
            "3     4.0\n",
            "4    28.0\n",
            "dtype: float64\n",
            "0     8.0\n",
            "1     1.0\n",
            "2     2.5\n",
            "3     NaN\n",
            "4     4.0\n",
            "5    28.0\n",
            "dtype: float64\n"
          ]
        }
      ],
      "source": [
        "z, z_with_nan = pd.Series(x), pd.Series(x_with_nan) # create pandas objects\n",
        "print(z)\n",
        "print(z_with_nan)"
      ]
    },
    {
      "cell_type": "markdown",
      "metadata": {},
      "source": [
        "Kita sekarang memiliki :\n",
        "- 2 array NumPy (y dan y_with_nan)\n",
        "- 2 Series Pandas (z dan z_with_nan)\n",
        "\n",
        "Semua ini adalah sequences nilai 1D. Kita juga dapat menentukan label untuk setiap nilai di z dan z_with_nan."
      ]
    },
    {
      "cell_type": "markdown",
      "metadata": {
        "id": "a0WN9cnRZvmn"
      },
      "source": [
        "### **MEASURES OF CENTRAL TENDENCY**"
      ]
    },
    {
      "cell_type": "markdown",
      "metadata": {},
      "source": [
        "Measures of central tendency `menunjukkan nilai tengah atau pusat dari dataset`. \n",
        "\n",
        "Ada beberapa definisi tentang apa yang dianggap sebagai pusat dataset.\n",
        "\n",
        "Dalam sesi ini, kita akan mempelajari cara mengidentifikasi dan menghitung measures of central tendency berupa:\n",
        "1. **`Mean`**\n",
        "2. **`Weighted mean`**\n",
        "3. **`Geometric mean`**\n",
        "4. **`Harmonic mean`**\n",
        "5. **`Median`**\n",
        "6. **`Mode`**"
      ]
    },
    {
      "cell_type": "markdown",
      "metadata": {
        "id": "sqr5UYeUvheR"
      },
      "source": [
        "#### **1. MEAN**\n",
        ">Sample mean, juga disebut sample arithmetic mean atau average, adalah `rata-rata aritmatika dari semua item dalam dataset`."
      ]
    },
    {
      "cell_type": "markdown",
      "metadata": {},
      "source": [
        "Rata-rata dataset  𝑥 secara matematis dinyatakan sebagai Σᵢ𝑥ᵢ/𝑛, di mana 𝑖 = 1, 2,…, 𝑛.\n",
        "\n",
        "Dengan kata lain, ini adalah` jumlah dari semua elemen 𝑥ᵢ dibagi dengan jumlah item dalam dataset 𝑥`.\n",
        "\n",
        "Figure ini menggambarkan rata-rata sampel dengan lima titik data:"
      ]
    },
    {
      "cell_type": "markdown",
      "metadata": {
        "id": "b-0sVKj3Z_4G"
      },
      "source": [
        "<img src=\"https://i.ibb.co/8dqXcZR/mean1.png\" width=\"500\" align=\"center\">\n",
        "\n"
      ]
    },
    {
      "cell_type": "markdown",
      "metadata": {},
      "source": [
        "- `Titik hijau` mewakili titik data 1, 2.5, 4, 8, dan 28.\n",
        "- `Garis putus-putus merah` adalah meannya, atau (1 + 2.5 + 4 + 8 + 28) / 5 = 8.7.\n",
        "\n",
        "##### **CARA HITUNG MEAN**\n"
      ]
    },
    {
      "cell_type": "markdown",
      "metadata": {
        "id": "Nfqhdlc5aBUA"
      },
      "source": [
        "##### **Pure Python : sum() dan len()**"
      ]
    },
    {
      "cell_type": "markdown",
      "metadata": {},
      "source": [
        "Kita dapat menghitung mean dengan pure Python menggunakan sum() dan len(), tanpa mengimpor pustaka lain:"
      ]
    },
    {
      "cell_type": "code",
      "execution_count": 422,
      "metadata": {
        "id": "T9GVfWoIw1mf"
      },
      "outputs": [],
      "source": [
        "x = [8.0, 1, 2.5, 4, 28.0]\n",
        "x_with_nan = [8.0, 1, 2.5, math.nan, 4, 28.0]\n"
      ]
    },
    {
      "cell_type": "code",
      "execution_count": 423,
      "metadata": {
        "colab": {
          "base_uri": "https://localhost:8080/"
        },
        "id": "MOWlAC19aFq1",
        "outputId": "1181d566-12d7-46c0-cd6c-647408621e3c"
      },
      "outputs": [
        {
          "data": {
            "text/plain": [
              "8.7"
            ]
          },
          "execution_count": 423,
          "metadata": {},
          "output_type": "execute_result"
        }
      ],
      "source": [
        "mean_ = sum(x) / len(x)\n",
        "mean_"
      ]
    },
    {
      "cell_type": "code",
      "execution_count": 424,
      "metadata": {},
      "outputs": [
        {
          "data": {
            "text/plain": [
              "nan"
            ]
          },
          "execution_count": 424,
          "metadata": {},
          "output_type": "execute_result"
        }
      ],
      "source": [
        "mean__ = sum(x_with_nan) / len(x_with_nan)\n",
        "mean__"
      ]
    },
    {
      "cell_type": "markdown",
      "metadata": {},
      "source": [
        "##### **Module Statistics : statistics.mean()**"
      ]
    },
    {
      "cell_type": "markdown",
      "metadata": {
        "id": "WuNNkG9faIEU"
      },
      "source": [
        "Meskipun kode diatas clean dan elegan, Anda juga dapat menerapkan fungsi statistics built-in Python:"
      ]
    },
    {
      "cell_type": "code",
      "execution_count": 425,
      "metadata": {},
      "outputs": [],
      "source": [
        "x = [8.0, 1, 2.5, 4, 28.0]\n",
        "x_with_nan = [8.0, 1, 2.5, math.nan, 4, 28.0]"
      ]
    },
    {
      "cell_type": "code",
      "execution_count": 426,
      "metadata": {
        "colab": {
          "base_uri": "https://localhost:8080/"
        },
        "id": "ZyH17G8kaMSI",
        "outputId": "0a69f12e-009a-4e5d-c3c4-4abb38099d61"
      },
      "outputs": [
        {
          "name": "stdout",
          "output_type": "stream",
          "text": [
            "8.7\n"
          ]
        }
      ],
      "source": [
        "mean_ = statistics.mean(x)\n",
        "print(mean_)"
      ]
    },
    {
      "cell_type": "code",
      "execution_count": 427,
      "metadata": {
        "colab": {
          "base_uri": "https://localhost:8080/"
        },
        "id": "nkd0AVdRaPlJ",
        "outputId": "d62b3673-2e89-4fc3-e84b-94df657ca98a"
      },
      "outputs": [
        {
          "name": "stdout",
          "output_type": "stream",
          "text": [
            "nan\n"
          ]
        }
      ],
      "source": [
        "mean_ = statistics.mean(x_with_nan)\n",
        "print(mean_)"
      ]
    },
    {
      "cell_type": "markdown",
      "metadata": {},
      "source": [
        "Hasil ini konsisten dengan behavior sum(), karena sum(x_with_nan) juga mengembalikan nan."
      ]
    },
    {
      "cell_type": "markdown",
      "metadata": {
        "id": "mViEe77iaRYh"
      },
      "source": [
        "##### **Module Numpy : np.mean()**"
      ]
    },
    {
      "cell_type": "markdown",
      "metadata": {},
      "source": [
        "Jika kita menggunakan NumPy, maka kita bisa mendapatkan mean dengan np.mean():"
      ]
    },
    {
      "cell_type": "code",
      "execution_count": 428,
      "metadata": {},
      "outputs": [],
      "source": [
        "x = [8.0, 1, 2.5, 4, 28.0]\n",
        "x_with_nan = [8.0, 1, 2.5, math.nan, 4, 28.0]\n",
        "\n",
        "y, y_with_nan = np.array(x), np.array(x_with_nan)"
      ]
    },
    {
      "cell_type": "code",
      "execution_count": 429,
      "metadata": {
        "colab": {
          "base_uri": "https://localhost:8080/"
        },
        "id": "PIGftkA4aSTH",
        "outputId": "7c1d8aee-7353-48fc-cdec-0a25a9ca8995"
      },
      "outputs": [
        {
          "data": {
            "text/plain": [
              "8.7"
            ]
          },
          "execution_count": 429,
          "metadata": {},
          "output_type": "execute_result"
        }
      ],
      "source": [
        "mean_ = np.mean(y)\n",
        "mean_"
      ]
    },
    {
      "cell_type": "markdown",
      "metadata": {},
      "source": [
        "Dalam contoh di atas, mean() adalah sebuah fungsi, tetapi kita juga dapat menggunakan method .mean ():"
      ]
    },
    {
      "cell_type": "markdown",
      "metadata": {},
      "source": [
        "##### **Method Mean : .mean()**"
      ]
    },
    {
      "cell_type": "markdown",
      "metadata": {
        "id": "pHE8Fzg8aVgN"
      },
      "source": [
        "Dengan nd.ndarray objects :"
      ]
    },
    {
      "cell_type": "code",
      "execution_count": 430,
      "metadata": {},
      "outputs": [],
      "source": [
        "x = [8.0, 1, 2.5, 4, 28.0]  # create list\n",
        "y = np.array(x)             # create ndarray objects"
      ]
    },
    {
      "cell_type": "code",
      "execution_count": 431,
      "metadata": {
        "colab": {
          "base_uri": "https://localhost:8080/"
        },
        "id": "kic0jlgDaWRw",
        "outputId": "754dc7bd-d21e-4362-8c61-5bc76f1bcc6a"
      },
      "outputs": [
        {
          "data": {
            "text/plain": [
              "8.7"
            ]
          },
          "execution_count": 431,
          "metadata": {},
          "output_type": "execute_result"
        }
      ],
      "source": [
        "mean_ = y.mean()            # method mean with ndarray objects\n",
        "mean_"
      ]
    },
    {
      "cell_type": "markdown",
      "metadata": {},
      "source": [
        "Dengan pd.Series objects :"
      ]
    },
    {
      "cell_type": "code",
      "execution_count": 432,
      "metadata": {},
      "outputs": [],
      "source": [
        "x = [8.0, 1, 2.5, 4, 28.0]  # create list\n",
        "z = pd.Series(x)            # create pd.Series objects"
      ]
    },
    {
      "cell_type": "code",
      "execution_count": 433,
      "metadata": {},
      "outputs": [
        {
          "data": {
            "text/plain": [
              "8.7"
            ]
          },
          "execution_count": 433,
          "metadata": {},
          "output_type": "execute_result"
        }
      ],
      "source": [
        "mean_ = z.mean()            # method mean with pd.Series Objects\n",
        "mean_"
      ]
    },
    {
      "cell_type": "markdown",
      "metadata": {},
      "source": [
        "    Fungsi mean() dan method .mean() dari NumPy mengembalikan hasil yang sama seperti statistics.mean()."
      ]
    },
    {
      "cell_type": "markdown",
      "metadata": {
        "id": "O_VarUS6aYSi"
      },
      "source": [
        "##### **Contoh Kasus 1 : With nan**"
      ]
    },
    {
      "cell_type": "markdown",
      "metadata": {},
      "source": [
        "Dibawah ini adalah kasus ketika ada nilai nan di antara data kita:"
      ]
    },
    {
      "cell_type": "code",
      "execution_count": 434,
      "metadata": {
        "colab": {
          "base_uri": "https://localhost:8080/"
        },
        "id": "9xgyNiftabOH",
        "outputId": "d8387078-a63f-48e4-8449-aa2052db1582"
      },
      "outputs": [
        {
          "name": "stdout",
          "output_type": "stream",
          "text": [
            "nan\n",
            "nan\n"
          ]
        }
      ],
      "source": [
        "x_with_nan = [8.0, 1, 2.5, math.nan, 4, 28.0]   # create list x with nan\n",
        "y_with_nan = np.array(x_with_nan)               # create ndarray objects y with nan\n",
        "\n",
        "print(np.mean(y_with_nan))          # function mean() with nan -> module.function()\n",
        "print(y_with_nan.mean())            # method .mean() with nan -> ndarray.method()"
      ]
    },
    {
      "cell_type": "code",
      "execution_count": 435,
      "metadata": {},
      "outputs": [
        {
          "data": {
            "text/plain": [
              "nan"
            ]
          },
          "execution_count": 435,
          "metadata": {},
          "output_type": "execute_result"
        }
      ],
      "source": [
        "np.mean(x_with_nan)"
      ]
    },
    {
      "cell_type": "markdown",
      "metadata": {},
      "source": [
        "##### **Contoh Kasus 2 : Without nan**"
      ]
    },
    {
      "cell_type": "markdown",
      "metadata": {
        "id": "Ow7IHeuJadC1"
      },
      "source": [
        "Jika kalian lebih suka `mengabaikan nilai nan`, kalian dapat menggunakan `np.nanmean()`:"
      ]
    },
    {
      "cell_type": "code",
      "execution_count": 436,
      "metadata": {
        "colab": {
          "base_uri": "https://localhost:8080/"
        },
        "id": "yeNjRTF9aeuh",
        "outputId": "ed8df676-fd7b-414c-8711-db4353f997e3"
      },
      "outputs": [
        {
          "data": {
            "text/plain": [
              "8.7"
            ]
          },
          "execution_count": 436,
          "metadata": {},
          "output_type": "execute_result"
        }
      ],
      "source": [
        "x_with_nan = [8.0, 1, 2.5, math.nan, 4, 28.0]   # create list x with nan\n",
        "y_with_nan = np.array(x_with_nan)               # create ndarray objects y with nan\n",
        "\n",
        "np.nanmean(y_with_nan)      # function mean without nan"
      ]
    },
    {
      "cell_type": "markdown",
      "metadata": {
        "id": "gSxQPZXDagoT"
      },
      "source": [
        "- nanmean() `mengabaikan semua nilai nan`.\n",
        "- nanmean() `mengembalikan nilai yang sama seperti mean()` jika kalian menerapkannya ke dataset tanpa nilai nan."
      ]
    },
    {
      "cell_type": "markdown",
      "metadata": {
        "id": "UlwYpymFakYy"
      },
      "source": [
        "Seperti yang kalian lihat, .mean() digunakan dengan cara yang sama seperti dalam kasus NumPy.\n",
        "\n",
        "`Namun, .mean() dari Pandas mengabaikan nilai nan secara default`:"
      ]
    },
    {
      "cell_type": "code",
      "execution_count": 437,
      "metadata": {
        "id": "r_kGAI3XyEPc"
      },
      "outputs": [],
      "source": [
        "x = [8.0, 1, 2.5, 4, 28.0]                          # create list x -> X\n",
        "x_with_nan = [8.0, 1, 2.5, math.nan, 4, 28.0]       # create list x with nan -> x_with_nan\n",
        "\n",
        "z, z_with_nan = pd.Series(x), pd.Series(x_with_nan)     # create pd.Series objects"
      ]
    },
    {
      "cell_type": "code",
      "execution_count": 438,
      "metadata": {
        "colab": {
          "base_uri": "https://localhost:8080/"
        },
        "id": "Kj4ICRmyalDS",
        "outputId": "cb0a9221-2a10-4c6c-834a-7c7609848431"
      },
      "outputs": [
        {
          "data": {
            "text/plain": [
              "8.7"
            ]
          },
          "execution_count": 438,
          "metadata": {},
          "output_type": "execute_result"
        }
      ],
      "source": [
        "z_with_nan.mean()   # with method mean()"
      ]
    },
    {
      "cell_type": "markdown",
      "metadata": {},
      "source": [
        "Perilaku ini adalah hasil dari nilai default dari parameter opsional skipna. Kita dapat mengubah parameter ini untuk mengubah perilakunya.\n"
      ]
    },
    {
      "cell_type": "markdown",
      "metadata": {
        "id": "LFmXQPexamiB"
      },
      "source": [
        "#### **2. WEIGHTED MEAN**\n",
        ">Weighted mean, juga disebut weighted arithmetic mean atau weighted average, adalah `generalisasi dari rata-rata aritmatika` yang memungkinkan kita untuk `menentukan kontribusi relatif dari setiap titik data ke hasil`."
      ]
    },
    {
      "cell_type": "markdown",
      "metadata": {},
      "source": [
        "Kita menentukan satu bobot 𝑤ᵢ untuk setiap titik data 𝑥ᵢ dari dataset 𝑥, di mana 𝑖 = 1, 2,…, 𝑛 dan 𝑛 adalah jumlah item di 𝑥.\n",
        "\n",
        "Kemudian, kita `mengalikan setiap titik data` dengan bobot yang sesuai, `menjumlahkan semua produk`, dan `membagi jumlah yang diperoleh` dengan jumlah bobot: Σᵢ(𝑤ᵢ𝑥ᵢ) / Σᵢ𝑤ᵢ.\n",
        "\n",
        "Weighted mean sangat `berguna saat kita membutuhkan rata-rata dataset yang berisi item yang muncul dengan frekuensi relatif tertentu`\n",
        "\n",
        "**CONTOH KASUS 1 :**\n",
        "> Kita memiliki himpunan di mana :\n",
        "- 20% dari semua item sama dengan 2,\n",
        "- 50% item sama dengan 4, dan\n",
        "- 30% sisanya sama dengan 8.\n",
        "    \n",
        "Kita dapat menghitung rata-rata dari set seperti ini:"
      ]
    },
    {
      "cell_type": "code",
      "execution_count": 439,
      "metadata": {
        "colab": {
          "base_uri": "https://localhost:8080/"
        },
        "id": "Hp33RPb9asA7",
        "outputId": "7c975183-aae3-4f04-fce1-7f3720008d07"
      },
      "outputs": [
        {
          "data": {
            "text/plain": [
              "4.8"
            ]
          },
          "execution_count": 439,
          "metadata": {},
          "output_type": "execute_result"
        }
      ],
      "source": [
        "0.2 * 2 + 0.5 * 4 + 0.3 * 8"
      ]
    },
    {
      "cell_type": "markdown",
      "metadata": {},
      "source": [
        "##### **CARA HITUNG WEIGHTED MEAN**"
      ]
    },
    {
      "cell_type": "markdown",
      "metadata": {},
      "source": [
        "##### **Pure Python : sum(), range() atau zip()**"
      ]
    },
    {
      "cell_type": "markdown",
      "metadata": {
        "id": "3aNlIlNjawId"
      },
      "source": [
        "Di sini, kita `memperhitungkan frekuensi dengan bobot`. Dengan metode ini, kita `tidak perlu mengetahui jumlah item`.\n",
        "\n",
        "Kita dapat mengimplementasikan weighted mean dalam Python pure dengan menggabungkan `sum()` dengan `range()` atau `zip()` :"
      ]
    },
    {
      "cell_type": "code",
      "execution_count": 440,
      "metadata": {},
      "outputs": [
        {
          "data": {
            "text/plain": [
              "1.0"
            ]
          },
          "execution_count": 440,
          "metadata": {},
          "output_type": "execute_result"
        }
      ],
      "source": [
        "x = [8.0, 1, 2.5, 4, 28.0]          # jumlah x = 5 dan w = 5\n",
        "w = [0.1, 0.2, 0.3, 0.25, 0.15]     # bobot = 1\n",
        "sum(w)"
      ]
    },
    {
      "cell_type": "code",
      "execution_count": 441,
      "metadata": {
        "colab": {
          "base_uri": "https://localhost:8080/"
        },
        "id": "3oF-WA8EauJ8",
        "outputId": "8065f1ab-f8e8-47cf-8ab6-80c77e82f6d7"
      },
      "outputs": [
        {
          "name": "stdout",
          "output_type": "stream",
          "text": [
            "6.95\n"
          ]
        }
      ],
      "source": [
        "wmean = sum(w[i] * x[i] for i in range(len(x))) / sum(w)\n",
        "print(wmean)"
      ]
    },
    {
      "cell_type": "code",
      "execution_count": 442,
      "metadata": {},
      "outputs": [
        {
          "data": {
            "text/plain": [
              "6.95"
            ]
          },
          "execution_count": 442,
          "metadata": {},
          "output_type": "execute_result"
        }
      ],
      "source": [
        "8 * 0.1 + 1 * 0.2 + 2.5 * 0.3 + 4 * 0.25 + 28 * 0.15"
      ]
    },
    {
      "cell_type": "code",
      "execution_count": 443,
      "metadata": {
        "colab": {
          "base_uri": "https://localhost:8080/"
        },
        "id": "YTYemV7Sz-vD",
        "outputId": "0d48c5e6-efe7-45e1-b274-022831012938"
      },
      "outputs": [
        {
          "name": "stdout",
          "output_type": "stream",
          "text": [
            "6.95\n"
          ]
        }
      ],
      "source": [
        "wmean = sum(x_ * w_ for (x_, w_) in zip(x, w)) / sum(w)\n",
        "print(wmean)"
      ]
    },
    {
      "cell_type": "code",
      "execution_count": 444,
      "metadata": {},
      "outputs": [
        {
          "data": {
            "text/plain": [
              "[(8.0, 0.1), (1, 0.2), (2.5, 0.3), (4, 0.25), (28.0, 0.15)]"
            ]
          },
          "execution_count": 444,
          "metadata": {},
          "output_type": "execute_result"
        }
      ],
      "source": [
        "xw = zip(x, w)          # zip() function adalah fungsi di Python yang menerima objek iterable sebagai argumen dan mengembalikan iterator\n",
        "list_xw = list(xw)\n",
        "list_xw"
      ]
    },
    {
      "cell_type": "markdown",
      "metadata": {},
      "source": [
        "##### **Module Numpy : np.average()**"
      ]
    },
    {
      "cell_type": "markdown",
      "metadata": {
        "id": "0gATmIzSa0zB"
      },
      "source": [
        "Sekali lagi, ini adalah implementasi yang rapi dan elegan di mana kita `tidak perlu mengimpor libraries apa pun`.\n",
        "\n",
        "Namun, `jika kita memiliki dataset yang besar`, NumPy kemungkinan akan memberikan solusi yang lebih baik. Kita dapat menggunakan `np.average()` untuk mendapatkan weighted mean dari array NumPy atau Series Pandas :"
      ]
    },
    {
      "cell_type": "code",
      "execution_count": 445,
      "metadata": {
        "colab": {
          "base_uri": "https://localhost:8080/"
        },
        "id": "EHc6FlR5a2np",
        "outputId": "f377a181-84e8-4c5f-c6a9-76304483ef78"
      },
      "outputs": [
        {
          "name": "stdout",
          "output_type": "stream",
          "text": [
            "6.95\n",
            "6.95\n"
          ]
        }
      ],
      "source": [
        "y, z, w = np.array(x), pd.Series(x), np.array(w)\n",
        "\n",
        "wmean = np.average(y, weights=w)    # objects array - array\n",
        "print(wmean)\n",
        "\n",
        "wmean = np.average(z, weights=w)    # objects series - array\n",
        "print(wmean)"
      ]
    },
    {
      "cell_type": "markdown",
      "metadata": {},
      "source": [
        "Hasilnya sama dengan kasus implementasi Python pure."
      ]
    },
    {
      "cell_type": "markdown",
      "metadata": {
        "id": "j1RUK2DQa4WF"
      },
      "source": [
        "##### **List and Tuples**"
      ]
    },
    {
      "cell_type": "markdown",
      "metadata": {},
      "source": [
        "Kita juga dapat menggunakan metode ini pada `list dan tuples`\n",
        "\n",
        "Solusi lain adalah dengan menggunakan **element-wise product (w * y)** dengan `np.sum()` atau `.sum()`:"
      ]
    },
    {
      "cell_type": "code",
      "execution_count": 446,
      "metadata": {
        "colab": {
          "base_uri": "https://localhost:8080/"
        },
        "id": "Oq-ZTR1ca5-3",
        "outputId": "877d77c0-2c1f-44d6-b1de-cdd71f40d04a"
      },
      "outputs": [
        {
          "data": {
            "text/plain": [
              "6.95"
            ]
          },
          "execution_count": 446,
          "metadata": {},
          "output_type": "execute_result"
        }
      ],
      "source": [
        "(w * y).sum() / w.sum()\n"
      ]
    },
    {
      "cell_type": "markdown",
      "metadata": {
        "id": "M1b-DUTfa9GN"
      },
      "source": [
        "#### **3. HARMONIC MEAN**\n",
        ">Secara teknis, pengertian dari harmonic mean adalah: the reciprocal of the average of the reciprocals."
      ]
    },
    {
      "cell_type": "markdown",
      "metadata": {},
      "source": [
        "**Reciprocal** artinya adalah  1/value .\n",
        "\n",
        "**Harmonic mean** adalah reciprocal dari mean dari semua item dalam dataset:\n",
        "\n",
        "        𝑛 / Σᵢ (1 / 𝑥ᵢ)\n",
        "\n",
        ",di mana 𝑖 = 1, 2,…, 𝑛 dan 𝑛 adalah jumlah item dalam dataset 𝑥. "
      ]
    },
    {
      "cell_type": "markdown",
      "metadata": {},
      "source": [
        "**CONTOH KASUS 1 :**\n",
        ">Kita berkendara sejauh 10 km dengan kecepatan 60 km/h, than another 10 km at 20 km/h, Berapa kecepatan rata-rata kita?\n",
        "\n",
        "**`Harmonic mean :`** 2/(1/60 + 1/20) = 30 km/h\n",
        "\n",
        "Harmonic mean juga bagus untuk handling outliers yang besar. Contoh: 2, 4, 6, dan 100\n",
        "\n",
        "**`Arithmetic mean :`**\n",
        "\n",
        "(2 + 4 + 6 + 100) / 4 = 28\n",
        "\n",
        "**`Harmonic mean :`**\n",
        "\n",
        "4 / (1/2 + 1/4 + 1/6 + 1/100) = 4.32"
      ]
    },
    {
      "cell_type": "markdown",
      "metadata": {},
      "source": [
        "##### **CARA HITUNG HARMONIC MEAN**"
      ]
    },
    {
      "cell_type": "markdown",
      "metadata": {},
      "source": [
        "##### **Python Pure : sum() dan len()**"
      ]
    },
    {
      "cell_type": "markdown",
      "metadata": {},
      "source": [
        "Salah satu varian dari implementasi Python pure dari harmonic mean adalah dibawah ini:"
      ]
    },
    {
      "cell_type": "code",
      "execution_count": 447,
      "metadata": {},
      "outputs": [],
      "source": [
        "x = [8.0, 1, 2.5, 4, 28.0]          # jumlah x = 5 dan w = 5\n",
        "w = [0.1, 0.2, 0.3, 0.25, 0.15]"
      ]
    },
    {
      "cell_type": "code",
      "execution_count": 448,
      "metadata": {
        "colab": {
          "base_uri": "https://localhost:8080/"
        },
        "id": "l_QXxrb_a8d3",
        "outputId": "0112dc54-07fb-47e2-d5f3-244bba2cb956"
      },
      "outputs": [
        {
          "data": {
            "text/plain": [
              "2.7613412228796843"
            ]
          },
          "execution_count": 448,
          "metadata": {},
          "output_type": "execute_result"
        }
      ],
      "source": [
        "hmean = len(x) / sum(1 / item for item in x)    # implementasi harmonic mean\n",
        "hmean"
      ]
    },
    {
      "cell_type": "markdown",
      "metadata": {},
      "source": [
        "Ini sangat berbeda dari nilai arithmetic mean untuk data yang sama yaitu x, yang kita hitung menjadi 8,7."
      ]
    },
    {
      "cell_type": "code",
      "execution_count": 449,
      "metadata": {},
      "outputs": [
        {
          "data": {
            "text/plain": [
              "8.7"
            ]
          },
          "execution_count": 449,
          "metadata": {},
          "output_type": "execute_result"
        }
      ],
      "source": [
        "amean = sum(item for item in x)/len(x)\n",
        "amean"
      ]
    },
    {
      "cell_type": "code",
      "execution_count": 450,
      "metadata": {},
      "outputs": [
        {
          "data": {
            "text/plain": [
              "4.316546762589928"
            ]
          },
          "execution_count": 450,
          "metadata": {},
          "output_type": "execute_result"
        }
      ],
      "source": [
        "a = [2, 4, 6, 100]\n",
        "hmean = len(a) / sum(1 / item for item in a)    # implementasi harmonic mean\n",
        "hmean"
      ]
    },
    {
      "cell_type": "markdown",
      "metadata": {
        "id": "ggYSU6OhbBpI"
      },
      "source": [
        "##### **Module Statistics : statistics.harmonic_mean()**"
      ]
    },
    {
      "cell_type": "markdown",
      "metadata": {},
      "source": [
        "Kita juga dapat menghitung ukuran ini dengan `statistics.harmonic_mean()`:"
      ]
    },
    {
      "cell_type": "code",
      "execution_count": 451,
      "metadata": {
        "colab": {
          "base_uri": "https://localhost:8080/"
        },
        "id": "elaD3PIcQih7",
        "outputId": "e8c4bf17-f59c-44de-ef9c-cabb3c51ab26"
      },
      "outputs": [
        {
          "data": {
            "text/plain": [
              "[8.0, 1, 2.5, 4, 28.0]"
            ]
          },
          "execution_count": 451,
          "metadata": {},
          "output_type": "execute_result"
        }
      ],
      "source": [
        "x"
      ]
    },
    {
      "cell_type": "code",
      "execution_count": 452,
      "metadata": {
        "colab": {
          "base_uri": "https://localhost:8080/"
        },
        "id": "XCHUmbqPbCbH",
        "outputId": "c9128140-8a77-475d-dde9-79885f6e01ac"
      },
      "outputs": [
        {
          "data": {
            "text/plain": [
              "2.7613412228796843"
            ]
          },
          "execution_count": 452,
          "metadata": {},
          "output_type": "execute_result"
        }
      ],
      "source": [
        "hmean = statistics.harmonic_mean(x)\n",
        "hmean"
      ]
    },
    {
      "cell_type": "markdown",
      "metadata": {},
      "source": [
        "##### **Module Scipy : scipy.stats.hmean()**"
      ]
    },
    {
      "cell_type": "code",
      "execution_count": 453,
      "metadata": {
        "colab": {
          "base_uri": "https://localhost:8080/"
        },
        "id": "_Lhw8WEcbFGZ",
        "outputId": "cadc36c2-6088-4c6d-cc14-f269f74824e9"
      },
      "outputs": [
        {
          "data": {
            "text/plain": [
              "2.7613412228796843"
            ]
          },
          "execution_count": 453,
          "metadata": {},
          "output_type": "execute_result"
        }
      ],
      "source": [
        "scipy.stats.hmean(y)"
      ]
    },
    {
      "cell_type": "code",
      "execution_count": 454,
      "metadata": {
        "colab": {
          "base_uri": "https://localhost:8080/"
        },
        "id": "1wZF-r4kbFkt",
        "outputId": "ff01b7c3-586d-4280-adaa-9f73a3e3e763"
      },
      "outputs": [
        {
          "data": {
            "text/plain": [
              "2.7613412228796843"
            ]
          },
          "execution_count": 454,
          "metadata": {},
          "output_type": "execute_result"
        }
      ],
      "source": [
        "scipy.stats.hmean(z)"
      ]
    },
    {
      "cell_type": "markdown",
      "metadata": {
        "id": "RGPZAfutbKf9"
      },
      "source": [
        "#### **4. GEOMETRIC MEAN**\n",
        ">Geometric mean adalah `akar ke-𝑛 dari hasil kali semua 𝑛 elemen 𝑥ᵢ` dalam dataset  𝑥:"
      ]
    },
    {
      "cell_type": "markdown",
      "metadata": {},
      "source": [
        "        ⁿ√ (Πᵢ𝑥ᵢ)\n",
        "\n",
        ", di mana 𝑖 = 1, 2,…, 𝑛."
      ]
    },
    {
      "cell_type": "markdown",
      "metadata": {},
      "source": [
        "**CONTOH KASUS 1 :**\n",
        "\n",
        ">What is the Geometric Mean of 2 and 18?\n",
        "\n",
        "        - Pertama kita kalikan: 2 × 18 = 36\n",
        "\n",
        "        - Lalu ambil square root: √36 = 6\n",
        "\n",
        "Dalam one line:\n",
        "\n",
        "**Geometric Mean of 2 and 18 = √(2 × 18) = 6**"
      ]
    },
    {
      "cell_type": "markdown",
      "metadata": {
        "id": "e6W2MKmFbPQx"
      },
      "source": [
        "<img src=\"https://i.ibb.co/0jxHFCL/geometric.png\" width=\"500\" align=\"center\">\n"
      ]
    },
    {
      "cell_type": "markdown",
      "metadata": {
        "id": "plbaas7obQU9"
      },
      "source": [
        "Geometric Mean berguna ketika kita ingin membandingkan berbagai hal dengan properti yang sangat berbeda.\n",
        "\n",
        "**CONTOH KASUS 2 :**\n",
        "\n",
        ">Kamu ingin membeli kameraa. One camera has a zoom of 200 and gets an 8 in reviews.The other has a zoom of 250 and gets a 6 in reviews. \n",
        "\n",
        "Menggunakan **aritmethic mean** kita akan mendapatkan :\n",
        "        \n",
        "        (200+8)/2 = 104\n",
        "        (250+6)/2 = 128\n",
        ">Zoom adalah angka yang sangat besar sehingga rating pengguna hilang.\n",
        "\n",
        "Tetapi, menggunakan **geometric mean**:\n",
        "\n",
        "        √(200 × 8) = 40\n",
        "        √(250 × 6) = 38.7\n",
        ">Jadi, meskipun zoomnya 50 lebih besar, rating pengguna yang lebih rendah (6) tetap menjadi property penting.\n",
        "\n",
        "Gambar berikut mengilustrasikan **arithmetic**, **harmonic**, dan **geometric** dari dataset:"
      ]
    },
    {
      "cell_type": "markdown",
      "metadata": {
        "id": "sEvfH8yUbTbo"
      },
      "source": [
        "<img src=\"https://i.ibb.co/dPLQ4Sf/geometricmean.png\" width=\"500\" align=\"center\">\n"
      ]
    },
    {
      "cell_type": "markdown",
      "metadata": {
        "id": "9mFL8tPvbWEr"
      },
      "source": [
        "Ket:\n",
        "- `Titik hijau` mewakili poin data 1, 2.5, 4, 8, dan 28.\n",
        "- `Garis putus-putus merah` adalah `mean`\n",
        "- `Garis putus-putus biru` adalah `harmonic mean`\n",
        "- `Garis putus-putus kuning` adalah `geometric mean`"
      ]
    },
    {
      "cell_type": "markdown",
      "metadata": {},
      "source": [
        "##### **CARA HITUNG GEOMETRIC MEAN**"
      ]
    },
    {
      "cell_type": "markdown",
      "metadata": {},
      "source": [
        "##### **Python Pure : len()**\n",
        "Kita dapat mengimplementasikan geometric mean dalam Python pure seperti ini:"
      ]
    },
    {
      "cell_type": "code",
      "execution_count": 455,
      "metadata": {
        "id": "58I7vj8A3Odn"
      },
      "outputs": [],
      "source": [
        "x = [8.0, 1, 2.5, 4, 28.0]"
      ]
    },
    {
      "cell_type": "code",
      "execution_count": 456,
      "metadata": {
        "colab": {
          "base_uri": "https://localhost:8080/"
        },
        "id": "dMMyiOB0bYAY",
        "outputId": "81b6c6e8-5d67-4c7e-ad8c-e023a2bc7199"
      },
      "outputs": [
        {
          "data": {
            "text/plain": [
              "4.677885674856041"
            ]
          },
          "execution_count": 456,
          "metadata": {},
          "output_type": "execute_result"
        }
      ],
      "source": [
        "gmean = 1\n",
        "\n",
        "for item in x:\n",
        "    gmean *= item\n",
        "\n",
        "gmean **= 1 / len(x)  # gmean pangkat 1/len(x)\n",
        "gmean"
      ]
    },
    {
      "cell_type": "markdown",
      "metadata": {},
      "source": [
        "##### **Module Scipy : scipy.stats.gmean()**"
      ]
    },
    {
      "cell_type": "markdown",
      "metadata": {
        "id": "zVNMLDnybZOu"
      },
      "source": [
        "Kita juga bisa mendapatkan geometric mean dengan scipy.stats.gmean():\n",
        "\n"
      ]
    },
    {
      "cell_type": "code",
      "execution_count": 457,
      "metadata": {
        "colab": {
          "base_uri": "https://localhost:8080/"
        },
        "id": "nLyB904Pbalv",
        "outputId": "2b8fbd5e-34ed-40ef-e1b5-6504cababa02"
      },
      "outputs": [
        {
          "data": {
            "text/plain": [
              "4.67788567485604"
            ]
          },
          "execution_count": 457,
          "metadata": {},
          "output_type": "execute_result"
        }
      ],
      "source": [
        "scipy.stats.gmean(y)\n"
      ]
    },
    {
      "cell_type": "code",
      "execution_count": 458,
      "metadata": {
        "colab": {
          "base_uri": "https://localhost:8080/"
        },
        "id": "YAXnbpxibbrH",
        "outputId": "cfb9e0bb-3677-4a99-b82c-137062a23297"
      },
      "outputs": [
        {
          "data": {
            "text/plain": [
              "4.67788567485604"
            ]
          },
          "execution_count": 458,
          "metadata": {},
          "output_type": "execute_result"
        }
      ],
      "source": [
        "scipy.stats.gmean(z)\n"
      ]
    },
    {
      "cell_type": "markdown",
      "metadata": {
        "id": "_p-rv15abfe5"
      },
      "source": [
        "#### **5. MEDIAN**\n",
        ">Sample median adalah `elemen tengah dari dataset yang diurutkan`"
      ]
    },
    {
      "cell_type": "markdown",
      "metadata": {},
      "source": [
        "        Dataset dapat diurutkan dalam urutan naik atau turun.\n",
        "\n",
        "Jika jumlah elemen 𝑛 dari dataset ganjil, maka **median adalah nilai pada posisi tengah**:\n",
        "\n",
        "        0,5 (𝑛 + 1)     # jum. elemen n ganjil\n",
        "\n",
        "Jika 𝑛 genap, **median adalah arithmetic mean dari dua nilai di tengah**, yaitu:\n",
        "\n",
        "        item pada posisi 0,5𝑛 dan 0,5𝑛 + 1      # genap\n",
        "\n",
        "**CONTOH KASUS 1 :**\n",
        "> Jika kita memiliki titik data: 2, 4, 1, 8, 9\n",
        "- Dataset yang diurutkan : 1, 2, 4, 8, 9\n",
        "- Nilai mediannya adalah 4, yang berada di tengah dataset yang diurutkan"
      ]
    },
    {
      "cell_type": "code",
      "execution_count": 459,
      "metadata": {},
      "outputs": [
        {
          "data": {
            "text/plain": [
              "4"
            ]
          },
          "execution_count": 459,
          "metadata": {},
          "output_type": "execute_result"
        }
      ],
      "source": [
        "x = [2,4,1,8,9]\n",
        "\n",
        "median(x)"
      ]
    },
    {
      "cell_type": "markdown",
      "metadata": {},
      "source": [
        "**CONTOH KASUS 2 :**\n",
        "> Jika titik datanya adalah 2, 4, 1, 8\n",
        "- Dataset yang diurutkan : 1, 2, 4, 8\n",
        "- Nilai mediannya adalah 3, yang merupakan rata-rata dari dua elemen tengah"
      ]
    },
    {
      "cell_type": "code",
      "execution_count": 460,
      "metadata": {},
      "outputs": [
        {
          "data": {
            "text/plain": [
              "3.0"
            ]
          },
          "execution_count": 460,
          "metadata": {},
          "output_type": "execute_result"
        }
      ],
      "source": [
        "x = [2,4,1,8]\n",
        "\n",
        "median(x)"
      ]
    },
    {
      "cell_type": "markdown",
      "metadata": {},
      "source": [
        "Gambar berikut mengilustrasikannya:"
      ]
    },
    {
      "cell_type": "markdown",
      "metadata": {
        "id": "ddxwT4d7bhcG"
      },
      "source": [
        "<img src=\"https://i.ibb.co/6Z943w4/median2.png\" width=\"500\" align=\"center\">\n"
      ]
    },
    {
      "cell_type": "markdown",
      "metadata": {
        "id": "YZUXqdxgbj7E"
      },
      "source": [
        "Keterangan :\n",
        "- `Titik hijau` adalah data points\n",
        "- `Garis ungu` menunjukkan `median untuk setiap dataset`\n",
        "- Nilai median untuk dataset atas (1, 2.5, 4, 8, dan 28) adalah 4\n",
        "\n",
        "**CONTOH KASUS 3 :**\n",
        "> Jika kita menghapus outlier 28 dari dataset yang lebih rendah : 1, 2.5, 4, 8, 28"
      ]
    },
    {
      "cell_type": "code",
      "execution_count": 461,
      "metadata": {},
      "outputs": [
        {
          "data": {
            "text/plain": [
              "3.25"
            ]
          },
          "execution_count": 461,
          "metadata": {},
          "output_type": "execute_result"
        }
      ],
      "source": [
        "x = [1, 2.5, 4, 8]\n",
        "\n",
        "median(x)"
      ]
    },
    {
      "cell_type": "markdown",
      "metadata": {},
      "source": [
        "maka median tersebut menjadi arithmetic average antara 2.5 dan 4, yaitu 3.25."
      ]
    },
    {
      "cell_type": "markdown",
      "metadata": {},
      "source": [
        "Gambar di bawah ini menunjukkan mean dan median dari poin data 1, 2.5, 4, 8, dan 28:"
      ]
    },
    {
      "cell_type": "markdown",
      "metadata": {
        "id": "LmNtnNR8bkZ4"
      },
      "source": [
        "<img src=\"https://i.ibb.co/vJw4Gtb/median3.png\" width=\"500\" align=\"center\">\n"
      ]
    },
    {
      "cell_type": "markdown",
      "metadata": {
        "id": "fo9nrhy3bk72"
      },
      "source": [
        "Keterangan :\n",
        "- `Garis putus-putus merah` adalah `Mean`\n",
        "- `Garis ungu` adalah `Median`\n",
        "\n",
        "Perbedaan utama antara perilaku mean dan median terkait dengan dataset outliers :\n",
        "- Mean sangat dipengaruhi oleh outliers\n",
        "- Median hanya bergantung pada outliers sedikit atau tidak sama sekali.\n",
        "\n",
        "Perhatikan gambar berikut:"
      ]
    },
    {
      "cell_type": "markdown",
      "metadata": {
        "id": "RS28j6OsbrrQ"
      },
      "source": [
        "<img src=\"https://i.ibb.co/r5KgJTy/median4.png\" width=\"500\" align=\"center\">\n"
      ]
    },
    {
      "cell_type": "code",
      "execution_count": 462,
      "metadata": {},
      "outputs": [
        {
          "name": "stdout",
          "output_type": "stream",
          "text": [
            "Mean :\n",
            "8.7\n",
            "10.1\n",
            "6.1\n",
            "Median :\n",
            "4\n",
            "4\n",
            "4\n"
          ]
        }
      ],
      "source": [
        "x = [1, 2.5, 4, 8, 28]  # masih dengan nilai 28\n",
        "x1 = [1, 2.5, 4, 8, 35] # menaikkan nilai 28\n",
        "x2 = [1, 2.5, 4, 8, 15] # menurunkan nilai 28\n",
        "\n",
        "print('Mean :')\n",
        "print(mean(x))\n",
        "print(mean(x1))\n",
        "print(mean(x2))\n",
        "\n",
        "print('Median :')\n",
        "print(median(x))\n",
        "print(median(x1))\n",
        "print(median(x2))"
      ]
    },
    {
      "cell_type": "markdown",
      "metadata": {
        "id": "euUbqN8NbsOP"
      },
      "source": [
        "Keterangan :\n",
        "- Dataset atas memiliki item 1, 2.5, 4, 8, dan 28. Rata-rata adalah 8.7, dan median adalah 5\n",
        "\n",
        "- Dataset bawah menunjukkan apa `yang terjadi saat kita hilangkan titik paling kanan dengan nilai 28` :\n",
        "     - Jika kita `meningkatkan nilainya (pindahkan ke kanan)`, mean akan naik, tetapi nilai median tidak akan pernah berubah.\n",
        "     - Jika kita `menurunkan nilainya (pindahkan ke kiri)`, maka mean akan turun, tetapi `median akan tetap sama sampai nilai titik bergerak lebih besar atau sama dengan 4`.\n",
        "\n",
        "- Kesimpulannya :\n",
        "    - Membandingkan `mean` dan `median` sebagai `salah satu cara untuk mendeteksi outlier dan asimetri dalam data kita`\n",
        "\n",
        "**`Apakah nilai mean atau nilai median lebih berguna bagi kita bergantung pada konteks masalah kita?`**"
      ]
    },
    {
      "cell_type": "markdown",
      "metadata": {},
      "source": [
        "##### **CARA HITUNG MEDIAN**"
      ]
    },
    {
      "cell_type": "markdown",
      "metadata": {},
      "source": [
        "##### **Python Pure : len(), sorted(), round()**"
      ]
    },
    {
      "cell_type": "markdown",
      "metadata": {},
      "source": [
        "Berikut adalah salah satu dari banyak kemungkinan implementasi Python pure dari median:"
      ]
    },
    {
      "cell_type": "code",
      "execution_count": 463,
      "metadata": {},
      "outputs": [
        {
          "name": "stdout",
          "output_type": "stream",
          "text": [
            "[8.0, 1, 2.5, 4, 28.0]\n",
            "[1, 2.5, 4, 8.0, 28.0]\n",
            "5\n"
          ]
        }
      ],
      "source": [
        "x = [8.0, 1, 2.5, 4, 28.0]\n",
        "print(x)\n",
        "print(sorted(x))\n",
        "print(len(x))"
      ]
    },
    {
      "cell_type": "code",
      "execution_count": 464,
      "metadata": {},
      "outputs": [
        {
          "data": {
            "text/plain": [
              "0.75"
            ]
          },
          "execution_count": 464,
          "metadata": {},
          "output_type": "execute_result"
        }
      ],
      "source": [
        "1.5 * 0.5"
      ]
    },
    {
      "cell_type": "code",
      "execution_count": 465,
      "metadata": {
        "colab": {
          "base_uri": "https://localhost:8080/"
        },
        "id": "8jfYyAFlbdVR",
        "outputId": "aaaddc05-de0c-43fc-c478-433f2bfb403b"
      },
      "outputs": [
        {
          "data": {
            "text/plain": [
              "4"
            ]
          },
          "execution_count": 465,
          "metadata": {},
          "output_type": "execute_result"
        }
      ],
      "source": [
        "n = len(x)\n",
        "if n % 2 == 0:   # n bil. genap\n",
        "    x_ord, index = sorted(x), round(0.5 * n)\n",
        "    median_ = 0.5 * (x_ord[index-1] + x_ord[index])\n",
        "else:       # n bil. ganjil\n",
        "    median_ = sorted(x)[round(0.5*(n-1))]\n",
        "median_"
      ]
    },
    {
      "cell_type": "markdown",
      "metadata": {
        "id": "3AaDD3kVb0je"
      },
      "source": [
        "    - Versi yang diurutkan dari x adalah\n",
        "      [1, 2.5, 4, 8.0, 28.0]\n",
        "      jadi elemen di tengah adalah 4.\n",
        "\n",
        "    - Versi yang diurutkan dari x[:-1],\n",
        "      yaitu x tanpa item terakhir 28.0, adalah\n",
        "      [1, 2.5, 4, 8.0]\n",
        "      Sekarang, ada dua elemen tengah, 2.5 dan 4. \n",
        "      Rata-ratanya adalah 3.25."
      ]
    },
    {
      "cell_type": "markdown",
      "metadata": {},
      "source": [
        "##### **Module Statistics : median_low() & median_high()**"
      ]
    },
    {
      "cell_type": "markdown",
      "metadata": {},
      "source": [
        "**`median_low()` dan `median_high()`** adalah dua fungsi lainnya yang terkait dengan median di pustaka **statistics Python**.\n",
        "\n",
        "Mereka selalu mengembalikan elemen dari kumpulan data:\n",
        "\n",
        "- Jika `jumlah elemennya ganjil`, maka `hanya ada satu nilai tengah`, sehingga fungsi ini berperilaku seperti `median()`.\n",
        "- Jika `jumlah elemennya genap`, maka `ada dua nilai tengah`. Dalam kasus ini, `median_low()` mengembalikan nilai tengah yang lebih rendah dan `median_high()` lebih tinggi.\n",
        "\n",
        "Kita dapat menggunakan fungsi ini seperti halnya kita menggunakan median():"
      ]
    },
    {
      "cell_type": "code",
      "execution_count": 466,
      "metadata": {
        "colab": {
          "base_uri": "https://localhost:8080/"
        },
        "id": "2YOap8ZAb1is",
        "outputId": "1ad84a9f-9eff-4970-8980-6fa663720a85"
      },
      "outputs": [
        {
          "data": {
            "text/plain": [
              "[8.0, 1, 2.5, 4, 28.0]"
            ]
          },
          "execution_count": 466,
          "metadata": {},
          "output_type": "execute_result"
        }
      ],
      "source": [
        "x"
      ]
    },
    {
      "cell_type": "code",
      "execution_count": 467,
      "metadata": {},
      "outputs": [
        {
          "data": {
            "text/plain": [
              "array([1. , 2.5, 4. , 8. ])"
            ]
          },
          "execution_count": 467,
          "metadata": {},
          "output_type": "execute_result"
        }
      ],
      "source": [
        "a = x[:-1]\n",
        "np.sort(a)"
      ]
    },
    {
      "cell_type": "code",
      "execution_count": 468,
      "metadata": {
        "colab": {
          "base_uri": "https://localhost:8080/"
        },
        "id": "3njtvlB0b4IO",
        "outputId": "d0af32ee-92f3-44ad-de1d-c53ef95a499e"
      },
      "outputs": [
        {
          "data": {
            "text/plain": [
              "2.5"
            ]
          },
          "execution_count": 468,
          "metadata": {},
          "output_type": "execute_result"
        }
      ],
      "source": [
        "statistics.median_low(x[:-1])"
      ]
    },
    {
      "cell_type": "code",
      "execution_count": 469,
      "metadata": {
        "colab": {
          "base_uri": "https://localhost:8080/"
        },
        "id": "45R29zWnb30F",
        "outputId": "d9ffb60d-abcf-4972-9a41-3761b92a5924"
      },
      "outputs": [
        {
          "data": {
            "text/plain": [
              "4"
            ]
          },
          "execution_count": 469,
          "metadata": {},
          "output_type": "execute_result"
        }
      ],
      "source": [
        "statistics.median_high(x[:-1])"
      ]
    },
    {
      "cell_type": "markdown",
      "metadata": {
        "id": "DLwmjNA9b2U1"
      },
      "source": [
        "        Versi yang diurutkan dari x[:-1] adalah\n",
        "        [1, 2.5, 4, 8.0]\n",
        "        Dua elemen di tengah adalah 2.5 (low) dan 4 (high).\n",
        "\n",
        "Tidak seperti kebanyakan fungsi lain dari pustaka statistics  Python, **median(), median_low(), dan median_high() tidak mengembalikan nan ketika ada nilai nan di antara titik data**:"
      ]
    },
    {
      "cell_type": "code",
      "execution_count": 470,
      "metadata": {},
      "outputs": [
        {
          "data": {
            "text/plain": [
              "[8.0, 1, 2.5, nan, 4, 28.0]"
            ]
          },
          "execution_count": 470,
          "metadata": {},
          "output_type": "execute_result"
        }
      ],
      "source": [
        "x_with_nan"
      ]
    },
    {
      "cell_type": "code",
      "execution_count": 471,
      "metadata": {
        "colab": {
          "base_uri": "https://localhost:8080/"
        },
        "id": "3hmsqs4Sb9Wt",
        "outputId": "cb98744c-dc84-46e5-abc4-c915f46a3d7f"
      },
      "outputs": [
        {
          "name": "stdout",
          "output_type": "stream",
          "text": [
            "6.0\n",
            "4\n",
            "8.0\n"
          ]
        }
      ],
      "source": [
        "print(statistics.median(x_with_nan))\n",
        "print(statistics.median_low(x_with_nan))\n",
        "print(statistics.median_high(x_with_nan))"
      ]
    },
    {
      "cell_type": "markdown",
      "metadata": {},
      "source": [
        "##### **Module Numpy : np.median()**"
      ]
    },
    {
      "cell_type": "markdown",
      "metadata": {
        "id": "RvxOk56PcAGj"
      },
      "source": [
        "Kita juga bisa mendapatkan median dengan np.median ():\n",
        "\n"
      ]
    },
    {
      "cell_type": "code",
      "execution_count": 472,
      "metadata": {},
      "outputs": [
        {
          "data": {
            "text/plain": [
              "array([ 1. ,  2.5,  4. ,  8. , 28. ])"
            ]
          },
          "execution_count": 472,
          "metadata": {},
          "output_type": "execute_result"
        }
      ],
      "source": [
        "np.sort(y)"
      ]
    },
    {
      "cell_type": "code",
      "execution_count": 473,
      "metadata": {
        "colab": {
          "base_uri": "https://localhost:8080/"
        },
        "id": "j3usVeHTcAva",
        "outputId": "358b1442-4273-4445-9295-507d51a3128f"
      },
      "outputs": [
        {
          "name": "stdout",
          "output_type": "stream",
          "text": [
            "4.0\n"
          ]
        }
      ],
      "source": [
        "median_ = np.median(y)\n",
        "print(median_)\n"
      ]
    },
    {
      "cell_type": "code",
      "execution_count": 474,
      "metadata": {
        "colab": {
          "base_uri": "https://localhost:8080/"
        },
        "id": "Bds63CJ0cDpp",
        "outputId": "7fe4d9d2-f976-4466-9c76-701afd4a5a75"
      },
      "outputs": [
        {
          "name": "stdout",
          "output_type": "stream",
          "text": [
            "3.25\n"
          ]
        }
      ],
      "source": [
        "median_ = np.median(y[:-1])\n",
        "print(median_)"
      ]
    },
    {
      "cell_type": "markdown",
      "metadata": {
        "id": "JttSTLjhcIgB"
      },
      "source": [
        "#### **6. MODE**\n",
        ">Sample mode adalah nilai dalam dataset yang paling sering muncul."
      ]
    },
    {
      "cell_type": "markdown",
      "metadata": {},
      "source": [
        "- Jika tidak ada satu pun nilai tersebut,\n",
        "        maka set tersebut multimodal karena memiliki beberapa nilai modal.\n",
        "\n",
        "**CONTOH KASUS 1 :**\n",
        "> Pada set yang berisi poin 2, 3, 2, 8, dan 12, angka 2 adalah mode karena terjadi dua kali, tidak seperti item lain yang hanya muncul sekali."
      ]
    },
    {
      "cell_type": "markdown",
      "metadata": {},
      "source": [
        "##### **Python Pure : max(), count(), set()**"
      ]
    },
    {
      "cell_type": "markdown",
      "metadata": {},
      "source": [
        "Ini adalah bagaimana kita bisa mendapatkan mode dengan Python pure:"
      ]
    },
    {
      "cell_type": "code",
      "execution_count": 475,
      "metadata": {
        "colab": {
          "base_uri": "https://localhost:8080/"
        },
        "id": "nbQfD120cLsf",
        "outputId": "70391e6f-bcf2-47ad-cc8b-11af145725d8"
      },
      "outputs": [
        {
          "data": {
            "text/plain": [
              "15"
            ]
          },
          "execution_count": 475,
          "metadata": {},
          "output_type": "execute_result"
        }
      ],
      "source": [
        "u = [2, 3, 2, 8, 12]                # count = 5\n",
        "v = [12, 15, 12, 15, 21, 15, 12]    # count = 7\n",
        "\n",
        "mode_ = max( (v.count(item), item) for item in set(v) )[1]\n",
        "mode_"
      ]
    },
    {
      "cell_type": "markdown",
      "metadata": {},
      "source": [
        "##### **Module Statistics : statistics.mode()**"
      ]
    },
    {
      "cell_type": "markdown",
      "metadata": {},
      "source": [
        "Kita bisa mendapatkan mode dengan statistics.mode()"
      ]
    },
    {
      "cell_type": "code",
      "execution_count": 476,
      "metadata": {
        "colab": {
          "base_uri": "https://localhost:8080/"
        },
        "id": "8PiU7HYhcPh7",
        "outputId": "44765343-cc85-43f7-e484-c3b501595ee3"
      },
      "outputs": [
        {
          "data": {
            "text/plain": [
              "2"
            ]
          },
          "execution_count": 476,
          "metadata": {},
          "output_type": "execute_result"
        }
      ],
      "source": [
        "mode_ = statistics.mode(u)\n",
        "mode_"
      ]
    },
    {
      "cell_type": "markdown",
      "metadata": {},
      "source": [
        "##### **Module Scipy : scipy.stats.mode()**"
      ]
    },
    {
      "cell_type": "code",
      "execution_count": 477,
      "metadata": {
        "colab": {
          "base_uri": "https://localhost:8080/"
        },
        "id": "uesjTKSVcUC2",
        "outputId": "5a99223d-737f-4051-809a-e17d8a09ebbe"
      },
      "outputs": [
        {
          "name": "stderr",
          "output_type": "stream",
          "text": [
            "<ipython-input-477-d4698ac6da60>:5: FutureWarning: Unlike other reduction functions (e.g. `skew`, `kurtosis`), the default behavior of `mode` typically preserves the axis it acts along. In SciPy 1.11.0, this behavior will change: the default value of `keepdims` will become False, the `axis` over which the statistic is taken will be eliminated, and the value None will no longer be accepted. Set `keepdims` to True or False to avoid this warning.\n",
            "  mode_ = scipy.stats.mode(u)\n"
          ]
        },
        {
          "data": {
            "text/plain": [
              "ModeResult(mode=array([2]), count=array([2]))"
            ]
          },
          "execution_count": 477,
          "metadata": {},
          "output_type": "execute_result"
        }
      ],
      "source": [
        "# Kita juga bisa mendapatkan mode dengan scipy.stats.mode():\n",
        "\n",
        "u, v = np.array(u), np.array(v)\n",
        "\n",
        "mode_ = scipy.stats.mode(u)\n",
        "mode_"
      ]
    },
    {
      "cell_type": "code",
      "execution_count": 478,
      "metadata": {
        "colab": {
          "base_uri": "https://localhost:8080/"
        },
        "id": "3C8WzrjecXGr",
        "outputId": "ede48502-1289-4a6a-9750-8ed4a6a17d08"
      },
      "outputs": [
        {
          "name": "stderr",
          "output_type": "stream",
          "text": [
            "<ipython-input-478-1099c757c2a8>:1: FutureWarning: Unlike other reduction functions (e.g. `skew`, `kurtosis`), the default behavior of `mode` typically preserves the axis it acts along. In SciPy 1.11.0, this behavior will change: the default value of `keepdims` will become False, the `axis` over which the statistic is taken will be eliminated, and the value None will no longer be accepted. Set `keepdims` to True or False to avoid this warning.\n",
            "  mode_ = scipy.stats.mode(v)\n"
          ]
        },
        {
          "data": {
            "text/plain": [
              "ModeResult(mode=array([12]), count=array([3]))"
            ]
          },
          "execution_count": 478,
          "metadata": {},
          "output_type": "execute_result"
        }
      ],
      "source": [
        "mode_ = scipy.stats.mode(v)\n",
        "mode_\n"
      ]
    },
    {
      "cell_type": "markdown",
      "metadata": {
        "id": "JT0fH5AYcXoL"
      },
      "source": [
        "Kita bisa mendapatkan mode dan jumlah kemunculannya sebagai array NumPy dengan dot notation:"
      ]
    },
    {
      "cell_type": "code",
      "execution_count": 479,
      "metadata": {
        "colab": {
          "base_uri": "https://localhost:8080/"
        },
        "id": "FSLs6BrLcdhP",
        "outputId": "04352b14-63e9-43d9-c94e-a74c16a4467d"
      },
      "outputs": [
        {
          "name": "stdout",
          "output_type": "stream",
          "text": [
            "[12]\n",
            "[3]\n"
          ]
        }
      ],
      "source": [
        "print(mode_.mode)\n",
        "print(mode_.count)\n"
      ]
    },
    {
      "cell_type": "markdown",
      "metadata": {},
      "source": [
        "##### **Method .mode()**"
      ]
    },
    {
      "cell_type": "markdown",
      "metadata": {
        "id": "p2e1hVvJcfk7"
      },
      "source": [
        "Objek Pandas Series memiliki metode .mode() yang menangani nilai multimodal dengan baik dan mengabaikan nilai nan secara default:\n",
        "\n"
      ]
    },
    {
      "cell_type": "code",
      "execution_count": 480,
      "metadata": {
        "colab": {
          "base_uri": "https://localhost:8080/"
        },
        "id": "JhmRZxC9ciqw",
        "outputId": "aba73e8e-c3f4-48c6-a75f-95c5fcd69bba"
      },
      "outputs": [
        {
          "name": "stdout",
          "output_type": "stream",
          "text": [
            "0    2\n",
            "dtype: int32\n",
            "0    12\n",
            "1    15\n",
            "dtype: int32\n",
            "0    1.0\n",
            "1    2.0\n",
            "dtype: float64\n"
          ]
        }
      ],
      "source": [
        "u, v, w = pd.Series(u), pd.Series(v), pd.Series([2, 1, math.nan])\n",
        "\n",
        "print(u.mode())\n",
        "\n",
        "print(v.mode())\n",
        "\n",
        "print(w.mode())"
      ]
    },
    {
      "cell_type": "markdown",
      "metadata": {
        "id": "L6St4FEoclLN"
      },
      "source": [
        "Seperti yang kalian lihat, .mode() mengembalikan pd.Series baru yang menampung semua nilai modal.\n",
        "\n",
        "    Jika kalian ingin .mode() memperhitungkan nilai nan, cukup teruskan argumen opsional dropna = False."
      ]
    },
    {
      "cell_type": "markdown",
      "metadata": {},
      "source": [
        "### **MEASURES OF VARIABILITY**"
      ]
    },
    {
      "cell_type": "markdown",
      "metadata": {},
      "source": [
        "Measures of central tendency tidak cukup untuk menggambarkan data. Kita juga `memerlukan ukuran variabilitas yang mengukur penyebaran titik data`\n",
        "\n",
        "Di bagian ini, kita akan mempelajari cara mengidentifikasi dan menghitung ukuran variabilitas berupa:\n",
        "- `Variance`\n",
        "- `Standard deviation`\n",
        "- `Skewness`\n",
        "- `Percentiles`\n",
        "- `Ranges`"
      ]
    },
    {
      "cell_type": "markdown",
      "metadata": {},
      "source": [
        "#### **1. VARIANCE**\n",
        "> Sample variance mengukur penyebaran data. Sample variance `menunjukkan secara numerik seberapa jauh titik data dari mean`"
      ]
    },
    {
      "cell_type": "markdown",
      "metadata": {},
      "source": [
        "Kita dapat mengekspresikan varians sampel dari kumpulan data 𝑥 dengan 𝑛 elemen secara matematis sebagai :\n",
        "- 𝑠² = Σᵢ(𝑥ᵢ − mean(𝑥))² / (𝑛 − 1)\n",
        "            \n",
        "di mana:\n",
        "- 𝑖 = 1, 2,…, 𝑛\n",
        "- mean (𝑥) adalah sample mean dari 𝑥."
      ]
    },
    {
      "cell_type": "markdown",
      "metadata": {},
      "source": [
        "Gambar berikut menunjukkan mengapa penting untuk mempertimbangkan variance saat mendeskripsikan dataset:"
      ]
    },
    {
      "cell_type": "markdown",
      "metadata": {
        "id": "hzV4BJF2cmCB"
      },
      "source": [
        "<img src=\"https://i.ibb.co/b7QRW2g/mod.png\" width=\"500\" align=\"center\">\n"
      ]
    },
    {
      "cell_type": "markdown",
      "metadata": {
        "id": "4MvhnjV1coo3"
      },
      "source": [
        "Terdapat dua dataset dalam figure diatas:\n",
        "- **`Titik hijau`**:\n",
        "    - Dataset ini memiliki variance yang lebih kecil atau perbedaan yang lebih kecil dari mean.\n",
        "    - Dataset ini juga memiliki range yang lebih kecil atau perbedaan yang lebih kecil antara item terbesar dan terkecil.\n",
        "\n",
        "- **`Titik putih`**:\n",
        "    - Dataset ini memiliki variance yang lebih besar atau perbedaan lebih besar dari rata-rata.\n",
        "    - Dataset ini juga memiliki range yang lebih besar atau perbedaan yang lebih besar antara item terbesar dan terkecil.\n",
        "\n",
        "  Perhatikan bahwa kedua dataset ini memiliki mean dan median yang sama, meskipun tampak berbeda secara signifikan.\n",
        "  Baik mean maupun median tidak dapat menggambarkan perbedaan ini. **Itulah mengapa kita membutuhkan measures of variability**."
      ]
    },
    {
      "cell_type": "markdown",
      "metadata": {},
      "source": [
        "##### **Python Pure : len() & sum()**"
      ]
    },
    {
      "cell_type": "markdown",
      "metadata": {},
      "source": [
        "Berikut cara menghitung sample variance dengan Python pure:"
      ]
    },
    {
      "cell_type": "code",
      "execution_count": 481,
      "metadata": {
        "colab": {
          "base_uri": "https://localhost:8080/"
        },
        "id": "uBXDo4GjcqX6",
        "outputId": "2adb38a2-b21c-464b-e7f7-0882f62cfb2c"
      },
      "outputs": [
        {
          "data": {
            "text/plain": [
              "123.19999999999999"
            ]
          },
          "execution_count": 481,
          "metadata": {},
          "output_type": "execute_result"
        }
      ],
      "source": [
        "n = len(x)\n",
        "\n",
        "mean_ = sum(x) / n\n",
        "\n",
        "var_ = sum((item - mean_)**2 for item in x) / (n - 1)\n",
        "var_"
      ]
    },
    {
      "cell_type": "markdown",
      "metadata": {
        "id": "AEgdFJMccr5m"
      },
      "source": [
        "##### **Module Statistics : statistics.variance()**"
      ]
    },
    {
      "cell_type": "markdown",
      "metadata": {},
      "source": [
        "Pendekatan diatas cukup dan dapat menghitung sample variance dengan baik.\n",
        "\n",
        "Namun, solusi yang lebih singkat dan lebih elegan adalah dengan memanggil fungsi statistics.variance():"
      ]
    },
    {
      "cell_type": "code",
      "execution_count": 482,
      "metadata": {
        "colab": {
          "base_uri": "https://localhost:8080/"
        },
        "id": "REuE_PvGctkO",
        "outputId": "fee7a913-4836-4071-e494-3663c01821aa"
      },
      "outputs": [
        {
          "data": {
            "text/plain": [
              "123.2"
            ]
          },
          "execution_count": 482,
          "metadata": {},
          "output_type": "execute_result"
        }
      ],
      "source": [
        "var_ = statistics.variance(x)\n",
        "var_"
      ]
    },
    {
      "cell_type": "markdown",
      "metadata": {},
      "source": [
        "##### **Module Numpy : np.var() & method.var()**"
      ]
    },
    {
      "cell_type": "markdown",
      "metadata": {
        "id": "6lWrLG7gcvYF"
      },
      "source": [
        "Kita juga dapat menghitung sample variance dengan NumPy. Kita harus menggunakan fungsi np.var() atau method .var():"
      ]
    },
    {
      "cell_type": "code",
      "execution_count": 483,
      "metadata": {
        "colab": {
          "base_uri": "https://localhost:8080/"
        },
        "id": "XzId91m0cxXv",
        "outputId": "e6f57919-c309-4138-ae63-0eca6e85ab5a"
      },
      "outputs": [
        {
          "data": {
            "text/plain": [
              "123.19999999999999"
            ]
          },
          "execution_count": 483,
          "metadata": {},
          "output_type": "execute_result"
        }
      ],
      "source": [
        "var_ = np.var(y, ddof=1)\n",
        "var_"
      ]
    },
    {
      "cell_type": "code",
      "execution_count": 484,
      "metadata": {
        "colab": {
          "base_uri": "https://localhost:8080/"
        },
        "id": "O6eboEsjcx-i",
        "outputId": "ce21a5fc-406c-4691-9d0f-12316a6e6584"
      },
      "outputs": [
        {
          "data": {
            "text/plain": [
              "123.19999999999999"
            ]
          },
          "execution_count": 484,
          "metadata": {},
          "output_type": "execute_result"
        }
      ],
      "source": [
        "var_ = y.var(ddof=1)\n",
        "var_"
      ]
    },
    {
      "cell_type": "markdown",
      "metadata": {
        "id": "3Pf37haGczXI"
      },
      "source": [
        "---\n",
        "**`Delta Degrees of Freedom (ddof)`**\n",
        "\n",
        "ddof adalah pembagi yang digunakan dalam perhitungan adalah `N - ddof`\n",
        "- N mewakili jumlah elemen.\n",
        "- `Secara default, ddof adalah nol.`\n",
        "\n",
        "Rata-rata biasanya dihitung sebagai x.sum() / N, di mana N = len(x).\n",
        "\n",
        "Namun, jika ddof ditentukan, pembagi N - ddof digunakan sebagai gantinya.\n",
        "\n",
        "Dalam praktik statistik standar :\n",
        "- `ddof=1` memberikan estimator yang tidak bias dari varian populasi tak terbatas hipotetis.\n",
        "- `ddof=0` memberikan perkiraan kemungkinan maksimum varians untuk variabel yang terdistribusi normal.\n",
        "\n",
        "---\n",
        "\n",
        "Parameter ini memungkinkan kalkulasi yang tepat dari 𝑠², dengan (𝑛 - 1) di penyebutnya, bukan 𝑛.\n",
        "\n",
        "**angka derajat kebebasan (degree of freedom)** = banyaknya pengamatan bebas dari total pengamatan n.\n",
        "\n",
        "RUMUS : \n",
        "- total pengamatan (n) dikurangi dengan banyaknya parameter yang ditaksir\n",
        "- df = n - banyaknya parameter (k).\n",
        "\n",
        "Untuk memahaminya perhatikan penjelasan berikut:\n",
        "\n",
        "**CONTOH KASUS 1 :**\n",
        "> Ada sebuah populasi dengan mean yaitu 10. Kita diijinkan untuk mengambil sample sebanyak 10 orang dari populasi tersebut. Berapa orang yang dapat kita ambil dengan bebas?\n",
        "\n",
        "Mengambil 1-9 orang secara random :\n",
        "- Orang pertama secara bebas, memiliki nilai 14.\n",
        "- Orang kedua masih secara bebas dengan nilai 8.\n",
        "- Orang ketiga hingga sembilan masih diambil dengan bebas dengan nilai 15, 6, 11, 14, 8, 6, dan 5.\n",
        "\n",
        ">Bagaimana dengan orang ke 10? Diambil bebas? Tidak.\n",
        "\n",
        "- Jika sudah ada 9 angka, angka ke 10 tdk dpt lagi ditentukan dg bebas agar mendapatkan estimasi yang sama yaitu mean = 10.\n",
        "- Jumlah nilai sembilan orang tadi adalah 87.\n",
        "- Agar estimasi yang kita dapatkan sama, yaitu mean = 10. Orang kesepuluh harus ditentukan sebesar 13.\n",
        "- Dengan demikian dapat dikatakan kita kehilangan 1 derajat kebebasan.\n",
        "\n",
        "Dalam perhitungan tadi, kita hanya mengestimasi atau menaksir satu parameter.\n",
        "\n",
        "        Oleh karena itu kita hanya kehilangan satu derajat kebebasan,\n",
        "        sehingga Degree of Freedom yang kita miliki adalah n-1, yaitu 10 - 1 = 9.\n",
        "\n",
        "Kembali ke Python,"
      ]
    },
    {
      "cell_type": "markdown",
      "metadata": {},
      "source": [
        "**`DENGAN VAR() NILAI NAN DIABAIKAN`**\n",
        "\n",
        "Objek pd.Series memiliki metode .var() yang mengabaikan nilai nan secara default:"
      ]
    },
    {
      "cell_type": "code",
      "execution_count": 485,
      "metadata": {
        "colab": {
          "base_uri": "https://localhost:8080/"
        },
        "id": "27f8WoXSc3dn",
        "outputId": "8f967912-0681-46bb-b763-44d3313bc8d3"
      },
      "outputs": [
        {
          "data": {
            "text/plain": [
              "123.19999999999999"
            ]
          },
          "execution_count": 485,
          "metadata": {},
          "output_type": "execute_result"
        }
      ],
      "source": [
        "z.var(ddof=1)"
      ]
    },
    {
      "cell_type": "markdown",
      "metadata": {
        "id": "-bjcG5aGOBQ4"
      },
      "source": [
        "- .var() juga memiliki parameter ddof, tetapi nilai defaultnya adalah 1, jadi kalian dapat menghilangkannya.\n",
        "- Jika kalian menginginkan perilaku yang berbeda terkait dengan `nilai nan`, gunakan parameter opsional `skipna`\n",
        "\n",
        "Kita menghitung `population variance sama dengan sample variance`\n",
        "- Dalam penyebutnya gunakan n, bukan 𝑛 − 1:\n",
        "\n",
        "        Σᵢ(𝑥ᵢ − mean(𝑥))² / 𝑛.\n",
        "        Dalam hal ini, 𝑛 adalah banyaknya item dalam seluruh populasi.\n",
        "\n",
        "Kita bisa mendapatkan `varians populasi yang mirip dengan varians sampel`, dengan perbedaan berikut:\n",
        "1. Ganti (n - 1) dengan n pada pure Python implementation.\n",
        "2. Gunakan statistics.pvariance() daripada statistics.variance().\n",
        "3. Spesifikasi parameter ddof=0 jika kamu menggunakan numpy atau pandas. Pada NumPy, abaikan saja ddof karena default valuenya itu 0.\n",
        "4. `Perhatikan bahwa kita harus selalu aware apakah kita bekerja dengan sampel atau seluruh populasi setiap kali kita menghitung varians!!`"
      ]
    },
    {
      "cell_type": "markdown",
      "metadata": {
        "id": "o5ysWlS0c7ih"
      },
      "source": [
        "#### **2. STANDARD DEVIATION**\n",
        ">Sample standard deviation adalah `cara lain mengukur penyebaran data`"
      ]
    },
    {
      "cell_type": "markdown",
      "metadata": {},
      "source": [
        "- Berhubungan dengan varians sampel, karena standard deviation (𝑠) adalah positive square root dari sample variance.\n",
        "- Standard deviation seringkali lebih cocok daripada varians karena memiliki satuan yang sama dengan data points."
      ]
    },
    {
      "cell_type": "markdown",
      "metadata": {},
      "source": [
        "##### **Python Pure**"
      ]
    },
    {
      "cell_type": "markdown",
      "metadata": {},
      "source": [
        "Setelah kita mendapatkan variance, kita dapat menghitung deviasi standar dengan Python pure:"
      ]
    },
    {
      "cell_type": "code",
      "execution_count": 486,
      "metadata": {},
      "outputs": [
        {
          "data": {
            "text/plain": [
              "123.19999999999999"
            ]
          },
          "execution_count": 486,
          "metadata": {},
          "output_type": "execute_result"
        }
      ],
      "source": [
        "n = len(x)              # dari Variance\n",
        "mean_ = sum(x) / n\n",
        "var_ = sum((item - mean_)**2 for item in x) / (n - 1)\n",
        "var_"
      ]
    },
    {
      "cell_type": "code",
      "execution_count": 487,
      "metadata": {
        "colab": {
          "base_uri": "https://localhost:8080/"
        },
        "id": "FSNa5oZ-fg0A",
        "outputId": "a7e206b0-c484-4ca6-91a1-224d41bdcb7f"
      },
      "outputs": [
        {
          "data": {
            "text/plain": [
              "11.099549540409285"
            ]
          },
          "execution_count": 487,
          "metadata": {},
          "output_type": "execute_result"
        }
      ],
      "source": [
        "std_ = var_ ** 0.5      # std_\n",
        "std_"
      ]
    },
    {
      "cell_type": "markdown",
      "metadata": {},
      "source": [
        "##### **Module Statistics : statistics.stdev()**"
      ]
    },
    {
      "cell_type": "code",
      "execution_count": 488,
      "metadata": {
        "colab": {
          "base_uri": "https://localhost:8080/"
        },
        "id": "4IWJBMOjfjLs",
        "outputId": "23fb1e7e-8714-4921-fb67-95304d25f43c"
      },
      "outputs": [
        {
          "data": {
            "text/plain": [
              "11.099549540409287"
            ]
          },
          "execution_count": 488,
          "metadata": {},
          "output_type": "execute_result"
        }
      ],
      "source": [
        "# Meskipun solusi ini berhasil, kita juga dapat menggunakan statistics.stdev():\n",
        "std_ = statistics.stdev(x)\n",
        "std_"
      ]
    },
    {
      "cell_type": "markdown",
      "metadata": {
        "id": "OUzaCaJQfomr"
      },
      "source": [
        "Tentu saja hasilnya sama seperti sebelumnya.\n",
        "\n",
        "Seperti variance(), stdev() tidak menghitung mean jika kita memberikannya secara eksplisit sebagai argumen kedua: statistics.stdev(x, mean_)."
      ]
    },
    {
      "cell_type": "markdown",
      "metadata": {},
      "source": [
        "##### **Module Numpy : np.std(), std(), nanstd()**"
      ]
    },
    {
      "cell_type": "markdown",
      "metadata": {},
      "source": [
        "Kita bisa mendapatkan standard deviation dengan NumPy dengan cara yang hampir sama. Kita dapat menggunakan fungsi std() dan method .std() untuk menghitung standard deviation.\n",
        "\n",
        "Jika ada nilai nan dalam dataset, maka akan mengembalikan nan.\n",
        "- Untuk mengabaikan nilai nan, kita harus menggunakan `np.nanstd()`."
      ]
    },
    {
      "cell_type": "code",
      "execution_count": 489,
      "metadata": {},
      "outputs": [
        {
          "data": {
            "text/plain": [
              "array([ 8. ,  1. ,  2.5,  4. , 28. ])"
            ]
          },
          "execution_count": 489,
          "metadata": {},
          "output_type": "execute_result"
        }
      ],
      "source": [
        "y"
      ]
    },
    {
      "cell_type": "code",
      "execution_count": 490,
      "metadata": {
        "colab": {
          "base_uri": "https://localhost:8080/"
        },
        "id": "PW87f8z7fqbJ",
        "outputId": "cb9c544d-9d33-4799-abd8-215b97e677a6"
      },
      "outputs": [
        {
          "data": {
            "text/plain": [
              "11.099549540409285"
            ]
          },
          "execution_count": 490,
          "metadata": {},
          "output_type": "execute_result"
        }
      ],
      "source": [
        "np.std(y, ddof=1)   # fungsi std"
      ]
    },
    {
      "cell_type": "code",
      "execution_count": 491,
      "metadata": {
        "colab": {
          "base_uri": "https://localhost:8080/"
        },
        "id": "YPC909_YfsDN",
        "outputId": "e14f071f-8344-412d-c347-0064c3b6d20e"
      },
      "outputs": [
        {
          "data": {
            "text/plain": [
              "11.099549540409285"
            ]
          },
          "execution_count": 491,
          "metadata": {},
          "output_type": "execute_result"
        }
      ],
      "source": [
        "y.std(ddof=1)   # method std"
      ]
    },
    {
      "cell_type": "markdown",
      "metadata": {},
      "source": [
        "##### **Module Pandas : pd.Series**"
      ]
    },
    {
      "cell_type": "code",
      "execution_count": 492,
      "metadata": {},
      "outputs": [
        {
          "data": {
            "text/plain": [
              "0     8.0\n",
              "1     1.0\n",
              "2     2.5\n",
              "3     4.0\n",
              "4    28.0\n",
              "dtype: float64"
            ]
          },
          "execution_count": 492,
          "metadata": {},
          "output_type": "execute_result"
        }
      ],
      "source": [
        "z"
      ]
    },
    {
      "cell_type": "code",
      "execution_count": 493,
      "metadata": {
        "colab": {
          "base_uri": "https://localhost:8080/"
        },
        "id": "Vzp3C8-dfuXZ",
        "outputId": "5c2b6b76-65e0-4d01-b066-4a9c8f0d69ef"
      },
      "outputs": [
        {
          "data": {
            "text/plain": [
              "11.099549540409285"
            ]
          },
          "execution_count": 493,
          "metadata": {},
          "output_type": "execute_result"
        }
      ],
      "source": [
        "# Objek pd.Series juga memiliki method .std() yang mengabaikan nan secara default:\n",
        "\n",
        "z.std(ddof=1)"
      ]
    },
    {
      "cell_type": "markdown",
      "metadata": {
        "id": "bUJo15s5OoQn"
      },
      "source": [
        "Parameter ddof default adalah 1, jadi kita bisa menghilangkannya.\n",
        "\n",
        "Jika kita ingin memperlakukan nilai nan secara berbeda, maka terapkan parameter `skipna`.\n",
        "\n",
        "Population standard deviation `mengacu pada keseluruhan populasi`. Ini adalah `akar kuadrat positif dari population variance`. Kita dapat menghitungnya seperti sample standard deviation, dengan perbedaan sebagai berikut:\n",
        "1. Temukan akar kuadrat dari varians populasi dalam implementasi Python.\n",
        "2. Gunakan statistics.pstdev() daripada statistics.stdev().\n",
        "3. Tentukan parameter ddof=0 jika Anda menggunakan NumPy atau Pandas. Di NumPy, Anda dapat menghilangkan ddof karena nilai defaultnya adalah 0. \n",
        "\n",
        "Seperti yang Anda lihat, Anda dapat menentukan standar deviasi di Python, NumPy, dan Pandas dengan cara yang hampir sama seperti Anda menentukan varians. Anda menggunakan fungsi dan metode yang berbeda tetapi analog dengan argumen yang sama."
      ]
    },
    {
      "cell_type": "markdown",
      "metadata": {},
      "source": [
        "#### **3. PERCENTILES**\n",
        ">Sample 𝑝 percentile adalah elemen dalam dataset sehingga 𝑝% elemen dalam dataset kurang dari atau sama dengan nilai tersebut."
      ]
    },
    {
      "cell_type": "markdown",
      "metadata": {
        "id": "v5WH57P8gJ5q"
      },
      "source": [
        "- (100 - 𝑝)% elemen lebih besar dari atau sama dengan nilai tersebut. \n",
        "- Jika ada dua elemen seperti itu dalam dataset, maka persentil 𝑝 sampel adalah arithmetic mean mereka. \n",
        "\n",
        "Tiap dataset memiliki `tiga quartiles`, yang merupakan `persentil yang membagi dataset menjadi empat bagian`:\n",
        "\n",
        "- **First quartile** adalah sampel persentil ke-25.\n",
        "        Kuartil pertama membagi sekitar 25% item terkecil dari kumpulan data lainnya.\n",
        "- **Second quartile** adalah sampel persentil ke-50 atau median.\n",
        "        Kira-kira 25% item terletak di antara kuartil pertama dan kedua dan 25% lainnya antara kuartil kedua dan ketiga.\n",
        "- **Third quartile** adalah sampel persentil ke-75.\n",
        "        Kuartil ketiga membagi sekitar 25% item terbesar dari sisa kumpulan data.\n",
        "\n",
        "Setiap bagian memiliki jumlah item yang kurang lebih sama.\n",
        "\n",
        "Jika kita ingin membagi data kita menjadi beberapa interval, maka kita dapat menggunakan `statistics.quantiles()`:"
      ]
    },
    {
      "cell_type": "code",
      "execution_count": 494,
      "metadata": {
        "id": "jTBnreXSZ1pv"
      },
      "outputs": [],
      "source": [
        "import statistics\n",
        "import numpy as np "
      ]
    },
    {
      "cell_type": "code",
      "execution_count": 495,
      "metadata": {
        "colab": {
          "base_uri": "https://localhost:8080/"
        },
        "id": "CuMIl6qJN6M6",
        "outputId": "d58c53fe-6110-4dc6-803e-af179a7b3431"
      },
      "outputs": [
        {
          "data": {
            "text/plain": [
              "[8.0]"
            ]
          },
          "execution_count": 495,
          "metadata": {},
          "output_type": "execute_result"
        }
      ],
      "source": [
        "x = [-5.0, -1.1, 0.1, 2.0, 8.0, 12.8, 21.0, 25.8, 41.0]\n",
        "statistics.quantiles(x, n=2)"
      ]
    },
    {
      "cell_type": "code",
      "execution_count": 496,
      "metadata": {},
      "outputs": [
        {
          "data": {
            "text/plain": [
              "8.0"
            ]
          },
          "execution_count": 496,
          "metadata": {},
          "output_type": "execute_result"
        }
      ],
      "source": [
        "np.quantile(x, .50)"
      ]
    },
    {
      "cell_type": "code",
      "execution_count": 497,
      "metadata": {
        "id": "K20DhBMUOEfI"
      },
      "outputs": [
        {
          "data": {
            "text/plain": [
              "[0.1, 8.0, 21.0]"
            ]
          },
          "execution_count": 497,
          "metadata": {},
          "output_type": "execute_result"
        }
      ],
      "source": [
        "statistics.quantiles(x, n=4, method='inclusive')"
      ]
    },
    {
      "cell_type": "markdown",
      "metadata": {
        "id": "Vaf4-w9TgKX2"
      },
      "source": [
        "Dalam contoh ini,\n",
        "- 8.0 adalah median dari x\n",
        "- 0.1 dan 21.0 adalah sampel persentil ke-25 dan ke-75. \n",
        "\n",
        "Parameter :\n",
        "- `n` menentukan jumlah persentil probabilitas sama yang dihasilkan\n",
        "- `method` menentukan cara menghitungnya\n",
        "\n",
        "Note:\n",
        "- statistics.quantiles() is introduced in Python 3.8."
      ]
    },
    {
      "cell_type": "markdown",
      "metadata": {},
      "source": [
        "##### **CARA HITUNG PERCENTILES**"
      ]
    },
    {
      "cell_type": "markdown",
      "metadata": {},
      "source": [
        "##### **Module Numpy : np.percentiles(), np.quantile()**"
      ]
    },
    {
      "cell_type": "markdown",
      "metadata": {},
      "source": [
        "Kita juga dapat menggunakan np.percentile() untuk menentukan persentil sampel apa pun dalam kumpulan data kita.\n",
        "\n",
        "**CONTOH KASUS 1 :**\n",
        "\n",
        ">Misalnya, ini cara kita mencari persentil ke-5 dan ke-95:"
      ]
    },
    {
      "cell_type": "code",
      "execution_count": 498,
      "metadata": {
        "colab": {
          "base_uri": "https://localhost:8080/"
        },
        "id": "lRxym_HYcbvE",
        "outputId": "46c6a4a7-3a80-4c82-b841-b0b39f42fc31"
      },
      "outputs": [
        {
          "data": {
            "text/plain": [
              "-3.44"
            ]
          },
          "execution_count": 498,
          "metadata": {},
          "output_type": "execute_result"
        }
      ],
      "source": [
        "y = np.array(x)\n",
        "np.percentile(y, 5)\n"
      ]
    },
    {
      "cell_type": "code",
      "execution_count": 499,
      "metadata": {
        "colab": {
          "base_uri": "https://localhost:8080/"
        },
        "id": "zecPJrN-cgz_",
        "outputId": "cbb3e2be-2ce9-472b-95d1-404e38554a6f"
      },
      "outputs": [
        {
          "data": {
            "text/plain": [
              "34.919999999999995"
            ]
          },
          "execution_count": 499,
          "metadata": {},
          "output_type": "execute_result"
        }
      ],
      "source": [
        "np.percentile(y, 95)\n"
      ]
    },
    {
      "cell_type": "markdown",
      "metadata": {
        "id": "JhESxFtCcwPP"
      },
      "source": [
        "\n",
        "\n",
        "`percentile()` membutuhkan beberapa argumen :\n",
        "- Dataset sebagai argumen pertama. Dataset dapat berupa array NumPy, list, tuple, atau struktur data serupa.\n",
        "- Nilai persentil sebagai yang kedua.\n",
        "\n",
        "**CONTOH KASUS 2 :**\n",
        "\n",
        ">Persentil `bisa berupa angka antara 0 dan 100` seperti pada contoh di atas, tetapi `bisa juga berupa urutan angka`:"
      ]
    },
    {
      "cell_type": "code",
      "execution_count": 500,
      "metadata": {
        "colab": {
          "base_uri": "https://localhost:8080/"
        },
        "id": "wBD_rvK7cze_",
        "outputId": "09514363-aa7a-4ae9-c85c-b317c367d5cb"
      },
      "outputs": [
        {
          "data": {
            "text/plain": [
              "array([ 0.1,  8. , 21. ])"
            ]
          },
          "execution_count": 500,
          "metadata": {},
          "output_type": "execute_result"
        }
      ],
      "source": [
        "np.percentile(y, [25, 50, 75])"
      ]
    },
    {
      "cell_type": "code",
      "execution_count": 501,
      "metadata": {
        "colab": {
          "base_uri": "https://localhost:8080/"
        },
        "id": "GeMlvpaKc5S9",
        "outputId": "5214c374-4dcb-4c58-ec20-71d45d673aea"
      },
      "outputs": [
        {
          "data": {
            "text/plain": [
              "8.0"
            ]
          },
          "execution_count": 501,
          "metadata": {},
          "output_type": "execute_result"
        }
      ],
      "source": [
        "np.median(y)"
      ]
    },
    {
      "cell_type": "markdown",
      "metadata": {
        "id": "7E34X1R-dAuD"
      },
      "source": [
        "- Kode tersebut menghitung persentil ke-25, ke-50, dan ke-75 sekaligus.\n",
        "\n",
        "`Jika nilai persentil adalah sebuah urutan`, maka percentile() mengembalikan array NumPy dengan hasilnya. \n",
        "- Statement pertama mengembalikan array quartiles.\n",
        "- Statement kedua mengembalikan median.\n",
        "- Sehingga kita dapat mengonfirmasi bahwa itu sama dengan persentil ke-50, yaitu 8.0.\n",
        "\n",
        "**CONTOH KASUS 3 :**\n",
        "\n",
        ">Jika kita ingin mengabaikan nilai nan, gunakan **`np.nanpercentile()`** sebagai gantinya:"
      ]
    },
    {
      "cell_type": "code",
      "execution_count": 502,
      "metadata": {
        "colab": {
          "base_uri": "https://localhost:8080/"
        },
        "id": "34p724o9dRFS",
        "outputId": "9b71ccb3-bd26-4de0-b593-bb09a2b267a3"
      },
      "outputs": [
        {
          "data": {
            "text/plain": [
              "array([-5. , -1.1,  0.1,  nan,  2. ,  8. , 12.8, 21. , 25.8, 41. ])"
            ]
          },
          "execution_count": 502,
          "metadata": {},
          "output_type": "execute_result"
        }
      ],
      "source": [
        "y_with_nan = np.insert(y, 3, np.nan)\n",
        "y_with_nan"
      ]
    },
    {
      "cell_type": "code",
      "execution_count": 503,
      "metadata": {},
      "outputs": [
        {
          "data": {
            "text/plain": [
              "array([nan, nan, nan])"
            ]
          },
          "execution_count": 503,
          "metadata": {},
          "output_type": "execute_result"
        }
      ],
      "source": [
        "np.percentile(y_with_nan, [25, 50, 75])"
      ]
    },
    {
      "cell_type": "code",
      "execution_count": 504,
      "metadata": {
        "colab": {
          "base_uri": "https://localhost:8080/"
        },
        "id": "CauGc8hddqmW",
        "outputId": "b8e62e09-3436-4ed8-edb3-46d42af1aced"
      },
      "outputs": [
        {
          "data": {
            "text/plain": [
              "array([ 0.1,  8. , 21. ])"
            ]
          },
          "execution_count": 504,
          "metadata": {},
          "output_type": "execute_result"
        }
      ],
      "source": [
        "np.nanpercentile(y_with_nan, [25, 50, 75])"
      ]
    },
    {
      "cell_type": "markdown",
      "metadata": {
        "id": "DNXsY-u6dVYy"
      },
      "source": [
        "Begitulah cara kita menghindari nilai nan.\n",
        "\n",
        "NumPy juga menawarkan fungsionalitas yang sangat mirip di quantile() dan nanquantile().\n",
        "\n",
        "**CONTOH KASUS 4 :**\n",
        "\n",
        ">Jika kita ingin menggunakannya, `kita harus memberikan nilai-nilai kuantitatif` sebagai angka antara 0 dan 1, `bukan persentil`:"
      ]
    },
    {
      "cell_type": "code",
      "execution_count": 505,
      "metadata": {
        "colab": {
          "base_uri": "https://localhost:8080/"
        },
        "id": "UFjamnARdWVn",
        "outputId": "a5466ed0-9fa9-49e3-87ca-be200c252bea"
      },
      "outputs": [
        {
          "data": {
            "text/plain": [
              "-3.44"
            ]
          },
          "execution_count": 505,
          "metadata": {},
          "output_type": "execute_result"
        }
      ],
      "source": [
        "np.quantile(y, 0.05)"
      ]
    },
    {
      "cell_type": "code",
      "execution_count": 506,
      "metadata": {
        "colab": {
          "base_uri": "https://localhost:8080/"
        },
        "id": "FfQ-R-BkdyI0",
        "outputId": "a1b0d59e-5c7a-4e21-cec9-d084002d0dbc"
      },
      "outputs": [
        {
          "data": {
            "text/plain": [
              "34.919999999999995"
            ]
          },
          "execution_count": 506,
          "metadata": {},
          "output_type": "execute_result"
        }
      ],
      "source": [
        "np.quantile(y, 0.95)"
      ]
    },
    {
      "cell_type": "code",
      "execution_count": 507,
      "metadata": {
        "colab": {
          "base_uri": "https://localhost:8080/"
        },
        "id": "XVT8ruqTd0m9",
        "outputId": "83cf72af-5e1f-4f3e-dfc1-aaf4d3bb599c"
      },
      "outputs": [
        {
          "data": {
            "text/plain": [
              "array([ 0.1,  8. , 21. ])"
            ]
          },
          "execution_count": 507,
          "metadata": {},
          "output_type": "execute_result"
        }
      ],
      "source": [
        "np.quantile(y, [0.25, 0.5, 0.75])"
      ]
    },
    {
      "cell_type": "code",
      "execution_count": 508,
      "metadata": {
        "colab": {
          "base_uri": "https://localhost:8080/"
        },
        "id": "kFS-FPaTd33C",
        "outputId": "92d02d9b-4790-4747-905b-2f84d2662bc2"
      },
      "outputs": [
        {
          "data": {
            "text/plain": [
              "array([ 0.1,  8. , 21. ])"
            ]
          },
          "execution_count": 508,
          "metadata": {},
          "output_type": "execute_result"
        }
      ],
      "source": [
        "np.nanquantile(y_with_nan, [0.25, 0.5, 0.75])"
      ]
    },
    {
      "cell_type": "markdown",
      "metadata": {
        "id": "OUBBoaEwdb8g"
      },
      "source": [
        "Hasilnya sama seperti pada contoh sebelumnya, tetapi di sini argumen kita antara 0 dan 1. Dengan kata lain, kita memberikan 0.05 daripada 5 dan 0.95 daripada 95."
      ]
    },
    {
      "cell_type": "markdown",
      "metadata": {},
      "source": [
        "##### **Module Pandas : pd.Series objects with method .quantile()**"
      ]
    },
    {
      "cell_type": "markdown",
      "metadata": {},
      "source": [
        "pd.Series objek memiliki method .quantile():"
      ]
    },
    {
      "cell_type": "code",
      "execution_count": 509,
      "metadata": {
        "id": "9ZFAmwSvdelm"
      },
      "outputs": [],
      "source": [
        "z, z_with_nan = pd.Series(y), pd.Series(y_with_nan)"
      ]
    },
    {
      "cell_type": "code",
      "execution_count": 510,
      "metadata": {
        "colab": {
          "base_uri": "https://localhost:8080/"
        },
        "id": "Vnvj7JumeE2h",
        "outputId": "293541c0-ff14-4cd1-86de-33275ceb490d"
      },
      "outputs": [
        {
          "data": {
            "text/plain": [
              "-3.44"
            ]
          },
          "execution_count": 510,
          "metadata": {},
          "output_type": "execute_result"
        }
      ],
      "source": [
        "z.quantile(0.05)"
      ]
    },
    {
      "cell_type": "code",
      "execution_count": 511,
      "metadata": {
        "colab": {
          "base_uri": "https://localhost:8080/"
        },
        "id": "p1FQDA18eIZv",
        "outputId": "c74842d8-aa55-4616-e974-b80e5b0d23a8"
      },
      "outputs": [
        {
          "data": {
            "text/plain": [
              "34.919999999999995"
            ]
          },
          "execution_count": 511,
          "metadata": {},
          "output_type": "execute_result"
        }
      ],
      "source": [
        "z.quantile(0.95)"
      ]
    },
    {
      "cell_type": "code",
      "execution_count": 512,
      "metadata": {
        "colab": {
          "base_uri": "https://localhost:8080/"
        },
        "id": "vYFfAy9ReRBy",
        "outputId": "8c96a252-09ec-419f-f3d8-961fb2808239"
      },
      "outputs": [
        {
          "data": {
            "text/plain": [
              "0.25     0.1\n",
              "0.50     8.0\n",
              "0.75    21.0\n",
              "dtype: float64"
            ]
          },
          "execution_count": 512,
          "metadata": {},
          "output_type": "execute_result"
        }
      ],
      "source": [
        "z.quantile([0.25, 0.5, 0.75])"
      ]
    },
    {
      "cell_type": "code",
      "execution_count": 513,
      "metadata": {
        "colab": {
          "base_uri": "https://localhost:8080/"
        },
        "id": "vYgZwTyueSQ0",
        "outputId": "f65594e8-a85c-476d-ca62-e143d9ea55bd"
      },
      "outputs": [
        {
          "data": {
            "text/plain": [
              "0.25     0.1\n",
              "0.50     8.0\n",
              "0.75    21.0\n",
              "dtype: float64"
            ]
          },
          "execution_count": 513,
          "metadata": {},
          "output_type": "execute_result"
        }
      ],
      "source": [
        "z_with_nan.quantile([0.25, 0.5, 0.75])"
      ]
    },
    {
      "cell_type": "markdown",
      "metadata": {
        "id": "jAtAG8Pidg-Q"
      },
      "source": [
        ".quantile() juga membutuhkan kita untuk memberikan nilai quantile sebagai argumennya. Nilai ini bisa berupa angka antara 0 dan 1 atau urutan angka.\n",
        "\n",
        "- Dalam kasus pertama, .quantile() mengembalikan skalar.\n",
        "- Dalam kasus kedua, ia mengembalikan Series baru."
      ]
    },
    {
      "cell_type": "markdown",
      "metadata": {
        "id": "KAYXDK6je_Gr"
      },
      "source": [
        "#### **4. SKEWNESS**\n",
        ">Sample skewness `mengukur asimetri sampel data`"
      ]
    },
    {
      "cell_type": "markdown",
      "metadata": {},
      "source": [
        "Ada beberapa definisi matematis tentang skewness.\n",
        "\n",
        "Satu ekspresi umum untuk menghitung skewness dataset 𝑥 dengan elemen 𝑛 adalah\n",
        "\n",
        "        (𝑛² / ((𝑛 - 1) (𝑛 - 2))) (Σᵢ (𝑥ᵢ - mean (𝑥)) ³ / (𝑛𝑠³)).\n",
        "\n",
        "Ekspresi yang lebih sederhana adalah\n",
        "\n",
        "        Σᵢ (𝑥ᵢ - mean (𝑥)) ³ 𝑛 / ((𝑛 - 1) (𝑛 - 2) 𝑠³)\n",
        "di mana 𝑖 = 1, 2,…, 𝑛 dan mean (𝑥) adalah mean sampel dari 𝑥. skewness yang didefinisikan seperti ini disebut **adjusted Fisher-Pearson standardized moment coefficient.**\n",
        "\n",
        "Gambar sebelumnya menunjukkan **dua dataset yang cukup simetris**. Dengan kata lain, poin mereka memiliki jarak yang sama dari mean.\n",
        "\n",
        "Sebaliknya, gambar berikut mengilustrasikan **dua set asimetris**:"
      ]
    },
    {
      "cell_type": "markdown",
      "metadata": {
        "id": "lpew6CnLGald"
      },
      "source": [
        "<img src=\"https://i.ibb.co/f9c507R/mod2.png\" width=\"500\" align=\"center\">\n"
      ]
    },
    {
      "cell_type": "markdown",
      "metadata": {
        "id": "c2wmmofafKr4"
      },
      "source": [
        "Keterangan :\n",
        "- `Set pertama` diwakili oleh `titik hijau`\n",
        "- `Set kedua` diwakili oleh `titik putih`\n",
        "\n",
        "Biasanya: \n",
        "- **Negative skewness** menunjukkan bahwa ada ekor dominan di sisi kiri, yang dapat kita lihat pada set pertama.\n",
        "- **Positive skewness** values sesuai dengan ekor yang lebih panjang di sisi kanan, yang dapat kita lihat pada set kedua. \n",
        "- **`Jika skewness mendekati 0`** (misalnya antara −0.5 dan 0.5), maka dataset dianggap cukup simetris."
      ]
    },
    {
      "cell_type": "markdown",
      "metadata": {},
      "source": [
        "##### **CARA HITUNG SKEWNESS**"
      ]
    },
    {
      "cell_type": "markdown",
      "metadata": {},
      "source": [
        "##### **Python Pure : len() & sum()**"
      ]
    },
    {
      "cell_type": "markdown",
      "metadata": {},
      "source": [
        "\n",
        "Setelah kita menghitung **ukuran kumpulan data n**, **sample mean mean_**, dan **standard deviation std_**, Kita bisa mendapatkan sample skewness dengan Python pure:"
      ]
    },
    {
      "cell_type": "code",
      "execution_count": 514,
      "metadata": {
        "colab": {
          "base_uri": "https://localhost:8080/"
        },
        "id": "urxUUOdWf5XB",
        "outputId": "26914c1b-5b8d-469e-8ce4-11a41d27cf70"
      },
      "outputs": [
        {
          "data": {
            "text/plain": [
              "1.9470432273905929"
            ]
          },
          "execution_count": 514,
          "metadata": {},
          "output_type": "execute_result"
        }
      ],
      "source": [
        "x = [8.0, 1, 2.5, 4, 28.0]\n",
        "\n",
        "n = len(x)\n",
        "\n",
        "mean_ = sum(x) / n\n",
        "var_ = sum((item - mean_)**2 for item in x) / (n-1)\n",
        "std_ = var_ ** 0.5\n",
        "\n",
        "skew_ = (sum((item - mean_)**3 for item in x) * n / ((n - 1) * (n - 2) * std_**3))\n",
        "skew_\n"
      ]
    },
    {
      "cell_type": "markdown",
      "metadata": {
        "id": "fdI_ACUnfL8B"
      },
      "source": [
        "Skewness menunjukan angka positive, jadi x mempunyai right-side tail."
      ]
    },
    {
      "cell_type": "markdown",
      "metadata": {},
      "source": [
        "##### **Module Scipy : scipy.stats.skew()**"
      ]
    },
    {
      "cell_type": "markdown",
      "metadata": {},
      "source": [
        "Kita juga dapat menghitung sample skewness dengan scipy.stats.skew():"
      ]
    },
    {
      "cell_type": "code",
      "execution_count": 515,
      "metadata": {
        "colab": {
          "base_uri": "https://localhost:8080/"
        },
        "id": "ENdefX-3gD0p",
        "outputId": "7e12b17d-a382-4d39-f5da-36033595b7d1"
      },
      "outputs": [
        {
          "data": {
            "text/plain": [
              "1.9470432273905927"
            ]
          },
          "execution_count": 515,
          "metadata": {},
          "output_type": "execute_result"
        }
      ],
      "source": [
        "y, y_with_nan = np.array(x), np.array(x_with_nan)\n",
        "\n",
        "scipy.stats.skew(y, bias=False)"
      ]
    },
    {
      "cell_type": "code",
      "execution_count": 516,
      "metadata": {
        "colab": {
          "base_uri": "https://localhost:8080/"
        },
        "id": "WLL0rCg7gFTW",
        "outputId": "b5b7b789-0029-4ad3-b615-094f440f6ca1"
      },
      "outputs": [
        {
          "data": {
            "text/plain": [
              "nan"
            ]
          },
          "execution_count": 516,
          "metadata": {},
          "output_type": "execute_result"
        }
      ],
      "source": [
        "scipy.stats.skew(y_with_nan, bias=False)\n"
      ]
    },
    {
      "cell_type": "markdown",
      "metadata": {
        "id": "khTlQDAcfMZT"
      },
      "source": [
        "Hasil yang diperoleh sama dengan implementasi Python pure.\n",
        "- Parameter `bias` diset ke `False` untuk `mengaktifkan koreksi bias statistik`.\n",
        "- Parameter opsional `nan_policy` dapat `menerima nilai 'propagate', 'raise', atau 'omit'`\n",
        "\n",
        "Ini memungkinkan kita untuk mengontrol cara kita menangani nilai nan."
      ]
    },
    {
      "cell_type": "markdown",
      "metadata": {},
      "source": [
        "##### **Module Pandas : pd.Series objects with method .skew()**"
      ]
    },
    {
      "cell_type": "markdown",
      "metadata": {},
      "source": [
        "Objek Pandas Series memiliki metode .skew() yang juga mengembalikan skewness kumpulan data:"
      ]
    },
    {
      "cell_type": "code",
      "execution_count": 517,
      "metadata": {
        "colab": {
          "base_uri": "https://localhost:8080/"
        },
        "id": "lSFe9G7JgOQA",
        "outputId": "771a0c99-c756-453c-e01a-5151e39d0c74"
      },
      "outputs": [
        {
          "data": {
            "text/plain": [
              "1.9470432273905924"
            ]
          },
          "execution_count": 517,
          "metadata": {},
          "output_type": "execute_result"
        }
      ],
      "source": [
        "z, z_with_nan = pd.Series(x), pd.Series(x_with_nan)\n",
        "\n",
        "z.skew()"
      ]
    },
    {
      "cell_type": "code",
      "execution_count": 518,
      "metadata": {
        "colab": {
          "base_uri": "https://localhost:8080/"
        },
        "id": "yZUVBUiLgP8o",
        "outputId": "cde5a398-c2e2-495e-abe3-4f868c5d88bc"
      },
      "outputs": [
        {
          "data": {
            "text/plain": [
              "1.9470432273905924"
            ]
          },
          "execution_count": 518,
          "metadata": {},
          "output_type": "execute_result"
        }
      ],
      "source": [
        "z_with_nan.skew()\n"
      ]
    },
    {
      "cell_type": "markdown",
      "metadata": {
        "id": "AUfFgplpdh7k"
      },
      "source": [
        "#### **5. RANGE / JANGKAUAN(J)**\n",
        ">Rentang data/range data adalah `perbedaan antara elemen maksimum dan minimum dalam dataset`"
      ]
    },
    {
      "cell_type": "markdown",
      "metadata": {},
      "source": [
        "**Module Numpy : np.ptp()**"
      ]
    },
    {
      "cell_type": "markdown",
      "metadata": {},
      "source": [
        "Kita bisa mendapatkannya dengan fungsi np.ptp():"
      ]
    },
    {
      "cell_type": "code",
      "execution_count": 519,
      "metadata": {
        "colab": {
          "base_uri": "https://localhost:8080/"
        },
        "id": "-pciLP3IfAPm",
        "outputId": "282364de-cf13-4ea7-cd6f-c2f8f900779d"
      },
      "outputs": [
        {
          "data": {
            "text/plain": [
              "27.0"
            ]
          },
          "execution_count": 519,
          "metadata": {},
          "output_type": "execute_result"
        }
      ],
      "source": [
        "np.ptp(y)   # # objects series numpy"
      ]
    },
    {
      "cell_type": "code",
      "execution_count": 520,
      "metadata": {
        "colab": {
          "base_uri": "https://localhost:8080/"
        },
        "id": "XwuJhQvKgPRo",
        "outputId": "09187a04-6775-4651-acaa-a63eaeb0c730"
      },
      "outputs": [
        {
          "data": {
            "text/plain": [
              "27.0"
            ]
          },
          "execution_count": 520,
          "metadata": {},
          "output_type": "execute_result"
        }
      ],
      "source": [
        "np.ptp(z)   # objects series pandas"
      ]
    },
    {
      "cell_type": "code",
      "execution_count": 521,
      "metadata": {
        "colab": {
          "base_uri": "https://localhost:8080/"
        },
        "id": "aOeHq5PQgOBn",
        "outputId": "f08f5a14-5d0e-4547-f23e-191a056f346f"
      },
      "outputs": [
        {
          "data": {
            "text/plain": [
              "nan"
            ]
          },
          "execution_count": 521,
          "metadata": {},
          "output_type": "execute_result"
        }
      ],
      "source": [
        "np.ptp(y_with_nan)  # objects series numpy"
      ]
    },
    {
      "cell_type": "code",
      "execution_count": 522,
      "metadata": {
        "colab": {
          "base_uri": "https://localhost:8080/"
        },
        "id": "GSw2QFRIgMmt",
        "outputId": "517c5fb2-4ed2-478d-bb9e-81a2408b18bf"
      },
      "outputs": [
        {
          "data": {
            "text/plain": [
              "nan"
            ]
          },
          "execution_count": 522,
          "metadata": {},
          "output_type": "execute_result"
        }
      ],
      "source": [
        "np.ptp(z_with_nan)  # objects series pandas"
      ]
    },
    {
      "cell_type": "markdown",
      "metadata": {
        "id": "jlIszUZcfGWn"
      },
      "source": [
        "- Fungsi ini mengembalikan nan jika ada nilai nan dalam array NumPy kita.\n",
        "- Jika kita menggunakan objek Pandas Series, maka itu akan mengembalikan angka.\n",
        "\n",
        "Sebagai alternatif, kita dapat menggunakan fungsi dan method Python, NumPy, atau Pandas bawaan untuk menghitung maksimum dan minimum:\n",
        "- `max() and min()` from the `Python standard library`\n",
        "- `amax() and amin()` from `NumPy`\n",
        "- `nanmax() and nanmin()` from `NumPy to ignore nan values`\n",
        "- `.max() and .min()` from `NumPy`\n",
        "- `.max() and .min()` from `Pandas to ignore nan values by default`\n",
        "\n",
        "Berikut beberapa contoh bagaimana kita akan menggunakannya:"
      ]
    },
    {
      "cell_type": "code",
      "execution_count": 523,
      "metadata": {
        "colab": {
          "base_uri": "https://localhost:8080/"
        },
        "id": "3Ze_W5tC9hYI",
        "outputId": "f39e352b-9812-4c47-f558-5c555873a8b1"
      },
      "outputs": [
        {
          "name": "stdout",
          "output_type": "stream",
          "text": [
            "[ 8.   1.   2.5  4.  28. ]\n"
          ]
        }
      ],
      "source": [
        "print(y)"
      ]
    },
    {
      "cell_type": "code",
      "execution_count": 524,
      "metadata": {
        "colab": {
          "base_uri": "https://localhost:8080/"
        },
        "id": "t7FXKs1ofItG",
        "outputId": "651c9251-db07-4044-c6cc-7c8c192a255a"
      },
      "outputs": [
        {
          "data": {
            "text/plain": [
              "27.0"
            ]
          },
          "execution_count": 524,
          "metadata": {},
          "output_type": "execute_result"
        }
      ],
      "source": [
        "np.amax(y) - np.amin(y)"
      ]
    },
    {
      "cell_type": "code",
      "execution_count": 525,
      "metadata": {
        "colab": {
          "base_uri": "https://localhost:8080/"
        },
        "id": "4ZbEJAdagbW9",
        "outputId": "7bf1f730-2c2f-40d4-dd21-49c272ca14cd"
      },
      "outputs": [
        {
          "data": {
            "text/plain": [
              "27.0"
            ]
          },
          "execution_count": 525,
          "metadata": {},
          "output_type": "execute_result"
        }
      ],
      "source": [
        "np.nanmax(y_with_nan) - np.nanmin(y_with_nan)"
      ]
    },
    {
      "cell_type": "code",
      "execution_count": 526,
      "metadata": {
        "colab": {
          "base_uri": "https://localhost:8080/"
        },
        "id": "5mmnNEZ4gZpa",
        "outputId": "e36f11c4-9864-4417-db05-5d25ba8fe563"
      },
      "outputs": [
        {
          "data": {
            "text/plain": [
              "27.0"
            ]
          },
          "execution_count": 526,
          "metadata": {},
          "output_type": "execute_result"
        }
      ],
      "source": [
        "y.max() - y.min()   # ndarray"
      ]
    },
    {
      "cell_type": "code",
      "execution_count": 527,
      "metadata": {
        "colab": {
          "base_uri": "https://localhost:8080/"
        },
        "id": "BtYwIHfVgYVF",
        "outputId": "f071c057-d9da-4b2b-f918-f5b527ddd7db"
      },
      "outputs": [
        {
          "data": {
            "text/plain": [
              "27.0"
            ]
          },
          "execution_count": 527,
          "metadata": {},
          "output_type": "execute_result"
        }
      ],
      "source": [
        "z.max() - z.min()   # series"
      ]
    },
    {
      "cell_type": "code",
      "execution_count": 528,
      "metadata": {
        "colab": {
          "base_uri": "https://localhost:8080/"
        },
        "id": "TWt_5wahgXC1",
        "outputId": "b80c5378-df22-43e3-82c4-edcc0f1861ce"
      },
      "outputs": [
        {
          "data": {
            "text/plain": [
              "27.0"
            ]
          },
          "execution_count": 528,
          "metadata": {},
          "output_type": "execute_result"
        }
      ],
      "source": [
        "z_with_nan.max() - z_with_nan.min()"
      ]
    },
    {
      "cell_type": "markdown",
      "metadata": {
        "id": "73lp8-grfMbL"
      },
      "source": [
        "##### **INTERQUARTILE RANGE / JANGKAUAN ANTAR KUARTIL**\n",
        "**`Interquartile range`** adalah `perbedaan antara kuartil pertama dan ketiga`. Setelah kita menghitung kuartil, kita dapat mengambil selisihnya:"
      ]
    },
    {
      "cell_type": "code",
      "execution_count": 529,
      "metadata": {
        "id": "NhdSGsTCg-mq"
      },
      "outputs": [
        {
          "data": {
            "text/plain": [
              "array([2.5, 8. ])"
            ]
          },
          "execution_count": 529,
          "metadata": {},
          "output_type": "execute_result"
        }
      ],
      "source": [
        "quartiles = np.quantile(y, [0.25, 0.75])\n",
        "quartiles"
      ]
    },
    {
      "cell_type": "code",
      "execution_count": 530,
      "metadata": {
        "colab": {
          "base_uri": "https://localhost:8080/"
        },
        "id": "MXJuUZrkhCE-",
        "outputId": "d8441920-5dfe-44e4-d842-4925ec9e05c7"
      },
      "outputs": [
        {
          "data": {
            "text/plain": [
              "5.5"
            ]
          },
          "execution_count": 530,
          "metadata": {},
          "output_type": "execute_result"
        }
      ],
      "source": [
        "quartiles[1] - quartiles[0] # Q3- Q1"
      ]
    },
    {
      "cell_type": "code",
      "execution_count": 531,
      "metadata": {
        "id": "3vMuz7_ghEMN"
      },
      "outputs": [],
      "source": [
        "quartiles = z.quantile([0.25, 0.75])"
      ]
    },
    {
      "cell_type": "code",
      "execution_count": 532,
      "metadata": {
        "colab": {
          "base_uri": "https://localhost:8080/"
        },
        "id": "7VAi2Ap7hGAs",
        "outputId": "eae9642f-0ff5-46f0-b9dc-322e0a7dceff"
      },
      "outputs": [
        {
          "data": {
            "text/plain": [
              "5.5"
            ]
          },
          "execution_count": 532,
          "metadata": {},
          "output_type": "execute_result"
        }
      ],
      "source": [
        "quartiles[0.75] - quartiles[0.25]"
      ]
    },
    {
      "cell_type": "markdown",
      "metadata": {
        "id": "ccXDYUHffSTf"
      },
      "source": [
        "### **SUMMARY OF DESCRIPTIVE STATISTICS**"
      ]
    },
    {
      "cell_type": "markdown",
      "metadata": {},
      "source": [
        "SciPy dan Pandas menawarkan function yang berguna untuk mendapatkan descriptive statistics dengan cepat dengan satu panggilan fungsi atau method."
      ]
    },
    {
      "cell_type": "markdown",
      "metadata": {},
      "source": [
        "**Module Scipy : scipy.stats.describe()**"
      ]
    },
    {
      "cell_type": "markdown",
      "metadata": {},
      "source": [
        "Kita dapat menggunakan scipy.stats.describe() seperti ini:"
      ]
    },
    {
      "cell_type": "code",
      "execution_count": 533,
      "metadata": {
        "colab": {
          "base_uri": "https://localhost:8080/"
        },
        "id": "wtql8UC0fX5z",
        "outputId": "ab17e944-64f4-491f-a1b7-de4cc00c2c30"
      },
      "outputs": [
        {
          "data": {
            "text/plain": [
              "DescribeResult(nobs=5, minmax=(1.0, 28.0), mean=8.7, variance=123.19999999999999, skewness=1.9470432273905927, kurtosis=3.878019618875446)"
            ]
          },
          "execution_count": 533,
          "metadata": {},
          "output_type": "execute_result"
        }
      ],
      "source": [
        "result = scipy.stats.describe(y, ddof=1, bias=False)\n",
        "result"
      ]
    },
    {
      "cell_type": "markdown",
      "metadata": {
        "id": "xKbTBdUbhWUL"
      },
      "source": [
        "- Kita harus memberikan `dataset sebagai argumen pertama`. Argumennya bisa berupa array NumPy, list, tuple, atau struktur data serupa.\n",
        "- Kita `dapat menghilangkan ddof=1 karena default` dan `hanya penting saat kita menghitung varians`.\n",
        "- Kita bisa `meneruskan bias=False` untuk `memaksa mengoreksi skewness dan kurtosis untuk statistical bias`.\n",
        "\n",
        "describe() mengembalikan objek yang berupa descriptive statistics berikut:\n",
        "- `nobs`: the number of observations or elements in your dataset\n",
        "- `minmax`: the tuple with the minimum and maximum values of your dataset\n",
        "- `mean`: the mean of your dataset\n",
        "- `variance`: the variance of your dataset\n",
        "- `skewness`: the skewness of your dataset\n",
        "- `kurtosis`: the kurtosis of your dataset\n",
        "\n",
        "Kita dapat mengakses nilai tertentu dengan `dot notation`:"
      ]
    },
    {
      "cell_type": "code",
      "execution_count": 534,
      "metadata": {
        "colab": {
          "base_uri": "https://localhost:8080/"
        },
        "id": "Zka-jhgUhZ6s",
        "outputId": "c2efc443-e194-46f7-acb0-31c8bf90b9f3"
      },
      "outputs": [
        {
          "data": {
            "text/plain": [
              "5"
            ]
          },
          "execution_count": 534,
          "metadata": {},
          "output_type": "execute_result"
        }
      ],
      "source": [
        "result.nobs"
      ]
    },
    {
      "cell_type": "code",
      "execution_count": 535,
      "metadata": {
        "colab": {
          "base_uri": "https://localhost:8080/"
        },
        "id": "19c4-dFBhdgX",
        "outputId": "f97708d5-6600-40e1-d837-2aa8bd94c585"
      },
      "outputs": [
        {
          "data": {
            "text/plain": [
              "1.0"
            ]
          },
          "execution_count": 535,
          "metadata": {},
          "output_type": "execute_result"
        }
      ],
      "source": [
        "result.minmax[0]"
      ]
    },
    {
      "cell_type": "code",
      "execution_count": 536,
      "metadata": {
        "colab": {
          "base_uri": "https://localhost:8080/"
        },
        "id": "XvCD7TKphgGk",
        "outputId": "90f4b8ad-6fc7-4bf4-f2eb-9c332b3fc30b"
      },
      "outputs": [
        {
          "data": {
            "text/plain": [
              "28.0"
            ]
          },
          "execution_count": 536,
          "metadata": {},
          "output_type": "execute_result"
        }
      ],
      "source": [
        "result.minmax[1]"
      ]
    },
    {
      "cell_type": "code",
      "execution_count": 537,
      "metadata": {
        "colab": {
          "base_uri": "https://localhost:8080/"
        },
        "id": "7kxDBebThka0",
        "outputId": "a8f01616-b8b2-40df-eead-790b72242d03"
      },
      "outputs": [
        {
          "data": {
            "text/plain": [
              "8.7"
            ]
          },
          "execution_count": 537,
          "metadata": {},
          "output_type": "execute_result"
        }
      ],
      "source": [
        "result.mean"
      ]
    },
    {
      "cell_type": "code",
      "execution_count": 538,
      "metadata": {
        "colab": {
          "base_uri": "https://localhost:8080/"
        },
        "id": "zCBNXygohpIK",
        "outputId": "531ae7ff-3754-480b-da1e-7fec8d1419c3"
      },
      "outputs": [
        {
          "data": {
            "text/plain": [
              "123.19999999999999"
            ]
          },
          "execution_count": 538,
          "metadata": {},
          "output_type": "execute_result"
        }
      ],
      "source": [
        "result.variance"
      ]
    },
    {
      "cell_type": "code",
      "execution_count": 539,
      "metadata": {
        "colab": {
          "base_uri": "https://localhost:8080/"
        },
        "id": "YO-mFZaBhrya",
        "outputId": "1eac4421-4261-4048-b998-90f74ca1ec45"
      },
      "outputs": [
        {
          "data": {
            "text/plain": [
              "1.9470432273905927"
            ]
          },
          "execution_count": 539,
          "metadata": {},
          "output_type": "execute_result"
        }
      ],
      "source": [
        "result.skewness"
      ]
    },
    {
      "cell_type": "code",
      "execution_count": 540,
      "metadata": {
        "colab": {
          "base_uri": "https://localhost:8080/"
        },
        "id": "epHapC4mhukc",
        "outputId": "c2fb570d-82c0-4048-a414-1604a8afc2eb"
      },
      "outputs": [
        {
          "data": {
            "text/plain": [
              "3.878019618875446"
            ]
          },
          "execution_count": 540,
          "metadata": {},
          "output_type": "execute_result"
        }
      ],
      "source": [
        "result.kurtosis"
      ]
    },
    {
      "cell_type": "markdown",
      "metadata": {
        "id": "T7IHVCEzh0Eg"
      },
      "source": [
        "Dengan SciPy, kita hanya perlu satu panggilan fungsi dari ringkasan descriptive statistics untuk kumpulan data kita.\n",
        "\n",
        "Pandas memiliki fungsi yang serupa. Objek series memiliki metode .describe():"
      ]
    },
    {
      "cell_type": "code",
      "execution_count": 541,
      "metadata": {
        "colab": {
          "base_uri": "https://localhost:8080/"
        },
        "id": "-8aLOyTVh2PL",
        "outputId": "420fa6e6-c41f-444c-ec97-fe17a299d69e"
      },
      "outputs": [
        {
          "data": {
            "text/plain": [
              "count     5.00000\n",
              "mean      8.70000\n",
              "std      11.09955\n",
              "min       1.00000\n",
              "25%       2.50000\n",
              "50%       4.00000\n",
              "75%       8.00000\n",
              "max      28.00000\n",
              "dtype: float64"
            ]
          },
          "execution_count": 541,
          "metadata": {},
          "output_type": "execute_result"
        }
      ],
      "source": [
        "result = z.describe()\n",
        "result"
      ]
    },
    {
      "cell_type": "markdown",
      "metadata": {
        "id": "OkQKiSW6h_Mn"
      },
      "source": [
        "Mengembalikan Series baru yang menampung nilai berikut:\n",
        "- `count`: the number of elements in your dataset\n",
        "- `mean`: the mean of your dataset\n",
        "- `std`: the standard deviation of your dataset\n",
        "- `min and max`: the minimum and maximum values of your dataset\n",
        "- `25%, 50%, and 75%`: the quartiles of your dataset\n",
        "\n",
        "Jika kita ingin objek Series yang dihasilkan berisi persentil lain, kita harus menentukan nilai percentiles parameter opsional.\n",
        "\n",
        "Kita dapat mengakses setiap item result dengan labelnya:"
      ]
    },
    {
      "cell_type": "code",
      "execution_count": 542,
      "metadata": {
        "colab": {
          "base_uri": "https://localhost:8080/"
        },
        "id": "kGUgDZP5iFr9",
        "outputId": "06854695-54ef-48bc-d1c7-138661dfd136"
      },
      "outputs": [
        {
          "name": "stdout",
          "output_type": "stream",
          "text": [
            "8.7\n",
            "11.099549540409285\n",
            "1.0\n",
            "28.0\n",
            "2.5\n",
            "4.0\n",
            "8.0\n"
          ]
        }
      ],
      "source": [
        "print(result['mean'])\n",
        "print(result['std'])\n",
        "print(result['min'])\n",
        "print(result['max'])\n",
        "print(result['25%'])\n",
        "print(result['50%'])\n",
        "print(result['75%'])"
      ]
    },
    {
      "cell_type": "markdown",
      "metadata": {},
      "source": [
        "Begitulah cara kita mendapatkan statistik deskriptif dari objek Series dengan satu panggilan metode menggunakan Pandas.\n"
      ]
    },
    {
      "cell_type": "markdown",
      "metadata": {
        "id": "ekb6ylETeedY"
      },
      "source": [
        "### **MEASURES OF CORRELATION BETWEEN PAIRS OF DATA**"
      ]
    },
    {
      "cell_type": "markdown",
      "metadata": {},
      "source": [
        "Kita sering kali perlu memeriksa hubungan/relation antara elemen yang sesuai dari dua variabel dalam dataset.\n",
        "\n",
        "- Katakanlah ada dua variabel, 𝑥 dan 𝑦, dengan jumlah elemen yang sama, 𝑛. \n",
        "- Misalkan 𝑥₁ dari 𝑥 sesuai dengan 𝑦₁ dari 𝑦, 𝑥₂ dari 𝑥 ke 𝑦₂ dari 𝑦, dan seterusnya.\n",
        "- Kita kemudian dapat mengatakan bahwa ada 𝑛 pasang elemen yang sesuai: (𝑥₁, 𝑦₁), (𝑥₂, 𝑦₂), dan seterusnya.\n",
        "\n",
        "Kita akan melihat measures of correlation antara pasangan data berikut:\n",
        "- `Positive correlation exists` when `larger values of 𝑥 correspond to larger values of 𝑦` and vice versa.\n",
        "- `Negative correlation exists` when `larger values of 𝑥 correspond to smaller values of 𝑦` and vice versa.\n",
        "- `Weak or no correlation exists` if there is `no such apparent relationship`.\n",
        "\n",
        "Gambar berikut menunjukkan contoh negative, weak, dan positive correlation:"
      ]
    },
    {
      "cell_type": "markdown",
      "metadata": {
        "id": "hiJ0bqNueXP1"
      },
      "source": [
        "<img src=\"https://i.ibb.co/5BLDpz5/Screen-Shot-2021-09-23-at-5-03-58-PM.png\" width=\"500\" align=\"center\">\n",
        "\n"
      ]
    },
    {
      "cell_type": "markdown",
      "metadata": {
        "id": "AKcIwQSGiUFo"
      },
      "source": [
        "Keterangan :\n",
        "- Plot di sebelah kiri dengan titik merah menunjukkan korelasi negatif.\n",
        "- Plot di tengah dengan titik-titik hijau menunjukkan korelasi yang lemah.\n",
        "- Plot di sebelah kanan dengan titik biru menunjukkan korelasi positif.\n",
        "\n",
        "Dua statistik yang mengukur korelasi antar dataset adalah :\n",
        "1. covariance\n",
        "2. correlation coefficient.\n",
        "\n",
        "Mari tentukan beberapa data untuk digunakan dengan ukuran ini. Kita akan membuat dua list Python dan menggunakannya untuk mendapatkan array NumPy dan Series Pandas yang sesuai:"
      ]
    },
    {
      "cell_type": "code",
      "execution_count": 543,
      "metadata": {
        "id": "uxVD2d_CpCv6"
      },
      "outputs": [],
      "source": [
        "x = list(range(-10, 11))\n",
        "y = [0, 2, 2, 2, 2, 3, 3, 6, 7, 4, 7, 6, 6, 9, 4, 5, 5, 10, 11, 12, 14]"
      ]
    },
    {
      "cell_type": "code",
      "execution_count": 544,
      "metadata": {
        "id": "NknZAQJnpCTt"
      },
      "outputs": [],
      "source": [
        "x_, y_ = np.array(x), np.array(y)"
      ]
    },
    {
      "cell_type": "code",
      "execution_count": 545,
      "metadata": {
        "id": "dz-joUbjpBzn"
      },
      "outputs": [],
      "source": [
        "x__, y__ = pd.Series(x_), pd.Series(y_)"
      ]
    },
    {
      "cell_type": "code",
      "execution_count": 546,
      "metadata": {
        "colab": {
          "base_uri": "https://localhost:8080/"
        },
        "id": "4PBe0nT_iU3f",
        "outputId": "19436e8c-68a9-449b-92e9-1c2b775777fd"
      },
      "outputs": [
        {
          "name": "stdout",
          "output_type": "stream",
          "text": [
            "[-10  -9  -8  -7  -6  -5  -4  -3  -2  -1   0   1   2   3   4   5   6   7\n",
            "   8   9  10]\n",
            "[ 0  2  2  2  2  3  3  6  7  4  7  6  6  9  4  5  5 10 11 12 14]\n",
            "0    -10\n",
            "1     -9\n",
            "2     -8\n",
            "3     -7\n",
            "4     -6\n",
            "5     -5\n",
            "6     -4\n",
            "7     -3\n",
            "8     -2\n",
            "9     -1\n",
            "10     0\n",
            "11     1\n",
            "12     2\n",
            "13     3\n",
            "14     4\n",
            "15     5\n",
            "16     6\n",
            "17     7\n",
            "18     8\n",
            "19     9\n",
            "20    10\n",
            "dtype: int32\n",
            "0      0\n",
            "1      2\n",
            "2      2\n",
            "3      2\n",
            "4      2\n",
            "5      3\n",
            "6      3\n",
            "7      6\n",
            "8      7\n",
            "9      4\n",
            "10     7\n",
            "11     6\n",
            "12     6\n",
            "13     9\n",
            "14     4\n",
            "15     5\n",
            "16     5\n",
            "17    10\n",
            "18    11\n",
            "19    12\n",
            "20    14\n",
            "dtype: int32\n"
          ]
        }
      ],
      "source": [
        "print(x_)\n",
        "print(y_)\n",
        "print(x__)\n",
        "print(y__)"
      ]
    },
    {
      "cell_type": "markdown",
      "metadata": {},
      "source": [
        "Sekarang setelah kita memiliki dua variabel, kita dapat mulai menjelajahi relationship di antara keduanya.\n",
        "\n"
      ]
    },
    {
      "cell_type": "markdown",
      "metadata": {
        "id": "exJpCYVqiVyo"
      },
      "source": [
        "#### **Covariance**"
      ]
    },
    {
      "cell_type": "markdown",
      "metadata": {},
      "source": [
        "`Sample covariance` adalah `ukuran yang mengukur kekuatan dan arah hubungan antara sepasang variabel` :\n",
        "- Jika `korelasinya positif`, maka `kovariansnya juga positif`. `Hubungan yang lebih kuat sesuai dengan nilai kovarians yang lebih tinggi`.\n",
        "- Jika `korelasinya negatif`, maka `kovariansnya juga negatif`. `Hubungan yang lebih kuat sesuai dengan nilai kovarians yang lebih rendah (atau lebih tinggi absolut)`.\n",
        "- Jika `korelasinya lemah`, maka `kovariansnya mendekati nol`.\n",
        "\n",
        "Covariance variabel 𝑥 dan 𝑦 secara matematis didefinisikan sebagai\n",
        "- 𝑠ˣʸ = Σᵢ (𝑥ᵢ − mean(𝑥)) (𝑦ᵢ − mean(𝑦)) / (𝑛 − 1),\n",
        "\n",
        "di mana :\n",
        "- 𝑖 = 1, 2,…, 𝑛,\n",
        "- mean (𝑥) adalah sample mean dari 𝑥,\n",
        "- mean (𝑦) adalah sample mean dari 𝑦.\n",
        "\n",
        "Oleh karena itu, covariance dua variabel identik sebenarnya adalah varians:\n",
        "\n",
        "- 𝑠ˣˣ = Σᵢ (𝑥ᵢ - mean (𝑥)) ² / (𝑛 - 1) = (𝑠ˣ) ²\n",
        "- 𝑠ʸʸ = Σᵢ (𝑦ᵢ - mean (𝑦)) ² / (𝑛 - 1) = (𝑠ʸ) ².\n",
        "\n",
        "Beginilah cara kita menghitung kovarian dengan Python pure:"
      ]
    },
    {
      "cell_type": "code",
      "execution_count": 547,
      "metadata": {
        "colab": {
          "base_uri": "https://localhost:8080/"
        },
        "id": "9xcClz2Qpgyz",
        "outputId": "a5dcdd1d-b9ad-4211-dfb1-19e5eb3cf491"
      },
      "outputs": [
        {
          "data": {
            "text/plain": [
              "0.0"
            ]
          },
          "execution_count": 547,
          "metadata": {},
          "output_type": "execute_result"
        }
      ],
      "source": [
        "n = len(x)\n",
        "mean_x, mean_y = sum(x) / n, sum(y) / n \n",
        "mean_x"
      ]
    },
    {
      "cell_type": "code",
      "execution_count": 548,
      "metadata": {
        "colab": {
          "base_uri": "https://localhost:8080/"
        },
        "id": "dwkbqrqSiW-6",
        "outputId": "81029066-2cdd-43c9-ab1e-7410dc4ff0d0"
      },
      "outputs": [
        {
          "data": {
            "text/plain": [
              "19.95"
            ]
          },
          "execution_count": 548,
          "metadata": {},
          "output_type": "execute_result"
        }
      ],
      "source": [
        "cov_xy = (sum((x[k] - mean_x) * (y[k] - mean_y) for k in range(n))\n",
        "           / (n - 1))\n",
        "cov_xy"
      ]
    },
    {
      "cell_type": "markdown",
      "metadata": {
        "id": "jyqVy1XCiXdI"
      },
      "source": [
        "1. Pertama, kita harus mencari nilai mean dari x dan y.\n",
        "2. Kemudian, kita menerapkan rumus matematika untuk covariance.\n",
        "\n",
        "NumPy memiliki fungsi `cov()` yang mengembalikan covariance matrix:"
      ]
    },
    {
      "cell_type": "code",
      "execution_count": 549,
      "metadata": {
        "colab": {
          "base_uri": "https://localhost:8080/"
        },
        "id": "MtYCn8jyipQl",
        "outputId": "a3d72fa3-aebe-4d58-d436-e34065d10368"
      },
      "outputs": [
        {
          "data": {
            "text/plain": [
              "array([[38.5       , 19.95      ],\n",
              "       [19.95      , 13.91428571]])"
            ]
          },
          "execution_count": 549,
          "metadata": {},
          "output_type": "execute_result"
        }
      ],
      "source": [
        "cov_matrix = np.cov(x_, y_)\n",
        "cov_matrix"
      ]
    },
    {
      "cell_type": "markdown",
      "metadata": {
        "id": "89kMAkgMitHd"
      },
      "source": [
        "Perhatikan bahwa `cov()` memiliki parameter opsional : \n",
        "- `bias`, yang defaultnya adalah False\n",
        "- `ddof`, yang defaultnya adalah None.\n",
        "\n",
        "Nilai defaultnya cocok untuk mendapatkan sample covariance matrix.\n",
        "\n",
        "- `Elemen kiri atas` covariance matrix adalah covariance dari x dan x, atau variance dari x. \n",
        "- `Elemen kanan bawah` adalah covariance y dan y, atau variance y.\n",
        "\n",
        "Kita dapat memeriksa apakah ini benar:\n"
      ]
    },
    {
      "cell_type": "code",
      "execution_count": 550,
      "metadata": {
        "colab": {
          "base_uri": "https://localhost:8080/"
        },
        "id": "BN0ju10civx6",
        "outputId": "4f8c3666-fcbe-48b2-f212-4ef9cd796b8d"
      },
      "outputs": [
        {
          "data": {
            "text/plain": [
              "38.5"
            ]
          },
          "execution_count": 550,
          "metadata": {},
          "output_type": "execute_result"
        }
      ],
      "source": [
        "x_.var(ddof=1)"
      ]
    },
    {
      "cell_type": "code",
      "execution_count": 551,
      "metadata": {
        "colab": {
          "base_uri": "https://localhost:8080/"
        },
        "id": "iq0N6F--pyCL",
        "outputId": "8f126053-4825-4e43-e0f9-b0dfedce9c8c"
      },
      "outputs": [
        {
          "data": {
            "text/plain": [
              "13.914285714285711"
            ]
          },
          "execution_count": 551,
          "metadata": {},
          "output_type": "execute_result"
        }
      ],
      "source": [
        "y_.var(ddof=1)"
      ]
    },
    {
      "cell_type": "markdown",
      "metadata": {
        "id": "YqVnU3r5izDK"
      },
      "source": [
        "Seperti yang kita lihat, `varians dari x dan y = cov_matrix[0, 0] dan cov_matrix[1, 1]`.\n",
        "\n",
        "Dua elemen lain dari covariance matrix adalah sama dan mewakili covariance aktual antara x dan y:\n"
      ]
    },
    {
      "cell_type": "code",
      "execution_count": 552,
      "metadata": {
        "colab": {
          "base_uri": "https://localhost:8080/"
        },
        "id": "y9_sHd0-p2T5",
        "outputId": "950ccbfd-a166-4e09-8c23-fa3660ae8975"
      },
      "outputs": [
        {
          "data": {
            "text/plain": [
              "19.95"
            ]
          },
          "execution_count": 552,
          "metadata": {},
          "output_type": "execute_result"
        }
      ],
      "source": [
        "cov_xy = cov_matrix[0, 1]\n",
        "cov_xy"
      ]
    },
    {
      "cell_type": "code",
      "execution_count": 553,
      "metadata": {
        "colab": {
          "base_uri": "https://localhost:8080/"
        },
        "id": "GMbgLbl4i1Ku",
        "outputId": "bf53fd56-1ec8-41ab-abbe-51547b740881"
      },
      "outputs": [
        {
          "data": {
            "text/plain": [
              "19.95"
            ]
          },
          "execution_count": 553,
          "metadata": {},
          "output_type": "execute_result"
        }
      ],
      "source": [
        "cov_xy = cov_matrix[1, 0]\n",
        "cov_xy"
      ]
    },
    {
      "cell_type": "markdown",
      "metadata": {
        "id": "PFrtarYOmCyA"
      },
      "source": [
        "Kita akan mendapatkan `nilai kovarian = np.cov()` seperti pada Python pure.\n",
        "\n",
        "Series Pandas memiliki metode `.cov()` yang dapat digunakan untuk menghitung kovarian:"
      ]
    },
    {
      "cell_type": "code",
      "execution_count": 554,
      "metadata": {
        "colab": {
          "base_uri": "https://localhost:8080/"
        },
        "id": "ov-NBjWZmDsH",
        "outputId": "6e4b2477-47c3-499e-c028-89ee8ee5704b"
      },
      "outputs": [
        {
          "data": {
            "text/plain": [
              "19.95"
            ]
          },
          "execution_count": 554,
          "metadata": {},
          "output_type": "execute_result"
        }
      ],
      "source": [
        "cov_xy = x__.cov(y__)\n",
        "cov_xy "
      ]
    },
    {
      "cell_type": "code",
      "execution_count": 555,
      "metadata": {
        "colab": {
          "base_uri": "https://localhost:8080/"
        },
        "id": "DZI4YCK4mEVn",
        "outputId": "3317c339-71fe-4be4-c4a7-88ca97fda69d"
      },
      "outputs": [
        {
          "data": {
            "text/plain": [
              "19.95"
            ]
          },
          "execution_count": 555,
          "metadata": {},
          "output_type": "execute_result"
        }
      ],
      "source": [
        "cov_xy = y__.cov(x__)\n",
        "cov_xy"
      ]
    },
    {
      "cell_type": "markdown",
      "metadata": {
        "id": "gI1uRmY0NY3d"
      },
      "source": [
        "Di sini, kita memanggil .cov() pada satu objek Series dan meneruskan objek lainnya sebagai argumen pertama.\n"
      ]
    },
    {
      "cell_type": "markdown",
      "metadata": {
        "id": "WTQ4A_-gmTxJ"
      },
      "source": [
        "#### **Correlation Coefficient**"
      ]
    },
    {
      "cell_type": "markdown",
      "metadata": {},
      "source": [
        "- `Correlation coefficient, atau Pearson product-moment correlation coefficient`, dilambangkan dengan `simbol 𝑟`.\n",
        "- `Coefficient`  adalah `ukuran lain dari korelasi antar data`.\n",
        "- Kita dapat menganggapnya sebagai standardized covariance.\n",
        "\n",
        "Berikut beberapa infonya:\n",
        "- `Nilai > 0` menunjukkan `korelasi positif`.\n",
        "- `Nilai < 0` menunjukkan `korelasi negatif`.\n",
        "- `Nilai r = 1 adalah nilai maksimum yang mungkin dari`. Ini sesuai dengan `hubungan linier positif yang sempurna` antara variabel.\n",
        "- `Nilai r = 1 adalah nilai minimum yang mungkin dari`. Ini sesuai dengan `hubungan linier negatif` yang sempurna antara variabel.\n",
        "- `Nilai r = 0, atau bila sekitar nol`, berarti `korelasi antar variabel lemah`.\n",
        "\n",
        "Rumus matematika untuk koefisien korelasi adalah\n",
        "\n",
        "    / (𝑠ˣ𝑠ʸ)\n",
        "\n",
        "di mana dan masing-masing adalah standar deviasi dari dan.\n",
        "\n",
        "Jika kita memiliki :\n",
        "- mean (mean_x dan mean_y)\n",
        "- standar deviasi (std_x, std_y) untuk dataset x dan y\n",
        "- covariannya cov_xy, maka kita dapat menghitung koefisien korelasi dengan Python pure:"
      ]
    },
    {
      "cell_type": "code",
      "execution_count": 556,
      "metadata": {
        "id": "ec5LUNNYqERf"
      },
      "outputs": [],
      "source": [
        "var_x = sum((item - mean_x)**2 for item in x) / (n - 1)"
      ]
    },
    {
      "cell_type": "code",
      "execution_count": 557,
      "metadata": {
        "id": "0ePypTagqFIX"
      },
      "outputs": [],
      "source": [
        "var_y = sum((item - mean_y)**2 for item in y) / (n - 1)"
      ]
    },
    {
      "cell_type": "code",
      "execution_count": 558,
      "metadata": {
        "id": "Z7PmzeU0qHlB"
      },
      "outputs": [],
      "source": [
        " std_x, std_y = var_x ** 0.5, var_y ** 0.5"
      ]
    },
    {
      "cell_type": "code",
      "execution_count": 559,
      "metadata": {
        "colab": {
          "base_uri": "https://localhost:8080/"
        },
        "id": "9DyuP2J_mVz4",
        "outputId": "490b3aaf-a5ae-4fc8-c561-0885222d7698"
      },
      "outputs": [
        {
          "data": {
            "text/plain": [
              "0.861950005631606"
            ]
          },
          "execution_count": 559,
          "metadata": {},
          "output_type": "execute_result"
        }
      ],
      "source": [
        "r = cov_xy / (std_x * std_y)\n",
        "r"
      ]
    },
    {
      "cell_type": "markdown",
      "metadata": {
        "id": "-tamrpUXmaPK"
      },
      "source": [
        "Kita mendapatkan variabel r yang mewakili correlation coefficient.\n",
        "\n",
        "scipy.stats memiliki `pearsonr()` yang menghitung correlation coefficient dan the 𝑝-value:"
      ]
    },
    {
      "cell_type": "code",
      "execution_count": 560,
      "metadata": {
        "colab": {
          "base_uri": "https://localhost:8080/"
        },
        "id": "ch3gk6ZamcOx",
        "outputId": "2c3d37d7-2591-4fa4-f04b-45fe7f299540"
      },
      "outputs": [
        {
          "name": "stdout",
          "output_type": "stream",
          "text": [
            "0.8619500056316061\n",
            "5.122760847201143e-07\n"
          ]
        }
      ],
      "source": [
        "r, p = scipy.stats.pearsonr(x_, y_)\n",
        "print(r)\n",
        "print(p)"
      ]
    },
    {
      "cell_type": "markdown",
      "metadata": {
        "id": "ufD8TAKqmgMK"
      },
      "source": [
        "`pearsonr()` mengembalikan tuple dengan dua angka :\n",
        "- yang pertama adalah 𝑟\n",
        "- yang kedua adalah 𝑝-value.\n",
        "\n",
        "Mirip dengan kasus covariance matrix, kita dapat menerapkan `np.corrcoef()` dengan x_ dan y_ sebagai argumen dan mendapatkan correlation coefficient matrix:"
      ]
    },
    {
      "cell_type": "code",
      "execution_count": 561,
      "metadata": {
        "colab": {
          "base_uri": "https://localhost:8080/"
        },
        "id": "_aCdGnGpmiOg",
        "outputId": "2e222207-b5a2-48a3-89e3-d0294f047e80"
      },
      "outputs": [
        {
          "data": {
            "text/plain": [
              "array([[1.        , 0.86195001],\n",
              "       [0.86195001, 1.        ]])"
            ]
          },
          "execution_count": 561,
          "metadata": {},
          "output_type": "execute_result"
        }
      ],
      "source": [
        "corr_matrix = np.corrcoef(x_, y_)\n",
        "corr_matrix"
      ]
    },
    {
      "cell_type": "markdown",
      "metadata": {
        "id": "3KXxJ-ArmkX3"
      },
      "source": [
        "- `Elemen kiri atas` adalah correlation coefficient antara x_ dan x_.\n",
        "- `Elemen kanan bawah` adalah correlation coefficient antara y_ dan y_.\n",
        "- Nilainya sama dengan 1.0.\n",
        "\n",
        "Dua elemen lainnya sama dan mewakili koefisien korelasi aktual antara x_ dan y_:"
      ]
    },
    {
      "cell_type": "code",
      "execution_count": 562,
      "metadata": {
        "colab": {
          "base_uri": "https://localhost:8080/"
        },
        "id": "Qozb1BdkqdId",
        "outputId": "1f8a37b6-6c53-4963-891d-c2966e77e075"
      },
      "outputs": [
        {
          "data": {
            "text/plain": [
              "0.8619500056316061"
            ]
          },
          "execution_count": 562,
          "metadata": {},
          "output_type": "execute_result"
        }
      ],
      "source": [
        "r = corr_matrix[0, 1]\n",
        "r"
      ]
    },
    {
      "cell_type": "code",
      "execution_count": 563,
      "metadata": {
        "colab": {
          "base_uri": "https://localhost:8080/"
        },
        "id": "MtjewilmmmM4",
        "outputId": "2a929244-f462-40af-d0c8-4c2e199bfe4e"
      },
      "outputs": [
        {
          "data": {
            "text/plain": [
              "0.861950005631606"
            ]
          },
          "execution_count": 563,
          "metadata": {},
          "output_type": "execute_result"
        }
      ],
      "source": [
        "r = corr_matrix[1, 0]\n",
        "r"
      ]
    },
    {
      "cell_type": "markdown",
      "metadata": {
        "id": "SxSCplMqmogr"
      },
      "source": [
        "Tentu saja, hasilnya sama dengan `Python pure` dan `pearsonr()`.\n",
        "\n",
        "Kita bisa mendapatkan correlation coefficient dengan `scipy.stats.linregress()`:"
      ]
    },
    {
      "cell_type": "code",
      "execution_count": 564,
      "metadata": {
        "colab": {
          "base_uri": "https://localhost:8080/"
        },
        "id": "F_CJqzC6mrCv",
        "outputId": "bf225557-7f95-4618-f38a-89d1d66e47dd"
      },
      "outputs": [
        {
          "data": {
            "text/plain": [
              "LinregressResult(slope=0.5181818181818181, intercept=5.714285714285714, rvalue=0.861950005631606, pvalue=5.122760847201165e-07, stderr=0.06992387660074979, intercept_stderr=0.4234100995002589)"
            ]
          },
          "execution_count": 564,
          "metadata": {},
          "output_type": "execute_result"
        }
      ],
      "source": [
        "scipy.stats.linregress(x_, y_)\n"
      ]
    },
    {
      "cell_type": "markdown",
      "metadata": {
        "id": "MgMWFoepmy24"
      },
      "source": [
        "- `linregress()` mengambil x_ dan y_, melakukan regresi linier, dan mengembalikan hasilnya.\n",
        "- `slope` dan `intercept` menentukan persamaan regression line,\n",
        "- `rvalue`  adalah correlation coefficient.\n",
        "\n",
        "`Untuk mengakses nilai tertentu dari hasil linregress()`, termasuk correlation coefficient, gunakan dot notation:"
      ]
    },
    {
      "cell_type": "code",
      "execution_count": 565,
      "metadata": {
        "colab": {
          "base_uri": "https://localhost:8080/"
        },
        "id": "GL1Z1gpom5Aw",
        "outputId": "a40f8326-7c60-43e9-93e8-82c429d56b7a"
      },
      "outputs": [
        {
          "data": {
            "text/plain": [
              "0.861950005631606"
            ]
          },
          "execution_count": 565,
          "metadata": {},
          "output_type": "execute_result"
        }
      ],
      "source": [
        "result = scipy.stats.linregress(x_, y_)\n",
        "r = result.rvalue\n",
        "r"
      ]
    },
    {
      "cell_type": "markdown",
      "metadata": {
        "id": "-DBiBuykm311"
      },
      "source": [
        "Series Pandas memiliki method `.corr()` untuk menghitung correlation coefficient :"
      ]
    },
    {
      "cell_type": "code",
      "execution_count": 566,
      "metadata": {
        "colab": {
          "base_uri": "https://localhost:8080/"
        },
        "id": "NI9c549Em3eP",
        "outputId": "8905d70e-4040-4b71-c014-9e9e6dc386e0"
      },
      "outputs": [
        {
          "data": {
            "text/plain": [
              "0.8619500056316061"
            ]
          },
          "execution_count": 566,
          "metadata": {},
          "output_type": "execute_result"
        }
      ],
      "source": [
        "r = x__.corr(y__)\n",
        "r"
      ]
    },
    {
      "cell_type": "code",
      "execution_count": 567,
      "metadata": {
        "colab": {
          "base_uri": "https://localhost:8080/"
        },
        "id": "OCjyccr1qy3e",
        "outputId": "a584a491-29a0-475f-b7f0-702ec4b24a21"
      },
      "outputs": [
        {
          "data": {
            "text/plain": [
              "0.861950005631606"
            ]
          },
          "execution_count": 567,
          "metadata": {},
          "output_type": "execute_result"
        }
      ],
      "source": [
        "r = y__.corr(x__)\n",
        "r"
      ]
    },
    {
      "cell_type": "markdown",
      "metadata": {
        "id": "YExN8zykm3GB"
      },
      "source": [
        "## **WORKING WITH 2D DATA**\n",
        "---"
      ]
    },
    {
      "cell_type": "markdown",
      "metadata": {},
      "source": [
        "Statisticians sering bekerja dengan data 2D. Berikut beberapa contoh format data 2D:\n",
        "\n",
        "* Database tables\n",
        "* CSV files\n",
        "* Excel, Calc, and Google spreadsheets\n",
        "\n",
        "NumPy dan SciPy menyediakan cara yang komprehensif untuk bekerja dengan data 2D. Panda memiliki kelas DataFrame khusus untuk menangani 2D labeled data."
      ]
    },
    {
      "cell_type": "markdown",
      "metadata": {},
      "source": [
        "### **Axes**\n",
        "Start by creating a 2D NumPy array:"
      ]
    },
    {
      "cell_type": "code",
      "execution_count": 568,
      "metadata": {
        "colab": {
          "base_uri": "https://localhost:8080/"
        },
        "id": "Umer292jm2s-",
        "outputId": "643d9daf-8fbc-46d7-98ed-8d3de6acf98a"
      },
      "outputs": [
        {
          "data": {
            "text/plain": [
              "array([[ 1,  1,  1],\n",
              "       [ 2,  3,  1],\n",
              "       [ 4,  9,  2],\n",
              "       [ 8, 27,  4],\n",
              "       [16,  1,  1]])"
            ]
          },
          "execution_count": 568,
          "metadata": {},
          "output_type": "execute_result"
        }
      ],
      "source": [
        "a = np.array([[1, 1, 1],\n",
        "               [2, 3, 1],\n",
        "               [4, 9, 2],\n",
        "               [8, 27, 4],\n",
        "               [16, 1, 1]])\n",
        "a"
      ]
    },
    {
      "cell_type": "markdown",
      "metadata": {
        "id": "zET6Zm90nalb"
      },
      "source": [
        "Sekarang kita memiliki dataset 2D, yang akan kita gunakan di section ini.\n",
        "\n",
        "Kita dapat menerapkan fungsi dan metode statistik Python ke dalamnya seperti yang kita lakukan pada data 1D:"
      ]
    },
    {
      "cell_type": "code",
      "execution_count": 569,
      "metadata": {
        "colab": {
          "base_uri": "https://localhost:8080/"
        },
        "id": "FmHbJlvCnctO",
        "outputId": "6ba2205e-56fe-4f62-d1d0-4d88ee34d663"
      },
      "outputs": [
        {
          "name": "stdout",
          "output_type": "stream",
          "text": [
            "5.4\n",
            "5.4\n",
            "2.0\n",
            "53.40000000000001\n"
          ]
        }
      ],
      "source": [
        "print(np.mean(a))\n",
        "print(a.mean())\n",
        "print(np.median(a))\n",
        "print(a.var(ddof=1))"
      ]
    },
    {
      "cell_type": "markdown",
      "metadata": {
        "id": "qvKZHDTqndl6"
      },
      "source": [
        "Seperti yang kita lihat, kita mendapatkan statistik (seperti mean, median, atau varians) di semua data dalam array a.\n",
        "\n",
        "Terkadang, perilaku ini yang kita inginkan, tetapi dalam beberapa kasus, kita ingin jumlah ini dihitung untuk setiap baris atau kolom dari larik 2D kita .\n",
        "\n",
        "Fungsi dan metode yang kita gunakan sejauh ini memiliki satu parameter opsional yang disebut axis, yang penting untuk menangani data 2D.\n",
        "\n",
        "axis dapat mengambil salah satu dari nilai berikut:\n",
        "- `axis=None` says to `calculate the statistics across all data in the array`. The examples above work like this. This behavior is often the default in NumPy.\n",
        "- `axis=0` says to `calculate the statistics across all rows`, that is, for each column of the array. This behavior is often the default for SciPy statistical functions.\n",
        "- `axis=1` says to `calculate the statistics across all columns`, that is, for each row of the array.\n",
        "\n",
        "Let’s see axis=0 in action with `np.mean()`:"
      ]
    },
    {
      "cell_type": "code",
      "execution_count": 570,
      "metadata": {
        "colab": {
          "base_uri": "https://localhost:8080/"
        },
        "id": "SG3Z2IWaneMd",
        "outputId": "67519107-e1b8-4c1a-f3c1-e84aecf137be"
      },
      "outputs": [
        {
          "name": "stdout",
          "output_type": "stream",
          "text": [
            "[6.2 8.2 1.8]\n",
            "[6.2 8.2 1.8]\n"
          ]
        }
      ],
      "source": [
        "print(np.mean(a, axis=0))\n",
        "print(a.mean(axis=0))"
      ]
    },
    {
      "cell_type": "markdown",
      "metadata": {
        "id": "XpzBewconesj"
      },
      "source": [
        "Dua pernyataan di atas mengembalikan array NumPy baru dengan mean untuk setiap kolom a. \n",
        "\n",
        "Dalam contoh ini :\n",
        "- Kolom pertama memiliki mean 6.2\n",
        "- Kolom kedua memiliki mean 8.2\n",
        "- kolom ketiga memiliki mean 1.8\n",
        "\n",
        "Jika kita memberikan `axis=1` pada mean(), kita akan mendapatkan hasil untuk setiap baris:"
      ]
    },
    {
      "cell_type": "code",
      "execution_count": 571,
      "metadata": {
        "colab": {
          "base_uri": "https://localhost:8080/"
        },
        "id": "Gu6Khq7_n0Fb",
        "outputId": "4012de9b-c95b-4034-ff90-e11d685f46d6"
      },
      "outputs": [
        {
          "name": "stdout",
          "output_type": "stream",
          "text": [
            "[ 1.  2.  5. 13.  6.]\n",
            "[ 1.  2.  5. 13.  6.]\n"
          ]
        }
      ],
      "source": [
        "print(np.mean(a, axis=1))\n",
        "print(a.mean(axis=1))"
      ]
    },
    {
      "cell_type": "markdown",
      "metadata": {
        "id": "6SF2VJxzn5Ve"
      },
      "source": [
        "Seperti yang kita lihat :\n",
        "- baris pertama a memiliki mean 1.0,\n",
        "- baris kedua memiliki 2.0, dan seterusnya.\n",
        "\n",
        "axis parameter bekerja dengan cara yang sama dengan fungsi dan metode NumPy lainnya:"
      ]
    },
    {
      "cell_type": "code",
      "execution_count": 572,
      "metadata": {
        "colab": {
          "base_uri": "https://localhost:8080/"
        },
        "id": "GcutEhPZlqaY",
        "outputId": "5b540256-a889-4483-e7be-3178f002e8f4"
      },
      "outputs": [
        {
          "data": {
            "text/plain": [
              "array([4., 3., 1.])"
            ]
          },
          "execution_count": 572,
          "metadata": {},
          "output_type": "execute_result"
        }
      ],
      "source": [
        "np.median(a, axis=0)"
      ]
    },
    {
      "cell_type": "code",
      "execution_count": 573,
      "metadata": {
        "colab": {
          "base_uri": "https://localhost:8080/"
        },
        "id": "UVoVp46KlqDR",
        "outputId": "c0f9e439-800b-4810-8736-d37032d20c14"
      },
      "outputs": [
        {
          "data": {
            "text/plain": [
              "array([1., 2., 4., 8., 1.])"
            ]
          },
          "execution_count": 573,
          "metadata": {},
          "output_type": "execute_result"
        }
      ],
      "source": [
        "np.median(a, axis=1)"
      ]
    },
    {
      "cell_type": "code",
      "execution_count": 574,
      "metadata": {
        "colab": {
          "base_uri": "https://localhost:8080/"
        },
        "id": "uODF8hD8lp1E",
        "outputId": "c523c3fc-d8e7-4729-ee88-b320395f7e12"
      },
      "outputs": [
        {
          "data": {
            "text/plain": [
              "array([ 37.2, 121.2,   1.7])"
            ]
          },
          "execution_count": 574,
          "metadata": {},
          "output_type": "execute_result"
        }
      ],
      "source": [
        "a.var(axis=0, ddof=1)"
      ]
    },
    {
      "cell_type": "code",
      "execution_count": 575,
      "metadata": {
        "colab": {
          "base_uri": "https://localhost:8080/"
        },
        "id": "m8RZjgnXlpmY",
        "outputId": "d64ba92a-021b-4d4c-d260-c27203892259"
      },
      "outputs": [
        {
          "data": {
            "text/plain": [
              "array([  0.,   1.,  13., 151.,  75.])"
            ]
          },
          "execution_count": 575,
          "metadata": {},
          "output_type": "execute_result"
        }
      ],
      "source": [
        "a.var(axis=1, ddof=1)"
      ]
    },
    {
      "cell_type": "markdown",
      "metadata": {
        "id": "EIG0WtzhloPn"
      },
      "source": [
        "Kita mendapatkan medians dan sample variations untuk semua kolom (axis=0)) dan baris (axis=1) dari array a.\n",
        "\n",
        "Ini sangat mirip saat kita bekerja dengan fungsi statistik SciPy. Tetapi ingat bahwa dalam kasus ini, nilai default untuk axis adalah 0:"
      ]
    },
    {
      "cell_type": "code",
      "execution_count": 576,
      "metadata": {
        "colab": {
          "base_uri": "https://localhost:8080/"
        },
        "id": "oUpazuyAliqY",
        "outputId": "9db7531a-6630-4379-a96f-b52c8cd86c2b"
      },
      "outputs": [
        {
          "data": {
            "text/plain": [
              "array([4.        , 3.73719282, 1.51571657])"
            ]
          },
          "execution_count": 576,
          "metadata": {},
          "output_type": "execute_result"
        }
      ],
      "source": [
        "scipy.stats.gmean(a)  # Default: axis=0"
      ]
    },
    {
      "cell_type": "code",
      "execution_count": 577,
      "metadata": {
        "colab": {
          "base_uri": "https://localhost:8080/"
        },
        "id": "L-Am-d6KliUt",
        "outputId": "8a828694-b30f-4e37-9ecf-5ee4bbb07171"
      },
      "outputs": [
        {
          "data": {
            "text/plain": [
              "array([4.        , 3.73719282, 1.51571657])"
            ]
          },
          "execution_count": 577,
          "metadata": {},
          "output_type": "execute_result"
        }
      ],
      "source": [
        "scipy.stats.gmean(a, axis=0)"
      ]
    },
    {
      "cell_type": "markdown",
      "metadata": {
        "id": "__CYxNfJlgNg"
      },
      "source": [
        "- Jika kita `menghilangkan axis atau memberikan axis=0`, kita akan `mendapatkan hasil di semua baris, untuk setiap kolom`. Misalnya, kolom pertama a memiliki geometric mean 4.0, dan seterusnya.\n",
        "- Jika kita `menentukan axis=1`, kita akan `mendapatkan penghitungan di semua kolom, untuk setiap baris` :"
      ]
    },
    {
      "cell_type": "code",
      "execution_count": 578,
      "metadata": {
        "colab": {
          "base_uri": "https://localhost:8080/"
        },
        "id": "Bnt3hDp5ldzU",
        "outputId": "7501c02f-34f3-457e-f036-02284959a864"
      },
      "outputs": [
        {
          "data": {
            "text/plain": [
              "array([1.        , 1.81712059, 4.16016765, 9.52440631, 2.5198421 ])"
            ]
          },
          "execution_count": 578,
          "metadata": {},
          "output_type": "execute_result"
        }
      ],
      "source": [
        " scipy.stats.gmean(a, axis=1)"
      ]
    },
    {
      "cell_type": "markdown",
      "metadata": {
        "id": "9wt9ThQFlbjK"
      },
      "source": [
        "Dalam contoh ini, geometric mean dari :\n",
        "- baris pertama a adalah 1.0.\n",
        "- baris kedua, kira-kira 1.82, dan seterusnya.\n",
        "\n",
        "Jika Anda menginginkan statistik untuk seluruh dataset, maka Anda harus menyediakan axis=None:"
      ]
    },
    {
      "cell_type": "code",
      "execution_count": 579,
      "metadata": {
        "colab": {
          "base_uri": "https://localhost:8080/"
        },
        "id": "_tuUUd2blXzg",
        "outputId": "3686cee7-0c4b-4545-c2ce-63997d5de151"
      },
      "outputs": [
        {
          "data": {
            "text/plain": [
              "2.829705017016332"
            ]
          },
          "execution_count": 579,
          "metadata": {},
          "output_type": "execute_result"
        }
      ],
      "source": [
        "scipy.stats.gmean(a, axis=None)"
      ]
    },
    {
      "cell_type": "markdown",
      "metadata": {
        "id": "u_kJMW-OlWhl"
      },
      "source": [
        "Geometric mean dari semua item dalam array a adalah kira-kira 2.83.\n",
        "\n",
        "Kita bisa mendapatkan statistics summary dengan satu panggilan fungsi untuk data 2D dengan scipy.stats.describe(). Ini berfungsi mirip dengan array 1D, tetapi kita harus berhati-hati dengan axis parameter:"
      ]
    },
    {
      "cell_type": "code",
      "execution_count": 580,
      "metadata": {
        "colab": {
          "base_uri": "https://localhost:8080/"
        },
        "id": "my07L6hzlLIJ",
        "outputId": "c96ef061-9bf5-4f26-ad75-0872a1372d7c"
      },
      "outputs": [
        {
          "data": {
            "text/plain": [
              "DescribeResult(nobs=15, minmax=(1, 27), mean=5.4, variance=53.40000000000001, skewness=2.264965290423389, kurtosis=5.212690982795767)"
            ]
          },
          "execution_count": 580,
          "metadata": {},
          "output_type": "execute_result"
        }
      ],
      "source": [
        "scipy.stats.describe(a, axis=None, ddof=1, bias=False)"
      ]
    },
    {
      "cell_type": "code",
      "execution_count": 581,
      "metadata": {
        "colab": {
          "base_uri": "https://localhost:8080/"
        },
        "id": "DaX6AIkIlKtd",
        "outputId": "08d8feff-84fb-4efc-958d-da59a687ff97"
      },
      "outputs": [
        {
          "data": {
            "text/plain": [
              "DescribeResult(nobs=5, minmax=(array([1, 1, 1]), array([16, 27,  4])), mean=array([6.2, 8.2, 1.8]), variance=array([ 37.2, 121.2,   1.7]), skewness=array([1.32531471, 1.79809454, 1.71439233]), kurtosis=array([1.30376344, 3.14969121, 2.66435986]))"
            ]
          },
          "execution_count": 581,
          "metadata": {},
          "output_type": "execute_result"
        }
      ],
      "source": [
        "scipy.stats.describe(a, ddof=1, bias=False)  # Default: axis=0"
      ]
    },
    {
      "cell_type": "code",
      "execution_count": 582,
      "metadata": {
        "colab": {
          "base_uri": "https://localhost:8080/"
        },
        "id": "ARNyIBKplKZh",
        "outputId": "ae846890-7a3c-4dbf-8efb-1d771d7bf908"
      },
      "outputs": [
        {
          "name": "stderr",
          "output_type": "stream",
          "text": [
            "<ipython-input-582-8d8be4ba9e51>:1: RuntimeWarning: Precision loss occurred in moment calculation due to catastrophic cancellation. This occurs when the data are nearly identical. Results may be unreliable.\n",
            "  scipy.stats.describe(a, axis=1, ddof=1, bias=False)\n",
            "C:\\Users\\User\\AppData\\Local\\Packages\\PythonSoftwareFoundation.Python.3.10_qbz5n2kfra8p0\\LocalCache\\local-packages\\Python310\\site-packages\\scipy\\stats\\_stats_py.py:1559: RuntimeWarning: Precision loss occurred in moment calculation due to catastrophic cancellation. This occurs when the data are nearly identical. Results may be unreliable.\n",
            "  sk = skew(a, axis, bias=bias)\n",
            "C:\\Users\\User\\AppData\\Local\\Packages\\PythonSoftwareFoundation.Python.3.10_qbz5n2kfra8p0\\LocalCache\\local-packages\\Python310\\site-packages\\scipy\\stats\\_stats_py.py:1560: RuntimeWarning: Precision loss occurred in moment calculation due to catastrophic cancellation. This occurs when the data are nearly identical. Results may be unreliable.\n",
            "  kurt = kurtosis(a, axis, bias=bias)\n"
          ]
        },
        {
          "data": {
            "text/plain": [
              "DescribeResult(nobs=3, minmax=(array([1, 1, 2, 4, 1]), array([ 1,  3,  9, 27, 16])), mean=array([ 1.,  2.,  5., 13.,  6.]), variance=array([  0.,   1.,  13., 151.,  75.]), skewness=array([       nan, 0.        , 1.15206964, 1.52787436, 1.73205081]), kurtosis=array([ nan, -1.5, -1.5, -1.5, -1.5]))"
            ]
          },
          "execution_count": 582,
          "metadata": {},
          "output_type": "execute_result"
        }
      ],
      "source": [
        "scipy.stats.describe(a, axis=1, ddof=1, bias=False)"
      ]
    },
    {
      "cell_type": "markdown",
      "metadata": {
        "id": "9I75J5uslBtM"
      },
      "source": [
        "- Saat kita memberikan `axis=None`, kita mendapatkan `summary di semua data`. Sebagian besar hasil adalah skalar.\n",
        "- Jika kita mengatur `axis=0` atau `menghilangkannya`, maka nilai yang dikembalikan adalah `summary untuk setiap kolom`. Jadi, sebagian besar hasil adalah array dengan jumlah item yang sama dengan jumlah kolom.\n",
        "- Jika kita menyetel `axis=1`, maka describe() mengembalikan `summary untuk semua baris`.\n",
        "\n",
        "Kita bisa mendapatkan nilai tertentu dari ringkasan dengan dot notation:"
      ]
    },
    {
      "cell_type": "code",
      "execution_count": 583,
      "metadata": {
        "colab": {
          "base_uri": "https://localhost:8080/"
        },
        "id": "69QCwHuulC1l",
        "outputId": "5fa626c0-41e5-4921-f4b6-b92db29f29ae"
      },
      "outputs": [
        {
          "name": "stderr",
          "output_type": "stream",
          "text": [
            "<ipython-input-583-47abb7cb9338>:1: RuntimeWarning: Precision loss occurred in moment calculation due to catastrophic cancellation. This occurs when the data are nearly identical. Results may be unreliable.\n",
            "  result = scipy.stats.describe(a, axis=1, ddof=1, bias=False)\n"
          ]
        },
        {
          "data": {
            "text/plain": [
              "array([ 1.,  2.,  5., 13.,  6.])"
            ]
          },
          "execution_count": 583,
          "metadata": {},
          "output_type": "execute_result"
        }
      ],
      "source": [
        "result = scipy.stats.describe(a, axis=1, ddof=1, bias=False)\n",
        "result.mean"
      ]
    },
    {
      "cell_type": "markdown",
      "metadata": {
        "id": "i2fWMRHUk9gx"
      },
      "source": [
        "### **DataFrames**\n",
        "Kelas DataFrame adalah salah satu tipe data fundamental Pandas. `DataFrame sangat nyaman digunakan karena memiliki label untuk baris dan kolom`.\n",
        "\n",
        "Gunakan array a dan buat DataFrame:"
      ]
    },
    {
      "cell_type": "code",
      "execution_count": 584,
      "metadata": {
        "id": "q3JzdBwZku4V"
      },
      "outputs": [],
      "source": [
        "row_names = ['first', 'second', 'third', 'fourth', 'fifth']\n",
        "col_names = ['A', 'B', 'C']\n"
      ]
    },
    {
      "cell_type": "code",
      "execution_count": 585,
      "metadata": {
        "colab": {
          "base_uri": "https://localhost:8080/",
          "height": 206
        },
        "id": "z_5_voZ1kyZ7",
        "outputId": "ef26f3ec-19c3-431a-d643-a3b492d90662"
      },
      "outputs": [
        {
          "data": {
            "text/html": [
              "<div>\n",
              "<style scoped>\n",
              "    .dataframe tbody tr th:only-of-type {\n",
              "        vertical-align: middle;\n",
              "    }\n",
              "\n",
              "    .dataframe tbody tr th {\n",
              "        vertical-align: top;\n",
              "    }\n",
              "\n",
              "    .dataframe thead th {\n",
              "        text-align: right;\n",
              "    }\n",
              "</style>\n",
              "<table border=\"1\" class=\"dataframe\">\n",
              "  <thead>\n",
              "    <tr style=\"text-align: right;\">\n",
              "      <th></th>\n",
              "      <th>A</th>\n",
              "      <th>B</th>\n",
              "      <th>C</th>\n",
              "    </tr>\n",
              "  </thead>\n",
              "  <tbody>\n",
              "    <tr>\n",
              "      <th>first</th>\n",
              "      <td>1</td>\n",
              "      <td>1</td>\n",
              "      <td>1</td>\n",
              "    </tr>\n",
              "    <tr>\n",
              "      <th>second</th>\n",
              "      <td>2</td>\n",
              "      <td>3</td>\n",
              "      <td>1</td>\n",
              "    </tr>\n",
              "    <tr>\n",
              "      <th>third</th>\n",
              "      <td>4</td>\n",
              "      <td>9</td>\n",
              "      <td>2</td>\n",
              "    </tr>\n",
              "    <tr>\n",
              "      <th>fourth</th>\n",
              "      <td>8</td>\n",
              "      <td>27</td>\n",
              "      <td>4</td>\n",
              "    </tr>\n",
              "    <tr>\n",
              "      <th>fifth</th>\n",
              "      <td>16</td>\n",
              "      <td>1</td>\n",
              "      <td>1</td>\n",
              "    </tr>\n",
              "  </tbody>\n",
              "</table>\n",
              "</div>"
            ],
            "text/plain": [
              "         A   B  C\n",
              "first    1   1  1\n",
              "second   2   3  1\n",
              "third    4   9  2\n",
              "fourth   8  27  4\n",
              "fifth   16   1  1"
            ]
          },
          "execution_count": 585,
          "metadata": {},
          "output_type": "execute_result"
        }
      ],
      "source": [
        "df = pd.DataFrame(a, index=row_names, columns=col_names)\n",
        "df"
      ]
    },
    {
      "cell_type": "markdown",
      "metadata": {
        "id": "MbkRMUn3ktpm"
      },
      "source": [
        "Dalam praktiknya, nama kolom penting dan harus deskriptif.\n",
        "- Nama baris terkadang ditentukan secara otomatis sebagai 0, 1, dan seterusnya. Kita dapat menentukannya secara eksplisit dengan index parameter, meskipun kita bebas untuk menghilangkan indeks jika kita mau.\n",
        "\n",
        "Metode DataFrame sangat mirip dengan metode Series, meskipun perilakunya berbeda. Jika kita memanggil metode statistics Python tanpa argumen, maka DataFrame akan mengembalikan hasil untuk setiap kolom:"
      ]
    },
    {
      "cell_type": "code",
      "execution_count": 586,
      "metadata": {
        "colab": {
          "base_uri": "https://localhost:8080/"
        },
        "id": "-9oMqvrWkg9Y",
        "outputId": "010d3c46-a139-487f-f30f-7d2ae0c21dde"
      },
      "outputs": [
        {
          "data": {
            "text/plain": [
              "A    6.2\n",
              "B    8.2\n",
              "C    1.8\n",
              "dtype: float64"
            ]
          },
          "execution_count": 586,
          "metadata": {},
          "output_type": "execute_result"
        }
      ],
      "source": [
        "df.mean()"
      ]
    },
    {
      "cell_type": "code",
      "execution_count": 587,
      "metadata": {
        "colab": {
          "base_uri": "https://localhost:8080/"
        },
        "id": "XjQEmcJPkeqw",
        "outputId": "d29fe6aa-ed98-4c06-a142-99292065fcb2"
      },
      "outputs": [
        {
          "data": {
            "text/plain": [
              "A     37.2\n",
              "B    121.2\n",
              "C      1.7\n",
              "dtype: float64"
            ]
          },
          "execution_count": 587,
          "metadata": {},
          "output_type": "execute_result"
        }
      ],
      "source": [
        "df.var()"
      ]
    },
    {
      "cell_type": "markdown",
      "metadata": {
        "id": "2bomBi14kIbc"
      },
      "source": [
        "Apa yang kita dapatkan adalah Series baru yang menyimpan hasil.\n",
        "- Dalam hal ini, Series menyimpan mean dan variance untuk setiap kolom.\n",
        "\n",
        "Jika kita menginginkan hasil untuk setiap baris, maka tentukan parameter axis=1:"
      ]
    },
    {
      "cell_type": "code",
      "execution_count": 588,
      "metadata": {
        "colab": {
          "base_uri": "https://localhost:8080/"
        },
        "id": "g1w-wy2wkREy",
        "outputId": "0f90b34e-94ad-4440-9b92-dcf6000e2781"
      },
      "outputs": [
        {
          "data": {
            "text/plain": [
              "first      1.0\n",
              "second     2.0\n",
              "third      5.0\n",
              "fourth    13.0\n",
              "fifth      6.0\n",
              "dtype: float64"
            ]
          },
          "execution_count": 588,
          "metadata": {},
          "output_type": "execute_result"
        }
      ],
      "source": [
        "df.mean(axis=1)"
      ]
    },
    {
      "cell_type": "code",
      "execution_count": 589,
      "metadata": {
        "colab": {
          "base_uri": "https://localhost:8080/"
        },
        "id": "WAyySUyHkQvw",
        "outputId": "2e62244a-4f11-4069-d336-ef9f4410d080"
      },
      "outputs": [
        {
          "data": {
            "text/plain": [
              "first       0.0\n",
              "second      1.0\n",
              "third      13.0\n",
              "fourth    151.0\n",
              "fifth      75.0\n",
              "dtype: float64"
            ]
          },
          "execution_count": 589,
          "metadata": {},
          "output_type": "execute_result"
        }
      ],
      "source": [
        "df.var(axis=1)"
      ]
    },
    {
      "cell_type": "markdown",
      "metadata": {
        "id": "GdlIIaSQkOab"
      },
      "source": [
        "Hasilnya adalah Series dengan kuantitas yang diinginkan untuk setiap baris. Label 'first', 'second', dan seterusnya mengacu pada baris yang berbeda.\n",
        "\n",
        "Kita dapat mengisolasi setiap kolom DataFrame seperti ini:"
      ]
    },
    {
      "cell_type": "code",
      "execution_count": 590,
      "metadata": {
        "colab": {
          "base_uri": "https://localhost:8080/"
        },
        "id": "9_MWYWDkkKzj",
        "outputId": "a86a1c60-e7c7-433e-cf0e-f1ce8bbfa35d"
      },
      "outputs": [
        {
          "data": {
            "text/plain": [
              "first      1\n",
              "second     2\n",
              "third      4\n",
              "fourth     8\n",
              "fifth     16\n",
              "Name: A, dtype: int32"
            ]
          },
          "execution_count": 590,
          "metadata": {},
          "output_type": "execute_result"
        }
      ],
      "source": [
        "df['A']"
      ]
    },
    {
      "cell_type": "code",
      "execution_count": 591,
      "metadata": {
        "colab": {
          "base_uri": "https://localhost:8080/"
        },
        "id": "qQbPGsdfkEXV",
        "outputId": "7fcb52bf-14b3-4594-ed00-7b792e0e62f7"
      },
      "outputs": [
        {
          "data": {
            "text/plain": [
              "6.2"
            ]
          },
          "execution_count": 591,
          "metadata": {},
          "output_type": "execute_result"
        }
      ],
      "source": [
        "df['A'].mean()"
      ]
    },
    {
      "cell_type": "code",
      "execution_count": 592,
      "metadata": {
        "colab": {
          "base_uri": "https://localhost:8080/"
        },
        "id": "naN8KK_XkEFM",
        "outputId": "ef8d4538-6896-4b75-f3fc-b19d580305c1"
      },
      "outputs": [
        {
          "data": {
            "text/plain": [
              "37.20000000000001"
            ]
          },
          "execution_count": 592,
          "metadata": {},
          "output_type": "execute_result"
        }
      ],
      "source": [
        "df['A'].var()"
      ]
    },
    {
      "cell_type": "markdown",
      "metadata": {
        "id": "GnZFpSkYkBz2"
      },
      "source": [
        "Terkadang, kita mungkin ingin menggunakan DataFrame sebagai array NumPy dan menerapkan beberapa fungsi padanya.\n",
        "\n",
        "Dimungkinkan untuk mendapatkan semua data dari DataFrame dengan `.values` atau `.to_numpy()`:"
      ]
    },
    {
      "cell_type": "code",
      "execution_count": 593,
      "metadata": {
        "colab": {
          "base_uri": "https://localhost:8080/"
        },
        "id": "3hVBiPaPj9Cb",
        "outputId": "67a80bdd-402d-4291-87d6-4aa67d6346a0"
      },
      "outputs": [
        {
          "data": {
            "text/plain": [
              "array([[ 1,  1,  1],\n",
              "       [ 2,  3,  1],\n",
              "       [ 4,  9,  2],\n",
              "       [ 8, 27,  4],\n",
              "       [16,  1,  1]])"
            ]
          },
          "execution_count": 593,
          "metadata": {},
          "output_type": "execute_result"
        }
      ],
      "source": [
        "df.values"
      ]
    },
    {
      "cell_type": "code",
      "execution_count": 594,
      "metadata": {
        "colab": {
          "base_uri": "https://localhost:8080/"
        },
        "id": "zCraF7wFj8uh",
        "outputId": "d44e2874-398a-46ac-f715-9b634b8acdf0"
      },
      "outputs": [
        {
          "data": {
            "text/plain": [
              "array([[ 1,  1,  1],\n",
              "       [ 2,  3,  1],\n",
              "       [ 4,  9,  2],\n",
              "       [ 8, 27,  4],\n",
              "       [16,  1,  1]])"
            ]
          },
          "execution_count": 594,
          "metadata": {},
          "output_type": "execute_result"
        }
      ],
      "source": [
        "df.to_numpy()"
      ]
    },
    {
      "cell_type": "markdown",
      "metadata": {
        "id": "mfc-i5tCj6iR"
      },
      "source": [
        "- df.values dan df.to_numpy() memberi kita array NumPy dengan semua item dari DataFrame tanpa label baris dan kolom.\n",
        "- Perhatikan bahwa df.to_numpy() lebih fleksibel karena kita bisa menentukan tipe data item dan apakah kita ingin menggunakan data yang ada atau menyalinnya.\n",
        "\n",
        "Seperti `Series`, objek DataFrame memiliki metode `.describe()` yang mengembalikan DataFrame lain dengan statistics summary untuk semua kolom:"
      ]
    },
    {
      "cell_type": "code",
      "execution_count": 595,
      "metadata": {
        "colab": {
          "base_uri": "https://localhost:8080/",
          "height": 300
        },
        "id": "oJh35uaJjA6U",
        "outputId": "d2ca03ea-a4e3-4581-ff55-682f5077aead"
      },
      "outputs": [
        {
          "data": {
            "text/html": [
              "<div>\n",
              "<style scoped>\n",
              "    .dataframe tbody tr th:only-of-type {\n",
              "        vertical-align: middle;\n",
              "    }\n",
              "\n",
              "    .dataframe tbody tr th {\n",
              "        vertical-align: top;\n",
              "    }\n",
              "\n",
              "    .dataframe thead th {\n",
              "        text-align: right;\n",
              "    }\n",
              "</style>\n",
              "<table border=\"1\" class=\"dataframe\">\n",
              "  <thead>\n",
              "    <tr style=\"text-align: right;\">\n",
              "      <th></th>\n",
              "      <th>A</th>\n",
              "      <th>B</th>\n",
              "      <th>C</th>\n",
              "    </tr>\n",
              "  </thead>\n",
              "  <tbody>\n",
              "    <tr>\n",
              "      <th>count</th>\n",
              "      <td>5.00000</td>\n",
              "      <td>5.000000</td>\n",
              "      <td>5.00000</td>\n",
              "    </tr>\n",
              "    <tr>\n",
              "      <th>mean</th>\n",
              "      <td>6.20000</td>\n",
              "      <td>8.200000</td>\n",
              "      <td>1.80000</td>\n",
              "    </tr>\n",
              "    <tr>\n",
              "      <th>std</th>\n",
              "      <td>6.09918</td>\n",
              "      <td>11.009087</td>\n",
              "      <td>1.30384</td>\n",
              "    </tr>\n",
              "    <tr>\n",
              "      <th>min</th>\n",
              "      <td>1.00000</td>\n",
              "      <td>1.000000</td>\n",
              "      <td>1.00000</td>\n",
              "    </tr>\n",
              "    <tr>\n",
              "      <th>25%</th>\n",
              "      <td>2.00000</td>\n",
              "      <td>1.000000</td>\n",
              "      <td>1.00000</td>\n",
              "    </tr>\n",
              "    <tr>\n",
              "      <th>50%</th>\n",
              "      <td>4.00000</td>\n",
              "      <td>3.000000</td>\n",
              "      <td>1.00000</td>\n",
              "    </tr>\n",
              "    <tr>\n",
              "      <th>75%</th>\n",
              "      <td>8.00000</td>\n",
              "      <td>9.000000</td>\n",
              "      <td>2.00000</td>\n",
              "    </tr>\n",
              "    <tr>\n",
              "      <th>max</th>\n",
              "      <td>16.00000</td>\n",
              "      <td>27.000000</td>\n",
              "      <td>4.00000</td>\n",
              "    </tr>\n",
              "  </tbody>\n",
              "</table>\n",
              "</div>"
            ],
            "text/plain": [
              "              A          B        C\n",
              "count   5.00000   5.000000  5.00000\n",
              "mean    6.20000   8.200000  1.80000\n",
              "std     6.09918  11.009087  1.30384\n",
              "min     1.00000   1.000000  1.00000\n",
              "25%     2.00000   1.000000  1.00000\n",
              "50%     4.00000   3.000000  1.00000\n",
              "75%     8.00000   9.000000  2.00000\n",
              "max    16.00000  27.000000  4.00000"
            ]
          },
          "execution_count": 595,
          "metadata": {},
          "output_type": "execute_result"
        }
      ],
      "source": [
        "df.describe()"
      ]
    },
    {
      "cell_type": "markdown",
      "metadata": {
        "id": "-Xz98MRmjAhA"
      },
      "source": [
        "Ringkasan tersebut berisi hasil sebagai berikut:\n",
        "\n",
        "* `count`: the number of items in each column\n",
        "* `mean`: the mean of each column\n",
        "* `std`: the standard deviation\n",
        "* `min` and `max`: the minimum and maximum values\n",
        "* `25%, 50%, and 75%`: the percentiles\n",
        "\n",
        "Jika kita ingin objek DataFrame yang dihasilkan berisi persentil lain, kita harus menentukan nilai parameter opsional percentiles.\n",
        "\n",
        "Kita dapat mengakses setiap item summary seperti ini:"
      ]
    },
    {
      "cell_type": "code",
      "execution_count": 596,
      "metadata": {
        "colab": {
          "base_uri": "https://localhost:8080/"
        },
        "id": "BuAnXpaVi_6n",
        "outputId": "d68b1c06-5bdb-42d0-d37b-ed3734864ed5"
      },
      "outputs": [
        {
          "data": {
            "text/plain": [
              "6.2"
            ]
          },
          "execution_count": 596,
          "metadata": {},
          "output_type": "execute_result"
        }
      ],
      "source": [
        "df.describe().at['mean', 'A']"
      ]
    },
    {
      "cell_type": "code",
      "execution_count": 597,
      "metadata": {
        "colab": {
          "base_uri": "https://localhost:8080/"
        },
        "id": "sGaxM7sNjrpE",
        "outputId": "155c20c4-6f4a-46ce-d7e3-6d14087a894e"
      },
      "outputs": [
        {
          "data": {
            "text/plain": [
              "3.0"
            ]
          },
          "execution_count": 597,
          "metadata": {},
          "output_type": "execute_result"
        }
      ],
      "source": [
        "df.describe().at['50%', 'B']"
      ]
    },
    {
      "cell_type": "markdown",
      "metadata": {
        "id": "O5sPKE_Ii_Md"
      },
      "source": [
        "## **VISUALIZING DATA (OPTIONAL)**\n",
        "---"
      ]
    },
    {
      "cell_type": "markdown",
      "metadata": {},
      "source": [
        "Pengenalan Python ke Ilmu Data Siswa dapat melakukan bagian ini di bawah ini di rumah.\n",
        "\n",
        "Selain menghitung jumlah numerik seperti mean, median, atau varians, `Anda dapat menggunakan metode visual untuk menyajikan, mendeskripsikan, dan meringkas data`.\n",
        "\n",
        "Di bagian ini, Anda akan mempelajari cara menyajikan data secara visual menggunakan grafik berikut:\n",
        "- `Box plots`\n",
        "- `Histograms`\n",
        "- `Pie charts`\n",
        "- `Bar charts`\n",
        "- `X-Y plots`\n",
        "- `Heatmaps`\n",
        "\n",
        "matplotlib.pyplot adalah perpustakaan yang sangat nyaman dan banyak digunakan, meskipun itu bukan satu-satunya perpustakaan Python yang tersedia untuk tujuan ini. Anda dapat mengimpornya seperti ini:"
      ]
    },
    {
      "cell_type": "code",
      "execution_count": 598,
      "metadata": {
        "id": "M68oVOeWi95r"
      },
      "outputs": [],
      "source": [
        "import matplotlib.pyplot as plt\n",
        "plt.style.use('ggplot')"
      ]
    },
    {
      "cell_type": "markdown",
      "metadata": {},
      "source": [
        "Sekarang, Anda telah mengimpor matplotlib.pyplot dan siap digunakan.\n",
        "\n",
        "- Pernyataan kedua menetapkan gaya untuk plot Anda dengan memilih warna, lebar garis, dan elemen gaya lainnya. Anda bebas untuk menghilangkan ini jika Anda puas dengan pengaturan gaya default.\n",
        "- Anda akan menggunakan angka pseudo-acak untuk mendapatkan data untuk digunakan. Anda tidak perlu pengetahuan tentang angka acak untuk dapat memahami bagian ini. Anda hanya perlu beberapa nomor arbitrer, dan generator pseudo-acak adalah alat yang mudah untuk mendapatkannya.\n",
        "\n",
        "Modul `np.random` menghasilkan array angka pseudo-acak:\n",
        "- `Nomor yang didistribusikan secara normal` dihasilkan dengan `np.random.randn()`.\n",
        "- `Bilangan bulat yang didistribusikan secara seragam` dihasilkan dengan `np.random.randint().`"
      ]
    },
    {
      "cell_type": "markdown",
      "metadata": {
        "id": "45-C5n9ci7fN"
      },
      "source": [
        "### **BOX PLOTS**"
      ]
    },
    {
      "cell_type": "markdown",
      "metadata": {},
      "source": [
        "Box plot adalah alat yang sangat baik untuk secara visual mewakili statistik deskriptif dari kumpulan data yang diberikan.\n",
        "\n",
        "Hal ini dapat menunjukkan :\n",
        "- `jangkauan`\n",
        "- `jangkauan interkuartil`\n",
        "- `median`\n",
        "- `modus`\n",
        "- `outlier`\n",
        "- `semua kuartil`\n",
        "\n",
        "Pertama, buat beberapa data untuk direpresentasikan dengan plot kotak: "
      ]
    },
    {
      "cell_type": "code",
      "execution_count": 599,
      "metadata": {
        "id": "xiF6bBcAeKf5"
      },
      "outputs": [],
      "source": [
        "np.random.seed(seed=0)  # Any number can be used in place of '0'  # used to generate random numbers in Python\n",
        "x = np.random.randn(1000)\n",
        "y = np.random.randn(100)\n",
        "z = np.random.randn(10)"
      ]
    },
    {
      "cell_type": "markdown",
      "metadata": {
        "id": "0VjybpqJdh-b"
      },
      "source": [
        "Statement 1 :\n",
        "- `sets the seed of the NumPy random number generator with seed(),sehingga mendapatkan hasil yang sama setiap kali Anda menjalankan kode`.\n",
        "- Kita tidak harus sets the seed, tetapi jika Anda tidak menentukan nilai ini, maka Anda akan mendapatkan hasil yang berbeda setiap kali.\n",
        "\n",
        "Statement lain :\n",
        "- Pernyataan lain menghasilkan tiga array NumPy dengan nomor pseudo-acak terdistribusi normal.\n",
        "- x mengacu pada larik dengan 1000 item, y berisi 100 item, dan z berisi 10 item.\n",
        "\n",
        "Sekarang setelah Anda memiliki data untuk dikerjakan, Anda dapat menerapkan .boxplot() untuk mendapatkan plot kotak:"
      ]
    },
    {
      "cell_type": "code",
      "execution_count": 600,
      "metadata": {
        "colab": {
          "base_uri": "https://localhost:8080/",
          "height": 320
        },
        "id": "dzmYh_O2eHvY",
        "outputId": "6447cfa5-2ed2-4f3d-bbed-edbbeeeda853"
      },
      "outputs": [
        {
          "data": {
            "image/png": "[encoded data removed]",
            "text/plain": [
              "<Figure size 432x288 with 1 Axes>"
            ]
          },
          "metadata": {},
          "output_type": "display_data"
        }
      ],
      "source": [
        "fig, ax = plt.subplots()\n",
        "ax.boxplot((x, y, z),\n",
        "           vert=False,\n",
        "           showmeans=True,\n",
        "           meanline=True,\n",
        "           labels=('x', 'y', 'z'),\n",
        "           patch_artist=True,\n",
        "           medianprops={'linewidth': 2, 'color': 'purple'},\n",
        "           meanprops={'linewidth': 2, 'color': 'red'})\n",
        "plt.show()"
      ]
    },
    {
      "cell_type": "markdown",
      "metadata": {
        "id": "MTZdLm4Pdh3y"
      },
      "source": [
        "The parameters of .boxplot() define the following:\n",
        "- `x` adalah data. \n",
        "- `vert` mengatur `orientasi plot ke horizontal ketika False`. Orientasi default adalah vertikal.\n",
        "- `showmeans` menunjukkan `rata-rata data Anda ketika Benar`.\n",
        "- `meanline` mewakili `mean sebagai garis ketika Benar`. Representasi default adalah titik.\n",
        "- `labels`: label data Anda.\n",
        "- `patch_artist` menentukan `cara menggambar grafik`.\n",
        "- `medianprops` menunjukkan `sifat-sifat garis yang mewakili median`.\n",
        "- `meanprops` menunjukkan `sifat-sifat garis atau titik yang mewakili mean`.\n",
        "\n",
        "Kode di atas menghasilkan gambar seperti ini:"
      ]
    },
    {
      "cell_type": "markdown",
      "metadata": {},
      "source": [
        "<img src=https://files.realpython.com/media/py-stats-09.bbe925f1a3e3.png width='700'>"
      ]
    },
    {
      "cell_type": "markdown",
      "metadata": {
        "id": "vpIL-B8Odhyw"
      },
      "source": [
        "Anda dapat melihat tiga plot kotak. Masing-masing sesuai dengan satu set data (x, y, atau z) dan menunjukkan hal berikut:\n",
        "- `Mean` adalah garis putus-putus merah.\n",
        "- `Median` adalah garis ungu.\n",
        "- `Kuartil pertama` adalah tepi kiri persegi panjang biru.\n",
        "- `Kuartil ketiga` adalah tepi kanan persegi panjang biru.\n",
        "- `Jangkauan antarkuartil` adalah panjang persegi panjang biru.\n",
        "- `Rentang` berisi semuanya dari kiri ke kanan.\n",
        "- `Outlier` adalah titik-titik di kiri dan kanan.\n",
        "\n",
        "Plot kotak dapat menampilkan begitu banyak informasi dalam satu gambar!"
      ]
    },
    {
      "cell_type": "markdown",
      "metadata": {},
      "source": [
        "### **HISTOGRAM**"
      ]
    },
    {
      "cell_type": "markdown",
      "metadata": {},
      "source": [
        "Histogram sangat berguna ketika ada sejumlah besar nilai unik dalam kumpulan data.\n",
        "- Histogram membagi nilai dari dataset yang diurutkan ke dalam interval, juga disebut `bin`. Seringkali, semua bin memiliki lebar yang sama, meskipun hal ini tidak harus terjadi.\n",
        "- Nilai batas bawah dan atas bin disebut `tepi bin`.\n",
        "- `Frekuensi` adalah nilai tunggal yang sesuai dengan setiap bin. Ini adalah jumlah elemen dataset dengan nilai di antara tepi bin.\n",
        "\n",
        "Secara konvensi :\n",
        "- `Semua bin kecuali yang paling kanan setengah terbuka`.\n",
        "- Mereka menyertakan nilai yang sama dengan batas bawah\n",
        "- Tetapi mengecualikan nilai yang sama dengan batas atas.\n",
        "- Bin paling kanan ditutup karena mencakup kedua batas.\n",
        "\n",
        "Jika Anda membagi dataset dengan `batas / tepi bin 0, 5, 10, dan 15`, maka ada tiga bin:\n",
        "- Bin pertama dan paling kiri berisi `nilai >= 0 AND < 5`.\n",
        "- Bin kedua berisi `nilai >= 5 AND < 10`.\n",
        "- Bin ketiga dan paling kanan berisi `nilai >= 10 dan <= 15`.\n",
        "\n",
        "Fungsi `np.histogram()` adalah cara mudah untuk mendapatkan data untuk histogram:"
      ]
    },
    {
      "cell_type": "code",
      "execution_count": 601,
      "metadata": {
        "colab": {
          "base_uri": "https://localhost:8080/"
        },
        "id": "M8u90I--MjpF",
        "outputId": "88dbbb8e-d78a-4931-bba3-6311ff56a313"
      },
      "outputs": [
        {
          "data": {
            "text/plain": [
              "array([  9,  20,  70, 146, 217, 239, 160,  86,  38,  15], dtype=int64)"
            ]
          },
          "execution_count": 601,
          "metadata": {},
          "output_type": "execute_result"
        }
      ],
      "source": [
        "hist, bin_edges = np.histogram(x, bins=10)\n",
        "hist \n"
      ]
    },
    {
      "cell_type": "code",
      "execution_count": 602,
      "metadata": {
        "colab": {
          "base_uri": "https://localhost:8080/"
        },
        "id": "dd1q5K_sMrb-",
        "outputId": "6c7ec37f-810b-480f-fa54-8a2e0208e99d"
      },
      "outputs": [
        {
          "data": {
            "text/plain": [
              "array([-3.04614305, -2.46559324, -1.88504342, -1.3044936 , -0.72394379,\n",
              "       -0.14339397,  0.43715585,  1.01770566,  1.59825548,  2.1788053 ,\n",
              "        2.75935511])"
            ]
          },
          "execution_count": 602,
          "metadata": {},
          "output_type": "execute_result"
        }
      ],
      "source": [
        "bin_edges"
      ]
    },
    {
      "cell_type": "markdown",
      "metadata": {
        "id": "EMykZNtoMiaU"
      },
      "source": [
        "Dibutuhkan array dengan data dan jumlah (atau tepi) bin dan mengembalikan dua array NumPy:\n",
        "- `hist` berisi `frekuensi atau jumlah item yang sesuai dengan setiap bin`.\n",
        "- `bin_edges` berisi `tepi atau batas bin`.\n",
        "\n",
        "Apa yang dihitung histogram(), .hist() dapat ditampilkan secara grafis:"
      ]
    },
    {
      "cell_type": "code",
      "execution_count": 603,
      "metadata": {
        "colab": {
          "base_uri": "https://localhost:8080/",
          "height": 286
        },
        "id": "fwEZYQtZd96f",
        "outputId": "f771e7ad-8025-4918-e428-214381516b82"
      },
      "outputs": [
        {
          "data": {
            "image/png": "[encoded data removed]",
            "text/plain": [
              "<Figure size 432x288 with 1 Axes>"
            ]
          },
          "metadata": {},
          "output_type": "display_data"
        }
      ],
      "source": [
        "fig, ax = plt.subplots()\n",
        "ax.hist(x, bin_edges, cumulative=False)\n",
        "ax.set_xlabel('x')\n",
        "ax.set_ylabel('Frequency')\n",
        "plt.show()"
      ]
    },
    {
      "cell_type": "markdown",
      "metadata": {
        "id": "6Bxmp6MsdhvR"
      },
      "source": [
        "- Argumen pertama .hist() adalah urutan dengan data Anda.\n",
        "- Argumen kedua mendefinisikan tepi bin.\n",
        "- Argumen ketiga menonaktifkan opsi untuk membuat histogram dengan nilai kumulatif.\n",
        "\n",
        "Kode di atas menghasilkan gambar seperti ini:\n",
        "\n",
        "<img src='https://files.realpython.com/media/py-stats-10.47c60c3e5c75.png' width='700'>"
      ]
    },
    {
      "cell_type": "markdown",
      "metadata": {
        "id": "U7gVPNEydhrO"
      },
      "source": [
        "Anda dapat melihat tepi bin pada sumbu horizontal dan frekuensi pada sumbu vertikal.\n",
        "\n",
        "Dimungkinkan untuk mendapatkan histogram dengan jumlah item kumulatif jika Anda memberikan argumen kumulatif=True ke .hist():"
      ]
    },
    {
      "cell_type": "code",
      "execution_count": 604,
      "metadata": {
        "colab": {
          "base_uri": "https://localhost:8080/",
          "height": 282
        },
        "id": "StWJxxIZd4Ww",
        "outputId": "a47f613d-262f-48e0-d9b3-143fc9f06552"
      },
      "outputs": [
        {
          "data": {
            "image/png": "[encoded data removed]",
            "text/plain": [
              "<Figure size 432x288 with 1 Axes>"
            ]
          },
          "metadata": {},
          "output_type": "display_data"
        }
      ],
      "source": [
        "fig, ax = plt.subplots()\n",
        "ax.hist(x, bin_edges, cumulative=True)\n",
        "ax.set_xlabel('x')\n",
        "ax.set_ylabel('Frequency')\n",
        "plt.show()"
      ]
    },
    {
      "cell_type": "markdown",
      "metadata": {},
      "source": [
        "Ini menunjukkan histogram dengan nilai kumulatif.\n",
        "- Frekuensi bin pertama dan paling kiri adalah `jumlah item dalam bin ini`.\n",
        "- Frekuensi bin kedua adalah `jumlah dari jumlah item di bin pertama dan kedua`.\n",
        "- Bin lainnya mengikuti pola yang sama.\n",
        "- Frekuensi bin terakhir dan paling kanan adalah `jumlah total item dalam dataset` (dalam hal ini, 1000).\n",
        "\n",
        "Anda juga dapat langsung menggambar histogram dengan pd.Series.hist() menggunakan matplotlib di latar belakang."
      ]
    },
    {
      "cell_type": "markdown",
      "metadata": {
        "id": "swrhToFXdhmY"
      },
      "source": [
        "### **PIE CHARTS**"
      ]
    },
    {
      "cell_type": "markdown",
      "metadata": {},
      "source": [
        "- Diagram lingkaran mewakili data dengan sejumlah kecil label dan frekuensi relatif yang diberikan. Mereka bekerja dengan baik bahkan dengan label yang tidak dapat dipesan (seperti data nominal).\n",
        "- Diagram lingkaran adalah lingkaran yang dibagi menjadi beberapa bagian.\n",
        "- Setiap irisan sesuai dengan satu label berbeda dari dataset dan memiliki luas yang sebanding dengan frekuensi relatif yang terkait dengan label tersebut.\n",
        "\n",
        "Mari kita definisikan data yang terkait dengan tiga label:"
      ]
    },
    {
      "cell_type": "code",
      "execution_count": 605,
      "metadata": {
        "id": "0SWTiBNwdvfk"
      },
      "outputs": [],
      "source": [
        "# Now, create a pie chart with .pie():\n",
        "x, y, z = 128, 256, 1024"
      ]
    },
    {
      "cell_type": "code",
      "execution_count": 606,
      "metadata": {
        "colab": {
          "base_uri": "https://localhost:8080/",
          "height": 248
        },
        "id": "BhzlEfzKdsvw",
        "outputId": "65ab225a-91f2-477d-ef95-dbcb1e4a77c6"
      },
      "outputs": [
        {
          "data": {
            "image/png": "[encoded data removed]",
            "text/plain": [
              "<Figure size 432x288 with 1 Axes>"
            ]
          },
          "metadata": {},
          "output_type": "display_data"
        }
      ],
      "source": [
        "fig, ax = plt.subplots()\n",
        "ax.pie((x, y, z),\n",
        "       labels=('x', 'y', 'z'),\n",
        "       autopct='%1.1f%%')\n",
        "plt.show()"
      ]
    },
    {
      "cell_type": "markdown",
      "metadata": {
        "id": "GdkfQHGOdhis"
      },
      "source": [
        "- The first argument of .pie() is your data\n",
        "- The second is the sequence of the corresponding labels. `autopct` defines the format of the relative frequencies shown on the figure.\n",
        "\n",
        "You’ll get a figure that looks like this:\n",
        "- Pie Charts menunjukkan :\n",
        "   - x sebagai bagian terkecil dari lingkaran\n",
        "   - y sebagai bagian terbesar berikutnya\n",
        "   - z sebagai bagian terbesar.\n",
        "- Persentase menunjukkan ukuran relatif dari setiap nilai dibandingkan dengan jumlah mereka."
      ]
    },
    {
      "cell_type": "markdown",
      "metadata": {
        "id": "xlEwE-37dhSa"
      },
      "source": [
        "### **BAR CHARTS**"
      ]
    },
    {
      "cell_type": "markdown",
      "metadata": {},
      "source": [
        "- Bagan batang juga `menggambarkan data yang sesuai dengan label yang diberikan atau nilai numerik diskrit`. Mereka dapat menunjukkan pasangan data dari dua dataset.\n",
        "- Item dari satu set adalah `label`, sedangkan item yang sesuai dari yang lain adalah `frekuensinya`.\n",
        "- Secara opsional, mereka juga dapat menunjukkan kesalahan yang terkait dengan frekuensi.\n",
        "- Diagram batang menunjukkan persegi panjang paralel yang disebut batang.\n",
        "- Setiap batang sesuai dengan satu label dan memiliki tinggi yang sebanding dengan frekuensi atau frekuensi relatif labelnya.\n",
        "\n",
        "Mari kita buat tiga set data, masing-masing dengan 21 item:"
      ]
    },
    {
      "cell_type": "code",
      "execution_count": 607,
      "metadata": {
        "id": "1tlyeVUPM7F8"
      },
      "outputs": [],
      "source": [
        "x = np.arange(21)\n",
        "y = np.random.randint(21, size=21)\n",
        "err = np.random.randn(21)"
      ]
    },
    {
      "cell_type": "markdown",
      "metadata": {
        "id": "D5p6TKE3M5wV"
      },
      "source": [
        "- Dengan np.arange(20) kita mendapatkan `x`, atau `larik bilangan bulat berurutan dari 0 hingga 20`. Anda akan menggunakan ini untuk mewakili label.\n",
        "- `y` adalah `larik bilangan bulat acak terdistribusi seragam`, `juga antara 0 dan 20`. Larik ini akan mewakili frekuensi.\n",
        "- `err` berisi `angka floating-point terdistribusi normal`, yang merupakan kesalahan. Nilai-nilai ini opsional.\n",
        "\n",
        "Kita membuat diagram batang dengan `.bar() jika Anda menginginkan batang vertikal` atau `.barh() jika Anda ingin batang horizontal`:"
      ]
    },
    {
      "cell_type": "code",
      "execution_count": 608,
      "metadata": {
        "colab": {
          "base_uri": "https://localhost:8080/",
          "height": 282
        },
        "id": "-xI5hb7xdkVd",
        "outputId": "5d5855c4-4f2d-4420-fa3e-6f98c2b9fc39"
      },
      "outputs": [
        {
          "ename": "ValueError",
          "evalue": "'yerr' must not contain negative values",
          "output_type": "error",
          "traceback": [
            "\u001b[1;31m---------------------------------------------------------------------------\u001b[0m",
            "\u001b[1;31mValueError\u001b[0m                                Traceback (most recent call last)",
            "Cell \u001b[1;32mIn [608], line 2\u001b[0m\n\u001b[0;32m      1\u001b[0m fig, ax \u001b[39m=\u001b[39m plt\u001b[39m.\u001b[39msubplots()\n\u001b[1;32m----> 2\u001b[0m ax\u001b[39m.\u001b[39;49mbar(x, y, yerr\u001b[39m=\u001b[39;49merr)\n\u001b[0;32m      3\u001b[0m ax\u001b[39m.\u001b[39mset_xlabel(\u001b[39m'\u001b[39m\u001b[39mx\u001b[39m\u001b[39m'\u001b[39m)\n\u001b[0;32m      4\u001b[0m ax\u001b[39m.\u001b[39mset_ylabel(\u001b[39m'\u001b[39m\u001b[39my\u001b[39m\u001b[39m'\u001b[39m)\n",
            "File \u001b[1;32m~\\AppData\\Local\\Packages\\PythonSoftwareFoundation.Python.3.10_qbz5n2kfra8p0\\LocalCache\\local-packages\\Python310\\site-packages\\matplotlib\\__init__.py:1423\u001b[0m, in \u001b[0;36m_preprocess_data.<locals>.inner\u001b[1;34m(ax, data, *args, **kwargs)\u001b[0m\n\u001b[0;32m   1420\u001b[0m \u001b[39m@functools\u001b[39m\u001b[39m.\u001b[39mwraps(func)\n\u001b[0;32m   1421\u001b[0m \u001b[39mdef\u001b[39;00m \u001b[39minner\u001b[39m(ax, \u001b[39m*\u001b[39margs, data\u001b[39m=\u001b[39m\u001b[39mNone\u001b[39;00m, \u001b[39m*\u001b[39m\u001b[39m*\u001b[39mkwargs):\n\u001b[0;32m   1422\u001b[0m     \u001b[39mif\u001b[39;00m data \u001b[39mis\u001b[39;00m \u001b[39mNone\u001b[39;00m:\n\u001b[1;32m-> 1423\u001b[0m         \u001b[39mreturn\u001b[39;00m func(ax, \u001b[39m*\u001b[39m\u001b[39mmap\u001b[39m(sanitize_sequence, args), \u001b[39m*\u001b[39m\u001b[39m*\u001b[39mkwargs)\n\u001b[0;32m   1425\u001b[0m     bound \u001b[39m=\u001b[39m new_sig\u001b[39m.\u001b[39mbind(ax, \u001b[39m*\u001b[39margs, \u001b[39m*\u001b[39m\u001b[39m*\u001b[39mkwargs)\n\u001b[0;32m   1426\u001b[0m     auto_label \u001b[39m=\u001b[39m (bound\u001b[39m.\u001b[39marguments\u001b[39m.\u001b[39mget(label_namer)\n\u001b[0;32m   1427\u001b[0m                   \u001b[39mor\u001b[39;00m bound\u001b[39m.\u001b[39mkwargs\u001b[39m.\u001b[39mget(label_namer))\n",
            "File \u001b[1;32m~\\AppData\\Local\\Packages\\PythonSoftwareFoundation.Python.3.10_qbz5n2kfra8p0\\LocalCache\\local-packages\\Python310\\site-packages\\matplotlib\\axes\\_axes.py:2484\u001b[0m, in \u001b[0;36mAxes.bar\u001b[1;34m(self, x, height, width, bottom, align, **kwargs)\u001b[0m\n\u001b[0;32m   2480\u001b[0m         ey \u001b[39m=\u001b[39m [b \u001b[39m+\u001b[39m \u001b[39m0.5\u001b[39m \u001b[39m*\u001b[39m h \u001b[39mfor\u001b[39;00m b, h \u001b[39min\u001b[39;00m \u001b[39mzip\u001b[39m(bottom, height)]\n\u001b[0;32m   2482\u001b[0m     error_kw\u001b[39m.\u001b[39msetdefault(\u001b[39m\"\u001b[39m\u001b[39mlabel\u001b[39m\u001b[39m\"\u001b[39m, \u001b[39m'\u001b[39m\u001b[39m_nolegend_\u001b[39m\u001b[39m'\u001b[39m)\n\u001b[1;32m-> 2484\u001b[0m     errorbar \u001b[39m=\u001b[39m \u001b[39mself\u001b[39m\u001b[39m.\u001b[39merrorbar(ex, ey,\n\u001b[0;32m   2485\u001b[0m                              yerr\u001b[39m=\u001b[39myerr, xerr\u001b[39m=\u001b[39mxerr,\n\u001b[0;32m   2486\u001b[0m                              fmt\u001b[39m=\u001b[39m\u001b[39m'\u001b[39m\u001b[39mnone\u001b[39m\u001b[39m'\u001b[39m, \u001b[39m*\u001b[39m\u001b[39m*\u001b[39merror_kw)\n\u001b[0;32m   2487\u001b[0m \u001b[39melse\u001b[39;00m:\n\u001b[0;32m   2488\u001b[0m     errorbar \u001b[39m=\u001b[39m \u001b[39mNone\u001b[39;00m\n",
            "File \u001b[1;32m~\\AppData\\Local\\Packages\\PythonSoftwareFoundation.Python.3.10_qbz5n2kfra8p0\\LocalCache\\local-packages\\Python310\\site-packages\\matplotlib\\__init__.py:1423\u001b[0m, in \u001b[0;36m_preprocess_data.<locals>.inner\u001b[1;34m(ax, data, *args, **kwargs)\u001b[0m\n\u001b[0;32m   1420\u001b[0m \u001b[39m@functools\u001b[39m\u001b[39m.\u001b[39mwraps(func)\n\u001b[0;32m   1421\u001b[0m \u001b[39mdef\u001b[39;00m \u001b[39minner\u001b[39m(ax, \u001b[39m*\u001b[39margs, data\u001b[39m=\u001b[39m\u001b[39mNone\u001b[39;00m, \u001b[39m*\u001b[39m\u001b[39m*\u001b[39mkwargs):\n\u001b[0;32m   1422\u001b[0m     \u001b[39mif\u001b[39;00m data \u001b[39mis\u001b[39;00m \u001b[39mNone\u001b[39;00m:\n\u001b[1;32m-> 1423\u001b[0m         \u001b[39mreturn\u001b[39;00m func(ax, \u001b[39m*\u001b[39m\u001b[39mmap\u001b[39m(sanitize_sequence, args), \u001b[39m*\u001b[39m\u001b[39m*\u001b[39mkwargs)\n\u001b[0;32m   1425\u001b[0m     bound \u001b[39m=\u001b[39m new_sig\u001b[39m.\u001b[39mbind(ax, \u001b[39m*\u001b[39margs, \u001b[39m*\u001b[39m\u001b[39m*\u001b[39mkwargs)\n\u001b[0;32m   1426\u001b[0m     auto_label \u001b[39m=\u001b[39m (bound\u001b[39m.\u001b[39marguments\u001b[39m.\u001b[39mget(label_namer)\n\u001b[0;32m   1427\u001b[0m                   \u001b[39mor\u001b[39;00m bound\u001b[39m.\u001b[39mkwargs\u001b[39m.\u001b[39mget(label_namer))\n",
            "File \u001b[1;32m~\\AppData\\Local\\Packages\\PythonSoftwareFoundation.Python.3.10_qbz5n2kfra8p0\\LocalCache\\local-packages\\Python310\\site-packages\\matplotlib\\axes\\_axes.py:3595\u001b[0m, in \u001b[0;36mAxes.errorbar\u001b[1;34m(self, x, y, yerr, xerr, fmt, ecolor, elinewidth, capsize, barsabove, lolims, uplims, xlolims, xuplims, errorevery, capthick, **kwargs)\u001b[0m\n\u001b[0;32m   3592\u001b[0m res \u001b[39m=\u001b[39m np\u001b[39m.\u001b[39mzeros(err\u001b[39m.\u001b[39mshape, dtype\u001b[39m=\u001b[39m\u001b[39mbool\u001b[39m)  \u001b[39m# Default in case of nan\u001b[39;00m\n\u001b[0;32m   3593\u001b[0m \u001b[39mif\u001b[39;00m np\u001b[39m.\u001b[39many(np\u001b[39m.\u001b[39mless(err, \u001b[39m-\u001b[39merr, out\u001b[39m=\u001b[39mres, where\u001b[39m=\u001b[39m(err \u001b[39m==\u001b[39m err))):\n\u001b[0;32m   3594\u001b[0m     \u001b[39m# like err<0, but also works for timedelta and nan.\u001b[39;00m\n\u001b[1;32m-> 3595\u001b[0m     \u001b[39mraise\u001b[39;00m \u001b[39mValueError\u001b[39;00m(\n\u001b[0;32m   3596\u001b[0m         \u001b[39mf\u001b[39m\u001b[39m\"\u001b[39m\u001b[39m'\u001b[39m\u001b[39m{\u001b[39;00mdep_axis\u001b[39m}\u001b[39;00m\u001b[39merr\u001b[39m\u001b[39m'\u001b[39m\u001b[39m must not contain negative values\u001b[39m\u001b[39m\"\u001b[39m)\n\u001b[0;32m   3597\u001b[0m \u001b[39m# This is like\u001b[39;00m\n\u001b[0;32m   3598\u001b[0m \u001b[39m#     elow, ehigh = np.broadcast_to(...)\u001b[39;00m\n\u001b[0;32m   3599\u001b[0m \u001b[39m#     return dep - elow * ~lolims, dep + ehigh * ~uplims\u001b[39;00m\n\u001b[0;32m   3600\u001b[0m \u001b[39m# except that broadcast_to would strip units.\u001b[39;00m\n\u001b[0;32m   3601\u001b[0m low, high \u001b[39m=\u001b[39m dep \u001b[39m+\u001b[39m np\u001b[39m.\u001b[39mrow_stack([\u001b[39m-\u001b[39m(\u001b[39m1\u001b[39m \u001b[39m-\u001b[39m lolims), \u001b[39m1\u001b[39m \u001b[39m-\u001b[39m uplims]) \u001b[39m*\u001b[39m err\n",
            "\u001b[1;31mValueError\u001b[0m: 'yerr' must not contain negative values"
          ]
        },
        {
          "data": {
            "image/png": "[encoded data removed]",
            "text/plain": [
              "<Figure size 432x288 with 1 Axes>"
            ]
          },
          "metadata": {},
          "output_type": "display_data"
        }
      ],
      "source": [
        "fig, ax = plt.subplots()\n",
        "ax.bar(x, y, yerr=err)\n",
        "ax.set_xlabel('x')\n",
        "ax.set_ylabel('y')\n",
        "plt.show()"
      ]
    },
    {
      "cell_type": "markdown",
      "metadata": {
        "id": "EwZdTXCidEqm"
      },
      "source": [
        "- Ketinggian batang merah sesuai dengan frekuensi y\n",
        "- panjang garis hitam menunjukkan kesalahan err.\n",
        "- Jika Anda tidak ingin menyertakan kesalahan, hilangkan parameter yerr dari .bar()."
      ]
    },
    {
      "cell_type": "code",
      "execution_count": null,
      "metadata": {},
      "outputs": [
        {
          "data": {
            "image/png": "[encoded data removed]",
            "text/plain": [
              "<Figure size 432x288 with 1 Axes>"
            ]
          },
          "metadata": {},
          "output_type": "display_data"
        }
      ],
      "source": [
        "fig, ax = plt.subplots()\n",
        "ax.bar(x, y, err)\n",
        "ax.set_xlabel('x')\n",
        "ax.set_ylabel('y')\n",
        "plt.show()"
      ]
    },
    {
      "cell_type": "markdown",
      "metadata": {},
      "source": [
        "### **PLOT X-Y**"
      ]
    },
    {
      "cell_type": "markdown",
      "metadata": {},
      "source": [
        "Plot xy atau plot sebar mewakili pasangan data dari dua dataset.\n",
        "- Sumbu x horizontal menunjukkan nilai dari himpunan x\n",
        "- Sumbu y vertikal menunjukkan nilai yang sesuai dari himpunan y\n",
        "- Anda dapat secara opsional memasukkan garis regresi dan koefisien korelasi.\n",
        "\n",
        "Mari buat dua dataset dan lakukan regresi linier dengan `scipy.stats.linregress()`:"
      ]
    },
    {
      "cell_type": "code",
      "execution_count": null,
      "metadata": {
        "colab": {
          "base_uri": "https://localhost:8080/"
        },
        "id": "apoyAiTGNOQZ",
        "outputId": "f09e0e52-6c39-435a-b16a-2fa957d10e8f"
      },
      "outputs": [
        {
          "name": "stdout",
          "output_type": "stream",
          "text": [
            "Regression line: y=5.49+2.02x, r=0.99\n"
          ]
        }
      ],
      "source": [
        "x = np.arange(21)\n",
        "y = 5 + 2 * x + 2 * np.random.randn(21)\n",
        "slope, intercept, r, *__ = scipy.stats.linregress(x, y)\n",
        "line = f'Regression line: y={intercept:.2f}+{slope:.2f}x, r={r:.2f}'\n",
        "print(line)"
      ]
    },
    {
      "cell_type": "markdown",
      "metadata": {
        "id": "aXSMB5qQdFk8"
      },
      "source": [
        "Dataset :\n",
        "- x  array dengan bilangan bulat dari 0 hingga 20.\n",
        "- y dihitung sebagai fungsi linier dari x yang terdistorsi dengan beberapa random noise.\n",
        "\n",
        "linregress mengembalikan beberapa nilai. Anda akan membutuhkan kemiringan dan intersept dari garis regresi, serta koefisien korelasi r. Kemudian Anda dapat menerapkan .plot() untuk mendapatkan plot xy:"
      ]
    },
    {
      "cell_type": "code",
      "execution_count": null,
      "metadata": {
        "colab": {
          "base_uri": "https://localhost:8080/",
          "height": 282
        },
        "id": "rOEfib5TdZYr",
        "outputId": "c70ca477-93ef-44ce-c3c6-a8869416405b"
      },
      "outputs": [
        {
          "data": {
            "image/png": "[encoded data removed]",
            "text/plain": [
              "<Figure size 432x288 with 1 Axes>"
            ]
          },
          "metadata": {},
          "output_type": "display_data"
        }
      ],
      "source": [
        "fig, ax = plt.subplots()\n",
        "ax.plot(x, y, linewidth=0, marker='s', label='Data points')\n",
        "ax.plot(x, intercept + slope * x, label=line)\n",
        "ax.set_xlabel('x')\n",
        "ax.set_ylabel('y')\n",
        "ax.legend(facecolor='white')\n",
        "plt.show()"
      ]
    },
    {
      "cell_type": "markdown",
      "metadata": {
        "id": "52NB3UR-dF75"
      },
      "source": [
        "- Titik data (pasangan xy) sebagai kotak merah\n",
        "- Garis regresi biru."
      ]
    },
    {
      "cell_type": "markdown",
      "metadata": {},
      "source": [
        "### **HEATMAPS**"
      ]
    },
    {
      "cell_type": "markdown",
      "metadata": {},
      "source": [
        "- Heatmaps dapat digunakan `untuk menampilkan matriks secara visual`.\n",
        "- `Warna mewakili angka atau elemen matriks`.\n",
        "- `Heatmaps` sangat berguna `untuk menggambarkan matriks kovarians dan korelasi`.\n",
        "\n",
        "Anda dapat membuat Heatmaps `untuk matriks kovarians` dengan `.imshow()`:"
      ]
    },
    {
      "cell_type": "code",
      "execution_count": null,
      "metadata": {
        "colab": {
          "base_uri": "https://localhost:8080/",
          "height": 265
        },
        "id": "uiTL2HsXdRd3",
        "outputId": "672a09bd-ab86-45ce-e65e-76be465edf15"
      },
      "outputs": [
        {
          "data": {
            "image/png": "[encoded data removed]",
            "text/plain": [
              "<Figure size 432x288 with 1 Axes>"
            ]
          },
          "metadata": {},
          "output_type": "display_data"
        }
      ],
      "source": [
        "matrix = np.cov(x, y).round(decimals=2)\n",
        "\n",
        "fig, ax = plt.subplots()\n",
        "ax.imshow(matrix)\n",
        "ax.grid(False)\n",
        "ax.xaxis.set(ticks=(0, 1), ticklabels=('x', 'y')) # ?\n",
        "ax.yaxis.set(ticks=(0, 1), ticklabels=('x', 'y'))\n",
        "ax.set_ylim(1.5, -0.5)\n",
        "\n",
        "for i in range(2):    \n",
        "  for j in range(2):        \n",
        "    ax.text(j, i, matrix[i, j], ha='center', va='center', color='w')\n",
        "    \n",
        "plt.show()"
      ]
    },
    {
      "cell_type": "markdown",
      "metadata": {
        "id": "qvPwjgvCdSyi"
      },
      "source": [
        "Here, the heatmap berisi :\n",
        "- label 'x' dan 'y'\n",
        "- angka-angka dari matriks kovarians.\n",
        "\n",
        "Anda akan mendapatkan angka seperti ini:\n",
        "\n",
        "<img src='https://files.realpython.com/media/py-stats-15.432905d1b05a.png' width='300'>"
      ]
    },
    {
      "cell_type": "markdown",
      "metadata": {
        "id": "12_cWuILdGlx"
      },
      "source": [
        "- Kotak kuning mewakili `elemen terbesar dari matriks 130.34`\n",
        "- Kotak ungu sesuai dengan `elemen terkecil 38.5`\n",
        "- Kotak biru di antaranya terkait dengan `nilai 69,9`\n",
        "\n",
        "Anda dapat memperoleh `Heatmaps untuk matriks koefisien korelasi` mengikuti logika yang sama:"
      ]
    },
    {
      "cell_type": "code",
      "execution_count": null,
      "metadata": {
        "colab": {
          "base_uri": "https://localhost:8080/",
          "height": 265
        },
        "id": "w89JOZ_ndHOh",
        "outputId": "54362230-19ec-415a-f3c4-221d08a4fd7b"
      },
      "outputs": [
        {
          "data": {
            "image/png": "[encoded data removed]",
            "text/plain": [
              "<Figure size 432x288 with 1 Axes>"
            ]
          },
          "metadata": {},
          "output_type": "display_data"
        }
      ],
      "source": [
        "matrix = np.corrcoef(x, y).round(decimals=2)\n",
        "\n",
        "fig, ax = plt.subplots()\n",
        "ax.imshow(matrix)\n",
        "ax.grid(False)\n",
        "ax.xaxis.set(ticks=(0, 1), ticklabels=('x', 'y'))\n",
        "ax.yaxis.set(ticks=(0, 1), ticklabels=('x', 'y'))\n",
        "ax.set_ylim(1.5, -0.5)\n",
        "\n",
        "for i in range(2):    \n",
        "  for j in range(2):        \n",
        "    ax.text(j, i, matrix[i, j], ha='center', va='center', color='w')\n",
        "    \n",
        "plt.show()"
      ]
    },
    {
      "cell_type": "markdown",
      "metadata": {
        "id": "Ka7fAXlHdH7l"
      },
      "source": [
        "- The yellow color represents the value 1.0\n",
        "- The purple color shows 0.99"
      ]
    },
    {
      "cell_type": "markdown",
      "metadata": {},
      "source": [
        "#"
      ]
    },
    {
      "cell_type": "markdown",
      "metadata": {},
      "source": [
        "## **LATIHAN**\n",
        "---"
      ]
    },
    {
      "cell_type": "code",
      "execution_count": null,
      "metadata": {
        "id": "cUpkJjfbgguo"
      },
      "outputs": [],
      "source": [
        "import random \n",
        "import pandas as pd \n",
        "import seaborn as sns \n",
        "import matplotlib.pyplot as plt"
      ]
    },
    {
      "cell_type": "code",
      "execution_count": null,
      "metadata": {},
      "outputs": [],
      "source": [
        "random.seed(101)\n",
        "data_gaji =[int(random.gauss(5000, 1000)) for num in range(1000)]   # used to return a random floating point number with gaussian distribution\n",
        "dfGaji = pd.DataFrame(data_gaji, columns = ['Gaji ($)'])"
      ]
    },
    {
      "cell_type": "code",
      "execution_count": null,
      "metadata": {},
      "outputs": [
        {
          "data": {
            "text/plain": [
              "(1000, 1)"
            ]
          },
          "execution_count": 1255,
          "metadata": {},
          "output_type": "execute_result"
        }
      ],
      "source": [
        "dfGaji.shape"
      ]
    },
    {
      "cell_type": "code",
      "execution_count": null,
      "metadata": {
        "colab": {
          "base_uri": "https://localhost:8080/",
          "height": 200
        },
        "id": "v9eKBTakghVq",
        "outputId": "f5cdefcd-6697-43ca-a23f-cee8ef704a31"
      },
      "outputs": [
        {
          "data": {
            "text/html": [
              "<div>\n",
              "<style scoped>\n",
              "    .dataframe tbody tr th:only-of-type {\n",
              "        vertical-align: middle;\n",
              "    }\n",
              "\n",
              "    .dataframe tbody tr th {\n",
              "        vertical-align: top;\n",
              "    }\n",
              "\n",
              "    .dataframe thead th {\n",
              "        text-align: right;\n",
              "    }\n",
              "</style>\n",
              "<table border=\"1\" class=\"dataframe\">\n",
              "  <thead>\n",
              "    <tr style=\"text-align: right;\">\n",
              "      <th></th>\n",
              "      <th>Gaji ($)</th>\n",
              "    </tr>\n",
              "  </thead>\n",
              "  <tbody>\n",
              "    <tr>\n",
              "      <th>0</th>\n",
              "      <td>4425</td>\n",
              "    </tr>\n",
              "    <tr>\n",
              "      <th>1</th>\n",
              "      <td>4678</td>\n",
              "    </tr>\n",
              "    <tr>\n",
              "      <th>2</th>\n",
              "      <td>7216</td>\n",
              "    </tr>\n",
              "    <tr>\n",
              "      <th>3</th>\n",
              "      <td>4508</td>\n",
              "    </tr>\n",
              "    <tr>\n",
              "      <th>4</th>\n",
              "      <td>3555</td>\n",
              "    </tr>\n",
              "  </tbody>\n",
              "</table>\n",
              "</div>"
            ],
            "text/plain": [
              "   Gaji ($)\n",
              "0      4425\n",
              "1      4678\n",
              "2      7216\n",
              "3      4508\n",
              "4      3555"
            ]
          },
          "execution_count": 1249,
          "metadata": {},
          "output_type": "execute_result"
        }
      ],
      "source": [
        "dfGaji.head()"
      ]
    },
    {
      "cell_type": "code",
      "execution_count": null,
      "metadata": {
        "colab": {
          "base_uri": "https://localhost:8080/",
          "height": 290
        },
        "id": "oM9ixe9HgnLO",
        "outputId": "4f57f7b2-8daa-4f78-b703-d85ef9433c95"
      },
      "outputs": [
        {
          "data": {
            "text/html": [
              "<div>\n",
              "<style scoped>\n",
              "    .dataframe tbody tr th:only-of-type {\n",
              "        vertical-align: middle;\n",
              "    }\n",
              "\n",
              "    .dataframe tbody tr th {\n",
              "        vertical-align: top;\n",
              "    }\n",
              "\n",
              "    .dataframe thead th {\n",
              "        text-align: right;\n",
              "    }\n",
              "</style>\n",
              "<table border=\"1\" class=\"dataframe\">\n",
              "  <thead>\n",
              "    <tr style=\"text-align: right;\">\n",
              "      <th></th>\n",
              "      <th>Gaji ($)</th>\n",
              "    </tr>\n",
              "  </thead>\n",
              "  <tbody>\n",
              "    <tr>\n",
              "      <th>count</th>\n",
              "      <td>1000.000000</td>\n",
              "    </tr>\n",
              "    <tr>\n",
              "      <th>mean</th>\n",
              "      <td>5024.404000</td>\n",
              "    </tr>\n",
              "    <tr>\n",
              "      <th>std</th>\n",
              "      <td>1034.981682</td>\n",
              "    </tr>\n",
              "    <tr>\n",
              "      <th>min</th>\n",
              "      <td>1573.000000</td>\n",
              "    </tr>\n",
              "    <tr>\n",
              "      <th>25%</th>\n",
              "      <td>4338.750000</td>\n",
              "    </tr>\n",
              "    <tr>\n",
              "      <th>50%</th>\n",
              "      <td>5060.000000</td>\n",
              "    </tr>\n",
              "    <tr>\n",
              "      <th>75%</th>\n",
              "      <td>5765.250000</td>\n",
              "    </tr>\n",
              "    <tr>\n",
              "      <th>max</th>\n",
              "      <td>8719.000000</td>\n",
              "    </tr>\n",
              "  </tbody>\n",
              "</table>\n",
              "</div>"
            ],
            "text/plain": [
              "          Gaji ($)\n",
              "count  1000.000000\n",
              "mean   5024.404000\n",
              "std    1034.981682\n",
              "min    1573.000000\n",
              "25%    4338.750000\n",
              "50%    5060.000000\n",
              "75%    5765.250000\n",
              "max    8719.000000"
            ]
          },
          "execution_count": 1250,
          "metadata": {},
          "output_type": "execute_result"
        }
      ],
      "source": [
        "dfGaji.describe()\n"
      ]
    },
    {
      "cell_type": "code",
      "execution_count": null,
      "metadata": {
        "colab": {
          "base_uri": "https://localhost:8080/",
          "height": 572
        },
        "id": "A4e_mK7wgoke",
        "outputId": "81e22b2e-7021-40a3-c5a5-f3b119a3a729"
      },
      "outputs": [
        {
          "data": {
            "text/plain": [
              "Text(1573, 0.2, 'Outlier')"
            ]
          },
          "execution_count": 1257,
          "metadata": {},
          "output_type": "execute_result"
        },
        {
          "data": {
            "image/png": "[encoded data removed]",
            "text/plain": [
              "<Figure size 576x576 with 1 Axes>"
            ]
          },
          "metadata": {},
          "output_type": "display_data"
        }
      ],
      "source": [
        "plt.figure(figsize = (8,8))\n",
        "sns.boxplot(data_gaji)\n",
        "\n",
        "plt.title('Boxplot data gaji', fontsize = 20)\n",
        "plt.annotate('Q1', (np.percentile(data_gaji, 25), 0.4),\n",
        "             xytext = (np.percentile(data_gaji, 25), 0.5),\n",
        "             arrowprops = dict(facecolor = 'black'),\n",
        "             fontsize = 12 )\n",
        "\n",
        "plt.annotate('Q2', (np.percentile(data_gaji, 50), 0.4),\n",
        "             xytext = (np.percentile(data_gaji, 50), 0.5),\n",
        "             arrowprops = dict(facecolor = 'black'), \n",
        "             fontsize = 12 )\n",
        "\n",
        "plt.annotate('Q3', (np.percentile(data_gaji, 75), 0.4),\n",
        "             xytext = (np.percentile(data_gaji, 75), 0.5),\n",
        "             arrowprops = dict(facecolor = 'black'), \n",
        "             fontsize = 12 )\n",
        "\n",
        "IQR = np.percentile(data_gaji, 75) - np.percentile(data_gaji, 25)\n",
        "batas_bawah = np.percentile(data_gaji, 25) - (1.5 * IQR)\n",
        "batas_atas =  np.percentile(data_gaji, 75) + (1.5 * IQR)\n",
        "\n",
        "plt.annotate('Batas bawah',(batas_bawah+50, 0.2),\n",
        "             xytext = (batas_bawah, 0.35),\n",
        "             arrowprops = dict(facecolor = 'blue'),\n",
        "             fontsize = 12 )\n",
        "\n",
        "plt.annotate('Batas atas', (batas_atas-100, 0.2),\n",
        "             xytext = (batas_atas, 0.35),\n",
        "             arrowprops = dict(facecolor = 'red'),\n",
        "             fontsize = 12 )\n",
        "\n",
        "plt.annotate('Outlier', (min(data_gaji), 0.04),\n",
        "             xytext = (min(data_gaji), 0.2),\n",
        "             arrowprops = dict(facecolor = 'green'),\n",
        "             fontsize = 12 )"
      ]
    },
    {
      "cell_type": "markdown",
      "metadata": {
        "id": "J1Df5vEAhQ45"
      },
      "source": [
        "Boxplot diatas menunjukkan bagaimana data kita tersebar.\n",
        "\n",
        "Dapat terlihat bahwa :\n",
        "- antara Q1 hingga Q3 (atau 50% data) tersebar hanya diantara $4000an hingga $6000an dengan 50% data yang lain tersebar di luar dari itu.\n",
        "- Dengan menggunakan metode IQR juga kita mampu mendapatkan batas bawah dan atas untuk membedakan data mana yang termasuk outlier (ditandakan dengan titik hitam).\n",
        "\n",
        "Selain itu, melalui standard deviation juga kita bisa melihat bahwa data kita tersebar sebesar $1034 dari mean. Dengan menggunakan Empirical rule sebelumnya, kita bisa memperkirakan persebaran data kita seperti gambar dibawah\n"
      ]
    },
    {
      "cell_type": "code",
      "execution_count": null,
      "metadata": {
        "colab": {
          "base_uri": "https://localhost:8080/",
          "height": 615
        },
        "id": "g1xMy-PFgyPV",
        "outputId": "c7815270-7249-4141-a207-f2b8e0fa58a4"
      },
      "outputs": [
        {
          "name": "stderr",
          "output_type": "stream",
          "text": [
            "<ipython-input-1258-a0fbc8cf3b08>:2: UserWarning: \n",
            "\n",
            "`distplot` is a deprecated function and will be removed in seaborn v0.14.0.\n",
            "\n",
            "Please adapt your code to use either `displot` (a figure-level function with\n",
            "similar flexibility) or `histplot` (an axes-level function for histograms).\n",
            "\n",
            "For a guide to updating your code to use the new functions, please see\n",
            "https://gist.github.com/mwaskom/de44147ed2974457ad6372750bbe5751\n",
            "\n",
            "  sns.distplot(data_gaji)\n"
          ]
        },
        {
          "data": {
            "text/plain": [
              "Text(8127.796184860947, 0.00045, '3 * STD')"
            ]
          },
          "execution_count": 1258,
          "metadata": {},
          "output_type": "execute_result"
        },
        {
          "data": {
            "image/png": "[encoded data removed]",
            "text/plain": [
              "<Figure size 576x576 with 1 Axes>"
            ]
          },
          "metadata": {},
          "output_type": "display_data"
        }
      ],
      "source": [
        "plt.figure(figsize = (8,8))\n",
        "sns.distplot(data_gaji)\n",
        "\n",
        "plt.axvline(x = np.mean(data_gaji),\n",
        "            ls = '--', c ='red')\n",
        "\n",
        "plt.axvline(x = np.mean(data_gaji) - np.std(data_gaji),\n",
        "            ls = '--', c = 'blue')\n",
        "plt.axvline(x = np.mean(data_gaji) + np.std(data_gaji),\n",
        "            ls = '--', c = 'blue')\n",
        "\n",
        "plt.axvline(x = np.mean(data_gaji) - 2*np.std(data_gaji),\n",
        "            ls = '--', c = 'green')\n",
        "plt.axvline(x = np.mean(data_gaji) + 2*np.std(data_gaji),\n",
        "            ls = '--', c = 'green')\n",
        "\n",
        "plt.axvline(x = np.mean(data_gaji) - 3*np.std(data_gaji),\n",
        "            ls = '--', c = 'black')\n",
        "plt.axvline(x = np.mean(data_gaji) + 3*np.std(data_gaji),\n",
        "            ls = '--', c = 'black')\n",
        "\n",
        "plt.annotate('Mean', (np.mean(data_gaji), 0.0004),\n",
        "             xytext = (np.mean(data_gaji), 0.00045),\n",
        "             arrowprops = dict(facecolor = 'red'),\n",
        "             fontsize = 12 )\n",
        "\n",
        "plt.annotate('1 * STD', ((np.mean(data_gaji) - np.std(data_gaji)), 0.0004),\n",
        "             xytext = ((np.mean(data_gaji) - np.std(data_gaji)), 0.00045),\n",
        "             arrowprops = dict(facecolor = 'blue') )\n",
        "plt.annotate('1 * STD', ((np.mean(data_gaji) + np.std(data_gaji)), 0.0004),\n",
        "             xytext = ((np.mean(data_gaji) + np.std(data_gaji)), 0.00045),\n",
        "             arrowprops = dict(facecolor = 'blue') )\n",
        "\n",
        "plt.annotate('2 * STD', ((np.mean(data_gaji) - 2*np.std(data_gaji)), 0.0004),\n",
        "             xytext = ((np.mean(data_gaji) - 2*np.std(data_gaji)), 0.00045),\n",
        "             arrowprops = dict(facecolor = 'green') )\n",
        "plt.annotate('2 * STD', ((np.mean(data_gaji) + 2*np.std(data_gaji)), 0.0004),\n",
        "             xytext = ((np.mean(data_gaji) + 2*np.std(data_gaji)), 0.00045),\n",
        "             arrowprops = dict(facecolor = 'green') )\n",
        "\n",
        "plt.annotate('3 * STD', ((np.mean(data_gaji) - 3*np.std(data_gaji)), 0.0004),\n",
        "             xytext = ((np.mean(data_gaji) - 3*np.std(data_gaji)), 0.00045),\n",
        "             arrowprops = dict(facecolor = 'black') )\n",
        "plt.annotate('3 * STD', ((np.mean(data_gaji) + 3*np.std(data_gaji)), 0.0004),\n",
        "             xytext = ((np.mean(data_gaji) + 3*np.std(data_gaji)), 0.00045),\n",
        "             arrowprops = dict(facecolor = 'black') )"
      ]
    },
    {
      "cell_type": "markdown",
      "metadata": {
        "id": "WqdFMEqyhB8h"
      },
      "source": [
        "- `1*STD` adalah `68% data` kita yang berada `di antara mean ± 1 * Standard Deviation`\n",
        "- `2*STD` adalah `95% data` kita yang berada `di antara mean ± 2 * Standard Deviation`\n",
        "- `3*STD` adalah `99.7% data` kita yang berada `di antara mean ± 3 * Standard Deviation`, sehingga kita menggangap bahwa `data yang sudah melebihi dari 3 * STD`, sudah `berada di posisi 0.3% yang terlalu jauh posisinya` dibandingkan mean sehingga bisa dianggap sebagai `outlier`"
      ]
    },
    {
      "cell_type": "markdown",
      "metadata": {
        "id": "8KvusiSfUOTQ"
      },
      "source": [
        "## **ADDITIONAL**\n",
        "---"
      ]
    },
    {
      "cell_type": "markdown",
      "metadata": {},
      "source": [
        "#### **TIPE DATA**"
      ]
    },
    {
      "cell_type": "markdown",
      "metadata": {},
      "source": [
        "---"
      ]
    },
    {
      "cell_type": "markdown",
      "metadata": {
        "id": "LoLOu4EWMo37"
      },
      "source": [
        "\n",
        "| Data Kualitatif  |  Data Kuantitatif |\n",
        "|:-----------------|:------------------|\n",
        "| Data non numerik  | Data numerik dihasilkan dari |\n",
        "| * Atribute  | * Perhitungan | \n",
        "|  * Label  | * Pengukuran |\n",
        " \n",
        "Contoh  : Menu dan Harga "
      ]
    },
    {
      "cell_type": "markdown",
      "metadata": {},
      "source": [
        "Dalam statistika, data dapat digolongkan menjadi 2 macam :\n",
        "- `Data deskriptif`, data yang tidak berbentuk angka angka.\n",
        "    - Contoh : tinggi, rendah, cepat, lambat, baik, cukup, kurang dan lain lain.\n",
        "- `Data numerik`, data dalam bentuk angka-angka.\n",
        "\n",
        "**`DATA NUMERIK`**\n",
        "\n",
        "Data numerik dapat digolongkan menjadi data yang bersifat diskrit dan kontinu\n",
        "| Data Diskrit  |  Data Kontinu |\n",
        "|:-----------------|:------------------|\n",
        "| Data hasil menghitung  | Data hasil mengukur |\n",
        "\n",
        "\n",
        "- Data disebut data diskrit misalnya kita memilih 10 dari 15 anak tetapi kita tidak bisa menyatakan : saya membutuhkan 41/2 orang anak.\n",
        "- Data kontinu yang merupakan data hasil mengukur dapat mengambil nilai misalnya tinggi, waktu, berat, panjang. Kita dapat mengatakan bahwa panjang dari seutas tali adalah 3,5 meter, berat 37,5 kg, waktu yang ditempuh 3,7 jam dan lain lain."
      ]
    },
    {
      "cell_type": "markdown",
      "metadata": {
        "id": "inGpsTULOB14"
      },
      "source": [
        "#### **SKALA PENGUKURAN (LEVEL OF REQUIREMENTS)**"
      ]
    },
    {
      "cell_type": "markdown",
      "metadata": {},
      "source": [
        "---"
      ]
    },
    {
      "cell_type": "markdown",
      "metadata": {},
      "source": [
        "Terdapat 4 Skala Pengukuran (Level of Measurements) dalam bidang statistika :\n",
        "1. `Nominal`\n",
        "2. `Ordinal`\n",
        "3. `Interval`\n",
        "4. `Rasio` (Ratio)"
      ]
    },
    {
      "cell_type": "markdown",
      "metadata": {
        "id": "aUtEzl_aOLQH"
      },
      "source": [
        "##### **Skala Pengukuran Nominal**\n"
      ]
    },
    {
      "cell_type": "markdown",
      "metadata": {},
      "source": [
        "- Berasosiasi dengan tipe data kualitatif\n",
        "- Berfokus pada pengelompokkan atau pengkategorian data berdasarkan nama, label, atau kualitas\n",
        "- Tidak dapat dikenakan operasi matematika\n",
        "\n",
        "Contoh: \n",
        "- merk kendaraan bermotor\n",
        "- kota kelahiran\n",
        "- nama siswa, nama bulan, nama hari\n",
        "- nomor kendaraan bermotor, nomor induk siswa"
      ]
    },
    {
      "cell_type": "markdown",
      "metadata": {},
      "source": [
        "##### **Skala Pengukuran Ordinal**"
      ]
    },
    {
      "cell_type": "markdown",
      "metadata": {
        "id": "TCovVh0XPSzj"
      },
      "source": [
        "* Berasosiasi dengan tipe data kualitatif\n",
        "\n",
        "* Data dapat dikelompokkan\n",
        "\n",
        "* ***Data dapat disusun berdasarkan urutan, peringkat, atau ranking***\n",
        "* Tidak dapat dikenakan operasi matematika\n",
        "\n",
        "Contoh: \n",
        "* tingkat kepuasan pelanggan: sangat puas, puas, cukup, kecewa, sangat kecewa\n",
        "* temperatur udara: panas, sejuk, dingin\n",
        "* peringkat siswa di kelas\n"
      ]
    },
    {
      "cell_type": "markdown",
      "metadata": {},
      "source": [
        "##### **Skala Pengukuran Rasio (Ratio)**"
      ]
    },
    {
      "cell_type": "markdown",
      "metadata": {
        "id": "bEsnyfsMOREF"
      },
      "source": [
        "* Berasosiasi dengan tipe data kuantitatif\n",
        "* Data dapat dikelompokkan\n",
        "* Data dapat disusun berdasarkan urutan, peringkat, atau ranking\n",
        "* ***Dapat dikenakan operasi matematika untuk menghitung selisih nilai***\n",
        "* ***Memiliki nilai nol yang absolut (inherent zero)***\n",
        "* *Dapat dikenakan operasi matematika terkait perkalian*\n",
        "\n",
        "**Contoh:**\n",
        "* usia anak 7 tahun\n",
        "* berat badan 65 Kg\n",
        "* harga nasi goreng Rp 25,000\n",
        "\n",
        "**Nilai Nol yang absolut**\n",
        "-  Nilai nol absolut / mutlak ini ketika kita mengukur suatu variabel dan mendapatkan nilai nol, `nilainya akan tetap nol meskipun kita mengukurnya menggunakan alat ukur lain maupun ketika dikonversikan ke satuan lainnya`.\n",
        "- Misalnya, berat badan. Ketika kita mendapatkan data berat suatu benda adalah 0 kg. Ini akan tetap 0 (nol) ketika kita mengubahnya ke satuan gram, atau kita menimbangnya menggunakan satuan gram.\n"
      ]
    },
    {
      "cell_type": "markdown",
      "metadata": {},
      "source": [
        "##### **Skala Pengukuran Interval**"
      ]
    },
    {
      "cell_type": "markdown",
      "metadata": {
        "id": "13CbBdzBPKaW"
      },
      "source": [
        "* Berasosiasi dengan tipe data kuantitatif\n",
        "* Data dapat dikelompokkan\n",
        "* Data dapat disusun berdasarkan urutan, peringkat, atau ranking\n",
        "* Dapat dikenakan operasi matematika untuk menghitung selisih nilai\n",
        "* Nilai numerik merepresentasikan posisi pada suatu skala ukur tertentu\n",
        "* ***Tidak memiliki nilai nol yang absolut (no inherent zero)***\n",
        "* **Tidak dapat dikenakan operasi matematika terkait perkalian**\n",
        "\n",
        "Contoh: \n",
        "* temperatur udara 32 derajad celsius\n",
        "* tahun 2020\n"
      ]
    },
    {
      "cell_type": "markdown",
      "metadata": {
        "id": "WezCMkznJSPn"
      },
      "source": [
        "| Type of Variabel  | Best measure of central tendency |\n",
        "|:-----------------:|:--------------------------------|\n",
        "| Nominal | Mode | \n",
        "| Ordinal | Median |\n",
        "| Interval / Ratio (not skewed) | Mean |\n",
        "| Internal / Ratio (skewed) | Median  |"
      ]
    },
    {
      "cell_type": "markdown",
      "metadata": {},
      "source": [
        "#### **KELEBIHAN DAN KELEMAHAN MEAN, MEDIAN, MODUS**"
      ]
    },
    {
      "cell_type": "markdown",
      "metadata": {},
      "source": [
        "---"
      ]
    },
    {
      "cell_type": "markdown",
      "metadata": {},
      "source": [
        "##### **Mean**"
      ]
    },
    {
      "cell_type": "markdown",
      "metadata": {},
      "source": [
        "**`Kelebihan`**\n",
        "* Rata-rata lebih populer dan lebih mudah digunakan.\n",
        "* Dalam satu set data, rata-rata selalu ada dan hanya ada satu rata-rata.\n",
        "* Dalam penghitungannya selalu mempertimbangkan semua nilai data.\n",
        "* Tidak peka terhadap penambahan jumlah data.\n",
        "* Variasinya paling stabil.\n",
        "* Cocok digunakan untuk data yang homogen.\n",
        "\n",
        "**`Kelemahan`**\n",
        "* Sangat peka terhadap data ekstrim. Jika data ekstrimnya banyak, rata-rata menjadi kurang mewakili (representatif).\n",
        "* Tidak dapat digunakan untuk data kualitatif.\n",
        "* Tidak cocok untuk data heterogen."
      ]
    },
    {
      "cell_type": "markdown",
      "metadata": {},
      "source": [
        "##### **Median**"
      ]
    },
    {
      "cell_type": "markdown",
      "metadata": {
        "id": "rXDrAkteZwRc"
      },
      "source": [
        "**`Kelebihan`**\n",
        "* Tidak dipengaruhi oleh data ekstrim.\n",
        "* Dapat digunakan untuk data kualitatif maupun kuantitatif.\n",
        "* Cocok untuk data heterogen.\n",
        "\n",
        "**`Kelemahan`**\n",
        "* Tidak mempertimbangkan semua nilai data.\n",
        "* Kurang menggambarkan rata-rata populasi.\n",
        "* Peka terhadap penambahan jumlah data."
      ]
    },
    {
      "cell_type": "markdown",
      "metadata": {},
      "source": [
        "##### **Modus**"
      ]
    },
    {
      "cell_type": "markdown",
      "metadata": {},
      "source": [
        "**`Kelebihan`**\n",
        "* Tidak dipengaruhi oleh data ekstrim.\n",
        "* Cocok digunakan untuk data kuantitatif maupun kualitatif.\n",
        "\n",
        "**`Kelemahan`**\n",
        "* Modus tidak selalu ada dalam satu set data.\n",
        "* Kadang dalam satu set data terdapat dua atau lebih modus. Jika hal itu terjadi modus menjadi sulit digunakan.\n",
        "* Kurang mempertimbangkan semua nilai.\n",
        "* Peka terhadap penambahan jumlah data."
      ]
    },
    {
      "cell_type": "markdown",
      "metadata": {
        "id": "uOYkw1o6RNh6"
      },
      "source": [
        "### **Analisa Skala Pengukuran Data menggunakan Dataset Titanic**"
      ]
    },
    {
      "cell_type": "markdown",
      "metadata": {},
      "source": [
        "-----"
      ]
    },
    {
      "cell_type": "markdown",
      "metadata": {
        "id": "StrLF5UzRNBk"
      },
      "source": [
        "\n",
        "\n",
        "| Fitur Dataset | What it represent | Level of Data | \n",
        "|:---------|:----------|:-----------|\n",
        "|PassengerId |“Identity number of passenger” | Nominal | \n",
        "|Pclass|“Passenger class (1:1st class; 2: 2nd class; 3: 3rd class), passenger class is used as a measure of the socioeconomic status of the passenger” | Ordinal | \n",
        "| Survived |  “Survival status (0:Not survived; 1:Survived)” | Nominal | \n",
        "| Name |  Name | Nominal | \n",
        "| Sibsp | “Number of siblings/spouses aboard | Ratio | \n",
        "|Ticket | Ticket Number | Nominal | \n",
        "| Cabin | Cabin Number | Nominal | \n",
        "| Sex | Gender pesenger | Nominal | \n",
        "| Age | Age | Ratio | \n",
        "|Parch | Number of Parent/ Childer board | Ratio | \n",
        "| Fare | Passenger fare (Britsh pound)  | Ratio | \n",
        "| Embarked | Port of embarkation (with c being Cherbourg , Q : Quenstown , S : Southampton | Nominal | \n",
        "\n",
        "\n"
      ]
    },
    {
      "cell_type": "markdown",
      "metadata": {
        "id": "_3fn5gxPRMs2"
      },
      "source": [
        "### **Q/A** "
      ]
    },
    {
      "cell_type": "markdown",
      "metadata": {},
      "source": [
        "-----"
      ]
    },
    {
      "cell_type": "markdown",
      "metadata": {
        "id": "hXRsc85VKTl6"
      },
      "source": [
        "\n",
        "\n",
        "> **Apa yang paling baik dalam mengukur pusat data?** \n",
        "\n",
        "Tidak ada yang paling baik antara mean, median dan modus dalam mengukur pemusatan data karena semuanya tergantung jenis data yang kita miliki seperti:\n",
        "- apakah data yang kita miliki berupa `data nominal atau kontinyu`\n",
        "- apakah pada data kita `terdapat outlier atau tidak`\n",
        "- apakah data kita `berdistribusi normal atau memiliki kemencengan (skewed)`\n",
        "- apa yang `hendak kita tampilkan dari data` kita."
      ]
    },
    {
      "cell_type": "markdown",
      "metadata": {},
      "source": [
        "> **Pada strongly skewed data, indicator apa yang dapat digunakan untuk mengukur pemusatan data?**\n",
        "\n",
        "Pada kondisi tersebut indikator terbaik untuk menunjukkan ukuran pemusatan data adalah `median atau modus`, dimana ``."
      ]
    },
    {
      "cell_type": "markdown",
      "metadata": {
        "id": "uOiDbPyxKkYK"
      },
      "source": [
        " > **Apakah setiap data memiliki median,modus, dan mean?**\n",
        "\n",
        "Bisa ya bisa tidak.\n",
        "- Setiap `data kontinyu` memiliki `median,modus, dan mean`\n",
        "- Setiap `data ordinal` memiliki `median dan modus`\n",
        "- Setiap `data nominal` `hanya memiliki modus`\n",
        "\n",
        "Sampai saat ini tidak ada kesepakatan apakah mean dapat digunakan pada data ordinal.\n"
      ]
    },
    {
      "cell_type": "markdown",
      "metadata": {},
      "source": [
        "> **Kapan nilai mean dapat digunakan dengan sangat baik dalam mengukur pemusatan data?**\n",
        "\n",
        "Nilai mean sangat baik digunakan saat :\n",
        "- distribusi data kita simetris atau berdistribusi normal\n",
        "- jenis data kita adalah interval dan rasio"
      ]
    },
    {
      "cell_type": "markdown",
      "metadata": {
        "id": "pafjR5wUKIk4"
      },
      "source": [
        "> **Kapan nilai modus dapat digunakan dengan sangat baik dalam mengukur pemusatan data?**\n",
        "\n",
        "Modus sangat baik untuk mengukur ukuran pemusatan data jika :\n",
        "- data kita merupakan data nominal\n",
        "- jika distribusi dari data kita berdistribusi normal"
      ]
    },
    {
      "cell_type": "markdown",
      "metadata": {},
      "source": [
        "> **Kapan nilai median dapat digunakan dengan sangat baik dalam mengukur pemusatan data?**\n",
        "\n",
        "Median sangat baik digunakan jika :\n",
        "- data kita miring (skewed)\n",
        "- data kita adalah ordinal"
      ]
    },
    {
      "cell_type": "markdown",
      "metadata": {
        "id": "S_8YJQIbKLJL"
      },
      "source": [
        "> **Indikator apakah yang digunakan untuk mengukur pemusatan data jika data kita memiliki outlier?**\n",
        "\n",
        "- Median bisanya digunakan dalam kondisi ini\n",
        "- Nilai mean cenderung akan dihindari karena nilai mean cenderung sensitive terhadap adanya outlier"
      ]
    },
    {
      "cell_type": "markdown",
      "metadata": {},
      "source": [
        "> **Jika data kita berdistribusi normal, indicator apakah yang dapat digunakan untuk mengukur pemusatan data?**\n",
        "\n",
        "Pada kondisi tersebut `seluruh indikator pemusatan data` dapat digunakan sama baiknya."
      ]
    },
    {
      "cell_type": "markdown",
      "metadata": {
        "id": "y4RMgBi2a9Zr"
      },
      "source": [
        "> **Berikut penggunaan jenis data yang tepat pada diagram :**\n",
        "- `Box plots`:\n",
        "  - Ordinal\n",
        "  - Ratio\n",
        "  - Interval\n",
        "- `Histograms`:\n",
        "  - Ratio\n",
        "  - Interval\n",
        "- `Pie charts`:\n",
        "  - Nominal\n",
        "  - Ordinal\n",
        "- `Scatter plots`:\n",
        "  - Ratio\n",
        "  - Interval\n",
        "- `Stacked bar charts`:\n",
        "  - Nominal\n",
        "  - Ordinal"
      ]
    },
    {
      "cell_type": "markdown",
      "metadata": {
        "id": "UJ-9uLXsdLbh"
      },
      "source": [
        "## **SOAL**\n",
        "---"
      ]
    },
    {
      "cell_type": "markdown",
      "metadata": {
        "id": "U04scwdib9Wo"
      },
      "source": [
        "Klasifikasikan variabel-variabel berikut berdasarkan jenis datanya.\n",
        "\n",
        "* pH scale\n",
        "* Language proficiency\n",
        "* Likert Scale (used in surveys)\n",
        "* Work experience\n",
        "* Time of the day\n",
        "* Social security number\n",
        "* Distance\n",
        "* Year of birth\n"
      ]
    },
    {
      "cell_type": "markdown",
      "metadata": {
        "id": "mnhd-9mvdGrA"
      },
      "source": [
        "### **Jawaban :**"
      ]
    },
    {
      "cell_type": "markdown",
      "metadata": {},
      "source": [
        "| Fitur Dataset | Level of Data | The Reason | \n",
        "|:---------|:----------|:-----------|\n",
        "|pH scale | Interval | Skala pH tidak memiliki titik nol mutlak. Meskipun nilainya dapat dibandingkan, kita tidak dapat menghitung rasio. |\n",
        "|Language proficiency|Ordinal|Kemahiran dalam suatu bahasa memiliki berbagai tingkatan seperti \"pemula\", \"menengah\", dan \"lanjutan\" yang dipesan, dan karenanya berada di bawah skala ordinal.|\n",
        "|Likert Scale (used in surveys)|Ordinal|Skala Likert sering digunakan dalam survei, dengan nilai-nilai seperti “tidak puas”, “puas”, dan “sangat puas”. Nilai-nilai ini membentuk urutan logis, dan oleh karena itu setiap variabel yang mewakili Skala Likert adalah variabel ordinal.|\n",
        "|Work experience|Ratio|Karena ada nol mutlak untuk variabel ini dan seseorang dapat melakukan operasi aritmatika, termasuk perhitungan rasio, variabel ini adalah variabel rasio.|\n",
        "|Time of the day|Interval|Waktu (dalam skala 12 jam) tidak memiliki titik nol mutlak. Kita dapat menghitung perbedaan antara dua titik waktu, tetapi tidak dapat menghitung rasio.|\n",
        "|Social security number|Nominal|Nilai untuk pengidentifikasi seperti nomor jaminan sosial tidak diurutkan dan tidak cocok untuk operasi matematika.|\n",
        "|Distance|Ratio|Dengan titik acuan sebagai 0 dan nilai-nilai yang dapat ditambahkan, dikurangi, dikalikan, dan dibagi, jarak adalah variabel rasio.|\n",
        "|Year of birth|Interval|Tidak ada titik nol mutlak untuk variabel seperti itu. Anda dapat menghitung selisih antara dua tahun, tetapi kami tidak dapat mengetahui rasionya.|"
      ]
    },
    {
      "cell_type": "markdown",
      "metadata": {},
      "source": [
        "| Diagram | Hal yang Di Visualisasikan|\n",
        "|:---------|:----------|\n",
        "|Bar Chart|Sex , Survived, dan Die  berdasarkan jumlah|\n",
        "|Scatter Plot|Relation beetwen Variabel|\n",
        "|Box Plot|Age & Survived|\n",
        "|Histogram|Age & Fare|\n",
        "|Pie Chart|Passenger Class|\n",
        "|Bar Chart|Pria & Wanita, Age & Fare|"
      ]
    }
  ],
  "metadata": {
    "colab": {
      "collapsed_sections": [],
      "provenance": [],
      "toc_visible": true
    },
    "kernelspec": {
      "display_name": "Python 3.10.8 64-bit (microsoft store)",
      "language": "python",
      "name": "python3"
    },
    "language_info": {
      "codemirror_mode": {
        "name": "ipython",
        "version": 3
      },
      "file_extension": ".py",
      "mimetype": "text/x-python",
      "name": "python",
      "nbconvert_exporter": "python",
      "pygments_lexer": "ipython3",
      "version": "3.10.8"
    },
    "vscode": {
      "interpreter": {
        "hash": "3b7e9cb8e453d6cda0fe8c8dd13f891a1f09162f0e7c66ffeae7751a7aecf00d"
      }
    }
  },
  "nbformat": 4,
  "nbformat_minor": 0
}
